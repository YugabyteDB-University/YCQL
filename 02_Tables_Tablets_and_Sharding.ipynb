{
 "cells": [
  {
   "cell_type": "markdown",
   "metadata": {},
   "source": [
    "# Demystifying table sharding, tablets, and data distribution\n",
    "As a distributed SQL database, YugabyteDB stores data differently than a stand-alone, monolithic  database. Because data is stored differently, YugabyteDB reads data differently as well.\n",
    "\n",
    "Like a monolithic relational databases, YugabyteDB stores data in tables. However, in YugabyteDB, a table consists of tablets. \n",
    "\n",
    "A tablet represents a table shard which contains a set of rows for the logical table. Each tablet is a customized RocksDB instance. A tablet leader has a peer group known as tablet followers, and this group of tablet peers exists as a Raft consensus group. YugabyteDB calls this distributed document store, DocDB.\n",
    "\n",
    "In this lab, using Explain Plans, built-in functions, and custom utilities for YB-TServer metrics, you will learn about how YugabyteDB stores data for a table, as table shards, known as tablets. You will also learn how YugabyteDB reads tablet data during query execution.\n",
    "\n",
    "\n",
    "## Requirements\n",
    "Before running the cells in this notebook, you must first edit and execute all the cells in the first notebook:\n",
    "- `01_Lab_Setup.ipynb`"
   ]
  },
  {
   "cell_type": "markdown",
   "metadata": {},
   "source": [
    "## Connect to `db_ybu` using the PostgreSQL driver for Python\n",
    "Run all the cells in this section:\n",
    "- Connect using Python and PostgreSQL driver\n",
    "- Load the SQL magic extension\n",
    "- Create prepared statements for using utility metrics\n"
   ]
  },
  {
   "cell_type": "code",
   "execution_count": 1,
   "metadata": {},
   "outputs": [
    {
     "name": "stdout",
     "output_type": "stream",
     "text": [
      "no stored variable or alias MY_HOST_IPv4_02YB_PATH=$1\n"
     ]
    }
   ],
   "source": [
    "# connect use Python 3.7.9+\n",
    "import psycopg2\n",
    "import sqlalchemy as alc\n",
    "from sqlalchemy import create_engine\n",
    "\n",
    "# Inspiration from https://medium.com/analytics-vidhya/postgresql-integration-with-jupyter-notebook-deb97579a38d\n",
    "# Use %store -r to read 01_Lab_Requirements_Setup variables\n",
    "\n",
    "%store -r MY_DB_NAME\n",
    "%store -r MY_YB_PATH\n",
    "%store -r MY_HOST_IPv4_01\n",
    "%store -r MY_HOST_IPv4_02YB_PATH=${1}\n",
    "%store -r MY_HOST_IPv4_03\n",
    "%store -r MY_GITPOD_WORKSPACE_URL\n",
    "\n",
    "db_host=MY_HOST_IPv4_01\n",
    "db_name=MY_DB_NAME\n",
    "\n",
    "\n",
    "connection_str='postgresql+psycopg2://yugabyte@'+db_host+':5433/'+db_name\n",
    "\n",
    "# engine = create_engine(connection_str)"
   ]
  },
  {
   "cell_type": "code",
   "execution_count": 2,
   "metadata": {},
   "outputs": [],
   "source": [
    "%reload_ext sql\n",
    "\n",
    "# SQL magic for python connection string\n",
    "%sql {connection_str}"
   ]
  },
  {
   "cell_type": "markdown",
   "metadata": {},
   "source": [
    "### Create prepared utility statements"
   ]
  },
  {
   "cell_type": "markdown",
   "metadata": {},
   "source": [
    "> IMPORTANT!\n",
    ">   \n",
    "> In order to create the prepared statements for the SQL magic connection, you must run the following cell!!!\n",
    "> \n",
    "> Do not skip this step.\n",
    "> "
   ]
  },
  {
   "cell_type": "code",
   "execution_count": 3,
   "metadata": {},
   "outputs": [
    {
     "name": "stdout",
     "output_type": "stream",
     "text": [
      " * postgresql+psycopg2://yugabyte@127.0.0.1:5433/db_ybu\n",
      "1 rows affected.\n",
      "+----------------------------------+\n",
      "|        fn_yb_create_stmts        |\n",
      "+----------------------------------+\n",
      "| 2022-07-26 11:38:09.453429-07:00 |\n",
      "+----------------------------------+\n"
     ]
    }
   ],
   "source": [
    "#%% python, but prepared statements as sql magic\n",
    "if (MY_GITPOD_WORKSPACE_URL is None):\n",
    "    a = %sql select fn_yb_create_stmts()\n",
    "else:\n",
    "    WORKSPACE_URL = MY_GITPOD_WORKSPACE_URL.replace('https://','https://7000-')\n",
    "    a = %sql select fn_yb_create_stmts(:WORKSPACE_URL)\n",
    "\n",
    "print (a)"
   ]
  },
  {
   "cell_type": "markdown",
   "metadata": {},
   "source": [
    "Confirm that the following query returns a count of 3 (for three prepared statements)."
   ]
  },
  {
   "cell_type": "code",
   "execution_count": 4,
   "metadata": {
    "vscode": {
     "languageId": "sql"
    }
   },
   "outputs": [
    {
     "name": "stdout",
     "output_type": "stream",
     "text": [
      " * postgresql+psycopg2://yugabyte@127.0.0.1:5433/db_ybu\n",
      "1 rows affected.\n"
     ]
    },
    {
     "data": {
      "text/html": [
       "<table>\n",
       "    <tr>\n",
       "        <th>count</th>\n",
       "    </tr>\n",
       "    <tr>\n",
       "        <td>3</td>\n",
       "    </tr>\n",
       "</table>"
      ],
      "text/plain": [
       "[(3,)]"
      ]
     },
     "execution_count": 4,
     "metadata": {},
     "output_type": "execute_result"
    }
   ],
   "source": [
    "%%sql \n",
    "select count(*) from pg_prepared_statements where 1=1 and name in ('stmt_util_metrics_snap_tablet','stmt_util_metrics_snap_table','stmt_util_metrics_snap_reset')"
   ]
  },
  {
   "cell_type": "markdown",
   "metadata": {},
   "source": [
    "## q1 | Create a table with no Primary Key (PK)\n",
    "For this first example, you will create a table without explicitly defining a primary key. You will then review an Explain Plan for a query of the table as well as query metrics."
   ]
  },
  {
   "cell_type": "code",
   "execution_count": null,
   "metadata": {
    "vscode": {
     "languageId": "sql"
    }
   },
   "outputs": [],
   "source": [
    "%%sql /* create table no PK and insert rows */\n",
    "drop table if exists tbl_no_pk;\n",
    "\n",
    "create table if not exists tbl_no_pk (k int, v text);\n",
    "\n",
    "insert into tbl_no_pk (k,v)\n",
    "select g.id, format('%s%s',chr(97+CAST(random() * 25 AS INTEGER)),chr(97+CAST(random() * 25 AS INTEGER)))\n",
    "from generate_series(1, 1000) AS g (id);"
   ]
  },
  {
   "cell_type": "code",
   "execution_count": null,
   "metadata": {
    "vscode": {
     "languageId": "sql"
    }
   },
   "outputs": [],
   "source": [
    "%%bash -s \"$MY_YB_PATH\" \"$MY_DB_NAME\" #\\d+\n",
    "YB_PATH=${1}\n",
    "DB_NAME=${2}\n",
    "\n",
    "cd $YB_PATH\n",
    "\n",
    "./bin/ysqlsh -d ${DB_NAME} -c \"\\d+ tbl_no_pk\""
   ]
  },
  {
   "cell_type": "markdown",
   "metadata": {},
   "source": [
    "### q1a | Query the table for a value of k\n",
    "\n",
    "The following is a query that will show the Explain Plan for the query. The first statement resets the metrics that will be captured after running the query. The query itself has a `where` clause predicate for `k` . "
   ]
  },
  {
   "cell_type": "code",
   "execution_count": null,
   "metadata": {
    "vscode": {
     "languageId": "sql"
    }
   },
   "outputs": [],
   "source": [
    "%%sql /* explain plan */\n",
    "execute stmt_util_metrics_snap_reset;\n",
    "explain (analyze, costs off, verbose, timing on) \n",
    "select '' _\n",
    "    , k\n",
    "    , v\n",
    "from tbl_no_pk \n",
    "where 1=1 \n",
    "and  k=1000\n",
    "-- limit 30\n",
    ";"
   ]
  },
  {
   "cell_type": "markdown",
   "metadata": {},
   "source": [
    "#### q1a | Explain Plan (above ^^)\n",
    "Because YugabyteDB reuses the PostgreSQL query layer, it is possible to view an Explain Plan for a query. A query optimizer generates the Explain Plan for query execution.\n",
    "The Explain Plan for this query shows:\n",
    "- `Seq Scan on public.tbl_no_pk (actual time=7.912..11.720 rows=1 loops=1)`\n",
    "\n",
    "A `Seq Scan` is a full table scan, meaning that potentially all the rows in the table will be read.\n",
    "\n",
    "- `Rows Removed by Filter: 999`\n",
    "\n",
    "999 rows were removed, leaving the remain 1 row.\n",
    "\n",
    "The Explain Plan infers how the query accesses tablet data, but does **NOT** show the metrics for tablet access.Using a custom utility, you can view the metrics for the query execution in the notebook cell below."
   ]
  },
  {
   "cell_type": "code",
   "execution_count": null,
   "metadata": {
    "vscode": {
     "languageId": "sql"
    }
   },
   "outputs": [],
   "source": [
    "%%sql /* metrics */\n",
    "execute stmt_util_metrics_snap_table;"
   ]
  },
  {
   "cell_type": "markdown",
   "metadata": {},
   "source": [
    "#### q1a | Metrics (above ^^)\n",
    "\n",
    "The Explain Plan revealed that the query read 1000 rows, and filter out 999 rows, to return a 1 row result.\n",
    "\n",
    "The Metrics reports shows that the query access 3 tablets for the table (`tbl_no_pk`). Each tablet has 1 seek of an offset, and then per offset, 900+ reads.\n",
    "\n",
    "Here is how to read the output of the Metrics report:\n",
    "- row_name `db_ybu | tbl_no_pk | https://7000-yugabytedbu-ysqlpe03whe-um13wtg7p0o.ws-us54.gitpod.io/table?id=00004000000030008000000000004039 | bc64657cf03842fab00a416cc67c8413 | L`\n",
    "  - database --> `db_ybu`\n",
    "  - table or index or materialized view  --> `tbl_no_pk`\n",
    "  - table_id --> `https://7000-yugabytedbu-ysqlpe03whe-um13wtg7p0o.ws-us54.gitpod.io/table?id=00004000000030008000000000004039` --> url to browser -->  table_id? --> `00004000000030008000000000004039`\n",
    "  - tablet_id --> `4aed1608c05d40edb7105b11abc629cd`\n",
    "  - isLeader --> `L`\n",
    "- rocksdb_number_db_seek\n",
    "  - The number of Seek() RocksDB API calls, which means the number of seeks for offsets \n",
    "- rocksdb_number_db_next\n",
    "  - The number of Next() RocksDB API calls, which means the number of reads from the offset\n",
    "- rows_inserted\n",
    "  - number of rows inserted "
   ]
  },
  {
   "cell_type": "markdown",
   "metadata": {},
   "source": [
    "### View the Table details in the YB-Master web ui\n",
    "To better understand the Metrics report, you can view the details of a table in the YB-Master web ui.\n",
    "\n",
    "From the `row_name` column, copy the Gitpod URL (`https://7000-yugabytedbu-ysqlpe03whe-um13wtg7p0o.ws-us54.gitpod.io/table?id=00004000000030008000000000004039)` into your web browser, and view the table details, namely the Columns section and the Tablets section\n",
    "\n",
    "> Note\n",
    ">  \n",
    ">  In gitpod, only the `127.0.0.1` host is available on port 7000, and will show as `https://7000-yugabytedbu-ysqlpe03whe-um13wtg7p0o.ws-us54.gitpod.io/table?id=00004000000030008000000000004039` . You are not able to browse `127.0.0.2` or `127.0.0.3`\n",
    "\n",
    "Or, you can run code below to get the URL to open in your web browser."
   ]
  },
  {
   "cell_type": "code",
   "execution_count": 36,
   "metadata": {},
   "outputs": [
    {
     "name": "stdout",
     "output_type": "stream",
     "text": [
      " * postgresql+psycopg2://yugabyte@127.0.0.1:5433/db_ybu\n",
      "0 rows affected.\n",
      "+---------------+\n",
      "| open_this_url |\n",
      "+---------------+\n",
      "+---------------+\n"
     ]
    }
   ],
   "source": [
    "#%% python, but prepared statements as sql magic\n",
    "WORKSPACE_URL = MY_GITPOD_WORKSPACE_URL.replace('https://','https://7000-')\n",
    "view_url = %sql select fn_get_table_id(:WORKSPACE_URL,8200,'tbl_no_pk') as open_this_url ;\n",
    "\n",
    "print (view_url)"
   ]
  },
  {
   "cell_type": "markdown",
   "metadata": {},
   "source": [
    "#### Review the Column section\n",
    "The column section shows details about each column in the table, index, or materialized view. In the column section for `tbl_no_pk`, you will see:\n",
    "\n",
    "\n",
    "| Column | ID\t| Type |\n",
    "|--------|------|------|\n",
    "| ybrowid    | 0\t| binary NOT NULL PARTITION KEY | \n",
    "| k\t         | 1\t| int32 NULLABLE NOT A PARTITION KEY | \n",
    "| v\t         | 2\t| string NULLABLE NOT A PARTITION KEY | \n",
    "\n",
    "<br/>\n",
    "\n",
    "> Important!\n",
    ">  \n",
    "> When you create a table without a Primary Key (PK), YugabyteDB creates a hidden primary key for you, `ybrowid`. You will see this hidden PK in the YB-Master web ui for the `tbl_no_pk` table.\n",
    "\n",
    "\n",
    "`ybrowid` functions as a hidden PK for a row with a random Universal Unique Identifier (UUID) value. Using  `\\d` or `\\d+` will not show the `ybrowid` primary key. It is not possible to query the `ybrowid` value.\n",
    "\n",
    "In the case of the `tbl_no_pk` table,  `ybrowid` is a hidden primary key that functions as the partition key."
   ]
  },
  {
   "cell_type": "markdown",
   "metadata": {},
   "source": [
    "##### Partition Key\n",
    "When YugabyteDB processes an insert query for a row of data into a table with a consistent hash sharding strategy, YugabyteDB uses the shard key (shown as `PARTITION KEY`) to distribute the data among the tablet leaders. \n",
    "\n",
    "With consistent hash sharding, a partitioning algorithm distributes data evenly and randomly across shards. By computing a consistent hash on the partition key (or keys) of a given row, YugabyteDB knows where to insert the row among the tablet leaders.\n",
    "\n"
   ]
  },
  {
   "cell_type": "markdown",
   "metadata": {},
   "source": [
    "#### Review the Tablet section\n",
    "For the given table, the Tablet section shows the details for the existing tablets. Of particular interest are the number of tablet leaders and the partition strategy. Here is an abridged example of the Tablet section for the `tbl_no_pk` table:\n",
    "\n",
    "| Tablet ID |\tPartition\t| SplitDepth\t| State\t| Hidden\t| Message\t| RaftConfig|\n",
    "|--|--|--|--|--|--|--|\n",
    "| some_uuid_1 |\t`hash_split: [0x5555, 0xAAAA)` |\t0\t| Running|\tfalse| Tablet reported with an active leader\t|<li>FOLLOWER: 127.0.0.1 <li>FOLLOWER: 127.0.0.3<li>LEADER: 127.0.0.2  |\n",
    "| some_uuid_2\t| `hash_split: [0xAAAA, 0xFFFF)`\t| 0 |  Running |false |\tTablet reported with an active leader |<li>FOLLOWER: 127.0.0.1 <li>LEADER: 127.0.0.3 <li>FOLLOWER: 127.0.0.2 |\n",
    "| some_uuid_3 <br>(tablet leader where the row lives) |\t`hash_split: [0x0000, 0x5555)` |\t0 |\tRunning | \tfalse\t| Tablet reported with an active leader |\t<li>LEADER: 127.0.0.1<li>FOLLOWER: 127.0.0.3<li>FOLLOWER: 127.0.0.2 |"
   ]
  },
  {
   "cell_type": "markdown",
   "metadata": {},
   "source": [
    "##### Why are there three tablets each with a tablet_id ?\n",
    "\n",
    "Various properties and configurations determine the number of tablets for a specific table in a given YugabyteDB cluster. \n",
    "\n",
    "Your YugabyteDB cluster is a three node cluster. Each node runs two processes: a YB-Master process and a YB-TServer process. Your cluster has a replication factor of three, which means that each tablet leader will have two tablet followers. \n",
    "\n",
    "Certain flags specify the number of shards per YB-TServer. Your cluster has two specific flags: \n",
    "-  `yb_num_shards_per_tserver=1`\n",
    "-  `ysql_num_shards_per_tserver=1`\n",
    "\n",
    "These flags dictate that each YB-TServer process will initially create just one tablet leader for a given table with hash sharding.\n",
    "\n",
    "For this reason, with your three node cluster, a table will have a single tablet leader per node.  And since there are three nodes in your YugabyteDB cluster, there will be a total of three tablet leaders for a given table with hash sharding. The replication factor of three specifies that each tablet leader will have two tablet followers. "
   ]
  },
  {
   "cell_type": "markdown",
   "metadata": {},
   "source": [
    "##### What is the `hash_split` value in the Partition column? \n",
    "\n",
    "For a table with hash sharding, each tablet has a Partition value that shows a  `hash_split` . The `hash_split` details a range of hexadecimal values. \n",
    "```\n",
    "hash_split: [0x0000, 0x5555)\n",
    "hash_split: [0x5555, 0xAAAA)\n",
    "hash_split: [0xAAAA, 0xFFFF)\n",
    "```\n",
    "The conversion of the above hexadecimal values to integer values is as follows:\n",
    "```\n",
    "0-21845\n",
    "21845-43690\n",
    "43690-65535\n",
    "```\n",
    "\n",
    "In other words, the Partition value for hash sharding represents a range of hexadecimal values starting with 0 and ending with 65535. Here is illustration of consistent hash sharding:\n",
    "\n",
    "<img  style=\"background-color:#FFF\" src=\"assets/hash_sharding.png\" >"
   ]
  },
  {
   "cell_type": "markdown",
   "metadata": {},
   "source": [
    "The primary key is the partition key. The hash value of the partition key results in a hexadecimal value. This value falls between the lower and upper values of a `hash_split` range for a tablet leader. \n",
    "\n",
    "YSQL has an built-in function that shows the integer form of the hash code: `yb_hash_code()` . This built-in function returns an integer, making it easier to interpret the hexadecimal values of a hash_splt range.\n",
    "\n",
    "However, because YugabyteDB does not expose `ybrowid`, it is not possible to use `yb_hash_code()` to determine what is the integer valie for the hash code of `ybrowid`. "
   ]
  },
  {
   "cell_type": "markdown",
   "metadata": {},
   "source": [
    "## q2 | Alter the table and add a Primary Key\n",
    "To help illuminate how YugabyteDB distributes data, you can create primary key the `k` column of the table. Later, you will use the `yb_code_hash()` built-in function and the primary key to show where various rows live on a given tablet.\n",
    "\n",
    "Because there is not an existing primary key (PK) for `tbl_no_pk`, it is possible to add a one.\n",
    "\n",
    "> IMPORTANT\n",
    "> Once you create a primary key on a table, you can not alter it.\n",
    "\n",
    " - `PRIMARY KEY (k)` for hash  [DEFAULT]\n",
    " - `PRIMARY KEY (k hash)` for hash\n",
    " - `PRIMARY KEY (k asc)` for range\n",
    "\n",
    "> NOTE\n",
    "> \n",
    "> In this scenario, when you add a primary key to a table that does not have one, YugabyteDB will need to recreate the entire table behind the scenes and distribute the data according to PK sharding algorithm, range or hash. The previous table with the table id will show the table name as table_name_temp_old. The newly created table will have a new table id."
   ]
  },
  {
   "cell_type": "code",
   "execution_count": null,
   "metadata": {
    "vscode": {
     "languageId": "sql"
    }
   },
   "outputs": [],
   "source": [
    "%%sql /* alter table rename AND add PK */\n",
    "\n",
    "drop table if exists tbl_pk_hash;\n",
    "-- rename table\n",
    "alter table if exists tbl_no_pk rename to tbl_pk_hash;\n",
    "-- add PK as hash\n",
    "alter table tbl_pk_hash add primary key (k hash);"
   ]
  },
  {
   "cell_type": "code",
   "execution_count": null,
   "metadata": {
    "vscode": {
     "languageId": "sql"
    }
   },
   "outputs": [],
   "source": [
    "%%bash -s \"$MY_YB_PATH\" \"$MY_DB_NAME\" #\\d+\n",
    "YB_PATH=${1}\n",
    "DB_NAME=${2}\n",
    "\n",
    "cd $YB_PATH\n",
    "\n",
    "./bin/ysqlsh -d ${DB_NAME} -c \"\\d+ tbl_pk_hash\""
   ]
  },
  {
   "cell_type": "markdown",
   "metadata": {},
   "source": [
    "### View the Table details in the YB-Master web ui\n",
    "In your web browser, open the following URL."
   ]
  },
  {
   "cell_type": "code",
   "execution_count": null,
   "metadata": {},
   "outputs": [
    {
     "name": "stdout",
     "output_type": "stream",
     "text": [
      " * postgresql+psycopg2://yugabyte@127.0.0.1:5433/db_ybu\n",
      "0 rows affected.\n",
      "+---------------+\n",
      "| open_this_url |\n",
      "+---------------+\n",
      "+---------------+\n"
     ]
    }
   ],
   "source": [
    "#%% python, but prepared statements as sql magic\n",
    "WORKSPACE_URL = MY_GITPOD_WORKSPACE_URL.replace('https://','https://7000-')\n",
    "view_url = %sql select fn_get_table_id(:WORKSPACE_URL,8200,'tbl_pk_hash') as open_this_url ;\n",
    "\n",
    "print (view_url)"
   ]
  },
  {
   "cell_type": "markdown",
   "metadata": {},
   "source": [
    "#### Review the Column section\n",
    "The column section shows details about each column in the table, index, or materialized view. In the column section for `tbl_pk_hash`, you will see:\n",
    "\n",
    "\n",
    "| Column | ID\t| Type |\n",
    "|--------|------|------|\n",
    "| k\t         | 1\t| int32 PARTITION KEY | \n",
    "| v\t         | 2\t| string NULLABLE NOT A PARTITION KEY | \n",
    "\n",
    "<br/>\n",
    "\n",
    "Because there is a primary key defined for this table, there is no `ybrowid` column."
   ]
  },
  {
   "cell_type": "markdown",
   "metadata": {},
   "source": [
    "#### Review the Tablet section\n",
    "The Tablet section shows the details for the existing tablets. Here is an abridged example of the Tablet section for the `tbl_pk_hash` table:\n",
    "\n",
    "| Tablet ID |\tPartition\t| SplitDepth\t| State\t| Hidden\t| Message\t| RaftConfig|\n",
    "|--|--|--|--|--|--|--|\n",
    "| some_uuid_1 |\t`hash_split: [0x5555, 0xAAAA)` |\t0\t| Running|\tfalse| Tablet reported with an active leader\t|<li>FOLLOWER: 127.0.0.1 <li>FOLLOWER: 127.0.0.3<li>LEADER: 127.0.0.2  |\n",
    "| some_uuid_2\t| `hash_split: [0xAAAA, 0xFFFF)`\t| 0 |  Running |false |\tTablet reported with an active leader |<li>FOLLOWER: 127.0.0.1 <li>LEADER: 127.0.0.3 <li>FOLLOWER: 127.0.0.2 |\n",
    "| some_uuid_3 <br>(tablet leader where the row lives) |\t`hash_split: [0x0000, 0x5555)` |\t0 |\tRunning | \tfalse\t| Tablet reported with an active leader |\t<li>LEADER: 127.0.0.1<li>FOLLOWER: 127.0.0.3<li>FOLLOWER: 127.0.0.2 |"
   ]
  },
  {
   "cell_type": "markdown",
   "metadata": {},
   "source": [
    "##### What is the `hash_split` value in the Partition column? \n",
    "\n",
    "For a table with hash sharding, each tablet has a Partition value that shows a  `hash_split` . The `hash_split` details a range of hexadecimal values. \n",
    "```\n",
    "hash_split: [0x0000, 0x5555)\n",
    "hash_split: [0x5555, 0xAAAA)\n",
    "hash_split: [0xAAAA, 0xFFFF)\n",
    "```\n",
    "The conversion of the above hexadecimal values to integer values is as follows:\n",
    "```\n",
    "0-21845\n",
    "21845-43690\n",
    "43690-65535\n",
    "```\n",
    "\n",
    "`tbl_pk_hash` uses consistent has sharding with the partition key being `k`.  All tablets will store rows using the hash coded values for `k`."
   ]
  },
  {
   "cell_type": "markdown",
   "metadata": {},
   "source": [
    "### q2a | yb_hash_code()\n",
    "YSQL has an built-in function that shows the integer form of a hashed value, `yb_hash_code()`, in integer form. Using this function, you can view the hash code value of the primary key, `k`, for `tbl_pk_hash`. \n",
    "\n",
    "The resulting integer value places the row in the the hash_split range of the tablets.\n",
    "\n",
    "In the web ui, you can then confirm that the PK has a hash code that lives in the hash_split range of the tablet leader in question.  To help make the conversion from hexadecimal to integer easier, the following query use various utility user-defined functions and shows:\n",
    "- k, the primary key value\n",
    "- the yb_hash_code() integer for k\n",
    "- and hash_split hexadecimal range in integer form"
   ]
  },
  {
   "cell_type": "code",
   "execution_count": null,
   "metadata": {
    "vscode": {
     "languageId": "sql"
    }
   },
   "outputs": [],
   "source": [
    "%%sql /* query with hash buckets */\n",
    "select '' as _\n",
    "  , k\n",
    " -- , v\n",
    "  , yb_hash_code(k::int) as k_hash_code\n",
    "  , fn_find_hash_code_in_partition_hex_range(yb_hash_code( k::int),'hash_split: [0x0000, 0x5555)'::text) as col_0x0000_0x5555\n",
    "  , fn_find_hash_code_in_partition_hex_range(yb_hash_code( k::int),'hash_split: [0x5555, 0xAAAA)'::text) as col_0x5555_0xAAAA\n",
    "  , fn_find_hash_code_in_partition_hex_range(yb_hash_code( k::int),'hash_split: [0xAAAA, 0xFFFF)'::text) as col_0xAAAA_0xFFFF\n",
    "from tbl_pk_hash\n",
    "where 1=1 \n",
    "-- and k=123\n",
    "order by k asc\n",
    "-- order by k desc\n",
    "-- offset 330\n",
    "limit 30\n",
    ";\n"
   ]
  },
  {
   "cell_type": "markdown",
   "metadata": {},
   "source": [
    "### q2 | Obsevations\n",
    "The results show that the 30 returned rows are distributed among all of the hash_split ranges, meaning that each tablet leader is returning results. The results are sorted in an ascending order of K values."
   ]
  },
  {
   "cell_type": "markdown",
   "metadata": {},
   "source": [
    "#### q2b | Experiment\n",
    "Question: \n",
    "- In the query above, comment out the `order by k` line. Rerun the query cell. What observations can you make about the results?\n",
    "\n",
    "Answer:\n",
    "- The results are in the order of `k_hash_code`, not `k`.\n",
    "- YugabyteDB only returns `k_hash_code` ordered results and these 30 row sare from the first hash_split range, `0-21845`.\n",
    "- The `k_hash_code` ordering is how the internal LSM-Tree sorted the table inserts.\n",
    "- For the given tablet, the LSM-tree persists to disk as Sorted Sequence Tables (SST files).\n",
    "- The reads come from the SST file for the tablet. For this reason, you can rerun the query over and over again and still see the same \"order\" (`k_hash_code`) of \"unordered\" (`k`) results.\n",
    "\n",
    "\n",
    "Question: \n",
    "- In the query above, with the `order by k` line already commented out, uncomment the `offset 330` line. Rerun the query cell. What observations can you make about the results?\n",
    "\n",
    "Answer:\n",
    "- YugabyteDB only returns `k_hash_code` ordered results from the beginning of the offset, which spans two hash_split ranges, indicating that the hash sharding is more or less evenly split among the tablets.\n"
   ]
  },
  {
   "cell_type": "markdown",
   "metadata": {},
   "source": [
    "### q2c | View the explain plan and metrics\n",
    "This is the same exact query above. This time, however, you will generate an Explain Plan and the view the metrics.\n",
    "\n",
    "Just like the section before, you wil rerun the queries to answer the experiment questions."
   ]
  },
  {
   "cell_type": "code",
   "execution_count": null,
   "metadata": {
    "vscode": {
     "languageId": "sql"
    }
   },
   "outputs": [],
   "source": [
    "%%sql /* explain plan */\n",
    "execute stmt_util_metrics_snap_reset;\n",
    "explain (costs off, analyze, verbose) \n",
    "select '' as _\n",
    "  , k\n",
    " -- , v\n",
    "  , yb_hash_code(k::int) as k_hash_code\n",
    "  , fn_find_hash_code_in_partition_hex_range(yb_hash_code( k::int),'hash_split: [0x0000, 0x5555)'::text) as col_0x0000_0x5555\n",
    "  , fn_find_hash_code_in_partition_hex_range(yb_hash_code( k::int),'hash_split: [0x5555, 0xAAAA)'::text) as col_0x5555_0xAAAA\n",
    "  , fn_find_hash_code_in_partition_hex_range(yb_hash_code( k::int),'hash_split: [0xAAAA, 0xFFFF)'::text) as col_0xAAAA_0xFFFF\n",
    "from tbl_pk_hash\n",
    "where 1=1 \n",
    "-- and k=123\n",
    "order by k asc\n",
    "-- order by k desc\n",
    "offset 330\n",
    "limit 30\n",
    ";"
   ]
  },
  {
   "cell_type": "markdown",
   "metadata": {},
   "source": [
    "##### q2c | Explain Plan (above ^^)\n",
    "For the initial query with the `order by asc` clause, the Explain Plan shows that this is a `Seq Scan` query, and no index is being used:\n",
    "\n",
    "`-> Seq Scan on public.tbl_pk_hash (actual time=2.626..7.200 rows=1000 loops=1)`\n",
    "\n",
    "A `Seq Scan` results in potentially accessing all the rows in the table.  These means all tablet leaders will most likely process the query."
   ]
  },
  {
   "cell_type": "code",
   "execution_count": null,
   "metadata": {
    "vscode": {
     "languageId": "sql"
    }
   },
   "outputs": [],
   "source": [
    "%%sql\n",
    "execute stmt_util_metrics_snap_table;"
   ]
  },
  {
   "cell_type": "markdown",
   "metadata": {},
   "source": [
    "#### q2c | Metrics (above ^^)\n",
    "In the initial query, the `Seq Scan` accesses all tablets leaders:\n",
    "\n",
    "| row_name| \trocksdb_number_db_seek | \trocksdb_number_db_next | \n",
    "|--|--|--|\n",
    "| db_ybu tbl_pk_hash link_table_id tablet_id_unq_1\t | 1 | \t689 |\n",
    "| db_ybu tbl_pk_hash link_table_id tablet_id_unq_2\t| 1\t| 641 |\n",
    "| db_ybu tbl_pk_hash link_table_id tablet_id_unq_3\t| 1\t| 667 |"
   ]
  },
  {
   "cell_type": "markdown",
   "metadata": {},
   "source": [
    "#### q2c | Experiment\n",
    "Question: \n",
    "- When you change the SQL code above and comment out the `ORDER BY` clause and rerun the query, what observations can you make about the Explain Plan and the Metrics.\n",
    "\n",
    "Answer:\n",
    "- Even though the Explain Plan shows that this is a `Seq Scan` query:\n",
    "  - `-> Seq Scan on public.tbl_students (actual time=1.072..5.176 rows=30 loops=1`\n",
    "\n",
    "The table scan is only for the tablet that contains the hash_split range where 30 rows live.\n",
    "| row_name| \trocksdb_number_db_seek | \trocksdb_number_db_next | \n",
    "|--|--|--|\n",
    "| db_ybu tbl_pk_hash link_table_id tablet_id_unq_1\t | 1 | \t62 |\n",
    "\n",
    "- YugabyteDB returns the unordered results and from the first hash_split range, `0-21845`.\n",
    "- The \"unordered\" results are actually returned as they were ordered in the LSM-Tree as Sorted Sequence Tables (SST files). For this reason, you can rerun the query over and over again and still see the same \"order\" of \"unordered\" results. \n",
    "\n",
    "\n",
    "Question: \n",
    "- With the `ORDER BY` clauses commented out, what happens when you uncomment one of the `OFFSET` lines and run the query again? How does the Explain Plan compare to the Metrics?\n",
    "\n",
    "\n",
    "Answer:\n",
    "- YugabyteDB returns results from the beginning of the offset, which, if the hash sharding is more or less evenly split, should span two hash_split ranges. Even though the Explain Plan shows that this is a `Seq Scan` query:\n",
    "  - `-> Seq Scan on public.tbl_students (actual time=4.039..55.580 rows=360 loops=1)`\n",
    "\n",
    "The table scan is for the tablets that contains the hash_split ranges. This means full table scans for two tablet leaders.\n",
    "\n",
    "| row_name| \trocksdb_number_db_seek | \trocksdb_number_db_next | \n",
    "|--|--|--|\n",
    "| db_ybu tbl_pk_hash link_table_id tablet_id_unq_1\t | 1 | \t689 |\n",
    "| db_ybu tbl_pk_hash link_table_id tablet_id_unq_2\t| 1\t| 641 |\n"
   ]
  },
  {
   "cell_type": "markdown",
   "metadata": {},
   "source": [
    "---\n",
    "## Range Sharding\n",
    "Range sharding splits the rows of a table into contiguous ranges that respect the sort order of the table based on the primary key column values. Typically, a range sharded table begins with only one tablet. With more row insertions, the single tablet eventually splits into two or more tablets. As the data volume for the range sharded table continues to grow, so does the number of tablets for the table. YugabyteDB balances the number of tablet leaders across the YB-TServers in the cluster. Here is an illustrations of range sharding:"
   ]
  },
  {
   "cell_type": "markdown",
   "metadata": {},
   "source": [
    "<img  style=\"background-color:#FFF\" src=\"assets/range_sharding.png\" >"
   ]
  },
  {
   "cell_type": "markdown",
   "metadata": {},
   "source": [
    " Queries that specify a range of values in the query predicate often benefit from range sharding."
   ]
  },
  {
   "cell_type": "markdown",
   "metadata": {},
   "source": [
    "## q3 | Create a PK table with range sharding\n",
    "The following table will take about\n",
    "- Query when 1000 rows --> results, see natural order\n",
    "- Query when 1000 rows --> results, query in reverse order with order by desc\n",
    "- Query with predicate, offset, limit\n",
    "- Compare hash vs range for range predicate\n",
    "  \n"
   ]
  },
  {
   "cell_type": "code",
   "execution_count": null,
   "metadata": {
    "vscode": {
     "languageId": "sql"
    }
   },
   "outputs": [],
   "source": [
    "%%sql  /* create table no PK and insert rows */\n",
    "drop table if exists tbl_pk_range;\n",
    "\n",
    "create table if not exists tbl_pk_range (k int, v text, primary key (k asc)) ;\n",
    "\n",
    "insert into tbl_pk_range (k,v)\n",
    "select g.id, format('%s%s',chr(97+CAST(random() * 25 AS INTEGER)),chr(97+CAST(random() * 25 AS INTEGER)))\n",
    "from generate_series(1, 1000) AS g (id);"
   ]
  },
  {
   "cell_type": "markdown",
   "metadata": {},
   "source": [
    "#### View in the YB-Master web ui for the table details\n",
    "Open the Web UI for the table. Copy and paste the following URL in your web browser:"
   ]
  },
  {
   "cell_type": "code",
   "execution_count": 9,
   "metadata": {},
   "outputs": [
    {
     "name": "stdout",
     "output_type": "stream",
     "text": [
      " * postgresql+psycopg2://yugabyte@127.0.0.1:5433/db_ybu\n",
      "1 rows affected.\n",
      "+--------------------------------------------------------------------------------------------------------------+\n",
      "|                                      open_this_url_in_your_web_browser                                       |\n",
      "+--------------------------------------------------------------------------------------------------------------+\n",
      "| https://7000-yugabytedbuni-ybugitpod-sgjfjfecua0.ws-us53.gitpod.io/table?id=00004000000030008000000000004070 |\n",
      "+--------------------------------------------------------------------------------------------------------------+\n"
     ]
    }
   ],
   "source": [
    "#%% python, but prepared statements as sql magic\n",
    "WORKSPACE_URL = MY_GITPOD_WORKSPACE_URL.replace('https://','https://7000-')\n",
    "view_url = %sql select fn_get_table_id(:WORKSPACE_URL,8200,'tbl_pk_range') as open_this_url_in_your_web_browser ;\n",
    "\n",
    "print (view_url)"
   ]
  },
  {
   "cell_type": "markdown",
   "metadata": {},
   "source": [
    "#### Review the Column section\n",
    "In the column section for `tbl_pk_range`, you will see:\n",
    "\n",
    "\n",
    "| Column | ID\t| Type |\n",
    "|--------|------|------|\n",
    "| k\t         | 1\t| int32 NOT NULL NOT A PARTITION KEY | \n",
    "| v\t         | 2\t| string NULLABLE NOT A PARTITION KEY | \n",
    "\n",
    "<br/>\n",
    "\n",
    "> Note\n",
    ">  \n",
    "> There is no PARTITION KEY (shard key) for the `tbl_pk_range` table. The table specifies a Range Sharding strategy for the primary key (PK).  `k`, the PK, is, however, shown as `NOT NULL`.\n"
   ]
  },
  {
   "cell_type": "markdown",
   "metadata": {},
   "source": [
    "#### Review the Tablet section\n",
    "The Tablet section shows the details for the existing tablets. Here is an abridged example of the Tablet section for the `tbl_pk_hash` table:\n",
    "\n",
    "| Tablet ID |\tPartition\t| SplitDepth\t| State\t| Hidden\t| Message\t| RaftConfig|\n",
    "|--|--|--|--|--|--|--|\n",
    "| some_uuid_1<br>`42ca468817c145c29145752718b7c6a7` |\t`range: [<start>, <end>)` |\t0\t| Running|\tfalse| Tablet reported with an active leader\t|<li>FOLLOWER: 127.0.0.1 <li>FOLLOWER: 127.0.0.3<li>LEADER: 127.0.0.2  |\n",
    "\n",
    "YugabyteDB will automatically split this tablet based on the size of the table on disk. The following global flags determine this behavior:\n",
    "\n",
    "```\n",
    "--tablet_force_split_threshold_bytes=107374182400 --> 10240 MB\n",
    "--tablet_split_high_phase_shard_count_per_node=24\n",
    "--tablet_split_high_phase_size_threshold_bytes=10737418240 --> 10240 MB\n",
    "--tablet_split_low_phase_shard_count_per_node=8\n",
    "--tablet_split_low_phase_size_threshold_bytes=536870912 --> 512 MB\n",
    "--tablet_split_size_threshold_bytes=0\n",
    "```\n",
    "\n",
    "The low phase accounts for when initial tablet splits are relatively low. With more data volume, the threshold increases from 512 MB to over 10 GBs."
   ]
  },
  {
   "cell_type": "markdown",
   "metadata": {},
   "source": [
    "#### q3a | Natural order\n",
    "Unlike the consistent hash sharding of `tbl_pk_hash`, `tbl_pk_range` preserves the order of the PK. The following query shows how:"
   ]
  },
  {
   "cell_type": "code",
   "execution_count": 17,
   "metadata": {
    "vscode": {
     "languageId": "sql"
    }
   },
   "outputs": [
    {
     "name": "stdout",
     "output_type": "stream",
     "text": [
      " * postgresql+psycopg2://yugabyte@127.0.0.1:5433/db_ybu\n",
      "30 rows affected.\n"
     ]
    },
    {
     "data": {
      "text/html": [
       "<table>\n",
       "    <tr>\n",
       "        <th>k</th>\n",
       "    </tr>\n",
       "    <tr>\n",
       "        <td>1</td>\n",
       "    </tr>\n",
       "    <tr>\n",
       "        <td>2</td>\n",
       "    </tr>\n",
       "    <tr>\n",
       "        <td>3</td>\n",
       "    </tr>\n",
       "    <tr>\n",
       "        <td>4</td>\n",
       "    </tr>\n",
       "    <tr>\n",
       "        <td>5</td>\n",
       "    </tr>\n",
       "    <tr>\n",
       "        <td>6</td>\n",
       "    </tr>\n",
       "    <tr>\n",
       "        <td>7</td>\n",
       "    </tr>\n",
       "    <tr>\n",
       "        <td>8</td>\n",
       "    </tr>\n",
       "    <tr>\n",
       "        <td>9</td>\n",
       "    </tr>\n",
       "    <tr>\n",
       "        <td>10</td>\n",
       "    </tr>\n",
       "    <tr>\n",
       "        <td>11</td>\n",
       "    </tr>\n",
       "    <tr>\n",
       "        <td>12</td>\n",
       "    </tr>\n",
       "    <tr>\n",
       "        <td>13</td>\n",
       "    </tr>\n",
       "    <tr>\n",
       "        <td>14</td>\n",
       "    </tr>\n",
       "    <tr>\n",
       "        <td>15</td>\n",
       "    </tr>\n",
       "    <tr>\n",
       "        <td>16</td>\n",
       "    </tr>\n",
       "    <tr>\n",
       "        <td>17</td>\n",
       "    </tr>\n",
       "    <tr>\n",
       "        <td>18</td>\n",
       "    </tr>\n",
       "    <tr>\n",
       "        <td>19</td>\n",
       "    </tr>\n",
       "    <tr>\n",
       "        <td>20</td>\n",
       "    </tr>\n",
       "    <tr>\n",
       "        <td>21</td>\n",
       "    </tr>\n",
       "    <tr>\n",
       "        <td>22</td>\n",
       "    </tr>\n",
       "    <tr>\n",
       "        <td>23</td>\n",
       "    </tr>\n",
       "    <tr>\n",
       "        <td>24</td>\n",
       "    </tr>\n",
       "    <tr>\n",
       "        <td>25</td>\n",
       "    </tr>\n",
       "    <tr>\n",
       "        <td>26</td>\n",
       "    </tr>\n",
       "    <tr>\n",
       "        <td>27</td>\n",
       "    </tr>\n",
       "    <tr>\n",
       "        <td>28</td>\n",
       "    </tr>\n",
       "    <tr>\n",
       "        <td>29</td>\n",
       "    </tr>\n",
       "    <tr>\n",
       "        <td>30</td>\n",
       "    </tr>\n",
       "</table>"
      ],
      "text/plain": [
       "[(1,),\n",
       " (2,),\n",
       " (3,),\n",
       " (4,),\n",
       " (5,),\n",
       " (6,),\n",
       " (7,),\n",
       " (8,),\n",
       " (9,),\n",
       " (10,),\n",
       " (11,),\n",
       " (12,),\n",
       " (13,),\n",
       " (14,),\n",
       " (15,),\n",
       " (16,),\n",
       " (17,),\n",
       " (18,),\n",
       " (19,),\n",
       " (20,),\n",
       " (21,),\n",
       " (22,),\n",
       " (23,),\n",
       " (24,),\n",
       " (25,),\n",
       " (26,),\n",
       " (27,),\n",
       " (28,),\n",
       " (29,),\n",
       " (30,)]"
      ]
     },
     "execution_count": 17,
     "metadata": {},
     "output_type": "execute_result"
    }
   ],
   "source": [
    "%%sql /* explain plan */\n",
    "select '' as _\n",
    "  , k\n",
    "from tbl_pk_range\n",
    "where 1=1 \n",
    "and k = 123\n",
    "-- and k between 100 and 200\n",
    "-- order by k desc\n",
    "limit 30\n",
    ";"
   ]
  },
  {
   "cell_type": "markdown",
   "metadata": {},
   "source": [
    "The above result reveals that that the range sharding stores data in the specified order of the primary key definition, which by default is `asc`, ascending order."
   ]
  },
  {
   "cell_type": "code",
   "execution_count": 23,
   "metadata": {
    "vscode": {
     "languageId": "sql"
    }
   },
   "outputs": [
    {
     "name": "stdout",
     "output_type": "stream",
     "text": [
      " * postgresql+psycopg2://yugabyte@127.0.0.1:5433/db_ybu\n",
      "0 rows affected.\n",
      "6 rows affected.\n"
     ]
    },
    {
     "data": {
      "text/html": [
       "<table>\n",
       "    <tr>\n",
       "        <th>QUERY PLAN</th>\n",
       "    </tr>\n",
       "    <tr>\n",
       "        <td>Index Scan Backward using tbl_pk_range_pkey on public.tbl_pk_range (actual time=3.492..21.868 rows=999 loops=1)</td>\n",
       "    </tr>\n",
       "    <tr>\n",
       "        <td>&nbsp;&nbsp;Output: &#x27;&#x27;::text, k</td>\n",
       "    </tr>\n",
       "    <tr>\n",
       "        <td>&nbsp;&nbsp;Index Cond: ((tbl_pk_range.k &gt;= 1) AND (tbl_pk_range.k &lt;= 999))</td>\n",
       "    </tr>\n",
       "    <tr>\n",
       "        <td>Planning Time: 0.088 ms</td>\n",
       "    </tr>\n",
       "    <tr>\n",
       "        <td>Execution Time: 21.968 ms</td>\n",
       "    </tr>\n",
       "    <tr>\n",
       "        <td>Peak Memory Usage: 8 kB</td>\n",
       "    </tr>\n",
       "</table>"
      ],
      "text/plain": [
       "[('Index Scan Backward using tbl_pk_range_pkey on public.tbl_pk_range (actual time=3.492..21.868 rows=999 loops=1)',),\n",
       " (\"  Output: ''::text, k\",),\n",
       " ('  Index Cond: ((tbl_pk_range.k >= 1) AND (tbl_pk_range.k <= 999))',),\n",
       " ('Planning Time: 0.088 ms',),\n",
       " ('Execution Time: 21.968 ms',),\n",
       " ('Peak Memory Usage: 8 kB',)]"
      ]
     },
     "execution_count": 23,
     "metadata": {},
     "output_type": "execute_result"
    }
   ],
   "source": [
    "%%sql /* explain plan */\n",
    "execute stmt_util_metrics_snap_reset;\n",
    "explain (costs off, analyze, verbose) \n",
    "select '' as _\n",
    "  , k\n",
    "from tbl_pk_range\n",
    "where 1=1 \n",
    "and k = 123\n",
    "-- and k between 100 and 200\n",
    "-- order by k desc\n",
    "limit 30\n",
    ";"
   ]
  },
  {
   "cell_type": "markdown",
   "metadata": {},
   "source": [
    "#### q3a | Explain Plan (above ^^)\n",
    "\n",
    "The Explain Plan shows that this query uses the PK index and reads just one row..\n",
    "- `-> Index Scan using tbl_pk_range_pkey on public.tbl_pk_range (actual time=7.473..7.475 rows=1 loops=1)`\n",
    "\n",
    "The Index Condition reflects the query predicate.\n",
    "\n",
    "- `Index Cond: (tbl_pk_range.k = 123)`\n",
    "\n",
    "To view the DocDB metrics, run the following prepared statement:"
   ]
  },
  {
   "cell_type": "code",
   "execution_count": 24,
   "metadata": {
    "vscode": {
     "languageId": "sql"
    }
   },
   "outputs": [
    {
     "name": "stdout",
     "output_type": "stream",
     "text": [
      " * postgresql+psycopg2://yugabyte@127.0.0.1:5433/db_ybu\n",
      "1 rows affected.\n"
     ]
    },
    {
     "data": {
      "text/html": [
       "<table>\n",
       "    <tr>\n",
       "        <th>[dbname | relname | tableid | tabletid | isLeader]</th>\n",
       "        <th>rocksdb_number_db_seek</th>\n",
       "        <th>rocksdb_number_db_next</th>\n",
       "        <th>rows_inserted</th>\n",
       "    </tr>\n",
       "    <tr>\n",
       "        <td>db_ybu | tbl_pk_range | https://7000-yugabytedbuni-ybugitpod-sgjfjfecua0.ws-us53.gitpod.io/table?id=00004000000030008000000000004070 | 42ca468817c145c29145752718b7c6a7 | L</td>\n",
       "        <td>2058</td>\n",
       "        <td>2028</td>\n",
       "        <td>None</td>\n",
       "    </tr>\n",
       "</table>"
      ],
      "text/plain": [
       "[('db_ybu | tbl_pk_range | https://7000-yugabytedbuni-ybugitpod-sgjfjfecua0.ws-us53.gitpod.io/table?id=00004000000030008000000000004070 | 42ca468817c145c29145752718b7c6a7 | L', Decimal('2058'), Decimal('2028'), None)]"
      ]
     },
     "execution_count": 24,
     "metadata": {},
     "output_type": "execute_result"
    }
   ],
   "source": [
    "%%sql\n",
    "execute stmt_util_metrics_snap_table;"
   ]
  },
  {
   "cell_type": "markdown",
   "metadata": {},
   "source": [
    "#### q3a | Metrics (above ^^)\n",
    "\n",
    "The Explain Plan revealed that the query uses the PK index and reads only one row. Because there is only one tablet at this time for the range sharded table, the Metrics reports shows that the query accesses a single tablet. There is on seek for the offset and two reads."
   ]
  },
  {
   "cell_type": "markdown",
   "metadata": {},
   "source": [
    "#### q3a | Experiment\n",
    "Question: \n",
    "- Change the SQL code above the Explain plan. Comment out the `and k = 123` line and uncomment the `and k between 100 and 200` line. Rerun the query to review the Explain Plan. Rerun the Metrics prepared statement. What observations can you make about the Explain Plan and the Metrics output?\n",
    "\n",
    "Answer:\n",
    "- The query uses the PK index. The only difference in metrics is the number of reads (db_next), which reflects the limit on the number of rows.\n",
    "- \n",
    "\n",
    "Question: \n",
    "- Uncomment the `order by k desc` line. Rerun the Explain Plan and the Metrics prepared statement. What new observations can you make? \n",
    "\n",
    "\n",
    "Answer:\n",
    "- The Explain Plan shows that query uses `-> Index Scan Backward` for the PK index.\n",
    "- The Metrics shows that the Index Scan Backward operations resulted in 64 seeks and only 62 reads. For thirty rows (`limit 30`), this means that there a two seeks per each backwards operation!\n",
    "\n",
    "\n",
    "| row_name| \trocksdb_number_db_seek | \trocksdb_number_db_next | \n",
    "|--|--|--|\n",
    "| db_ybu tbl_pk_range link_table_id tablet_id_unq_1\t | 64 | \t62 |\n",
    "\n",
    "\n",
    "When fetching rows in reverse order of the index, with `Index Scan Backward`, there is no next call to go backwards. Instead, there are two seeks to go backwards. For this reason, the range sharding order of the primary key (`asc` or `desc`) may not be optimal for queries with an `Index Scan Backward` plan. \n"
   ]
  },
  {
   "cell_type": "markdown",
   "metadata": {},
   "source": [
    "---\n",
    "## Summary\n",
    "In this notebook, you learned about how YugabyteDB uses two distinct sharding strategies for storing data in a distributed manner:\n",
    "- consistent hash sharding\n",
    "- range sharding\n",
    "\n",
    "You specify the sharding strategy in the Primary Key definition of a table: `hash` for hash sharding, and either `asc` or `desc` for range sharding.\n",
    "By default, YSQL for YugabyteDB employs consistent hash sharding, even if a primary key is not defined.\n",
    "\n",
    "### Consistent hash sharding\n",
    "With consistent hash sharding, YugabyteDB evenly and randomly distributes data across tablets using a partitioning algorithm. By computing a consistent hash on the partition column values of that row, YugabyteDB places each row of the table into a tablet. By using the `yb_hash_code()` built-in function, you can view the integer form of a hash coded value.\n",
    "\n",
    "#### Benefits of hash sharding\n",
    "Because consistent hash sharding distributes data evenly across all the nodes in the cluster while also retaining the ability to horizontally scale (add or remove nodes) in a YugabyteDB cluster, the strategy is ideal for massively scalable workloads that require shard key predicate queries.\n",
    "\n",
    "#### Concerns with hash sharding\n",
    "However, performing range queries could be inefficient. Examples of range queries are finding rows greater than a lower bound or less than an upper bound (as opposed to point lookups).\n",
    "\n",
    "\n",
    "### Range sharding\n",
    "Range sharding involves splitting the rows of a table into contiguous ranges that respect the sort order of the table based on the primary key column values. YugabyteDB initially creates a single tablet leader for a table. with range sharding. As the data volume increases for the table, YugabyteDB dynamically splits the initial tablet into two or moore tablets. \n",
    "\n",
    "#### Benefits of range sharding\n",
    "Range harding allows efficiently querying a range of rows by the primary key values. Examples of such a query is to look up all keys that lie between a lower bound and an upper bound.\n",
    "\n",
    "\n",
    "#### Concerns with range sharding\n",
    "Range sharding can introduce a number of issues in practice and at scale. Starting out with a single tablet leader implies only a single node is handling all the user queries, making this node in the cluster \"hot\" in terms of CPU, Memory,  Network, and Disk utilization. To alleviate this side effect, the data volume must grow significantly in order for the tablet to split. Another concern is that the global ordering of keys across all the tablets itself generates hot spots. As a result, certain tablet will naturally have more activity than others, resulting in an node with increased utilization of CPU, Memory, Network, and Disk."
   ]
  },
  {
   "cell_type": "markdown",
   "metadata": {},
   "source": [
    "## Additional reading\n",
    "\n",
    "To learn more about tables, tablets, and sharding, check out these resources in the Course Player."
   ]
  }
 ],
 "metadata": {
  "interpreter": {
   "hash": "aee8b7b246df8f9039afb4144a1f6fd8d2ca17a180786b69acc140d282b71a49"
  },
  "kernelspec": {
   "display_name": "Python 3.7.9 64-bit",
   "language": "python",
   "name": "python3"
  },
  "language_info": {
   "codemirror_mode": {
    "name": "ipython",
    "version": 3
   },
   "file_extension": ".py",
   "mimetype": "text/x-python",
   "name": "python",
   "nbconvert_exporter": "python",
   "pygments_lexer": "ipython3",
   "version": "3.7.9"
  },
  "orig_nbformat": 4
 },
 "nbformat": 4,
 "nbformat_minor": 2
}
