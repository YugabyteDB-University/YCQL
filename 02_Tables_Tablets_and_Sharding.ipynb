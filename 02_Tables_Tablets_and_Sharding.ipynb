{
 "cells": [
  {
   "cell_type": "markdown",
   "metadata": {},
   "source": [
    "# Demystifying table sharding, tablets, and data distribution\n",
    "As a distributed SQL database, YugabyteDB stores data differently than a stand-alone, monolithic  database. Because data is stored differently, YugabyteDB reads data differently as well.\n",
    "\n",
    "YugabyteDB stores data in tables.\n",
    "\n",
    "A table consists of tablets. A tablet represents a table shard which contains a set of rows for the logical table. Under the hood, each tablet is a customized RocksDB instance. A tablet leader has a peer group known as tablet followers, and this group of tablet peers exists as a Raft consensus group. \n",
    "\n",
    "In this lab, using Explain Plans, built-in functions, and custom utilities, you will learn about how YugabyteDB stores data for a table, as table shards, known as tablets. You will also learn how YugabyteDB reads tablet data.\n",
    "\n",
    "\n",
    "## Requirements\n",
    "Before running the cells in this notebook, you must first edit and execute all the cells in the first notebook:\n",
    "- `01_Lab_Setup.ipynb`"
   ]
  },
  {
   "cell_type": "markdown",
   "metadata": {},
   "source": [
    "## Connect to `db_ybu` using the PostgreSQL Driver for Python\n",
    "Run all the cells in this section:\n",
    "- Connect using Python and PostgreSQL driver\n",
    "- Load the SQL magic extension\n",
    "- Create prepared statements for using utility metrics\n"
   ]
  },
  {
   "cell_type": "code",
   "execution_count": 1,
   "metadata": {},
   "outputs": [],
   "source": [
    "# connect use Python 3.7.9+\n",
    "import psycopg2\n",
    "import sqlalchemy as alc\n",
    "from sqlalchemy import create_engine\n",
    "\n",
    "# Inspiration from https://medium.com/analytics-vidhya/postgresql-integration-with-jupyter-notebook-deb97579a38d\n",
    "# Use %store -r to read 01_Lab_Requirements_Setup variables\n",
    "\n",
    "%store -r MY_DB_NAME\n",
    "%store -r MY_YB_PATH\n",
    "%store -r MY_HOST_IPv4_01\n",
    "%store -r MY_HOST_IPv4_02\n",
    "%store -r MY_HOST_IPv4_03\n",
    "\n",
    "db_host=MY_HOST_IPv4_01\n",
    "db_name=MY_DB_NAME\n",
    "\n",
    "\n",
    "connection_str='postgresql+psycopg2://yugabyte@'+db_host+':5433/'+db_name\n",
    "\n",
    "engine = create_engine(connection_str)"
   ]
  },
  {
   "cell_type": "code",
   "execution_count": 2,
   "metadata": {},
   "outputs": [],
   "source": [
    "%reload_ext sql\n",
    "\n",
    "# Example format\n",
    "%sql {connection_str}"
   ]
  },
  {
   "cell_type": "markdown",
   "metadata": {},
   "source": [
    "### Create prepared utility statements"
   ]
  },
  {
   "cell_type": "code",
   "execution_count": 20,
   "metadata": {
    "vscode": {
     "languageId": "sql"
    }
   },
   "outputs": [
    {
     "name": "stdout",
     "output_type": "stream",
     "text": [
      " * postgresql+psycopg2://yugabyte@127.0.0.1:5433/db_ybu\n",
      "1 rows affected.\n"
     ]
    },
    {
     "data": {
      "text/html": [
       "<table>\n",
       "    <tr>\n",
       "        <th>fn_yb_create_stmts</th>\n",
       "    </tr>\n",
       "    <tr>\n",
       "        <td>2022-07-14 21:02:48.055882-07:00</td>\n",
       "    </tr>\n",
       "</table>"
      ],
      "text/plain": [
       "[(datetime.datetime(2022, 7, 14, 21, 2, 48, 55882, tzinfo=datetime.timezone(datetime.timedelta(days=-1, seconds=61200))),)]"
      ]
     },
     "execution_count": 20,
     "metadata": {},
     "output_type": "execute_result"
    }
   ],
   "source": [
    "%%sql \n",
    "select fn_yb_create_stmts() ;"
   ]
  },
  {
   "cell_type": "markdown",
   "metadata": {},
   "source": [
    "## q1 | Create a table with no Primary Key (PK)\n",
    "For this first example, you will create a table without explicitly defining a primary key. You will then review an Explain plan for a query of the table as well as query metrics."
   ]
  },
  {
   "cell_type": "code",
   "execution_count": 22,
   "metadata": {
    "vscode": {
     "languageId": "sql"
    }
   },
   "outputs": [
    {
     "name": "stdout",
     "output_type": "stream",
     "text": [
      " * postgresql+psycopg2://yugabyte@127.0.0.1:5433/db_ybu\n",
      "Done.\n",
      "Done.\n",
      "1000 rows affected.\n"
     ]
    },
    {
     "data": {
      "text/plain": [
       "[]"
      ]
     },
     "execution_count": 22,
     "metadata": {},
     "output_type": "execute_result"
    }
   ],
   "source": [
    "%%sql /* create table no PK and insert rows */\n",
    "drop table if exists tbl_no_pk;\n",
    "\n",
    "create table if not exists tbl_no_pk (k int, v text);\n",
    "\n",
    "insert into tbl_no_pk (k,v)\n",
    "select g.id, format('%s%s',chr(97+CAST(random() * 25 AS INTEGER)),chr(97+CAST(random() * 25 AS INTEGER)))\n",
    "from generate_series(1, 1000) AS g (id);"
   ]
  },
  {
   "cell_type": "code",
   "execution_count": null,
   "metadata": {
    "vscode": {
     "languageId": "sql"
    }
   },
   "outputs": [],
   "source": [
    "%%bash -s \"$MY_YB_PATH\" \"$MY_DB_NAME\" #\\d+\n",
    "YB_PATH=${1}\n",
    "DB_NAME=${2}\n",
    "\n",
    "cd $YB_PATH\n",
    "\n",
    "./bin/ysqlsh -d ${DB_NAME} -c \"\\d+ tbl_no_pk\""
   ]
  },
  {
   "cell_type": "markdown",
   "metadata": {},
   "source": [
    "### q1a | Query the table for a value of k\n",
    "\n",
    "The following is a query that will show the Explain Plan for the query. The first statement resets the metrics that will be captured after running the query. The query itself has a `where` clause predicate for `k` . "
   ]
  },
  {
   "cell_type": "code",
   "execution_count": 25,
   "metadata": {
    "vscode": {
     "languageId": "sql"
    }
   },
   "outputs": [
    {
     "name": "stdout",
     "output_type": "stream",
     "text": [
      " * postgresql+psycopg2://yugabyte@127.0.0.1:5433/db_ybu\n",
      "0 rows affected.\n",
      "7 rows affected.\n"
     ]
    },
    {
     "data": {
      "text/html": [
       "<table>\n",
       "    <tr>\n",
       "        <th>QUERY PLAN</th>\n",
       "    </tr>\n",
       "    <tr>\n",
       "        <td>Seq Scan on public.tbl_no_pk (actual time=6.063..8.916 rows=1 loops=1)</td>\n",
       "    </tr>\n",
       "    <tr>\n",
       "        <td>&nbsp;&nbsp;Output: &#x27;&#x27;::text, k, v</td>\n",
       "    </tr>\n",
       "    <tr>\n",
       "        <td>&nbsp;&nbsp;Filter: (tbl_no_pk.k = 1000)</td>\n",
       "    </tr>\n",
       "    <tr>\n",
       "        <td>&nbsp;&nbsp;Rows Removed by Filter: 999</td>\n",
       "    </tr>\n",
       "    <tr>\n",
       "        <td>Planning Time: 0.035 ms</td>\n",
       "    </tr>\n",
       "    <tr>\n",
       "        <td>Execution Time: 8.946 ms</td>\n",
       "    </tr>\n",
       "    <tr>\n",
       "        <td>Peak Memory Usage: 0 kB</td>\n",
       "    </tr>\n",
       "</table>"
      ],
      "text/plain": [
       "[('Seq Scan on public.tbl_no_pk (actual time=6.063..8.916 rows=1 loops=1)',),\n",
       " (\"  Output: ''::text, k, v\",),\n",
       " ('  Filter: (tbl_no_pk.k = 1000)',),\n",
       " ('  Rows Removed by Filter: 999',),\n",
       " ('Planning Time: 0.035 ms',),\n",
       " ('Execution Time: 8.946 ms',),\n",
       " ('Peak Memory Usage: 0 kB',)]"
      ]
     },
     "execution_count": 25,
     "metadata": {},
     "output_type": "execute_result"
    }
   ],
   "source": [
    "%%sql /* explain plan */\n",
    "execute stmt_util_metrics_snap_reset;\n",
    "explain (analyze, costs off, verbose, timing on) \n",
    "select '' _\n",
    "    , k\n",
    "    , v\n",
    "from tbl_no_pk \n",
    "where 1=1 \n",
    "and  k=1000\n",
    "-- limit 30\n",
    ";"
   ]
  },
  {
   "cell_type": "markdown",
   "metadata": {},
   "source": [
    "#### q1a | Explain plan (above ^^)\n",
    "Because YugabyteDB reuses the PostgreSQL query layer, it is possible to view an Explain Plan for a query. A query optimizer generates the Explain Plan for query execution.\n",
    "The Explain plan for this query shows:\n",
    "- `Seq Scan on public.tbl_no_pk (actual time=7.912..11.720 rows=1 loops=1)`\n",
    "\n",
    "A `Seq Scan` is a full table scan, meaning that potentially all the rows in the table will be read.\n",
    "\n",
    "- `Rows Removed by Filter: 999`\n",
    "\n",
    "999 rows were removed, leaving the remain 1 row.\n",
    "\n",
    "The Explain Plan infers how the query accesses tablet data, but does **NOT** show the metrics for tablet access.Using a custom utility, you can view the metrics for the query execution in the notebook cell below."
   ]
  },
  {
   "cell_type": "code",
   "execution_count": 26,
   "metadata": {
    "vscode": {
     "languageId": "sql"
    }
   },
   "outputs": [
    {
     "name": "stdout",
     "output_type": "stream",
     "text": [
      " * postgresql+psycopg2://yugabyte@127.0.0.1:5433/db_ybu\n",
      "3 rows affected.\n"
     ]
    },
    {
     "data": {
      "text/html": [
       "<table>\n",
       "    <tr>\n",
       "        <th>[dbname | relname | tableid | tabletid | isLeader]</th>\n",
       "        <th>rocksdb_number_db_seek</th>\n",
       "        <th>rocksdb_number_db_next</th>\n",
       "        <th>rows_inserted</th>\n",
       "    </tr>\n",
       "    <tr>\n",
       "        <td>db_ybu | tbl_no_pk | 000040000000300080000000000045cd | 5ede8fcd0afa40488b8de7c30aea9603 | L</td>\n",
       "        <td>1</td>\n",
       "        <td>938</td>\n",
       "        <td>None</td>\n",
       "    </tr>\n",
       "    <tr>\n",
       "        <td>db_ybu | tbl_no_pk | 000040000000300080000000000045cd | ddec4f9f54d940e2937f2d20fb63a052 | L</td>\n",
       "        <td>1</td>\n",
       "        <td>1064</td>\n",
       "        <td>None</td>\n",
       "    </tr>\n",
       "    <tr>\n",
       "        <td>db_ybu | tbl_no_pk | 000040000000300080000000000045cd | e84c0745259a444496e1309dddf5c8c6 | L</td>\n",
       "        <td>1</td>\n",
       "        <td>995</td>\n",
       "        <td>None</td>\n",
       "    </tr>\n",
       "</table>"
      ],
      "text/plain": [
       "[('db_ybu | tbl_no_pk | 000040000000300080000000000045cd | 5ede8fcd0afa40488b8de7c30aea9603 | L', Decimal('1'), Decimal('938'), None),\n",
       " ('db_ybu | tbl_no_pk | 000040000000300080000000000045cd | ddec4f9f54d940e2937f2d20fb63a052 | L', Decimal('1'), Decimal('1064'), None),\n",
       " ('db_ybu | tbl_no_pk | 000040000000300080000000000045cd | e84c0745259a444496e1309dddf5c8c6 | L', Decimal('1'), Decimal('995'), None)]"
      ]
     },
     "execution_count": 26,
     "metadata": {},
     "output_type": "execute_result"
    }
   ],
   "source": [
    "%%sql /* metrics */\n",
    "execute stmt_util_metrics_snap_table;"
   ]
  },
  {
   "cell_type": "markdown",
   "metadata": {},
   "source": [
    "#### q1a | Metrics (above ^^)\n",
    "\n",
    "The Explain Plan revealed that the query read 1000 rows, and filter out 999 rows, to return a 1 row result.\n",
    "\n",
    "The Metrics reports shows that the query access 3 tablets for the table (`tbl_no_pk`). Each tablet has 1 seek of an offset, and then per offset, 900+ reads.\n",
    "\n",
    "Here is how to read the output of the Metrics report:\n",
    "- row_name `db_ybu | tbl_no_pk | 00004000000030008000000000004058 | d13264e8acad46dd828912677f9483e2 | L`\n",
    "  - database --> `db_ybu`\n",
    "  - table or index or materialized view  --> `tbl_no_pk`\n",
    "  - table_id --> `00004...`\n",
    "  - tablet_id --> `4aed1608c05d40edb7105b11abc629cd`\n",
    "  - isLeader --> `L`\n",
    "- rocksdb_number_db_seek\n",
    "  - The number of Seek() RocksDB API calls, which means the number of seeks for offsets \n",
    "- rocksdb_number_db_next\n",
    "  - The number of Next() RocksDB API calls, which means the number of reads from the offset\n",
    "- rows_inserted\n",
    "  - number of rows inserted \n",
    "\n"
   ]
  },
  {
   "cell_type": "markdown",
   "metadata": {},
   "source": [
    "### Tables and Tablets TODO Update for GitPod\n",
    "To better understand the Metrics report, you can view the tablets that processed the query in the output above in the YB-Master web ui.\n",
    "\n",
    "Each leader has a unique identifier, a tablet_id, which is the last value in the `row_name`, something like `7ef9496faf1045a0bf5002d50eac446`.\n",
    "\n",
    "From the row_name column, you can copy the URL (`http://127.0.0.x7000/table?id=00000x`) into a web browser, and view the table details, including the tablet leader details.\n",
    "\n",
    "To view the table and the tablets, follow these steps:\n",
    "- From the metrics output above,  in the `row_name`, copy the `http://127.0.0.x:7000/table?id=00000x` value\n",
    "- Past the URL into a browser window such a Chrome\n"
   ]
  },
  {
   "cell_type": "markdown",
   "metadata": {},
   "source": [
    "### Column section\n",
    "> Important!\n",
    ">  \n",
    "When you create a table without a Primary Key (PK), YugabyteDB creates a hidden primary key for you. You will see this hidden PK in the YB-Master web ui for the table.\n",
    "- `ybrowid` is a random Universal Unique Identifier (UUID)\n",
    "- `ybrowid` is the a hidden PK, and is not accessible\n",
    "- `ybrowid` will not show using `\\d` or `\\d+`\n",
    "\n",
    "| Column | ID\t| Type |\n",
    "|--------|------|------|\n",
    "| ybrowid    | 0\t| binary NOT NULL PARTITION KEY | \n",
    "| k\t         | 1\t| int32 NULLABLE NOT A PARTITION KEY | \n",
    "| v\t         | 2\t| string NULLABLE NOT A PARTITION KEY | "
   ]
  },
  {
   "cell_type": "markdown",
   "metadata": {},
   "source": [
    "### Tablet section"
   ]
  },
  {
   "cell_type": "markdown",
   "metadata": {},
   "source": [
    "| Tablet ID |\tPartition\t| SplitDepth\t| State\t| Hidden\t| Message\t| RaftConfig|\n",
    "|--|--|--|--|--|--|--|\n",
    "| some_uuid_1 |\t`hash_split: [0x5555, 0xAAAA)` |\t0\t| Running|\tfalse| Tablet reported with an active leader\t|<li>FOLLOWER: 127.0.0.1 <li>FOLLOWER: 127.0.0.3<li>LEADER: 127.0.0.2  |\n",
    "| some_uuid_2\t| `hash_split: [0xAAAA, 0xFFFF)`\t| 0 |  Running |false |\tTablet reported with an active leader |<li>FOLLOWER: 127.0.0.1 <li>LEADER: 127.0.0.3 <li>FOLLOWER: 127.0.0.2 |\n",
    "| some_uuid_3 <br>(tablet leader where the row lives) |\t`hash_split: [0x0000, 0x5555)` |\t0 |\tRunning | \tfalse\t| Tablet reported with an active leader |\t<li>LEADER: 127.0.0.1<li>FOLLOWER: 127.0.0.3<li>FOLLOWER: 127.0.0.2 |\n",
    "\n",
    "The reason that there are only 3 tablets listed is because of a combination of settings you used to create a local cluster using `yb-ctl` : \n",
    "- `rf 3` --> a replication factor of 3 which resulted in a cluster with 3 nodes\n",
    "- `yb_num_shards_per_tserver=1,ysql_num_shards_per_tserver=1` --> each tserver will create only 1 tablet leader for a table\n",
    "\n",
    "In other words, `3 nodes` x `1 number_shard_per_tserver` = `3 tablet leaders` and `6 tablet followers`  (with respect to the replication factor of 3, where each tablet leader requires 2 tablet followers).\n",
    "\n",
    "\n",
    "Each tablet has a Partition value, a `hash_split` that describes the hash values:\n",
    "```\n",
    "hash_split: [0x0000, 0x5555)\n",
    "hash_split: [0x5555, 0xAAAA)\n",
    "hash_split: [0xAAAA, 0xFFFF)\n",
    "```\n",
    "\n",
    "Converting the hex values to integer values, the range in integer form is:\n",
    "```\n",
    "0-21845\n",
    "21845-43690\n",
    "43690-65535\n",
    "```\n",
    "\n"
   ]
  },
  {
   "cell_type": "markdown",
   "metadata": {},
   "source": [
    "### yb_hash_code()\n",
    "When YugabyteDB processes an insert query for a row of data into a table with a hash sharding strategy, YugabyteDB uses the shard key (shown as `PARTITION KEY`) to distribute the data among the tablet leaders. An internal hashing algorithm modulos the shard key value by the number of tablets to determine the tablet leader destination for the insert row.\n",
    "\n",
    "YSQL has an built-in function that shows the integer form of a hashed value, `yb_hash_code(val)`.\n",
    "\n",
    "However, because YugabyteDB does not expose `ybrowid`, it is not possible to use yb_hash_code() to infer the location of a row, in terms of `k` or `v`, within a given tablet."
   ]
  },
  {
   "cell_type": "markdown",
   "metadata": {},
   "source": [
    "## q 2 | Alter the table and add a Primary Key\n",
    "To illuminate how YugabyteDB distributes data, you can create primary key the `k` column of the table. Later, you will use the `yb_code_hash()` built-in function and the primary key to show where various rows live on a given tablet.\n",
    "\n",
    "Because there is not an existing primary key (PK) for `tbl_no_pk`, it is possible to add a one.\n",
    "\n",
    "> IMPORTANT\n",
    "> Once you create a primary key on a table, you can not alter it.\n",
    "\n",
    " - `PRIMARY KEY (k)` for hash  [DEFAULT]\n",
    " - `PRIMARY KEY (k hash)` for hash\n",
    " - `PRIMARY KEY (k asc)` for range\n",
    "\n",
    "> NOTE\n",
    "> \n",
    "> In this scenario, when you add a primary key to a table that does not have one, YugabyteDB will need to recreate the entire table behind the scenes and distribute the data according to PK sharding algorithm, range or hash. The previous table with the table id will show the table name as table_name_temp_old. The newly created table will have a new table id."
   ]
  },
  {
   "cell_type": "code",
   "execution_count": null,
   "metadata": {
    "vscode": {
     "languageId": "sql"
    }
   },
   "outputs": [],
   "source": [
    "%%sql /* alter table rename AND add PK */\n",
    "\n",
    "drop table if exists tbl_pk_hash;\n",
    "-- rename table\n",
    "alter table if exists tbl_no_pk rename to tbl_pk_hash;\n",
    "-- add PK as hash\n",
    "alter table tbl_pk_hash add primary key (k);"
   ]
  },
  {
   "cell_type": "code",
   "execution_count": null,
   "metadata": {
    "vscode": {
     "languageId": "sql"
    }
   },
   "outputs": [],
   "source": [
    "%%bash -s \"$MY_YB_PATH\" \"$MY_DB_NAME\" #\\d+\n",
    "YB_PATH=${1}\n",
    "DB_NAME=${2}\n",
    "\n",
    "cd $YB_PATH\n",
    "\n",
    "./bin/ysqlsh -d ${DB_NAME} -c \"\\d+ tbl_pk_hash\""
   ]
  },
  {
   "cell_type": "markdown",
   "metadata": {},
   "source": [
    "### q2a | yb_hash_code()\n",
    "YSQL has an built-in function that shows the integer form of a hashed value, `yb_hash_code(val)`. Using some helper functions, you can view where the hashed value lives for the PK value. \n",
    "\n",
    "In the web ui, you can then confirm that the PK has a hash code that lives in the hash_split range of the tablet leader in question.  \n",
    "\n",
    "The following query shows:\n",
    "- k, the primary key value\n",
    "- the yb_hash_code() integer for k\n",
    "- and hash_split range where the yb_hash_code() integer value lives."
   ]
  },
  {
   "cell_type": "code",
   "execution_count": null,
   "metadata": {
    "vscode": {
     "languageId": "sql"
    }
   },
   "outputs": [],
   "source": [
    "%%sql /* query with hash buckets */\n",
    "select '' as _\n",
    "  , k\n",
    " -- , v\n",
    "  , yb_hash_code(k::int) as k_hash_code\n",
    "  , fn_find_hash_code_in_partition_hex_range(yb_hash_code( k::int),'hash_split: [0x0000, 0x5555)'::text) as col_0x0000_0x5555\n",
    "  , fn_find_hash_code_in_partition_hex_range(yb_hash_code( k::int),'hash_split: [0x5555, 0xAAAA)'::text) as col_0x5555_0xAAAA\n",
    "  , fn_find_hash_code_in_partition_hex_range(yb_hash_code( k::int),'hash_split: [0xAAAA, 0xFFFF)'::text) as col_0xAAAA_0xFFFF\n",
    "from tbl_pk_hash\n",
    "where 1=1 \n",
    "-- and k=123\n",
    "order by k asc\n",
    "-- OFFSET 330\n",
    "limit 30\n",
    ";\n"
   ]
  },
  {
   "cell_type": "markdown",
   "metadata": {},
   "source": [
    "### q2 | Obsevations\n",
    "The results show that the 30 returned rows are distributed among all of the hash_split ranges, meaning that each tablet leader is returning results."
   ]
  },
  {
   "cell_type": "markdown",
   "metadata": {},
   "source": [
    "#### q2b | Experiment\n",
    "Question: \n",
    "- What happens when you change the SQL code above and comment out the `ORDER BY` clause and re-run the query?\n",
    "\n",
    "Answer:\n",
    "- The results are in the order of `k_hash_code`, not `k`\n",
    "- YugabyteDB only returns `k_hash_code` ordered results and these 30 row are from the first hash_split range, `0-21845`\n",
    "- Th `k_hash_code` ordering is how the internal LSM-Tree sorted the table inserts. \n",
    "- For the given tablet, the LSM-tree persists to disk as Sorted Sequence Tables (SST files).\n",
    "- The reads come from the SST file for the tablet. For this reason, you can rerun the query over and over again and still see the same \"order\" (`k_hash_code`) of \"unordered\" (`k`) results.\n",
    "\n",
    "\n",
    "Question: \n",
    "- With the  `ORDER BY` clauses commented out, what happens when you uncomment one of the `OFFSET` lines and run the query again? \n",
    "\n",
    "Answer:\n",
    "- YugabyteDB only returns `k_hash_code` ordered results from the beginning of the offset, which should span two hash_split ranges, indicating that the hash sharding is more or less evenly split among the tablets.\n"
   ]
  },
  {
   "cell_type": "markdown",
   "metadata": {},
   "source": [
    "### q2c | View the explain plan and metrics\n",
    "This is the same exact query above. This time, however, you will generate an explain plan and the view the metrics.\n",
    "\n",
    "Just like the section before, you wil rerun the queries to answer the experiment questions."
   ]
  },
  {
   "cell_type": "code",
   "execution_count": null,
   "metadata": {
    "vscode": {
     "languageId": "sql"
    }
   },
   "outputs": [],
   "source": [
    "%%sql /* explain plan */\n",
    "execute stmt_util_metrics_snap_reset;\n",
    "explain (costs off, analyze, verbose) \n",
    "select '' as _\n",
    "  , k\n",
    " -- , v\n",
    "  , yb_hash_code(k::int) as k_hash_code\n",
    "  , fn_find_hash_code_in_partition_hex_range(yb_hash_code( k::int),'hash_split: [0x0000, 0x5555)'::text) as col_0x0000_0x5555\n",
    "  , fn_find_hash_code_in_partition_hex_range(yb_hash_code( k::int),'hash_split: [0x5555, 0xAAAA)'::text) as col_0x5555_0xAAAA\n",
    "  , fn_find_hash_code_in_partition_hex_range(yb_hash_code( k::int),'hash_split: [0xAAAA, 0xFFFF)'::text) as col_0xAAAA_0xFFFF\n",
    "from tbl_pk_hash\n",
    "where 1=1 \n",
    "-- and k=123\n",
    "order by k asc\n",
    "-- order by k desc\n",
    "-- OFFSET 330\n",
    "limit 30\n",
    ";"
   ]
  },
  {
   "cell_type": "markdown",
   "metadata": {},
   "source": [
    "##### q2c | Explain plan (above ^^)\n",
    "For the initial query with the `order by asc` clause, the Explain plan can shows that this is a `Seq Scan` query, and no index is being used:\n",
    "\n",
    "`-> Seq Scan on public.tbl_pk_hash (actual time=2.626..7.200 rows=1000 loops=1)`\n",
    "\n",
    "A `Seq Scan` results in potentially accessing all the rows in the table.  These means all tablet leaders will most likely process the query."
   ]
  },
  {
   "cell_type": "code",
   "execution_count": null,
   "metadata": {
    "vscode": {
     "languageId": "sql"
    }
   },
   "outputs": [],
   "source": [
    "%%sql\n",
    "execute stmt_util_metrics_snap_table;"
   ]
  },
  {
   "cell_type": "markdown",
   "metadata": {},
   "source": [
    "#### q2c | Metrics (above ^^)\n",
    "In the initial query, the metrics shows that the `Seq Scan` query accesses all tablets leaders:\n",
    "\n",
    "| row_name| \trocksdb_number_db_seek | \trocksdb_number_db_next | \n",
    "|--|--|--|\n",
    "| db_ybu tbl_pk_hash link_table_id tablet_id_unq_1\t | 1 | \t689 |\n",
    "| db_ybu tbl_pk_hash link_table_id tablet_id_unq_2\t| 1\t| 641 |\n",
    "| db_ybu tbl_pk_hash link_table_id tablet_id_unq_3\t| 1\t| 667 |"
   ]
  },
  {
   "cell_type": "markdown",
   "metadata": {},
   "source": [
    "#### q2c | Experiment\n",
    "Question: \n",
    "- When you change the SQL code above and comment out the `ORDER BY` clause and re-run the query, what observations can you make about the Explain plan and the Metrics.\n",
    "\n",
    "Answer:\n",
    "- Even though the Explain plan shows that this is a `Seq Scan` query:\n",
    "  - `-> Seq Scan on public.tbl_students (actual time=1.072..5.176 rows=30 loops=1`\n",
    "\n",
    "The table scan is only for the tablet that contains the hash_split range where 30 rows live.\n",
    "| row_name| \trocksdb_number_db_seek | \trocksdb_number_db_next | \n",
    "|--|--|--|\n",
    "| db_ybu tbl_pk_hash link_table_id tablet_id_unq_1\t | 1 | \t62 |\n",
    "\n",
    "- YugabyteDB returns the unordered results and from the first hash_split range, `0-21845`.\n",
    "- The \"unordered\" results are actually returned as they were ordered in the LSM-Tree as Sorted Sequence Tables (SST files). For this reason, you can rerun the query over and over again and still see the same \"order\" of \"unordered\" results. \n",
    "\n",
    "\n",
    "Question: \n",
    "- With the `ORDER BY` clauses commented out, what happens when you uncomment one of the `OFFSET` lines and run the query again? How does the Explain plan compare to the Metrics?\n",
    "\n",
    "\n",
    "Answer:\n",
    "- YugabyteDB returns results from the beginning of the offset, which, if the hash sharding is more or less evenly split, should span two hash_split ranges. Even though the Explain plan shows that this is a `Seq Scan` query:\n",
    "  - `-> Seq Scan on public.tbl_students (actual time=4.039..55.580 rows=360 loops=1)`\n",
    "\n",
    "The table scan is for the tablets that contains the hash_split ranges. This means full table scans for two tablet leaders.\n",
    "\n",
    "| row_name| \trocksdb_number_db_seek | \trocksdb_number_db_next | \n",
    "|--|--|--|\n",
    "| db_ybu tbl_pk_hash link_table_id tablet_id_unq_1\t | 1 | \t689 |\n",
    "| db_ybu tbl_pk_hash link_table_id tablet_id_unq_2\t| 1\t| 641 |\n"
   ]
  },
  {
   "cell_type": "markdown",
   "metadata": {},
   "source": [
    "### To Do Range Sharding\n"
   ]
  },
  {
   "cell_type": "markdown",
   "metadata": {},
   "source": [
    "---\n",
    "## That's it for table sharding, tablets, and data distribution\n",
    "- Number of shard per tablet server\n",
    "- Web ui of tablet server for a table's tablets\n",
    "- NO PK, Range Sharding PK, and Hash Sharding PK\n",
    "- yb_hash_code()\n"
   ]
  }
 ],
 "metadata": {
  "interpreter": {
   "hash": "aee8b7b246df8f9039afb4144a1f6fd8d2ca17a180786b69acc140d282b71a49"
  },
  "kernelspec": {
   "display_name": "Python 3.7.9 64-bit",
   "language": "python",
   "name": "python3"
  },
  "language_info": {
   "codemirror_mode": {
    "name": "ipython",
    "version": 3
   },
   "file_extension": ".py",
   "mimetype": "text/x-python",
   "name": "python",
   "nbconvert_exporter": "python",
   "pygments_lexer": "ipython3",
   "version": "3.7.9"
  },
  "orig_nbformat": 4
 },
 "nbformat": 4,
 "nbformat_minor": 2
}
