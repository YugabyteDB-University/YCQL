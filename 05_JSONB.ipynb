{
 "cells": [
  {
   "attachments": {},
   "cell_type": "markdown",
   "metadata": {},
   "source": [
    "<div style=\"width:100%; background-color: #000041\"><a target=\"_blank\\\" href=\"http://university.yugabyte.com\\\"><img src=\"assets/YBU_Logo.webp\" /></a></div><br>\n",
    "\n",
    "> **YugabyteDB YCQL Development**\n",
    ">\n",
    "> Enroll for free at [Yugabyte University](https://university.yugabyte.com/courses/yugabytedb-ycql-development).\n",
    ">\n",
    "\n",
    "# Query-driven data model: Secondary indexes\n",
    "In this notebook, you will learn how to create secondary indexes to not only improve query performance, but also remove unnecessary tables from the data model."
   ]
  },
  {
   "attachments": {},
   "cell_type": "markdown",
   "metadata": {
    "deletable": false,
    "editable": false
   },
   "source": [
    "### Import the notebook variables \n",
    "\n",
    "> Requirements:\n",
    ">\n",
    "> You must first create the variables in the `01_Setup.ipynb` notebook.\n",
    ">\n",
    "\n",
    "The following Python cell reads the stored variables created in the `01_Setup.ipynb` notebook. \n",
    "\n",
    "- To run the script, select Execute Cell (Play Arrow) in the left gutter of the cell."
   ]
  },
  {
   "cell_type": "code",
   "execution_count": null,
   "metadata": {
    "vscode": {
     "languageId": "shellscript"
    }
   },
   "outputs": [],
   "source": [
    "%store -r MY_DB_NAME\n",
    "%store -r MY_YB_PATH\n",
    "%store -r MY_YB_PATH_DATA\n",
    "%store -r MY_GITPOD_WORKSPACE_URL\n",
    "%store -r MY_HOST_IPv4_01\n",
    "%store -r MY_HOST_IPv4_02\n",
    "%store -r MY_HOST_IPv4_03\n",
    "%store -r MY_NOTEBOOK_DIR\n",
    "%store -r MY_TSERVER_WEBSERVER_PORT\n",
    "%store -r MY_NOTEBOOK_DATA_FOLDER\n",
    "%store -r MY_YB_MASTER_HOST_GITPOD_URL\n",
    "%store -r MY_YB_TSERVER_HOST_GITPOD_URL\n",
    "%store -r MY_DATA_DDL_FILE\n",
    "%store -r MY_DATA_DML_FILE"
   ]
  },
  {
   "cell_type": "markdown",
   "metadata": {},
   "source": [
    "#### JSON\n",
    "\n",
    "JSONB is considered the best way to utilize complex data structures since in YCQL, JSONB is searchable. This is not true of the other collections in YCQL. Also note that collections can be used in JSON as well. Run the following cell and note the pattern necessary to write a JSON object to a table in YCQL."
   ]
  },
  {
   "cell_type": "code",
   "execution_count": null,
   "metadata": {
    "vscode": {
     "languageId": "shellscript"
    }
   },
   "outputs": [],
   "source": [
    "%%bash -s \"$MY_YB_PATH\" \"$MY_DB_NAME\"   # Query plan: Sequential scan  \n",
    "YB_PATH=${1}\n",
    "DB_NAME=${2}  \n",
    "cd $YB_PATH/bin\n",
    "\n",
    "# DB_NAME=ks_ybu\n",
    "./ycqlsh -r -k $DB_NAME -e \"\n",
    "  select category, product_name, product_id, price, \n",
    "    (sku_details->'tags'->>0) as tag1, \n",
    "    (sku_details->'tags'->>1) as tag2,\n",
    "    (sku_details->'tags'->>2) as tag3,\n",
    "    (sku_details->'tags'->>3) as tag4,\n",
    "    (sku_details->'tags'->>4) as tag5,\n",
    "    (sku_details->'tags'->>5) as tag6,\n",
    "    (sku_details->'colors'->>0) as color1, \n",
    "    (sku_details->'colors'->>1) as color2,\n",
    "    (sku_details->'colors'->>2) as color3,\n",
    "    (sku_details->'colors'->>3) as color4,\n",
    "    (sku_details->'colors'->>4) as color5,\n",
    "    (sku_details->'colors'->>5) as color6,\n",
    "    (sku_details->'colors'->>6) as color7\n",
    "  from tbl_products_by_category\n",
    "  where (sku_details->>'kid_friendly')='true' \n",
    "  ;\n",
    "\""
   ]
  },
  {
   "attachments": {},
   "cell_type": "markdown",
   "metadata": {},
   "source": [
    "### update JSONB"
   ]
  },
  {
   "cell_type": "code",
   "execution_count": null,
   "metadata": {
    "vscode": {
     "languageId": "shellscript"
    }
   },
   "outputs": [],
   "source": [
    "%%bash -s \"$MY_YB_PATH\" \"$MY_DB_NAME\"   # Query plan: Sequential scan  \n",
    "YB_PATH=${1}\n",
    "DB_NAME=${2}  \n",
    "cd $YB_PATH/bin\n",
    "\n",
    "# DB_NAME=ks_ybu\n",
    "./ycqlsh -r -k $DB_NAME -e \"\n",
    " update tbl_products_by_category\n",
    "   set sku_details->'kid_friendly' = 'false'\n",
    "   where category ='H20'\n",
    "     and product_name = 'Drip 5'\n",
    "     and product_id = 23484 ;\n",
    "\n",
    "  update tbl_products_by_category\n",
    "   set sku_details->'kid_friendly' = 'false'\n",
    "   where category ='H20'\n",
    "     and product_name = 'Aqua 5'\n",
    "     and product_id = 45693 ;\n",
    " \""
   ]
  },
  {
   "attachments": {},
   "cell_type": "markdown",
   "metadata": {},
   "source": [
    "### query plan"
   ]
  },
  {
   "cell_type": "code",
   "execution_count": 84,
   "metadata": {
    "vscode": {
     "languageId": "shellscript"
    }
   },
   "outputs": [
    {
     "name": "stdout",
     "output_type": "stream",
     "text": [
      "\n",
      " QUERY PLAN\n",
      "-------------------------------------------------------------------------------------------------------------------------------------------\n",
      " Index Only Scan using ks_ybu.idx_products_by_catgegory_jsonb on ks_ybu.tbl_products_by_category                                          \n",
      "   Key Conditions: (sku_details->>'country' = 'US') AND (sku_details->>'kid_friendly' = 'true') AND (sku_details->'colors'->>'0' = 'blue')\n",
      "\n"
     ]
    }
   ],
   "source": [
    "%%bash -s \"$MY_YB_PATH\" \"$MY_DB_NAME\"   # Query plan: Sequential scan  \n",
    "YB_PATH=${1}\n",
    "DB_NAME=${2}  \n",
    "cd $YB_PATH/bin\n",
    "\n",
    "# DB_NAME=ks_ybu\n",
    "./ycqlsh -r -k $DB_NAME -e \"\n",
    "  explain select  category, product_name, product_id, brand, description, price, gtin\n",
    "  from tbl_products_by_category\n",
    "  where (sku_details->>'kid_friendly')='true' \n",
    "    and (sku_details->>'country')='US' \n",
    "    and (sku_details->'colors'->>0)='blue'\n",
    "  ;\n",
    "\""
   ]
  },
  {
   "cell_type": "markdown",
   "metadata": {},
   "source": [
    "#### JSONB Index\n",
    "\n",
    "JSONB is considered the best way to utilize complex data structures since in YCQL, JSONB is searchable."
   ]
  },
  {
   "cell_type": "code",
   "execution_count": 79,
   "metadata": {
    "vscode": {
     "languageId": "shellscript"
    }
   },
   "outputs": [],
   "source": [
    "%%bash -s \"$MY_YB_PATH\" \"$MY_DB_NAME\"   # Query plan: Sequential scan  \n",
    "YB_PATH=${1}\n",
    "DB_NAME=${2}  \n",
    "cd $YB_PATH/bin\n",
    "\n",
    "# DB_NAME=ks_ybu\n",
    "./ycqlsh -r -k $DB_NAME -e \"\n",
    "  drop index if exists idx_products_by_catgegory_jsonb\n",
    "  ;\n",
    "\""
   ]
  },
  {
   "cell_type": "code",
   "execution_count": 82,
   "metadata": {
    "vscode": {
     "languageId": "shellscript"
    }
   },
   "outputs": [],
   "source": [
    "%%bash -s \"$MY_YB_PATH\" \"$MY_DB_NAME\"   # Query plan: Sequential scan  \n",
    "YB_PATH=${1}\n",
    "DB_NAME=${2}  \n",
    "cd $YB_PATH/bin\n",
    "\n",
    "# DB_NAME=ks_ybu\n",
    "./ycqlsh -r -k $DB_NAME -e \"\n",
    "  create index if not exists idx_products_by_catgegory_jsonb\n",
    "  on tbl_products_by_category ( (\n",
    "     sku_details->>'country', \n",
    "     sku_details->>'kid_friendly',\n",
    "     sku_details->'colors'->>0\n",
    "    ) )\n",
    "  include (\n",
    "    brand,\n",
    "    price,\n",
    "    description,\n",
    "    gtin\n",
    "    )\n",
    "  ;\n",
    "\""
   ]
  },
  {
   "attachments": {},
   "cell_type": "markdown",
   "metadata": {},
   "source": [
    "Query plan"
   ]
  },
  {
   "cell_type": "code",
   "execution_count": 83,
   "metadata": {
    "vscode": {
     "languageId": "shellscript"
    }
   },
   "outputs": [
    {
     "name": "stdout",
     "output_type": "stream",
     "text": [
      "\n",
      " QUERY PLAN\n",
      "-------------------------------------------------------------------------------------------------------------------------------------------\n",
      " Index Only Scan using ks_ybu.idx_products_by_catgegory_jsonb on ks_ybu.tbl_products_by_category                                          \n",
      "   Key Conditions: (sku_details->>'country' = 'US') AND (sku_details->>'kid_friendly' = 'true') AND (sku_details->'colors'->>'0' = 'blue')\n",
      "\n"
     ]
    }
   ],
   "source": [
    "%%bash -s \"$MY_YB_PATH\" \"$MY_DB_NAME\"   # Query plan: Sequential scan  \n",
    "YB_PATH=${1}\n",
    "DB_NAME=${2}  \n",
    "cd $YB_PATH/bin\n",
    "\n",
    "# DB_NAME=ks_ybu\n",
    "./ycqlsh -r -k $DB_NAME -e \"\n",
    "  explain select  category, product_name, product_id, brand, description, price, gtin\n",
    "  from tbl_products_by_category\n",
    "  where (sku_details->>'kid_friendly')='true' \n",
    "    and (sku_details->>'country')='US' \n",
    "    and (sku_details->'colors'->>0)='blue'\n",
    "  ;\n",
    "\""
   ]
  },
  {
   "cell_type": "markdown",
   "metadata": {},
   "source": [
    "In the preceding cell, note the syntax that is required to create an index using a JSON key. Also note the syntax used to search by the key in a JSON object."
   ]
  },
  {
   "cell_type": "markdown",
   "metadata": {},
   "source": [
    "If the row is still visible, wait a few more seconds to run the preceding cell. This will verify that the row has expired as expected."
   ]
  },
  {
   "cell_type": "markdown",
   "metadata": {
    "deletable": false,
    "editable": false
   },
   "source": [
    "---\n",
    "# All done!\n",
    "In this lab, you completed the following:\n",
    "\n",
    "- Setup\n",
    "  - Created the `ks_ybu` database with `ycqlsh`\n",
    "  - Created tables and loaded data using DDL and DML scripts"
   ]
  }
 ],
 "metadata": {
  "kernelspec": {
   "display_name": "Python 3",
   "language": "python",
   "name": "python3"
  },
  "language_info": {
   "codemirror_mode": {
    "name": "ipython",
    "version": 3
   },
   "file_extension": ".py",
   "mimetype": "text/x-python",
   "name": "python",
   "nbconvert_exporter": "python",
   "pygments_lexer": "ipython3",
   "version": "3.8.9"
  },
  "orig_nbformat": 4,
  "vscode": {
   "interpreter": {
    "hash": "31f2aee4e71d21fbe5cf8b01ff0e069b9275f58929596ceb00d14d90e3e16cd6"
   }
  }
 },
 "nbformat": 4,
 "nbformat_minor": 2
}
