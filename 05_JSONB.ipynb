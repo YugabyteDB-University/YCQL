{
 "cells": [
  {
   "attachments": {},
   "cell_type": "markdown",
   "metadata": {},
   "source": [
    "<div style=\"width:100%; background-color: #000041\"><a target=\"_blank\\\" href=\"http://university.yugabyte.com\\\"><img src=\"assets/YBU_Logo.webp\" /></a></div><br>\n",
    "\n",
    "> **YugabyteDB YCQL Development**\n",
    ">\n",
    "> Enroll for free at [Yugabyte University](https://university.yugabyte.com/courses/yugabytedb-ycql-development).\n",
    ">\n",
    "\n",
    "# Query-driven data model: Secondary indexes\n",
    "In this notebook, you will learn how to create secondary indexes to not only improve query performance, but also remove unnecessary tables from the data model."
   ]
  },
  {
   "attachments": {},
   "cell_type": "markdown",
   "metadata": {
    "deletable": false,
    "editable": false
   },
   "source": [
    "### Import the notebook variables \n",
    "\n",
    "> Requirements:\n",
    ">\n",
    "> You must first create the variables in the `01_Setup.ipynb` notebook.\n",
    ">\n",
    "\n",
    "The following Python cell reads the stored variables created in the `01_Setup.ipynb` notebook. \n",
    "\n",
    "- To run the script, select Execute Cell (Play Arrow) in the left gutter of the cell."
   ]
  },
  {
   "cell_type": "code",
   "execution_count": null,
   "metadata": {
    "vscode": {
     "languageId": "shellscript"
    }
   },
   "outputs": [],
   "source": [
    "%store -r MY_DB_NAME\n",
    "%store -r MY_YB_PATH\n",
    "%store -r MY_YB_PATH_DATA\n",
    "%store -r MY_GITPOD_WORKSPACE_URL\n",
    "%store -r MY_HOST_IPv4_01\n",
    "%store -r MY_HOST_IPv4_02\n",
    "%store -r MY_HOST_IPv4_03\n",
    "%store -r MY_NOTEBOOK_DIR\n",
    "%store -r MY_TSERVER_WEBSERVER_PORT\n",
    "%store -r MY_NOTEBOOK_DATA_FOLDER\n",
    "%store -r MY_YB_MASTER_HOST_GITPOD_URL\n",
    "%store -r MY_YB_TSERVER_HOST_GITPOD_URL\n",
    "%store -r MY_DATA_DDL_FILE\n",
    "%store -r MY_DATA_DML_FILE"
   ]
  },
  {
   "cell_type": "markdown",
   "metadata": {},
   "source": [
    "#### JSON\n",
    "\n",
    "JSONB is considered the best way to utilize complex data structures since in YCQL, JSONB is searchable. This is not true of the other collections in YCQL. Also note that collections can be used in JSON as well. Run the following cell and note the pattern necessary to write a JSON object to a table in YCQL."
   ]
  },
  {
   "cell_type": "code",
   "execution_count": null,
   "metadata": {
    "vscode": {
     "languageId": "shellscript"
    }
   },
   "outputs": [],
   "source": [
    "%%bash -s \"$MY_YB_PATH\"  \n",
    "YB_PATH=${1}\n",
    "cd $YB_PATH\n",
    "\n",
    "# Query Plan\n",
    "./bin/ycqlsh --execute \"\n",
    "  INSERT INTO ks_ybu.tbl_products_by_category (\n",
    "    category, \n",
    "    price, \n",
    "    product_id, \n",
    "    sku_details\n",
    "  ) VALUES (\n",
    "    'Grocery',\n",
    "    9.99,\n",
    "    6eb8d774-8b03-4457-a8e9-710339ca7165,\n",
    "    '{\n",
    "      \\\"product_id\\\": \\\"6eb8d774-8b03-4457-a8e9-710339ca7165\\\",\n",
    "      \\\"warehouse_sku\\\": \\\"8jk39d03-8b03-4457-a8e9-710339ca7165\\\"\n",
    "    }'\n",
    "  );\n",
    "\"\n",
    "\n",
    "./bin/ycqlsh --execute \"\n",
    "  SELECT * FROM ks_ybu.tbl_products_by_category;\n",
    "\""
   ]
  },
  {
   "cell_type": "markdown",
   "metadata": {},
   "source": [
    "In the preceding cell, note the syntax necessary to insert a JSON object into the table. Outside the curly brackets are single quotes, where inside the brackets there are double quotes."
   ]
  },
  {
   "cell_type": "markdown",
   "metadata": {},
   "source": [
    "#### JSONB Index\n",
    "\n",
    "JSONB is considered the best way to utilize complex data structures since in YCQL, JSONB is searchable."
   ]
  },
  {
   "cell_type": "code",
   "execution_count": null,
   "metadata": {
    "vscode": {
     "languageId": "shellscript"
    }
   },
   "outputs": [],
   "source": [
    "%%bash -s \"$MY_YB_PATH\"  \n",
    "YB_PATH=${1}\n",
    "cd $YB_PATH\n",
    "\n",
    "# Query Plan\n",
    "./bin/ycqlsh --execute \"\n",
    "  CREATE INDEX idx_sku_details_name \n",
    "  ON ks_ybu.tbl_products_by_category((sku_details->>'Name'));\n",
    "\"\n",
    "\n",
    "./bin/ycqlsh --execute \"\n",
    "  DESC  ks_ybu.tbl_products_by_category\n",
    "\"\n",
    "\n",
    "./bin/ycqlsh --execute \"\n",
    "  EXPLAIN SELECT category, price, product_id FROM ks_ybu.tbl_products_by_category \n",
    "  WHERE (sku_details->>'Name')=?;\n",
    "\""
   ]
  },
  {
   "cell_type": "markdown",
   "metadata": {},
   "source": [
    "In the preceding cell, note the syntax that is required to create an index using a JSON key. Also note the syntax used to search by the key in a JSON object."
   ]
  },
  {
   "cell_type": "markdown",
   "metadata": {},
   "source": [
    "If the row is still visible, wait a few more seconds to run the preceding cell. This will verify that the row has expired as expected."
   ]
  },
  {
   "cell_type": "markdown",
   "metadata": {
    "deletable": false,
    "editable": false
   },
   "source": [
    "---\n",
    "# All done!\n",
    "In this lab, you completed the following:\n",
    "\n",
    "- Setup\n",
    "  - Created the `ks_ybu` database with `ycqlsh`\n",
    "  - Created tables and loaded data using DDL and DML scripts"
   ]
  }
 ],
 "metadata": {
  "kernelspec": {
   "display_name": "Python 3",
   "language": "python",
   "name": "python3"
  },
  "language_info": {
   "codemirror_mode": {
    "name": "ipython",
    "version": 3
   },
   "file_extension": ".py",
   "mimetype": "text/x-python",
   "name": "python",
   "nbconvert_exporter": "python",
   "pygments_lexer": "ipython3",
   "version": "3.8.9 (default, Oct 26 2021, 07:25:54) \n[Clang 13.0.0 (clang-1300.0.29.30)]"
  },
  "orig_nbformat": 4,
  "vscode": {
   "interpreter": {
    "hash": "31f2aee4e71d21fbe5cf8b01ff0e069b9275f58929596ceb00d14d90e3e16cd6"
   }
  }
 },
 "nbformat": 4,
 "nbformat_minor": 2
}
