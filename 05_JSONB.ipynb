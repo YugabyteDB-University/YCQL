{
 "cells": [
  {
   "attachments": {},
   "cell_type": "markdown",
   "metadata": {},
   "source": [
    "<div style=\"width:100%; background-color: #000041\"><a target=\"_blank\\\" href=\"http://university.yugabyte.com\\\"><img src=\"assets/YBU_Logo.webp\" /></a></div><br>\n",
    "\n",
    "> **YugabyteDB YCQL Development**\n",
    ">\n",
    "> Enroll for free at [Yugabyte University](https://university.yugabyte.com/courses/yugabytedb-ycql-development).\n",
    ">\n",
    "\n",
    "# Query-driven data model: Secondary indexes\n",
    "In this notebook, you will learn how to create secondary indexes to not only improve query performance, but also remove unnecessary tables from the data model."
   ]
  },
  {
   "attachments": {},
   "cell_type": "markdown",
   "metadata": {
    "deletable": false,
    "editable": false
   },
   "source": [
    "### Import the notebook variables \n",
    "\n",
    "> Requirements:\n",
    ">\n",
    "> You must first create the variables in the `01_Setup.ipynb` notebook.\n",
    ">\n",
    "\n",
    "The following Python cell reads the stored variables created in the `01_Setup.ipynb` notebook. \n",
    "\n",
    "- To run the script, select Execute Cell (Play Arrow) in the left gutter of the cell."
   ]
  },
  {
   "cell_type": "code",
   "execution_count": null,
   "metadata": {
    "vscode": {
     "languageId": "shellscript"
    }
   },
   "outputs": [],
   "source": [
    "%store -r MY_DB_NAME\n",
    "%store -r MY_YB_PATH\n",
    "%store -r MY_YB_PATH_DATA\n",
    "%store -r MY_GITPOD_WORKSPACE_URL\n",
    "%store -r MY_HOST_IPv4_01\n",
    "%store -r MY_HOST_IPv4_02\n",
    "%store -r MY_HOST_IPv4_03\n",
    "%store -r MY_NOTEBOOK_DIR\n",
    "%store -r MY_TSERVER_WEBSERVER_PORT\n",
    "%store -r MY_NOTEBOOK_DATA_FOLDER\n",
    "%store -r MY_YB_MASTER_HOST_GITPOD_URL\n",
    "%store -r MY_YB_TSERVER_HOST_GITPOD_URL\n",
    "%store -r MY_DATA_DDL_FILE\n",
    "%store -r MY_DATA_DML_FILE"
   ]
  },
  {
   "attachments": {},
   "cell_type": "markdown",
   "metadata": {},
   "source": [
    "#### Operators\n",
    "\n",
    "JSONB is considered the best way to utilize complex data structures since in YCQL, JSONB is searchable. This is not true of the other collections in YCQL. Also note that collections can be used in JSON as well. Run the following cell and note the pattern necessary to write a JSON object to a table in YCQL."
   ]
  },
  {
   "cell_type": "code",
   "execution_count": null,
   "metadata": {
    "vscode": {
     "languageId": "shellscript"
    }
   },
   "outputs": [],
   "source": [
    "%%bash -s \"$MY_YB_PATH\" \"$MY_DB_NAME\"   # Query plan: Sequential scan  \n",
    "YB_PATH=${1}\n",
    "DB_NAME=${2}  \n",
    "cd $YB_PATH/bin\n",
    "\n",
    "# DB_NAME=ks_ybu\n",
    "./ycqlsh -r -k $DB_NAME -e \"\n",
    "  select category, product_name, product_id, price, \n",
    "    (sku_details->'tags'->>0) as tag1, \n",
    "    (sku_details->'tags'->>1) as tag2,\n",
    "    (sku_details->'tags'->>2) as tag3,\n",
    "    (sku_details->'tags'->>3) as tag4,\n",
    "    (sku_details->'tags'->>4) as tag5,\n",
    "    (sku_details->'tags'->>5) as tag6,\n",
    "    (sku_details->'colors'->>0) as color1, \n",
    "    (sku_details->'colors'->>1) as color2,\n",
    "    (sku_details->'colors'->>2) as color3,\n",
    "    (sku_details->'colors'->>3) as color4,\n",
    "    (sku_details->'colors'->>4) as color5,\n",
    "    (sku_details->'colors'->>5) as color6,\n",
    "    (sku_details->'colors'->>6) as color7\n",
    "  from tbl_products_by_category\n",
    "  where (sku_details->>'kid_friendly')='true' \n",
    "  ;\n",
    "\""
   ]
  },
  {
   "attachments": {},
   "cell_type": "markdown",
   "metadata": {},
   "source": [
    "### insert JSONB\n",
    "benefits\n",
    "\n",
    "```\n",
    "\n",
    "```"
   ]
  },
  {
   "cell_type": "code",
   "execution_count": null,
   "metadata": {
    "vscode": {
     "languageId": "shellscript"
    }
   },
   "outputs": [],
   "source": [
    "%%bash -s \"$MY_YB_PATH\" \"$MY_DB_NAME\"   # Query plan: Sequential scan  \n",
    "YB_PATH=${1}\n",
    "DB_NAME=${2}  \n",
    "cd $YB_PATH/bin\n",
    "\n",
    "# DB_NAME=ks_ybu\n",
    "./ycqlsh -r -k $DB_NAME -e \"\n",
    "  insert into tbl_products_by_category (category, product_name, product_id, brand, price, discount, description, gtin, sku_details) values ('H20','Talc 10',62373,'Yeah',19.99,7,'2 liter ','006237337326','{\\\"sku\\\":\\\"YH_62373\\\",\\\"country\\\":\\\"UK\\\",\\\"tags\\\":[\\\"water\\\",\\\"bottle\\\",\\\"everyday\\\",\\\"workout\\\"],\\\"colors\\\":[\\\"blue\\\",\\\"green\\\",\\\"orange\\\",\\\"red\\\"],\\\"dimensions\\\":{\\\"dm_unit\\\":\\\"in\\\",\\\"dm_length\\\":\\\"19\\\",\\\"dm_width\\\":\\\"19\\\",\\\"dm_height\\\":\\\"19\\\"}, \\\"kid_friendly\\\":true}');\n",
    " \""
   ]
  },
  {
   "cell_type": "code",
   "execution_count": null,
   "metadata": {
    "vscode": {
     "languageId": "shellscript"
    }
   },
   "outputs": [],
   "source": [
    "%%bash -s \"$MY_YB_PATH\" \"$MY_DB_NAME\"   # Query plan: Sequential scan  \n",
    "YB_PATH=${1}\n",
    "DB_NAME=${2}  \n",
    "cd $YB_PATH/bin\n",
    "\n",
    "# DB_NAME=ks_ybu\n",
    "./ycqlsh -r -k $DB_NAME -e \"\n",
    "  select category, product_name, product_id, brand, sku_details\n",
    "  from tbl_products_by_category\n",
    "   where (sku_details->>'sku')='YH_62373' \n",
    "  ;\n",
    "\""
   ]
  },
  {
   "attachments": {},
   "cell_type": "markdown",
   "metadata": {},
   "source": [
    "> **Question**\n",
    ">\n",
    "> What is the order of the keys in the `sku_details` column?\n",
    ">\n",
    "> **Answer**\n",
    ">\n",
    "> The keys are lexicographically ordered."
   ]
  },
  {
   "attachments": {},
   "cell_type": "markdown",
   "metadata": {},
   "source": [
    "### add a key-value pair to JSONB"
   ]
  },
  {
   "cell_type": "code",
   "execution_count": null,
   "metadata": {
    "vscode": {
     "languageId": "shellscript"
    }
   },
   "outputs": [],
   "source": [
    "%%bash -s \"$MY_YB_PATH\" \"$MY_DB_NAME\"   # Query plan: Sequential scan  \n",
    "YB_PATH=${1}\n",
    "DB_NAME=${2}  \n",
    "cd $YB_PATH/bin\n",
    "\n",
    "# DB_NAME=ks_ybu\n",
    "./ycqlsh -r -k $DB_NAME -e \"\n",
    " update tbl_products_by_category\n",
    "   set sku_details->'rating' = '3'\n",
    "   where category = 'H20'\n",
    "     and product_name = 'Talc 10'\n",
    "     and product_id = 62373 \n",
    "    ;\n",
    " \""
   ]
  },
  {
   "attachments": {},
   "cell_type": "markdown",
   "metadata": {},
   "source": [
    "Confirm the new key-value pair."
   ]
  },
  {
   "cell_type": "code",
   "execution_count": null,
   "metadata": {
    "vscode": {
     "languageId": "shellscript"
    }
   },
   "outputs": [],
   "source": [
    "%%bash -s \"$MY_YB_PATH\" \"$MY_DB_NAME\"   # Query plan: Sequential scan  \n",
    "YB_PATH=${1}\n",
    "DB_NAME=${2}  \n",
    "cd $YB_PATH/bin\n",
    "\n",
    "# DB_NAME=ks_ybu\n",
    "./ycqlsh -r -k $DB_NAME -e \"\n",
    "  select category, product_name, product_id, brand, sku_details\n",
    "  from tbl_products_by_category\n",
    "   where (sku_details->>'sku')='YH_62373' \n",
    "  ;\n",
    "\""
   ]
  },
  {
   "attachments": {},
   "cell_type": "markdown",
   "metadata": {},
   "source": [
    "### update value of key-value pair"
   ]
  },
  {
   "cell_type": "code",
   "execution_count": null,
   "metadata": {
    "vscode": {
     "languageId": "shellscript"
    }
   },
   "outputs": [],
   "source": [
    "%%bash -s \"$MY_YB_PATH\" \"$MY_DB_NAME\"   # Query plan: Sequential scan  \n",
    "YB_PATH=${1}\n",
    "DB_NAME=${2}  \n",
    "cd $YB_PATH/bin\n",
    "\n",
    "# DB_NAME=ks_ybu\n",
    "./ycqlsh -r -k $DB_NAME -e \"\n",
    " update tbl_products_by_category\n",
    "   set sku_details->'rating' = '5'\n",
    "   where category = 'H20'\n",
    "     and product_name = 'Talc 10'\n",
    "     and product_id = 62373 \n",
    "    ;\n",
    " \""
   ]
  },
  {
   "attachments": {},
   "cell_type": "markdown",
   "metadata": {},
   "source": [
    "Confirm the update."
   ]
  },
  {
   "cell_type": "code",
   "execution_count": null,
   "metadata": {
    "vscode": {
     "languageId": "shellscript"
    }
   },
   "outputs": [],
   "source": [
    "%%bash -s \"$MY_YB_PATH\" \"$MY_DB_NAME\"   # Query plan: Sequential scan  \n",
    "YB_PATH=${1}\n",
    "DB_NAME=${2}  \n",
    "cd $YB_PATH/bin\n",
    "\n",
    "# DB_NAME=ks_ybu\n",
    "./ycqlsh -r -k $DB_NAME -e \"\n",
    "  select category, product_name, product_id, brand, sku_details\n",
    "  from tbl_products_by_category\n",
    "   where (sku_details->>'sku')='YH_62373' \n",
    "  ;\n",
    "\""
   ]
  },
  {
   "attachments": {},
   "cell_type": "markdown",
   "metadata": {},
   "source": [
    "### update JSONB"
   ]
  },
  {
   "cell_type": "code",
   "execution_count": null,
   "metadata": {
    "vscode": {
     "languageId": "shellscript"
    }
   },
   "outputs": [],
   "source": [
    "%%bash -s \"$MY_YB_PATH\" \"$MY_DB_NAME\"   # Query plan: Sequential scan  \n",
    "YB_PATH=${1}\n",
    "DB_NAME=${2}  \n",
    "cd $YB_PATH/bin\n",
    "\n",
    "# DB_NAME=ks_ybu\n",
    "./ycqlsh -r -k $DB_NAME -e \"\n",
    "\n",
    "  update tbl_products_by_category\n",
    "   set sku_details = '{\\\"sku\\\":\\\"YH_62373\\\",\\\"country\\\":\\\"UK\\\",\\\"tags\\\":[\\\"water\\\",\\\"bottle\\\",\\\"everyday\\\",\\\"workout\\\"],\\\"colors\\\":[\\\"purple\\\",\\\"green\\\",\\\"orange\\\",\\\"red\\\"],\\\"dimensions\\\":{\\\"dm_unit\\\":\\\"in\\\",\\\"dm_length\\\":\\\"18\\\",\\\"dm_width\\\":\\\"18\\\",\\\"dm_height\\\":\\\"18\\\"}, \\\"kid_friendly\\\":false}'\n",
    "   where category = 'H20'\n",
    "     and product_name = 'Talc 10'\n",
    "     and product_id = 62373  \n",
    "  ;\n",
    " \""
   ]
  },
  {
   "attachments": {},
   "cell_type": "markdown",
   "metadata": {},
   "source": [
    "Confirm the update. "
   ]
  },
  {
   "cell_type": "code",
   "execution_count": null,
   "metadata": {
    "vscode": {
     "languageId": "shellscript"
    }
   },
   "outputs": [],
   "source": [
    "%%bash -s \"$MY_YB_PATH\" \"$MY_DB_NAME\"   # Query plan: Sequential scan  \n",
    "YB_PATH=${1}\n",
    "DB_NAME=${2}  \n",
    "cd $YB_PATH/bin\n",
    "\n",
    "# DB_NAME=ks_ybu\n",
    "./ycqlsh -r -k $DB_NAME -e \"\n",
    "  select category, product_name, product_id, brand, sku_details\n",
    "  from tbl_products_by_category\n",
    "   where (sku_details->>'sku')='YH_62373' \n",
    "  ;\n",
    "\""
   ]
  },
  {
   "attachments": {},
   "cell_type": "markdown",
   "metadata": {},
   "source": [
    "### query plan"
   ]
  },
  {
   "cell_type": "code",
   "execution_count": null,
   "metadata": {
    "vscode": {
     "languageId": "shellscript"
    }
   },
   "outputs": [],
   "source": [
    "%%bash -s \"$MY_YB_PATH\" \"$MY_DB_NAME\"   # Query plan: Sequential scan  \n",
    "YB_PATH=${1}\n",
    "DB_NAME=${2}  \n",
    "cd $YB_PATH/bin\n",
    "\n",
    "# DB_NAME=ks_ybu\n",
    "./ycqlsh -r -k $DB_NAME -e \"\n",
    "  explain select category, product_name, product_id, brand, description, price, gtin, sku_details->> 'sku' as sku\n",
    "  from tbl_products_by_category\n",
    "  where\n",
    "    sku_details->>'sku' = 'YH_62373' \n",
    "  ;\n",
    "\""
   ]
  },
  {
   "attachments": {},
   "cell_type": "markdown",
   "metadata": {},
   "source": [
    "#### JSONB Index\n",
    "\n",
    "TODO: \n",
    "\n",
    "- key-value can  partition key and clustering keys, but will function as index key and to use index, must include full key in predicate.\n",
    "- cannot be an index key in whole\n",
    "- cannot be part of include\n",
    "- cannot be part of where expression"
   ]
  },
  {
   "cell_type": "code",
   "execution_count": null,
   "metadata": {
    "vscode": {
     "languageId": "shellscript"
    }
   },
   "outputs": [],
   "source": [
    "%%bash -s \"$MY_YB_PATH\" \"$MY_DB_NAME\"   # Query plan: Sequential scan  \n",
    "YB_PATH=${1}\n",
    "DB_NAME=${2}  \n",
    "cd $YB_PATH/bin\n",
    "\n",
    "# DB_NAME=ks_ybu\n",
    "./ycqlsh -r -k $DB_NAME -e \"\n",
    "  drop index if exists idx_products_by_catgegory_jsonb\n",
    "  ;\n",
    "\""
   ]
  },
  {
   "cell_type": "code",
   "execution_count": null,
   "metadata": {
    "vscode": {
     "languageId": "shellscript"
    }
   },
   "outputs": [],
   "source": [
    "%%bash -s \"$MY_YB_PATH\" \"$MY_DB_NAME\"   # Query plan: Sequential scan  \n",
    "YB_PATH=${1}\n",
    "DB_NAME=${2}  \n",
    "cd $YB_PATH/bin\n",
    "\n",
    "# DB_NAME=ks_ybu\n",
    "./ycqlsh -r -k $DB_NAME -e \"\n",
    "  create index if not exists idx_products_by_catgegory_jsonb\n",
    "  on tbl_products_by_category ( (\n",
    "     sku_details->>'sku'\n",
    "      ) )\n",
    "  include (\n",
    "    brand,\n",
    "    price,\n",
    "    description,\n",
    "    gtin\n",
    "    )\n",
    "  ;\n",
    "\""
   ]
  },
  {
   "attachments": {},
   "cell_type": "markdown",
   "metadata": {},
   "source": [
    "Query plan"
   ]
  },
  {
   "cell_type": "code",
   "execution_count": null,
   "metadata": {
    "vscode": {
     "languageId": "shellscript"
    }
   },
   "outputs": [],
   "source": [
    "%%bash -s \"$MY_YB_PATH\" \"$MY_DB_NAME\"   # Query plan: Sequential scan  \n",
    "YB_PATH=${1}\n",
    "DB_NAME=${2}  \n",
    "cd $YB_PATH/bin\n",
    "\n",
    "# DB_NAME=ks_ybu\n",
    "./ycqlsh -r -k $DB_NAME -e \"\n",
    "  explain select category, product_name, product_id, brand, description, price, gtin, sku_details->> 'sku' as sku\n",
    "  from tbl_products_by_category\n",
    "  where (sku_details->>'sku')='YH_62373' \n",
    "  ;\n",
    "\""
   ]
  },
  {
   "attachments": {},
   "cell_type": "markdown",
   "metadata": {},
   "source": [
    "#### Select a YB-TServer host\n",
    "Set the host variable for one of the nodes. All three nodes in the cluster are running a Tablet Server (YB-TServer). You can comment/uncomment lines 7-9 as needed."
   ]
  },
  {
   "cell_type": "code",
   "execution_count": null,
   "metadata": {
    "vscode": {
     "languageId": "shellscript"
    }
   },
   "outputs": [],
   "source": [
    "%%bash -s \"$MY_HOST_IPv4_01\" \"$MY_HOST_IPv4_02\" \"$MY_HOST_IPv4_03\" --out MY_HOST_IPv4\n",
    "HOST_IPv4_01=$( echo \"${1}\" | tr -d \" \")\n",
    "HOST_IPv4_02=$( echo \"${2}\" | tr -d \" \")\n",
    "HOST_IPv4_03=$( echo \"${3}\" | tr -d \" \")\n",
    "\n",
    "# change the hosts for different tablet leaders\n",
    "MY_HOST_IPv4=$HOST_IPv4_01\n",
    "#MY_HOST_IPv4=$HOST_IPv4_02\n",
    "#MY_HOST_IPv4=$HOST_IPv4_03\n",
    "\n",
    "echo ${MY_HOST_IPv4}"
   ]
  },
  {
   "attachments": {},
   "cell_type": "markdown",
   "metadata": {},
   "source": [
    "Store the select host variable."
   ]
  },
  {
   "cell_type": "code",
   "execution_count": null,
   "metadata": {},
   "outputs": [],
   "source": [
    "%store MY_HOST_IPv4\n",
    "print(MY_HOST_IPv4)"
   ]
  },
  {
   "attachments": {},
   "cell_type": "markdown",
   "metadata": {},
   "source": [
    "Save the index name as a variable."
   ]
  },
  {
   "cell_type": "code",
   "execution_count": null,
   "metadata": {},
   "outputs": [],
   "source": [
    "MY_OBJECT_NAME=\"idx_products_by_catgegory_jsonb\"\n",
    "%store MY_OBJECT_NAME\n",
    "print(MY_OBJECT_NAME)"
   ]
  },
  {
   "attachments": {},
   "cell_type": "markdown",
   "metadata": {},
   "source": [
    "Grep the index_id for the index using `curl` and `jq`."
   ]
  },
  {
   "cell_type": "code",
   "execution_count": null,
   "metadata": {
    "vscode": {
     "languageId": "shellscript"
    }
   },
   "outputs": [],
   "source": [
    "%%bash -s \"$MY_OBJECT_NAME\" \"$MY_HOST_IPv4\"  \"$MY_DB_NAME\"  \"$MY_TSERVER_WEBSERVER_PORT\"  --out MY_INDEX_ID\n",
    "OBJECT_NAME=$( echo \"${1}\" | tr -d \" \")\n",
    "HOST_IPv4=$( echo \"${2}\" | tr -d \" \")\n",
    "DB_NAME=$( echo \"${3}\" | tr -d \" \")\n",
    "TSERVER_WEBSERVER_PORT=$( echo \"${4}\" | tr -d \" \")\n",
    "\n",
    "\n",
    "MY_URL=\"http://${HOST_IPv4}:${TSERVER_WEBSERVER_PORT}/metrics\"\n",
    "\n",
    "MY_INDEX_ID=`curl -s --compressed ${MY_URL} | jq -r 'limit(1;  .[] | select(.attributes.namespace_name==\"'${DB_NAME}'\" and .type==\"tablet\" and .attributes.table_name==\"'${OBJECT_NAME}'\") |  .attributes.table_id) '`\n",
    "\n",
    "echo ${MY_INDEX_ID}"
   ]
  },
  {
   "attachments": {},
   "cell_type": "markdown",
   "metadata": {},
   "source": [
    "Store the index_id for the index."
   ]
  },
  {
   "cell_type": "code",
   "execution_count": null,
   "metadata": {},
   "outputs": [],
   "source": [
    "%store MY_INDEX_ID\n",
    "print(MY_INDEX_ID)"
   ]
  },
  {
   "attachments": {},
   "cell_type": "markdown",
   "metadata": {},
   "source": [
    "Get the tablet_id for the tablet leader for the select node host."
   ]
  },
  {
   "cell_type": "code",
   "execution_count": null,
   "metadata": {
    "vscode": {
     "languageId": "shellscript"
    }
   },
   "outputs": [],
   "source": [
    "%%bash -s \"$MY_OBJECT_NAME\" \"$MY_HOST_IPv4\" --out MY_INDEX_TABLET_ID\n",
    "OBJECT_NAME=$( echo \"${1}\" | tr -d \" \")\n",
    "HOST_IPv4=$( echo \"${2}\" | tr -d \" \")\n",
    "\n",
    "MY_URL=\"http://${HOST_IPv4}:8200/metrics\"\n",
    "\n",
    "MY_INDEX_TABLET_ID=`curl -s --compressed ${MY_URL} | jq --raw-output ' .[] | select(.attributes.namespace_name==\"ks_ybu\" and .type==\"tablet\" and .attributes.table_name==\"'$OBJECT_NAME'\") | {tablet_id: .id, metrics: .metrics[] | select(.name == (\"is_raft_leader\") ) | select(.value == 1) } | select(.tablet_id) | {tablet_id} | .tablet_id '`\n",
    "\n",
    "echo ${MY_INDEX_TABLET_ID}"
   ]
  },
  {
   "attachments": {},
   "cell_type": "markdown",
   "metadata": {},
   "source": [
    "Store the tablet_id for the tablet leader."
   ]
  },
  {
   "cell_type": "code",
   "execution_count": null,
   "metadata": {},
   "outputs": [],
   "source": [
    "%store MY_INDEX_TABLET_ID\n",
    "print(MY_INDEX_TABLET_ID)"
   ]
  },
  {
   "attachments": {},
   "cell_type": "markdown",
   "metadata": {},
   "source": [
    "Flush the WAL file to a SST file for the given index_id."
   ]
  },
  {
   "cell_type": "code",
   "execution_count": null,
   "metadata": {
    "vscode": {
     "languageId": "shellscript"
    }
   },
   "outputs": [],
   "source": [
    "%%bash -s \"$MY_YB_PATH\" \"$MY_HOST_IPv4\" \"$MY_INDEX_ID\"  # Import file path of Yugabyte and DB name\n",
    "YB_PATH=$( echo \"${1}\" | tr -d \" \")\n",
    "HOST_IPv4=$( echo \"${2}\" | tr -d \" \")\n",
    "INDEX_ID=$( echo \"${3}\" | tr -d \" \")\n",
    "cd $YB_PATH/bin\n",
    "\n",
    "./yb-admin -init_master_addrs ${HOST_IPv4}:7100 flush_table_by_id ${INDEX_ID} 600"
   ]
  },
  {
   "attachments": {},
   "cell_type": "markdown",
   "metadata": {},
   "source": [
    "Dump and decode the SST file in human-readable form.\n",
    "\n",
    "> Note:\n",
    ">\n",
    "> If the following does **NOT** dump the SST file, it is most likely that there are not any rows written to this tablet. To resolve this issue, you need to select a different Tablet Server host. Return back to **Select a YB-TServer host** and select a different node host."
   ]
  },
  {
   "cell_type": "code",
   "execution_count": null,
   "metadata": {
    "vscode": {
     "languageId": "shellscript"
    }
   },
   "outputs": [],
   "source": [
    "%%bash -s \"$MY_YB_PATH\" \"$MY_YB_PATH_DATA\" \"$MY_INDEX_ID\" \"$MY_INDEX_TABLET_ID\" # Import file path of Yugabyte and DB name\n",
    "YB_PATH=$( echo \"${1}\" | tr -d \" \")\n",
    "YB_PATH_DATA=$( echo \"${2}\" | tr -d \" \")\n",
    "INDEX_ID=$( echo \"${3}\" | tr -d \" \")\n",
    "INDEX_TABLET_ID=$( echo \"${4}\" | tr -d \" \")\n",
    "\n",
    "cd $YB_PATH/bin/\n",
    "\n",
    "INDEX_ID_PATH=${YB_PATH_DATA}/node-1/disk-1/yb-data/tserver/data/rocksdb/table-${INDEX_ID}/tablet-${INDEX_TABLET_ID}\n",
    "\n",
    "# ls -l  ${TABLE_ID_PATH}\n",
    "\n",
    "./sst_dump --command=scan --file=${INDEX_ID_PATH} --output_format=decoded_regulardb "
   ]
  },
  {
   "cell_type": "markdown",
   "metadata": {},
   "source": [
    "In the preceding cell, note the syntax that is required to create an index using a JSON key. Also note the syntax used to search by the key in a JSON object."
   ]
  },
  {
   "cell_type": "markdown",
   "metadata": {},
   "source": [
    "If the row is still visible, wait a few more seconds to run the preceding cell. This will verify that the row has expired as expected."
   ]
  },
  {
   "cell_type": "markdown",
   "metadata": {
    "deletable": false,
    "editable": false
   },
   "source": [
    "---\n",
    "# All done!\n",
    "In this lab, you completed the following:\n",
    "\n",
    "- Setup\n",
    "  - Created the `ks_ybu` database with `ycqlsh`\n",
    "  - Created tables and loaded data using DDL and DML scripts"
   ]
  }
 ],
 "metadata": {
  "kernelspec": {
   "display_name": "Python 3",
   "language": "python",
   "name": "python3"
  },
  "language_info": {
   "codemirror_mode": {
    "name": "ipython",
    "version": 3
   },
   "file_extension": ".py",
   "mimetype": "text/x-python",
   "name": "python",
   "nbconvert_exporter": "python",
   "pygments_lexer": "ipython3",
   "version": "3.8.9"
  },
  "orig_nbformat": 4,
  "vscode": {
   "interpreter": {
    "hash": "31f2aee4e71d21fbe5cf8b01ff0e069b9275f58929596ceb00d14d90e3e16cd6"
   }
  }
 },
 "nbformat": 4,
 "nbformat_minor": 2
}
