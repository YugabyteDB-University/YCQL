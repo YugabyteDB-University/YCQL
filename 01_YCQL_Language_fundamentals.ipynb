{
 "cells": [
  {
   "cell_type": "markdown",
   "metadata": {},
   "source": [
    "<div style=\"width:100%; background-color: #000041\"><a target=\"_blank\\\" href=\"http://university.yugabyte.com\\\"><img src=\"assets/YBU_Logo.webp\" /></a></div>"
   ]
  },
  {
   "cell_type": "markdown",
   "metadata": {
    "deletable": false,
    "editable": false
   },
   "source": [
    "# Lab Requirements and Setup\n",
    "\n",
    "This lab consists of several Jupyter notebooks. The notebooks run in Gitpod. [Gitpod](https://www.gitpod.io/) facilitates runtime environments where a YugabyteDB database cluster can be deployed. Read the following instructions for requirements and setup of the Gitpod environment.\n",
    "\n",
    "## About Jupyter notebooks\n",
    "You will use a Jupyter notebook in this lab to run commands to assign environmental variables and Cassandra Query Language commands for the Yugabyte Cloud Query Language known as YCQL. \n",
    "\n",
    "There are two types of cells: markdown and code. This is a markdown cell.\n",
    "\n",
    "You run a code cell by simply selecting the play icon in the cell's left gutter. For code cells, you can modify the code for execution. Certain labs contain challenges or experiments that require you to do just that - modify a code cell and re-run it!\n",
    "\n",
    "### Requirements\n",
    "Here are the requirements for this lab:\n",
    "- Launch using a gitpod workspace\n",
    "- Run a three node, YugabyteDB cluster using `yb-ctl`\n",
    "\n",
    "> Note\n",
    ">  \n",
    "> Although a three node cluster is up and running, Gitpod does not support visiting loopback addresses over a web ui, even if exposed on a different port.\n",
    "> 127.0.0.1 is the only web user interfaces. To see all available ports in Gitpod, in the terminal, run `gp ports list`."
   ]
  },
  {
   "cell_type": "markdown",
   "metadata": {
    "deletable": false,
    "editable": false
   },
   "source": [
    "#### Notebook keyboard shortcuts\n",
    "The Jupyter extension for Gitpod supports the following keyboard shortcuts:\n",
    "| Keystroke | Description |\n",
    "|--|--|\n",
    "| ESC | Change the cell mode |\n",
    "| A | Add a cell above |\n",
    "| B | Add a cell below |\n",
    "| J or down arrow key |  Change a cell to below | \n",
    "| K or up arrow key | Change a cell to above | \n",
    "| Ctrl+Enter | Run the currently selected cell |\n",
    "| Shift+Enter | Run the currently selected cell and insert a new cell immediately below (focus moves to new cell) |\n",
    "| Alt+Enter | Run the currently selected cell and insert a new cell immediately below (focus remains on current cell) |\n",
    "| dd | Delete a selected cell |\n",
    "| z | Undo the last change | \n",
    "| M | switch the cell type to Markdown | \n",
    "| Y | switch the cell type to code |\n",
    "| L | Enable/Disable line numbers |\n",
    "```\n"
   ]
  },
  {
   "cell_type": "markdown",
   "metadata": {
    "deletable": false,
    "editable": false
   },
   "source": [
    "## Setup steps\n",
    "Here are the steps to setup this lab:\n",
    "- Install missing dependencies and restart the notebook\n",
    "- Create the notebook variables\n",
    "- Create the `ks_ybu` database"
   ]
  },
  {
   "cell_type": "markdown",
   "metadata": {},
   "source": [
    "### Install missing dependencies and restart the notebook\n",
    "Run the following cell to ensure that the notebook dependencies are available to the notebook. "
   ]
  },
  {
   "cell_type": "markdown",
   "metadata": {
    "deletable": false,
    "editable": false
   },
   "source": [
    "### Create the notebook variables \n",
    "\n",
    "> IMPORTANT!\n",
    "> \n",
    "> Do NOT skip running this cell. \n",
    "> \n",
    "\n",
    "The following Python cell creates and stores variables that all the notebooks in this lab will use. You can view these variables in the Jupyter tab.\n",
    "\n",
    "- To run the script, select Execute Cell (Play Arrow) in the left gutter of the cell.\n",
    "- Verify the accuracy of the output values"
   ]
  },
  {
   "cell_type": "code",
   "execution_count": null,
   "metadata": {},
   "outputs": [],
   "source": [
    "# Env variables for Notebook\n",
    "import os\n",
    "\n",
    "# read env_vars.env\n",
    "env_vars = !cat env_vars.env\n",
    "for var in env_vars:\n",
    "    key, value = var.split('=')\n",
    "    os.environ[key] = value\n",
    " \n",
    "\n",
    "# Comment out Local \n",
    "#MY_YB_PATH=os.environ.get('MY_YB_PATH_LOCAL')\n",
    "#MY_YB_PATH_DATA=os.environ.get('MY_YB_PATH_DATA_LOCAL')\n",
    "#MY_GITPOD_WORKSPACE_URL=os.environ.get('MY_GITPOD_WORKSPACE_URL_LOCAL')\n",
    "\n",
    "\n",
    "# Gitpod specific\n",
    "MY_YB_PATH=os.environ.get('MY_YB_PATH')\n",
    "MY_YB_PATH_DATA=os.environ.get('MY_YB_PATH_DATA')\n",
    "MY_GITPOD_WORKSPACE_URL=os.environ.get('GITPOD_WORKSPACE_URL')\n",
    "\n",
    "\n",
    "# env_vars defines the following\n",
    "MY_DB_NAME=os.environ.get('MY_DB_NAME')\n",
    "MY_HOST_IPv4_01=os.environ.get('MY_HOST_IPv4_01')\n",
    "MY_HOST_IPv4_02=os.environ.get('MY_HOST_IPv4_02')\n",
    "MY_HOST_IPv4_03=os.environ.get('MY_HOST_IPv4_03')\n",
    "MY_TSERVER_WEBSERVER_PORT=os.environ.get('MY_TSERVER_WEBSERVER_PORT')\n",
    "\n",
    "# Gitpod URLS\n",
    "MY_YB_MASTER_HOST_GITPOD_URL = MY_GITPOD_WORKSPACE_URL.replace('https://','https://7000-')\n",
    "MY_YB_TSERVER_HOST_GITPOD_URL = MY_GITPOD_WORKSPACE_URL.replace('https://','https://'+MY_TSERVER_WEBSERVER_PORT+'-')\n",
    "\n",
    "# Current directory of project and related child folders\n",
    "MY_NOTEBOOK_DIR=os.getcwd()\n",
    "MY_NOTEBOOK_DATA_FOLDER=MY_NOTEBOOK_DIR +'/data'\n",
    "\n",
    "# Data files\n",
    "MY_DATA_DDL_FILE=os.environ.get(\"MY_DATA_DDL_FILE\")\n",
    "MY_DATA_DML_FILE=os.environ.get(\"MY_DATA_DML_FILE\")\n",
    "\n",
    "# Store the note book values for other notebooks to use\n",
    "\n",
    "%store MY_DB_NAME\n",
    "%store MY_YB_PATH\n",
    "%store MY_YB_PATH_DATA\n",
    "%store MY_GITPOD_WORKSPACE_URL\n",
    "%store MY_HOST_IPv4_01\n",
    "%store MY_HOST_IPv4_02\n",
    "%store MY_HOST_IPv4_03\n",
    "%store MY_NOTEBOOK_DIR\n",
    "%store MY_TSERVER_WEBSERVER_PORT\n",
    "%store MY_NOTEBOOK_DATA_FOLDER\n",
    "%store MY_YB_MASTER_HOST_GITPOD_URL\n",
    "%store MY_YB_TSERVER_HOST_GITPOD_URL\n",
    "\n",
    "%store MY_DATA_DDL_FILE\n",
    "%store MY_DATA_DML_FILE\n",
    "\n"
   ]
  },
  {
   "attachments": {},
   "cell_type": "markdown",
   "metadata": {},
   "source": [
    "# YCQL Shell Commands\n",
    "The following commands are YCQL shell commands. Using `ucqlsh`, you can execute YCQL statements for zero or more keyspaces. \n",
    "\n",
    "By default, YugabyteDB and the YCQL API have a consistency level of QUORUM. "
   ]
  },
  {
   "cell_type": "code",
   "execution_count": null,
   "metadata": {
    "vscode": {
     "languageId": "shellscript"
    }
   },
   "outputs": [],
   "source": [
    "%%bash -s \"$MY_YB_PATH\"   # Shell Commands\n",
    "YB_PATH=${1}\n",
    "cd $YB_PATH\n",
    "\n",
    "./bin/ycqlsh --execute \"CONSISTENCY\""
   ]
  },
  {
   "attachments": {},
   "cell_type": "markdown",
   "metadata": {},
   "source": [
    "YCQL is compatible with CQL 3.4.2."
   ]
  },
  {
   "cell_type": "code",
   "execution_count": null,
   "metadata": {
    "vscode": {
     "languageId": "shellscript"
    }
   },
   "outputs": [],
   "source": [
    "%%bash -s \"$MY_YB_PATH\"   # Shell Commands\n",
    "YB_PATH=${1}\n",
    "cd $YB_PATH\n",
    "\n",
    "./bin/ycqlsh --execute \"show version\"  "
   ]
  },
  {
   "cell_type": "code",
   "execution_count": null,
   "metadata": {
    "vscode": {
     "languageId": "shellscript"
    }
   },
   "outputs": [],
   "source": [
    "%%bash -s \"$MY_YB_PATH\"   # Shell Commands\n",
    "YB_PATH=${1}\n",
    "cd $YB_PATH\n",
    "\n",
    "./bin/ycqlsh --execute \"select cql_version from system.local;\"  "
   ]
  },
  {
   "attachments": {},
   "cell_type": "markdown",
   "metadata": {},
   "source": [
    "`show host` details the host connection."
   ]
  },
  {
   "cell_type": "code",
   "execution_count": null,
   "metadata": {
    "vscode": {
     "languageId": "shellscript"
    }
   },
   "outputs": [],
   "source": [
    "%%bash -s \"$MY_YB_PATH\"   # Shell Commands\n",
    "YB_PATH=${1}\n",
    "cd $YB_PATH\n",
    "\n",
    "./bin/ycqlsh --execute \"show host\"  "
   ]
  },
  {
   "attachments": {},
   "cell_type": "markdown",
   "metadata": {},
   "source": [
    "`decribe kespaces`  returns the names of all keyspaces."
   ]
  },
  {
   "cell_type": "code",
   "execution_count": null,
   "metadata": {
    "vscode": {
     "languageId": "shellscript"
    }
   },
   "outputs": [],
   "source": [
    "%%bash -s \"$MY_YB_PATH\"   # Shell Commands\n",
    "YB_PATH=${1}\n",
    "cd $YB_PATH\n",
    "\n",
    "#./bin/ycqlsh --execute \"describe keyspaces\"  \n",
    "./bin/ycqlsh --execute \"help describe\"  \n"
   ]
  },
  {
   "attachments": {},
   "cell_type": "markdown",
   "metadata": {},
   "source": [
    "`describe tables` returns the names of all tables in the current keyspace, or in all keyspacces."
   ]
  },
  {
   "cell_type": "code",
   "execution_count": null,
   "metadata": {
    "vscode": {
     "languageId": "shellscript"
    }
   },
   "outputs": [],
   "source": [
    "%%bash -s \"$MY_YB_PATH\"   # Shell Commands\n",
    "YB_PATH=${1}\n",
    "cd $YB_PATH\n",
    "\n",
    "./bin/ycqlsh --execute \"desc tables\""
   ]
  },
  {
   "attachments": {},
   "cell_type": "markdown",
   "metadata": {},
   "source": [
    "The following queries the roles table. `cassandra` is a default role. "
   ]
  },
  {
   "cell_type": "code",
   "execution_count": null,
   "metadata": {
    "vscode": {
     "languageId": "shellscript"
    }
   },
   "outputs": [],
   "source": [
    "%%bash -s \"$MY_YB_PATH\"   # Shell Commands\n",
    "YB_PATH=${1}\n",
    "cd $YB_PATH\n",
    "\n",
    "./bin/ycqlsh --execute \"select * from system_auth.roles;\"  "
   ]
  },
  {
   "attachments": {},
   "cell_type": "markdown",
   "metadata": {},
   "source": [
    "# DDL commands for YCQL"
   ]
  },
  {
   "attachments": {},
   "cell_type": "markdown",
   "metadata": {
    "deletable": false,
    "editable": false
   },
   "source": [
    "## Create the `ks_ybu` keyspace\n",
    "Run the following cells to connect to the YugabyteDB cluster using `ycqlsh`. Then, complete the following tasks:\n",
    "- Create the `ks_ybu` keyspace \n",
    "- Create the `tbl_employees` table\n",
    "- Describe the  `tbl_employees` table"
   ]
  },
  {
   "cell_type": "code",
   "execution_count": null,
   "metadata": {
    "vscode": {
     "languageId": "shellscript"
    }
   },
   "outputs": [],
   "source": [
    "%%bash -s \"$MY_YB_PATH\"   # Create the keyspace, ks_ybu, and table, employees\n",
    "YB_PATH=${1}\n",
    "cd $YB_PATH\n",
    "\n",
    "\n",
    "./bin/ycqlsh --execute \"\n",
    "  create keyspace if not exists ks_ybu;\n",
    "  \""
   ]
  },
  {
   "attachments": {},
   "cell_type": "markdown",
   "metadata": {},
   "source": [
    "Confirm the keysapce creation."
   ]
  },
  {
   "cell_type": "code",
   "execution_count": null,
   "metadata": {
    "vscode": {
     "languageId": "shellscript"
    }
   },
   "outputs": [],
   "source": [
    "%%bash -s \"$MY_YB_PATH\"   # Create the keyspace, ks_ybu, and table, employees\n",
    "YB_PATH=${1}\n",
    "cd $YB_PATH\n",
    "\n",
    "\n",
    "./bin/ycqlsh --execute \"describe keyspace ks_ybu;\n",
    "  \""
   ]
  },
  {
   "attachments": {},
   "cell_type": "markdown",
   "metadata": {},
   "source": [
    "## Create the `tbl_employees` table"
   ]
  },
  {
   "attachments": {},
   "cell_type": "markdown",
   "metadata": {},
   "source": [
    "If the table already exists, the command will drop the table."
   ]
  },
  {
   "cell_type": "code",
   "execution_count": null,
   "metadata": {
    "vscode": {
     "languageId": "shellscript"
    }
   },
   "outputs": [],
   "source": [
    "%%bash -s \"$MY_YB_PATH\"   # Create the keyspace, ks_ybu, and table, employees\n",
    "YB_PATH=${1}\n",
    "cd $YB_PATH\n",
    "\n",
    "\n",
    "./bin/ycqlsh --execute \"\n",
    "  drop table if exists ks_ybu.tbl_employees;\n",
    "  \""
   ]
  },
  {
   "attachments": {},
   "cell_type": "markdown",
   "metadata": {},
   "source": [
    "Create the table, `tbl_employees`. \n",
    "\n",
    "> Note: A primary key is required for all user tables in a keysapce."
   ]
  },
  {
   "cell_type": "code",
   "execution_count": null,
   "metadata": {
    "vscode": {
     "languageId": "shellscript"
    }
   },
   "outputs": [],
   "source": [
    "%%bash -s \"$MY_YB_PATH\"   # Create the keyspace, ks_ybu, and table, employees\n",
    "YB_PATH=${1}\n",
    "cd $YB_PATH\n",
    "\n",
    "./bin/ycqlsh --execute \"\n",
    "  create table ks_ybu.tbl_employees ( \n",
    "    id int, \n",
    "    full_name text, \n",
    "    email text,\n",
    "    year int static,\n",
    "    primary key (id, full_name) \n",
    "    );\n",
    "  \""
   ]
  },
  {
   "attachments": {},
   "cell_type": "markdown",
   "metadata": {},
   "source": [
    "Describe `tbl_employees`. \n",
    "\n",
    "> Question:\n",
    ">   \n",
    "> What is different about the table description and the create table statement?"
   ]
  },
  {
   "cell_type": "code",
   "execution_count": null,
   "metadata": {
    "vscode": {
     "languageId": "shellscript"
    }
   },
   "outputs": [],
   "source": [
    "%%bash -s \"$MY_YB_PATH\"   # Create the keyspace, ks_ybu, and table, employees\n",
    "YB_PATH=${1}\n",
    "cd $YB_PATH\n",
    "\n",
    "\n",
    "./bin/ycqlsh --execute \"desc ks_ybu.tbl_employees \"\n"
   ]
  },
  {
   "attachments": {},
   "cell_type": "markdown",
   "metadata": {},
   "source": [
    "> Answer:\n",
    ">   \n",
    "> The description of the table reveals that the primary key consists of two key columns. The first key column is `id`. The second key column is `full_name`. `id` is the partition key for the table. The clustering key column is `full_name`. Ascending is the order of the clustering key column."
   ]
  },
  {
   "attachments": {},
   "cell_type": "markdown",
   "metadata": {},
   "source": [
    "#### Write to the table employees with `insert`\n",
    "\n",
    "Insert rows into the `tbl_employees` table."
   ]
  },
  {
   "cell_type": "code",
   "execution_count": null,
   "metadata": {
    "vscode": {
     "languageId": "shellscript"
    }
   },
   "outputs": [],
   "source": [
    "%%bash -s \"$MY_YB_PATH\"   # Populate the employees table\n",
    "YB_PATH=${1}\n",
    "cd $YB_PATH\n",
    "\n",
    "./bin/ycqlsh --execute \"\n",
    "  insert into ks_ybu.tbl_employees \n",
    "    (id, full_name, email, year) \n",
    "    values \n",
    "    (1, 'Bruce Wayne', 'batman@yb.com', 2020);\n",
    " \"\n",
    "\n",
    " ./bin/ycqlsh --execute \"\n",
    "  insert into ks_ybu.tbl_employees \n",
    "    (id, full_name, email, year) \n",
    "    values \n",
    "    (1, 'Dick Grayson', 'robin@yb.com', 2020);\n",
    " \"\n",
    "\n",
    "./bin/ycqlsh --execute \"\n",
    "  insert into ks_ybu.tbl_employees \n",
    "     (id, full_name, email, year) \n",
    "    values \n",
    "    (2, 'Clark Kent', 'superman@yb.com', 2021);\n",
    "\"\n",
    "\n",
    "./bin/ycqlsh --execute \"\n",
    "  insert into ks_ybu.tbl_employees \n",
    "     (id, full_name, email, year) \n",
    "    values \n",
    "    (3, 'Peter Parker', 'spiderman@yb.com', 2022);\n",
    "\""
   ]
  },
  {
   "cell_type": "code",
   "execution_count": null,
   "metadata": {
    "vscode": {
     "languageId": "shellscript"
    }
   },
   "outputs": [],
   "source": [
    "%%bash -s \"$MY_YB_PATH\"   # Populate the employees table\n",
    "YB_PATH=${1}\n",
    "cd $YB_PATH\n",
    "\n",
    "./bin/ycqlsh --execute \"select * from ks_ybu.tbl_employees\"\n"
   ]
  },
  {
   "attachments": {},
   "cell_type": "markdown",
   "metadata": {},
   "source": [
    "---"
   ]
  },
  {
   "attachments": {},
   "cell_type": "markdown",
   "metadata": {},
   "source": [
    "# Distributed Document Storage for YugabyteDB\n",
    "\n",
    "Since you just created a table in YCQL, it's a good time to dig into the distributed storage of the YCQL table, known as DocDB.\n",
    "\n",
    "\n",
    "The partition key for the table determines how the consistent hash sharding algorithm of YugabyteDB distributes rows into tablets. The replication factor for the cluster determines the number of followers per tablet leader. Your YugabyteDB cluster is running with a replication factor of 3. The cluster also is running with a global flag that automatically configures the number of tablets per node per table at 1. This means that the table, `tbl_employees`, automatically has 3 tablet leaders (one for each cluster node) and 6 tablet followers (2 for each leader). Each tablet is a customized instance of RocksDB.\n",
    "\n",
    "A tablet leader persists data to disk in two forms: as a Write Ahead Log (WAL) file and then as a Sorted Sequence Table (SST) file. The WAL file for a tablet leader replicates to the tablet followers in its tablet-peer, raft consensus group. At a configurable size, the WAL file flushes to disk and persists as a SST file. As a SST file grows, it will undergo compaction using a universal compaction strategy. By default, tablet data grows to about 100 GB in size before a tablet splits.\n",
    "\n",
    "The SST file stores row data in a particular schema for RocksDB. This schema for YugabyteDB is known as DocDB. It consists of a DocKey and document values.  A DocKey is made up of a partition key hash, a partition key value, and any cluster key values. Document values are sub-keys of the DocKey. A SubDocKey contains a column id, a hybrid-logical clock time, a write order, and the actual value. Here is an example:\n",
    "\n",
    "```\n",
    "SubDocKey(DocKey(0xc0c4, [2], [\"Clark Kent\"]), [SystemColumnId(0); HT{ physical: 1671751515613266 }]) -> null\n",
    "SubDocKey(DocKey(0xc0c4, [2], [\"Clark Kent\"]), [ColumnId(2); HT{ physical: 1671751515613266 w: 1 }]) -> \"superman@yb.com\"\n",
    "SubDocKey(DocKey(0xc0c4, [2], []), [ColumnId(3); HT{ physical: 1671751515613266 w: 2 }]) -> 2021\n",
    "```\n",
    "\n",
    "In this exercise, you will decode a SST file for a tablet leader for `tbl_employees`."
   ]
  },
  {
   "attachments": {},
   "cell_type": "markdown",
   "metadata": {},
   "source": [
    "### Select a YB-TServer host\n",
    "Set the host variable for one of the nodes. All three nodes in the cluster are running a Tablet Server (YB-TServer). You can comment/uncomment lines 8-10 as needed.\n"
   ]
  },
  {
   "cell_type": "code",
   "execution_count": null,
   "metadata": {
    "vscode": {
     "languageId": "shellscript"
    }
   },
   "outputs": [],
   "source": [
    "%%bash -s \"$MY_HOST_IPv4_01\" \"$MY_HOST_IPv4_02\" \"$MY_HOST_IPv4_03\" --out MY_HOST_IPv4\n",
    "\n",
    "HOST_IPv4_01=${1}\n",
    "HOST_IPv4_02=${2}\n",
    "HOST_IPv4_03=${3}\n",
    "\n",
    "# change the hosts for different tablet leaders\n",
    "MY_HOST_IPv4=$HOST_IPv4_01\n",
    "#MY_HOST_IPv4=$HOST_IPv4_02\n",
    "#MY_HOST_IPv4=$HOST_IPv4_03\n",
    "\n",
    "echo ${MY_HOST_IPv4}"
   ]
  },
  {
   "attachments": {},
   "cell_type": "markdown",
   "metadata": {},
   "source": [
    "Store the select host variable."
   ]
  },
  {
   "cell_type": "code",
   "execution_count": null,
   "metadata": {},
   "outputs": [],
   "source": [
    "%store MY_HOST_IPv4\n",
    "print(MY_HOST_IPv4)\n"
   ]
  },
  {
   "attachments": {},
   "cell_type": "markdown",
   "metadata": {},
   "source": [
    "Get the table_id for the table."
   ]
  },
  {
   "cell_type": "code",
   "execution_count": null,
   "metadata": {},
   "outputs": [],
   "source": [
    "MY_OBJECT_NAME=\"tbl_employees\"\n",
    "%store MY_OBJECT_NAME\n",
    "print(MY_OBJECT_NAME)"
   ]
  },
  {
   "cell_type": "code",
   "execution_count": null,
   "metadata": {
    "vscode": {
     "languageId": "shellscript"
    }
   },
   "outputs": [],
   "source": [
    "%%bash -s \"$MY_OBJECT_NAME\" \"$MY_HOST_IPv4\" --out MY_TABLE_ID\n",
    "\n",
    "OBJECT_NAME=$( echo \"${1}\" | tr -d \" \")\n",
    "HOST_IPv4=$( echo \"${2}\" | tr -d \" \")\n",
    "\n",
    "\n",
    "MY_URL=\"http://${HOST_IPv4}:${MY_TSERVER_WEBSERVER_PORT}/metrics\"\n",
    "\n",
    "MY_TABLE_ID=`curl -s --compressed ${MY_URL} | jq -r 'limit(1;  .[] | select(.attributes.namespace_name==\"ks_ybu\" and .type==\"tablet\" and .attributes.table_name==\"'$OBJECT_NAME'\") |  .attributes.table_id) '`\n",
    "\n",
    "echo ${MY_TABLE_ID} \n"
   ]
  },
  {
   "attachments": {},
   "cell_type": "markdown",
   "metadata": {},
   "source": [
    "Store the table_id for the table."
   ]
  },
  {
   "cell_type": "code",
   "execution_count": null,
   "metadata": {},
   "outputs": [],
   "source": [
    "%store MY_TABLE_ID\n",
    "print(MY_TABLE_ID)"
   ]
  },
  {
   "attachments": {},
   "cell_type": "markdown",
   "metadata": {},
   "source": [
    "Get the tablet_id for the tablet leader for the select node host."
   ]
  },
  {
   "cell_type": "code",
   "execution_count": null,
   "metadata": {
    "vscode": {
     "languageId": "shellscript"
    }
   },
   "outputs": [],
   "source": [
    "%%bash -s \"$MY_OBJECT_NAME\" \"$MY_HOST_IPv4\" --out MY_TABLET_ID\n",
    "OBJECT_NAME=$( echo \"${1}\" | tr -d \" \")\n",
    "HOST_IPv4=$( echo \"${2}\" | tr -d \" \")\n",
    "\n",
    "MY_URL=\"http://${HOST_IPv4}:8200/metrics\"\n",
    "\n",
    "\n",
    "TABLET_ID=`curl -s --compressed ${MY_URL} | jq --raw-output ' .[] | select(.attributes.namespace_name==\"ks_ybu\" and .type==\"tablet\" and .attributes.table_name==\"'$OBJECT_NAME'\") | {tablet_id: .id, metrics: .metrics[] | select(.name == (\"is_raft_leader\") ) | select(.value == 1) } | select(.tablet_id) | {tablet_id} | .tablet_id '`\n",
    "\n",
    "echo ${TABLET_ID}"
   ]
  },
  {
   "attachments": {},
   "cell_type": "markdown",
   "metadata": {},
   "source": [
    "Store the tablet_id for the tablet leader."
   ]
  },
  {
   "cell_type": "code",
   "execution_count": null,
   "metadata": {},
   "outputs": [],
   "source": [
    "%store MY_TABLET_ID\n",
    "print(MY_TABLET_ID)"
   ]
  },
  {
   "attachments": {},
   "cell_type": "markdown",
   "metadata": {},
   "source": [
    "Flush the WAL file to a SST file for the given table_id."
   ]
  },
  {
   "cell_type": "code",
   "execution_count": null,
   "metadata": {
    "vscode": {
     "languageId": "shellscript"
    }
   },
   "outputs": [],
   "source": [
    "%%bash -s \"$MY_YB_PATH\" \"$MY_HOST_IPv4_01\" \"$MY_TABLE_ID\"  # Import file path of Yugabyte and DB name\n",
    "YB_PATH=${1}\n",
    "HOST_IPv4=${2}\n",
    "\n",
    "TABLE_ID=$( echo \"${3}\" | tr -d \" \")\n",
    "\n",
    "cd $YB_PATH\n",
    "\n",
    "./bin/yb-admin -init_master_addrs ${HOST_IPv4}:7100 flush_table_by_id ${TABLE_ID} 600\n"
   ]
  },
  {
   "attachments": {},
   "cell_type": "markdown",
   "metadata": {},
   "source": [
    "Dump and decode the SST file in human-readable form.\n",
    "\n",
    "> Note:\n",
    ">\n",
    "> If the following does dump the SST file, it is most likely that there are not any rows written to this tablet. To resolve this issue, you need to select a different Tablet Server host. Return back to [Select a YB-TServer host] and select a different node host."
   ]
  },
  {
   "cell_type": "code",
   "execution_count": null,
   "metadata": {
    "vscode": {
     "languageId": "shellscript"
    }
   },
   "outputs": [],
   "source": [
    "%%bash -s \"$MY_YB_PATH\" \"$MY_YB_PATH_DATA\" \"$MY_HOST_IPv4_01\" \"$MY_TABLE_ID\" \"$MY_TABLET_ID\" # Import file path of Yugabyte and DB name\n",
    "YB_PATH=${1}\n",
    "YB_PATH_DATA=${2}\n",
    "HOST_IPv4=${3}\n",
    "TABLE_ID=$( echo \"${4}\" | tr -d \" \")\n",
    "TABLET_ID=$( echo \"${5}\" | tr -d \" \")\n",
    "\n",
    "cd $YB_PATH/bin/\n",
    "pwd\n",
    "TABLE_ID_PATH=${YB_PATH_DATA}/node-1/disk-1/yb-data/tserver/data/rocksdb/table-${TABLE_ID}/tablet-${TABLET_ID}\n",
    "\n",
    " ls -l  ${TABLE_ID_PATH}\n",
    "\n",
    "./sst_dump --command=scan --file=${TABLE_ID_PATH} --output_format=decoded_regulardb\n"
   ]
  },
  {
   "attachments": {},
   "cell_type": "markdown",
   "metadata": {},
   "source": [
    "---"
   ]
  },
  {
   "attachments": {},
   "cell_type": "markdown",
   "metadata": {},
   "source": [
    "### `select` statement\n",
    "Run the following cells to observe the differences between:\n",
    "- query all rows of the table \n",
    "- query the table with a where-expression predicate that contains the primary key and a equality operator\n",
    "- query the table with a where-expression predicate that for a range for a regular column"
   ]
  },
  {
   "attachments": {},
   "cell_type": "markdown",
   "metadata": {},
   "source": [
    "Query all the rows from `tbl_employees` using a`select statement` and a wildcard."
   ]
  },
  {
   "cell_type": "code",
   "execution_count": null,
   "metadata": {
    "vscode": {
     "languageId": "shellscript"
    }
   },
   "outputs": [],
   "source": [
    "%%bash -s \"$MY_YB_PATH\"   # Data search\n",
    "YB_PATH=${1}\n",
    "cd $YB_PATH\n",
    "\n",
    "# Read all columns from the employees table\n",
    "./bin/ycqlsh --execute \"\n",
    "    select * from ks_ybu.tbl_employees;\n",
    "    \""
   ]
  },
  {
   "attachments": {},
   "cell_type": "markdown",
   "metadata": {},
   "source": [
    "Query the table using a where-expression predicate that contains the primary key and a equality operators."
   ]
  },
  {
   "cell_type": "code",
   "execution_count": null,
   "metadata": {
    "vscode": {
     "languageId": "shellscript"
    }
   },
   "outputs": [],
   "source": [
    "%%bash -s \"$MY_YB_PATH\"   \n",
    "YB_PATH=${1}\n",
    "cd $YB_PATH\n",
    "\n",
    "# Find an employee id = 3\n",
    "./bin/ycqlsh --execute \"\n",
    "  select *\n",
    "  from ks_ybu.tbl_employees\n",
    "  where id = 1 and full_name='Dick Grayson';\n",
    "\""
   ]
  },
  {
   "attachments": {},
   "cell_type": "markdown",
   "metadata": {},
   "source": [
    "Query the table using where-expression predicate that specifies a range for a regular column."
   ]
  },
  {
   "cell_type": "code",
   "execution_count": null,
   "metadata": {
    "vscode": {
     "languageId": "shellscript"
    }
   },
   "outputs": [],
   "source": [
    "%%bash -s \"$MY_YB_PATH\"   \n",
    "YB_PATH=${1}\n",
    "cd $YB_PATH\n",
    "\n",
    "./bin/ycqlsh --execute \"\n",
    "  select * from ks_ybu.tbl_employees \n",
    "  where  year > 2020 and year < 2022;\n",
    "\""
   ]
  },
  {
   "attachments": {},
   "cell_type": "markdown",
   "metadata": {},
   "source": [
    "### `update` statement and upsert behavior\n",
    "The following update statement exhibits upsert behavior when there is no row to update based on the where clause predicate."
   ]
  },
  {
   "cell_type": "code",
   "execution_count": null,
   "metadata": {
    "vscode": {
     "languageId": "shellscript"
    }
   },
   "outputs": [],
   "source": [
    "%%bash -s \"$MY_YB_PATH\"   \n",
    "YB_PATH=${1}\n",
    "cd $YB_PATH\n",
    "\n",
    "# Search a range of values\n",
    "./bin/ycqlsh --execute \"\n",
    " update ks_ybu.tbl_employees\n",
    " set email='captainamerica@yb.com'\n",
    "   , year = 2022\n",
    " where id = 4 \n",
    "   and full_name = 'Steven Rogers'\n",
    "  \""
   ]
  },
  {
   "attachments": {},
   "cell_type": "markdown",
   "metadata": {},
   "source": [
    "Confirm the new row."
   ]
  },
  {
   "cell_type": "code",
   "execution_count": null,
   "metadata": {
    "vscode": {
     "languageId": "shellscript"
    }
   },
   "outputs": [],
   "source": [
    "%%bash -s \"$MY_YB_PATH\"   \n",
    "YB_PATH=${1}\n",
    "cd $YB_PATH\n",
    "\n",
    "# Search a range of values\n",
    "./bin/ycqlsh --execute \"\n",
    " select * from ks_ybu.tbl_employees where id = 4;\n",
    "  \""
   ]
  },
  {
   "cell_type": "markdown",
   "metadata": {},
   "source": [
    "## todo DELTE Behavior\n"
   ]
  },
  {
   "cell_type": "markdown",
   "metadata": {},
   "source": [
    "single-row deleteion"
   ]
  },
  {
   "cell_type": "code",
   "execution_count": null,
   "metadata": {
    "vscode": {
     "languageId": "shellscript"
    }
   },
   "outputs": [],
   "source": [
    "%%bash -s \"$MY_YB_PATH\"   \n",
    "YB_PATH=${1}\n",
    "cd $YB_PATH\n",
    "\n",
    "# Search a range of values\n",
    "./bin/ycqlsh --execute \"\n",
    "  delete from ks_ybu.tbl_employees where id = 6;\n",
    "\""
   ]
  },
  {
   "cell_type": "code",
   "execution_count": null,
   "metadata": {
    "vscode": {
     "languageId": "shellscript"
    }
   },
   "outputs": [],
   "source": [
    "%%bash -s \"$MY_YB_PATH\"   \n",
    "YB_PATH=${1}\n",
    "cd $YB_PATH\n",
    "\n",
    "# Search a range of values\n",
    "./bin/ycqlsh --execute \"\n",
    " select * from ks_ybu.tbl_employees;\n",
    "  \""
   ]
  },
  {
   "cell_type": "code",
   "execution_count": null,
   "metadata": {
    "vscode": {
     "languageId": "shellscript"
    }
   },
   "outputs": [],
   "source": [
    "%%bash -s \"$MY_YB_PATH\"   \n",
    "YB_PATH=${1}\n",
    "cd $YB_PATH\n",
    "\n",
    "# Search a range of values\n",
    "./bin/ycqlsh --execute \"\n",
    "  create table ks_ybu.tbl1 (col_pk int, col_ck1 text, col_reg int, primary key (col_pk, col_ck));\n",
    "  \""
   ]
  },
  {
   "cell_type": "code",
   "execution_count": null,
   "metadata": {
    "vscode": {
     "languageId": "shellscript"
    }
   },
   "outputs": [],
   "source": [
    "%%bash -s \"$MY_YB_PATH\"   \n",
    "YB_PATH=${1}\n",
    "cd $YB_PATH\n",
    "\n",
    "# Search a range of values\n",
    "./bin/ycqlsh --execute \"\n",
    "  insert into ks_ybu.tbl1 (col_pk , col_ck , col_reg ) values ( 1, 'green', 2022);\n",
    "  insert into ks_ybu.tbl1 (col_pk , col_ck , col_reg ) values ( 1, 'red', 2022);\n",
    "  insert into ks_ybu.tbl1 (col_pk , col_ck , col_reg ) values ( 2, 'red', 2022);\n",
    "  insert into ks_ybu.tbl1 (col_pk , col_ck , col_reg ) values ( 2, 'green', 2022);\n",
    "    insert into ks_ybu.tbl1 (col_pk , col_ck , col_reg ) values ( 3, 'blue', 2022);\n",
    "  insert into ks_ybu.tbl1 (col_pk , col_ck , col_reg ) values ( 3, 'red', 2022);\n",
    "  \""
   ]
  },
  {
   "cell_type": "markdown",
   "metadata": {},
   "source": [
    "### single row, PK"
   ]
  },
  {
   "cell_type": "code",
   "execution_count": null,
   "metadata": {
    "vscode": {
     "languageId": "shellscript"
    }
   },
   "outputs": [],
   "source": [
    "%%bash -s \"$MY_YB_PATH\"   \n",
    "YB_PATH=${1}\n",
    "cd $YB_PATH\n",
    "\n",
    "# Search a range of values\n",
    "./bin/ycqlsh --execute \"\n",
    "  delete from ks_ybu.tbl1 where col_pk = 1 and col_ck = 'green';\n",
    "  \""
   ]
  },
  {
   "cell_type": "code",
   "execution_count": null,
   "metadata": {
    "vscode": {
     "languageId": "shellscript"
    }
   },
   "outputs": [],
   "source": [
    "%%bash -s \"$MY_YB_PATH\"   \n",
    "YB_PATH=${1}\n",
    "cd $YB_PATH\n",
    "\n",
    "# Search a range of values\n",
    "./bin/ycqlsh --execute \"\n",
    "  select * from ks_ybu.tbl1;\n",
    "  \""
   ]
  },
  {
   "cell_type": "markdown",
   "metadata": {},
   "source": [
    "### multi-row"
   ]
  },
  {
   "cell_type": "code",
   "execution_count": null,
   "metadata": {
    "vscode": {
     "languageId": "shellscript"
    }
   },
   "outputs": [],
   "source": [
    "%%bash -s \"$MY_YB_PATH\"   \n",
    "YB_PATH=${1}\n",
    "cd $YB_PATH\n",
    "\n",
    "# Search a range of values\n",
    "./bin/ycqlsh --execute \"\n",
    "  delete from ks_ybu.tbl1 where col_pk=1 and col_ck > 'green'\n",
    "  \""
   ]
  },
  {
   "cell_type": "code",
   "execution_count": null,
   "metadata": {
    "vscode": {
     "languageId": "shellscript"
    }
   },
   "outputs": [],
   "source": [
    "%%bash -s \"$MY_YB_PATH\"   \n",
    "YB_PATH=${1}\n",
    "cd $YB_PATH\n",
    "\n",
    "# Search a range of values\n",
    "./bin/ycqlsh --execute \"\n",
    "  select * from ks_ybu.tbl1;\n",
    "  \""
   ]
  },
  {
   "cell_type": "markdown",
   "metadata": {},
   "source": [
    "### delete a column value?\n"
   ]
  },
  {
   "cell_type": "code",
   "execution_count": null,
   "metadata": {
    "vscode": {
     "languageId": "shellscript"
    }
   },
   "outputs": [],
   "source": [
    "%%bash -s \"$MY_YB_PATH\"   \n",
    "YB_PATH=${1}\n",
    "cd $YB_PATH\n",
    "\n",
    "# Search a range of values\n",
    "./bin/ycqlsh --execute \"\n",
    "  delete col_reg from ks_ybu.tbl1 where col_pk = 3 and col_ck = 'blue';\n",
    "  \""
   ]
  },
  {
   "cell_type": "markdown",
   "metadata": {},
   "source": [
    "#### delete if"
   ]
  },
  {
   "cell_type": "code",
   "execution_count": null,
   "metadata": {
    "vscode": {
     "languageId": "shellscript"
    }
   },
   "outputs": [],
   "source": [
    "%%bash -s \"$MY_YB_PATH\"   \n",
    "YB_PATH=${1}\n",
    "cd $YB_PATH\n",
    "\n",
    "# Search a range of values\n",
    "./bin/ycqlsh --execute \"\n",
    "  delete from ks_ybu.tbl1 where col_pk = 2 and col_ck = 'green' if col_ck > 2021;\n",
    "  \""
   ]
  },
  {
   "cell_type": "markdown",
   "metadata": {},
   "source": [
    "## Part 5 | Built-in functions"
   ]
  },
  {
   "cell_type": "markdown",
   "metadata": {},
   "source": [
    "date-time"
   ]
  },
  {
   "cell_type": "code",
   "execution_count": null,
   "metadata": {
    "vscode": {
     "languageId": "shellscript"
    }
   },
   "outputs": [],
   "source": [
    "%%bash -s \"$MY_YB_PATH\" \"$MY_DB_NAME\" \"$MY_HOST_IPv4_01\" \"$MY_INDEX_TABLE_ID\" \"$MY_INDEX_TABLET_ID\" # Import file path of Yugabyte and DB name\n",
    "YB_PATH=${1}\n",
    "DB_NAME=${2}\n",
    "HOST_IPv4=${3}\n",
    "INDEX_TABLE_ID=$( echo \"${4}\" | tr -d \" \")\n",
    "INDEX_TABLET_ID=$( echo \"${5}\" | tr -d \" \")\n",
    "\n",
    "cd $YB_PATH\n",
    "cd bin/\n",
    "\n",
    "TABLE_ID_PATH=/Users/seth/yugabyte-data/node-1/disk-1/yb-data/tserver/data/rocksdb/table-${INDEX_TABLE_ID}/tablet-${INDEX_TABLET_ID}\n",
    "ls -l  ${TABLE_ID_PATH}\n",
    "\n",
    "./sst_dump --command=scan --file=${TABLE_ID_PATH} --output_format=decoded_regulardb\n",
    "\n",
    "# ./sst_dump --command=scan --file=${TABLE_ID_PATH} --show_properties\n",
    "# -command=scan --read_num=5"
   ]
  },
  {
   "cell_type": "code",
   "execution_count": null,
   "metadata": {
    "vscode": {
     "languageId": "shellscript"
    }
   },
   "outputs": [],
   "source": [
    "%%bash -s \"$MY_YB_PATH\"   \n",
    "YB_PATH=${1}\n",
    "cd $YB_PATH\n",
    "\n",
    "# Search a range of values\n",
    "./bin/ycqlsh --execute \"\n",
    "  select col_pk, totimestamp(now()),todate(now()), dateof(now()) from ks_ybu.tbl1 \n",
    "\n",
    "\n",
    "\""
   ]
  },
  {
   "cell_type": "code",
   "execution_count": null,
   "metadata": {
    "vscode": {
     "languageId": "shellscript"
    }
   },
   "outputs": [],
   "source": [
    "%%bash -s \"$MY_YB_PATH\"   \n",
    "YB_PATH=${1}\n",
    "cd $YB_PATH\n",
    "\n",
    "# Search a range of values\n",
    "./bin/ycqlsh --execute \"\n",
    "  select col_pk, col_ck, col_reg, currentdate(), currenttime(), currenttimestamp(), todate(now()) from ks_ybu.tbl1 \n",
    "\n",
    "\n",
    "\""
   ]
  },
  {
   "cell_type": "code",
   "execution_count": null,
   "metadata": {
    "vscode": {
     "languageId": "shellscript"
    }
   },
   "outputs": [],
   "source": [
    "%%bash -s \"$MY_YB_PATH\"   \n",
    "YB_PATH=${1}\n",
    "cd $YB_PATH\n",
    "\n",
    "# Search a range of values\n",
    "./bin/ycqlsh --execute \"\n",
    "  select partition_hash(artist,song) from ks_ybu.tbl_music;\n",
    "\n",
    "\n",
    "\""
   ]
  },
  {
   "cell_type": "code",
   "execution_count": null,
   "metadata": {
    "vscode": {
     "languageId": "shellscript"
    }
   },
   "outputs": [],
   "source": [
    "%%bash -s \"$MY_YB_PATH\"   \n",
    "YB_PATH=${1}\n",
    "cd $YB_PATH\n",
    "\n",
    "# Search a range of values\n",
    "./bin/ycqlsh --execute \"\n",
    "  select partition_hash(col_pk),col_pk, partition_hash('AAAA'),col_ck, col_reg, currentdate(), currenttime(), currenttimestamp(), todate(now()) from ks_ybu.tbl1 \n",
    "\""
   ]
  }
 ],
 "metadata": {
  "kernelspec": {
   "display_name": "Python 3",
   "language": "python",
   "name": "python3"
  },
  "language_info": {
   "codemirror_mode": {
    "name": "ipython",
    "version": 3
   },
   "file_extension": ".py",
   "mimetype": "text/x-python",
   "name": "python",
   "nbconvert_exporter": "python",
   "pygments_lexer": "ipython3",
   "version": "3.7.9"
  },
  "orig_nbformat": 4,
  "vscode": {
   "interpreter": {
    "hash": "aee8b7b246df8f9039afb4144a1f6fd8d2ca17a180786b69acc140d282b71a49"
   }
  }
 },
 "nbformat": 4,
 "nbformat_minor": 2
}
