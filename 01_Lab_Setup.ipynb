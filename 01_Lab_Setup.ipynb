{
 "cells": [
  {
   "cell_type": "markdown",
   "metadata": {
    "deletable": false,
    "editable": false
   },
   "source": [
    "# Lab Requirements and Setup\n",
    "\n",
    "This lab consists of several Jupyter notebooks and runs in Gitpod using VS Code.  Follow the instructions for requirements and setup.\n",
    "\n",
    "## About Jupyter notebooks\n",
    "A notebook consists of one or more cells. In VS Code, notebooks cells are editable. \n",
    "\n",
    "There are two types of cells: markdown and code. This is a markdown cell.\n",
    "\n",
    "You run a code cell by simply selecting the play icon in the cell's left gutter. For code cells, you can modify the code for execution. Certain labs contain challenges or experiments that require you to do just that - modify a code cell and re-run it!\n",
    "\n",
    "### Requirements\n",
    "Here are the requirements for this lab:\n",
    "- Launch using a gitpod workspace\n",
    "- Run a three node, YugabyteDB cluster using `yb-ctl`\n",
    "\n",
    "> Note\n",
    ">  \n",
    "> Although a three node cluster is up and running, Gitpod does not support visiting loopback addresses over a web ui, even if exposed on a different port.\n",
    "> 127.0.0.1 is the only web user interfaces. To see all available ports in Gitpod, in the terminal, run `gp ports list`."
   ]
  },
  {
   "cell_type": "markdown",
   "metadata": {
    "deletable": false,
    "editable": false
   },
   "source": [
    "#### Notebook keyboard shortcuts\n",
    "The Jupyter extension for Gitpod supports the following keyboard shortcuts:\n",
    "| Keystroke | Description |\n",
    "|--|--|\n",
    "| ESC | Change the cell mode |\n",
    "| A | Add a cell above |\n",
    "| B | Add a cell below |\n",
    "| J or down arrow key |  Change a cell to below | \n",
    "| K or up arrow key | Change a cell to above | \n",
    "| Ctrl+Enter | Run the currently selected cell |\n",
    "| Shift+Enter | Run the currently selected cell and insert a new cell immediately below (focus moves to new cell) |\n",
    "| Alt+Enter | Run the currently selected cell and insert a new cell immediately below (focus remains on current cell) |\n",
    "| dd | Delete a selected cell |\n",
    "| z | Undo the last change | \n",
    "| M | switch the cell type to Markdown | \n",
    "| Y | switch the cell type to code |\n",
    "| L | Enable/Disable line numbers |\n",
    "```\n"
   ]
  },
  {
   "cell_type": "markdown",
   "metadata": {
    "deletable": false,
    "editable": false
   },
   "source": [
    "## Setup steps\n",
    "Here are the steps to setup this lab:\n",
    "- Install missing dependencies and restart the notebook\n",
    "- Create the notebook variables\n",
    "- Create the `db_ybu` database"
   ]
  },
  {
   "cell_type": "markdown",
   "metadata": {},
   "source": [
    "### Install missing dependencies and restart the notebook\n",
    "Run the following cell to ensure that the notebook dependencies are available to the notebook. "
   ]
  },
  {
   "cell_type": "code",
   "execution_count": 6,
   "metadata": {},
   "outputs": [
    {
     "name": "stdout",
     "output_type": "stream",
     "text": [
      "Requirement already satisfied: cassandra-driver in /Users/markkim/.pyenv/versions/3.9.4/lib/python3.9/site-packages (3.25.0)\n",
      "Requirement already satisfied: six>=1.9 in /Users/markkim/.pyenv/versions/3.9.4/lib/python3.9/site-packages (from cassandra-driver) (1.16.0)\n",
      "Requirement already satisfied: geomet<0.3,>=0.1 in /Users/markkim/.pyenv/versions/3.9.4/lib/python3.9/site-packages (from cassandra-driver) (0.2.1.post1)\n",
      "Requirement already satisfied: click in /Users/markkim/.pyenv/versions/3.9.4/lib/python3.9/site-packages (from geomet<0.3,>=0.1->cassandra-driver) (8.1.3)\n"
     ]
    }
   ],
   "source": [
    "! pip install cassandra-driver"
   ]
  },
  {
   "cell_type": "markdown",
   "metadata": {},
   "source": [
    "> Important!\n",
    "> \n",
    "> Restart the Notebook.\n",
    "> \n",
    "> Do NOT skip this step.\n",
    "> \n",
    "> After restarting the notebook, you can continue running notebook cells below, at **Create the notebook variables**.\n"
   ]
  },
  {
   "cell_type": "markdown",
   "metadata": {
    "deletable": false,
    "editable": false
   },
   "source": [
    "### Create the notebook variables \n",
    "\n",
    "> IMPORTANT!\n",
    "> \n",
    "> Do NOT skip running this cell. \n",
    "> \n",
    "\n",
    "The following Python cell creates and stores variables that all the notebooks in this lab will use. You can view these variables in the Jupyter tab.\n",
    "\n",
    "- To run the script, select Execute Cell (Play Arrow) in the left gutter of the cell.\n",
    "- Verify the accuracy of the output values"
   ]
  },
  {
   "cell_type": "markdown",
   "metadata": {
    "deletable": false,
    "editable": false
   },
   "source": [
    "### Create the `db_ybu` database with `ycqlsh`\n",
    "Run the following cell to connect to the local host using `ycqlsh`, create the `db_ybu` database, and then list the databases."
   ]
  },
  {
   "cell_type": "code",
   "execution_count": 7,
   "metadata": {
    "vscode": {
     "languageId": "shellscript"
    }
   },
   "outputs": [],
   "source": [
    "import cassandra"
   ]
  },
  {
   "cell_type": "code",
   "execution_count": 8,
   "metadata": {
    "vscode": {
     "languageId": "shellscript"
    }
   },
   "outputs": [],
   "source": [
    "from cassandra.cluster import Cluster\n",
    "try:\n",
    "  cluster = Cluster(['127.0.0.1'], port=9042)\n",
    "  session = cluster.connect()\n",
    "except Exception as e:\n",
    "  print(e)"
   ]
  },
  {
   "cell_type": "code",
   "execution_count": 9,
   "metadata": {
    "vscode": {
     "languageId": "shellscript"
    }
   },
   "outputs": [],
   "source": [
    "try:\n",
    "  session.execute(\"\"\"\n",
    "  CREATE KEYSPACE IF NOT EXISTS ycql_demos_fun\n",
    "  WITH REPLICATION = \n",
    "  { 'class': 'SimpleStrategy', 'replication_factor': 1 }\"\"\"\n",
    "  )\n",
    "\n",
    "except Exception as e:\n",
    "  print(e)"
   ]
  },
  {
   "cell_type": "code",
   "execution_count": 10,
   "metadata": {
    "vscode": {
     "languageId": "shellscript"
    }
   },
   "outputs": [],
   "source": [
    "## Adding the keyspace\n",
    "try: \n",
    "  session.set_keyspace('ycql_demos_fun')\n",
    "\n",
    "except Exception as e:\n",
    "  print(e)"
   ]
  },
  {
   "cell_type": "code",
   "execution_count": 55,
   "metadata": {
    "vscode": {
     "languageId": "shellscript"
    }
   },
   "outputs": [],
   "source": [
    "try:\n",
    "  session.execute(\"\"\"\n",
    "  USE ycql_demos_fun;\n",
    "  \"\"\")\n",
    "\n",
    "except Exception as e:\n",
    "  print(e)"
   ]
  },
  {
   "cell_type": "code",
   "execution_count": 11,
   "metadata": {
    "vscode": {
     "languageId": "shellscript"
    }
   },
   "outputs": [],
   "source": [
    "# Create Table\n",
    "\n",
    "query = \"CREATE TABLE IF NOT EXISTS tbl_wishlists_by_user \"\n",
    "query = query + \"(user_id INT, wishlist_id UUID, name TEXT, is_public BOOLEAN, PRIMARY KEY ((user_id), name));\"\n",
    "try:\n",
    "  session.execute(query)\n",
    "except Exception as e:\n",
    "  print(e)"
   ]
  },
  {
   "cell_type": "code",
   "execution_count": 4,
   "metadata": {
    "vscode": {
     "languageId": "shellscript"
    }
   },
   "outputs": [
    {
     "name": "stdout",
     "output_type": "stream",
     "text": [
      "name 'session' is not defined\n"
     ]
    }
   ],
   "source": [
    "query = \"DROP TABLE users \"\n",
    "try:\n",
    "  session.execute(query)\n",
    "  \n",
    "except Exception as e:\n",
    "  print(e)"
   ]
  },
  {
   "cell_type": "code",
   "execution_count": null,
   "metadata": {
    "vscode": {
     "languageId": "shellscript"
    }
   },
   "outputs": [],
   "source": [
    "%%bash -s \"$MY_YB_PATH\" \"$MY_DB_NAME\"  # create database\n",
    "YB_PATH=${1}\n",
    "DB_NAME=${2}\n",
    "\n",
    "cd $YB_PATH\n",
    "\n",
    "# drop and create\n",
    "./bin/ycqlsh -d yugabyte -c \"drop database if exists \"${DB_NAME}\";\"  \n",
    "./bin/ycqlsh -d yugabyte -c \"create database \"${DB_NAME}\";\" \n",
    "\n",
    "# list dbs\n",
    "./bin/ysqlsh -d yugabyte -c \"\\l\""
   ]
  },
  {
   "cell_type": "code",
   "execution_count": 13,
   "metadata": {
    "vscode": {
     "languageId": "shellscript"
    }
   },
   "outputs": [
    {
     "ename": "SyntaxError",
     "evalue": "invalid syntax (2952544888.py, line 1)",
     "output_type": "error",
     "traceback": [
      "\u001b[0;36m  Input \u001b[0;32mIn [13]\u001b[0;36m\u001b[0m\n\u001b[0;31m    query = DESCRIBE TABLE tbl_wishlists_by_user\u001b[0m\n\u001b[0m                     ^\u001b[0m\n\u001b[0;31mSyntaxError\u001b[0m\u001b[0;31m:\u001b[0m invalid syntax\n"
     ]
    }
   ],
   "source": [
    "query = DESCRIBE TABLE tbl_wishlists_by_user\n",
    "\n",
    "try: \n",
    "  session.execute(query)\n",
    "except Exception as e:\n",
    "  print(e)"
   ]
  },
  {
   "cell_type": "code",
   "execution_count": 15,
   "metadata": {
    "vscode": {
     "languageId": "shellscript"
    }
   },
   "outputs": [
    {
     "name": "stderr",
     "output_type": "stream",
     "text": [
      "bash: line 5: cd: $MY_YB_PATH: No such file or directory\n"
     ]
    },
    {
     "ename": "CalledProcessError",
     "evalue": "Command 'b'\\nYB_PATH=${1}\\nDB_NAME=${2}\\n\\ncd $YB_PATH\\n\\n\\n# ./bin/ysqlsh -d ${DB_NAME} -c \"\\\\d tbl_countries\"\\n#./bin/ysqlsh -d ${DBNAME} -c \"\\\\d tbl_countries\"\\n#./bin/ysqlsh -d ${DBNAME} -c \"\\\\d tbl_states\"\\n'' returned non-zero exit status 1.",
     "output_type": "error",
     "traceback": [
      "\u001b[0;31m---------------------------------------------------------------------------\u001b[0m",
      "\u001b[0;31mCalledProcessError\u001b[0m                        Traceback (most recent call last)",
      "\u001b[1;32m/Users/markkim/Documents/YBU_repos/YCQL-01/01_Lab_Setup.ipynb Cell 18\u001b[0m in \u001b[0;36m<cell line: 1>\u001b[0;34m()\u001b[0m\n\u001b[0;32m----> <a href='vscode-notebook-cell:/Users/markkim/Documents/YBU_repos/YCQL-01/01_Lab_Setup.ipynb#ch0000042?line=0'>1</a>\u001b[0m get_ipython()\u001b[39m.\u001b[39;49mrun_cell_magic(\u001b[39m'\u001b[39;49m\u001b[39mbash\u001b[39;49m\u001b[39m'\u001b[39;49m, \u001b[39m'\u001b[39;49m\u001b[39m-s \u001b[39;49m\u001b[39m\"\u001b[39;49m\u001b[39m$MY_YB_PATH\u001b[39;49m\u001b[39m\"\u001b[39;49m\u001b[39m \u001b[39;49m\u001b[39m\"\u001b[39;49m\u001b[39m$MY_DB_NAME\u001b[39;49m\u001b[39m\"\u001b[39;49m\u001b[39m  # \u001b[39;49m\u001b[39m\\\\\u001b[39;49;00m\u001b[39md tbl_countriees\u001b[39;49m\u001b[39m'\u001b[39;49m, \u001b[39m'\u001b[39;49m\u001b[39m\\n\u001b[39;49;00m\u001b[39mYB_PATH=$\u001b[39;49m\u001b[39m{1}\u001b[39;49;00m\u001b[39m\\n\u001b[39;49;00m\u001b[39mDB_NAME=$\u001b[39;49m\u001b[39m{2}\u001b[39;49;00m\u001b[39m\\n\u001b[39;49;00m\u001b[39m\\n\u001b[39;49;00m\u001b[39mcd $YB_PATH\u001b[39;49m\u001b[39m\\n\u001b[39;49;00m\u001b[39m\\n\u001b[39;49;00m\u001b[39m\\n\u001b[39;49;00m\u001b[39m# ./bin/ysqlsh -d $\u001b[39;49m\u001b[39m{DB_NAME}\u001b[39;49;00m\u001b[39m -c \u001b[39;49m\u001b[39m\"\u001b[39;49m\u001b[39m\\\\\u001b[39;49;00m\u001b[39md tbl_countries\u001b[39;49m\u001b[39m\"\u001b[39;49m\u001b[39m\\n\u001b[39;49;00m\u001b[39m#./bin/ysqlsh -d $\u001b[39;49m\u001b[39m{DBNAME}\u001b[39;49;00m\u001b[39m -c \u001b[39;49m\u001b[39m\"\u001b[39;49m\u001b[39m\\\\\u001b[39;49;00m\u001b[39md tbl_countries\u001b[39;49m\u001b[39m\"\u001b[39;49m\u001b[39m\\n\u001b[39;49;00m\u001b[39m#./bin/ysqlsh -d $\u001b[39;49m\u001b[39m{DBNAME}\u001b[39;49;00m\u001b[39m -c \u001b[39;49m\u001b[39m\"\u001b[39;49m\u001b[39m\\\\\u001b[39;49;00m\u001b[39md tbl_states\u001b[39;49m\u001b[39m\"\u001b[39;49m\u001b[39m\\n\u001b[39;49;00m\u001b[39m'\u001b[39;49m)\n",
      "File \u001b[0;32m~/.pyenv/versions/3.9.4/lib/python3.9/site-packages/IPython/core/interactiveshell.py:2358\u001b[0m, in \u001b[0;36mInteractiveShell.run_cell_magic\u001b[0;34m(self, magic_name, line, cell)\u001b[0m\n\u001b[1;32m   2356\u001b[0m \u001b[39mwith\u001b[39;00m \u001b[39mself\u001b[39m\u001b[39m.\u001b[39mbuiltin_trap:\n\u001b[1;32m   2357\u001b[0m     args \u001b[39m=\u001b[39m (magic_arg_s, cell)\n\u001b[0;32m-> 2358\u001b[0m     result \u001b[39m=\u001b[39m fn(\u001b[39m*\u001b[39;49margs, \u001b[39m*\u001b[39;49m\u001b[39m*\u001b[39;49mkwargs)\n\u001b[1;32m   2359\u001b[0m \u001b[39mreturn\u001b[39;00m result\n",
      "File \u001b[0;32m~/.pyenv/versions/3.9.4/lib/python3.9/site-packages/IPython/core/magics/script.py:153\u001b[0m, in \u001b[0;36mScriptMagics._make_script_magic.<locals>.named_script_magic\u001b[0;34m(line, cell)\u001b[0m\n\u001b[1;32m    151\u001b[0m \u001b[39melse\u001b[39;00m:\n\u001b[1;32m    152\u001b[0m     line \u001b[39m=\u001b[39m script\n\u001b[0;32m--> 153\u001b[0m \u001b[39mreturn\u001b[39;00m \u001b[39mself\u001b[39;49m\u001b[39m.\u001b[39;49mshebang(line, cell)\n",
      "File \u001b[0;32m~/.pyenv/versions/3.9.4/lib/python3.9/site-packages/IPython/core/magics/script.py:305\u001b[0m, in \u001b[0;36mScriptMagics.shebang\u001b[0;34m(self, line, cell)\u001b[0m\n\u001b[1;32m    300\u001b[0m \u001b[39mif\u001b[39;00m args\u001b[39m.\u001b[39mraise_error \u001b[39mand\u001b[39;00m p\u001b[39m.\u001b[39mreturncode \u001b[39m!=\u001b[39m \u001b[39m0\u001b[39m:\n\u001b[1;32m    301\u001b[0m     \u001b[39m# If we get here and p.returncode is still None, we must have\u001b[39;00m\n\u001b[1;32m    302\u001b[0m     \u001b[39m# killed it but not yet seen its return code. We don't wait for it,\u001b[39;00m\n\u001b[1;32m    303\u001b[0m     \u001b[39m# in case it's stuck in uninterruptible sleep. -9 = SIGKILL\u001b[39;00m\n\u001b[1;32m    304\u001b[0m     rc \u001b[39m=\u001b[39m p\u001b[39m.\u001b[39mreturncode \u001b[39mor\u001b[39;00m \u001b[39m-\u001b[39m\u001b[39m9\u001b[39m\n\u001b[0;32m--> 305\u001b[0m     \u001b[39mraise\u001b[39;00m CalledProcessError(rc, cell)\n",
      "\u001b[0;31mCalledProcessError\u001b[0m: Command 'b'\\nYB_PATH=${1}\\nDB_NAME=${2}\\n\\ncd $YB_PATH\\n\\n\\n# ./bin/ysqlsh -d ${DB_NAME} -c \"\\\\d tbl_countries\"\\n#./bin/ysqlsh -d ${DBNAME} -c \"\\\\d tbl_countries\"\\n#./bin/ysqlsh -d ${DBNAME} -c \"\\\\d tbl_states\"\\n'' returned non-zero exit status 1."
     ]
    }
   ],
   "source": [
    "%%bash -s \"$MY_YB_PATH\" \"$MY_DB_NAME\"  # \\d tbl_countriees\n",
    "\n",
    "YB_PATH=${1}\n",
    "DB_NAME=${2}\n",
    "\n",
    "cd $YB_PATH\n",
    "\n",
    "\n",
    "# ./bin/ysqlsh -d ${DB_NAME} -c \"\\d tbl_countries\"\n",
    "#./bin/ysqlsh -d ${DBNAME} -c \"\\d tbl_countries\"\n",
    "#./bin/ysqlsh -d ${DBNAME} -c \"\\d tbl_states\"\n"
   ]
  },
  {
   "cell_type": "code",
   "execution_count": 14,
   "metadata": {
    "vscode": {
     "languageId": "shellscript"
    }
   },
   "outputs": [
    {
     "name": "stdout",
     "output_type": "stream",
     "text": [
      "Error from server: code=2200 [Invalid query] message=\"Datatype Mismatch\n",
      "INSERT INTO tbl_wishlists_by_user(user_id, wishlist_id, name, is_public) VALUES (23487, 2a70494e-6b68-4739-b3e0-ff06aa0a2d67, 'Grocery', true) USING TTL 5;\n",
      "                                                                                 ^^^^^\n",
      " (ql error -201)\"\n"
     ]
    }
   ],
   "source": [
    "# Add Row\n",
    "\n",
    "query = \"INSERT INTO tbl_wishlists_by_user(user_id, wishlist_id, name, is_public) VALUES (23487, 2a70494e-6b68-4739-b3e0-ff06aa0a2d67, 'Grocery', true) USING TTL 5;\"\n",
    "\n",
    "try:\n",
    "  session.execute(query)\n",
    "except Exception as e:\n",
    "  print(e)"
   ]
  },
  {
   "cell_type": "code",
   "execution_count": 52,
   "metadata": {
    "vscode": {
     "languageId": "shellscript"
    }
   },
   "outputs": [
    {
     "name": "stdout",
     "output_type": "stream",
     "text": [
      "<Error from server: code=2000 [Syntax error in CQL query] message=\"Feature Not Supported\n",
      "ALTER TABLE tbl_wishlists_by_user ALTER name TYPE varchar;\n",
      "                                                  ^^^^^^^\n",
      " (ql error -14)\">\n"
     ]
    }
   ],
   "source": [
    "# ALTER Column Data Type\n",
    "\n",
    "query = \"ALTER TABLE tbl_wishlists_by_user ALTER name TYPE varchar;\"\n",
    "\n",
    "try:\n",
    "  session.execute(query)\n",
    "except Exception as e:\n",
    "  print(e)"
   ]
  },
  {
   "cell_type": "code",
   "execution_count": null,
   "metadata": {
    "vscode": {
     "languageId": "shellscript"
    }
   },
   "outputs": [],
   "source": []
  },
  {
   "cell_type": "code",
   "execution_count": null,
   "metadata": {
    "vscode": {
     "languageId": "shellscript"
    }
   },
   "outputs": [],
   "source": [
    "%%bash -s \"$MY_YB_PATH\" \"$MY_DB_NAME\"  # create database\n",
    "YB_PATH=${1}\n",
    "DB_NAME=${2}\n",
    "\n",
    "cd $YB_PATH\n",
    "\n",
    "# drop and create\n",
    "./bin/ysqlsh -d yugabyte -c \"drop database if exists \"${DB_NAME}\";\"  \n",
    "./bin/ysqlsh -d yugabyte -c \"create database \"${DB_NAME}\";\" \n",
    "\n",
    "# list dbs\n",
    "./bin/ysqlsh -d yugabyte -c \"\\l\""
   ]
  },
  {
   "cell_type": "markdown",
   "metadata": {
    "deletable": false,
    "editable": false
   },
   "source": [
    "### Create Utils\n",
    "For illustration purposes, this lab requires specific user defined functions and objects for the following:\n",
    "- Functions for converting hash range strings to integers\n",
    "- YB-TServer metrics"
   ]
  },
  {
   "cell_type": "markdown",
   "metadata": {
    "deletable": false,
    "editable": false
   },
   "source": [
    "#### Util Functions\n",
    "Runt the following cell to create the utility functions."
   ]
  },
  {
   "cell_type": "code",
   "execution_count": null,
   "metadata": {
    "vscode": {
     "languageId": "shellscript"
    }
   },
   "outputs": [],
   "source": [
    "%%bash -s \"$MY_YB_PATH\" \"$MY_DB_NAME\" \"$MY_NOTEBOOK_UTILS_FOLDER\" \"$MY_UTIL_FUNCTIONS_FILE\"  # util functions\n",
    "YB_PATH=${1}\n",
    "DB_NAME=${2}\n",
    "UTILS_FOLDER=${3}\n",
    "UTIL_FUNCTIONS_FILE=${4}\n",
    "\n",
    "\n",
    "#ls $UTIL_FOLDER\n",
    "UTIL_FUNCTIONS_FILE_PATH=${UTILS_FOLDER}/${UTIL_FUNCTIONS_FILE}\n",
    "\n",
    "cd $YB_PATH\n",
    "\n",
    "# Functions file\n",
    "./bin/ysqlsh -q -d ${DB_NAME} -f ${UTIL_FUNCTIONS_FILE_PATH} \n",
    "sleep 1;\n",
    "\n",
    "# Describe functions\n",
    "./bin/ysqlsh -d ${DB_NAME} -c \"\\df\""
   ]
  },
  {
   "cell_type": "markdown",
   "metadata": {
    "deletable": false,
    "editable": false
   },
   "source": [
    "#### Util Metrics\n",
    "Run the following cell to create the utility functions for the metrics report."
   ]
  },
  {
   "cell_type": "code",
   "execution_count": null,
   "metadata": {
    "vscode": {
     "languageId": "shellscript"
    }
   },
   "outputs": [],
   "source": [
    "%%bash -s \"$MY_YB_PATH\" \"$MY_DB_NAME\" \"$MY_NOTEBOOK_UTILS_FOLDER\" \"$MY_UTIL_YBTSERVER_METRICS_FILE\"  # utl metrics\n",
    "YB_PATH=${1}\n",
    "DB_NAME=${2}\n",
    "UTILS_FOLDER=${3}\n",
    "UTIL_YBTSERVER_METRICS_FILE=${4}\n",
    "\n",
    "#ls $UTIL_FOLDER\n",
    "\n",
    "UTIL_YBTSERVER_METRICS_FILE=${UTILS_FOLDER}/${UTIL_YBTSERVER_METRICS_FILE}\n",
    "\n",
    "cd $YB_PATH\n",
    "\n",
    "# Metrics file\n",
    "./bin/ysqlsh -d ${DB_NAME} -f ${UTIL_YBTSERVER_METRICS_FILE}\n",
    "# >&/dev/null\n",
    "\n",
    "# Describe relations\n",
    "./bin/ysqlsh -d ${DB_NAME} -c \"\\df\""
   ]
  },
  {
   "cell_type": "markdown",
   "metadata": {
    "deletable": false,
    "editable": false
   },
   "source": [
    "### Create tables and loaded data using DDL and DML scripts\n",
    "In this section of the notebook, you will:\n",
    "- Create tables with a DDL script\n",
    "- Load data with a DML script\n",
    "- Verify the creation of tables and data\n",
    "- View the DDL for tbl_countries"
   ]
  },
  {
   "cell_type": "markdown",
   "metadata": {
    "deletable": false,
    "editable": false
   },
   "source": [
    "##### Create tables, load data, and review relations\n",
    "Run the following cell to execute the DDL and DML scripts using `ysqlsh`."
   ]
  },
  {
   "cell_type": "code",
   "execution_count": null,
   "metadata": {
    "vscode": {
     "languageId": "shellscript"
    }
   },
   "outputs": [],
   "source": [
    "%%bash -s \"$MY_YB_PATH\" \"$MY_DB_NAME\" \"$MY_NOTEBOOK_DATA_FOLDER\" \"$MY_DATA_DDL_FILE\" \"$MY_DATA_DML_FILE\"   # World Cities\n",
    "YB_PATH=${1}\n",
    "DB_NAME=${2}\n",
    "DATA_FOLDER=${3}\n",
    "DATA_DDL_FILE=${4}\n",
    "DATA_DML_FILE=${5}\n",
    "\n",
    "#ls $DATA_FOLDER\n",
    "\n",
    "WORLD_DDL_PATH=${DATA_FOLDER}/${DATA_DDL_FILE}\n",
    "WORLD_DML_PATH=${DATA_FOLDER}/${DATA_DML_FILE}\n",
    "\n",
    "cd $YB_PATH\n",
    "\n",
    "# DDL file\n",
    "./bin/ysqlsh -d ${DB_NAME} -f ${WORLD_DDL_PATH} >&/dev/null\n",
    "sleep 1;\n",
    "\n",
    "# DML file\n",
    "./bin/ysqlsh -d ${DB_NAME} -f ${WORLD_DML_PATH} >&/dev/null\n",
    "sleep 1;\n",
    "\n",
    "# Describe relations\n",
    "./bin/ysqlsh -d ${DB_NAME} -c \"\\d\""
   ]
  },
  {
   "cell_type": "markdown",
   "metadata": {
    "deletable": false,
    "editable": false
   },
   "source": [
    "##### View DDL for tbl_countries\n",
    "Run the following cell using `ysqlsh` to view a table definition.\n",
    "\n",
    "> Note\n",
    "> \n",
    "> SQL magic does not support PostgreSQL `psql` commands. In order to execute `psql` commands, the notebook uses bash and `ysqlsh`.\n",
    "\n"
   ]
  },
  {
   "cell_type": "code",
   "execution_count": null,
   "metadata": {
    "vscode": {
     "languageId": "shellscript"
    }
   },
   "outputs": [],
   "source": [
    "%%bash -s \"$MY_YB_PATH\" \"$MY_DB_NAME\"  # \\d tbl_countriees\n",
    "\n",
    "YB_PATH=${1}\n",
    "DB_NAME=${2}\n",
    "\n",
    "cd $YB_PATH\n",
    "\n",
    "\n",
    "./bin/ysqlsh -d ${DB_NAME} -c \"\\d tbl_countries\"\n",
    "#./bin/ysqlsh -d ${DBNAME} -c \"\\d tbl_countries\"\n",
    "#./bin/ysqlsh -d ${DBNAME} -c \"\\d tbl_states\"\n"
   ]
  },
  {
   "cell_type": "markdown",
   "metadata": {
    "deletable": false,
    "editable": false
   },
   "source": [
    "## Connect to YugabyteDB using the PostgreSQL Driver for Python\n",
    "The following cells requires:\n",
    "- Python 3.8+ and psycopg2"
   ]
  },
  {
   "cell_type": "code",
   "execution_count": null,
   "metadata": {
    "deletable": false,
    "editable": false
   },
   "outputs": [],
   "source": [
    "# Connect to db_ybu\n",
    "# Inspiration from https://medium.com/analytics-vidhya/postgresql-integration-with-jupyter-notebook-deb97579a38d\n",
    "import psycopg2\n",
    "import sqlalchemy as alc\n",
    "from sqlalchemy import create_engine\n",
    "\n",
    "# env_var.env\n",
    "db_host=MY_HOST_IPv4_01\n",
    "db_name=MY_DB_NAME\n",
    "\n",
    "connection_str='postgresql+psycopg2://yugabyte@'+db_host+':5433/'+db_name\n",
    "\n",
    "# engine = create_engine(connection_str)"
   ]
  },
  {
   "cell_type": "markdown",
   "metadata": {
    "deletable": false,
    "editable": false
   },
   "source": [
    "#### Load SQL magic extension\n",
    ">IMPORTANT!\n",
    ">\n",
    "> To use SQL magic, you must run the following cell that loads the notebook extension."
   ]
  },
  {
   "cell_type": "code",
   "execution_count": null,
   "metadata": {},
   "outputs": [],
   "source": [
    "%reload_ext sql\n",
    "# creates connection for sql magic\n",
    "%sql {connection_str}"
   ]
  },
  {
   "cell_type": "markdown",
   "metadata": {
    "deletable": false,
    "editable": false
   },
   "source": [
    "#### Show table row counts\n",
    "Run the cell below to view the row counts for the tables."
   ]
  },
  {
   "cell_type": "code",
   "execution_count": null,
   "metadata": {
    "vscode": {
     "languageId": "sql"
    }
   },
   "outputs": [],
   "source": [
    "%%sql /* row counts */\n",
    "\n",
    "select '' _\n",
    "    , v1.name\n",
    "    , v1.counts\n",
    "from (\n",
    "    select 'tbl_cities' as name, count(*) as counts from tbl_cities\n",
    "    union \n",
    "    select 'tbl_cities_name_alt_null' as name, count(*) \n",
    "    from tbl_cities\n",
    "    where 1=1\n",
    "    and city_name_alt IS NULL\n",
    "    union\n",
    "    select 'tbl_states' as name,count(*) from tbl_states\n",
    "    union \n",
    "    select 'tbl_countries' as name, count(*) from tbl_countries\n",
    "    union\n",
    "    select 'tbl_country_name_alt_null' as name, count(*) \n",
    "    from tbl_countries \n",
    "    where 1=1\n",
    "    and country_name_alt IS NULL\n",
    "    ) v1\n",
    "order by v1.counts desc;"
   ]
  },
  {
   "cell_type": "markdown",
   "metadata": {
    "deletable": false,
    "editable": false
   },
   "source": [
    "---\n",
    "# All done!\n",
    "In this lab, you completed the following:\n",
    "\n",
    "- Setup\n",
    "  - Created the `db_ybu` database with `ysqlsh`\n",
    "  - Created utils\n",
    "  - Created tables and loaded data using DDL and DML scripts\n",
    "  - Connected to the database using a PostgreSQL driver for Python\n",
    "\n",
    "Next, run the following cell to open `02_Demystifying_table_sharding_tablets_and_data_distribution.ipynb`."
   ]
  },
  {
   "cell_type": "code",
   "execution_count": null,
   "metadata": {
    "vscode": {
     "languageId": "shellscript"
    }
   },
   "outputs": [],
   "source": [
    "%%bash\n",
    "gp open 02_Demystifying_table_sharding_tablets_and_data_distribution.ipynb"
   ]
  },
  {
   "cell_type": "code",
   "execution_count": null,
   "metadata": {
    "vscode": {
     "languageId": "shellscript"
    }
   },
   "outputs": [
    {
     "name": "stderr",
     "output_type": "stream",
     "text": [
      "/var/folders/1w/vsyvrf3s2tsfqx_3qbmwsbvw0000gn/T/ipykernel_2850/583555911.py:5: DeprecationWarning: Legacy execution parameters will be removed in 4.0. Consider using execution profiles.\n",
      "  cluster = Cluster( contact_points=['70.191.42.158'], load_balancing_policy=lbp )\n"
     ]
    },
    {
     "ename": "NoHostAvailable",
     "evalue": "('Unable to connect to any servers', {'70.191.42.158:9042': OSError(None, \"Tried connecting to [('70.191.42.158', 9042)]. Last error: timed out\")})",
     "output_type": "error",
     "traceback": [
      "\u001b[0;31m---------------------------------------------------------------------------\u001b[0m\n",
      "\u001b[0;31mNoHostAvailable\u001b[0m                           Traceback (most recent call last)\n",
      "\u001b[1;32m/Users/markkim/Documents/YBU_repos/YCQL-01/01_Lab_Setup.ipynb Cell 11\u001b[0m in \u001b[0;36m<cell line: 6>\u001b[0;34m()\u001b[0m\n",
      "\u001b[1;32m      <a href='vscode-notebook-cell:/Users/markkim/Documents/YBU_repos/YCQL-01/01_Lab_Setup.ipynb#ch0000030?line=3'>4</a>\u001b[0m lbp \u001b[39m=\u001b[39m WhiteListRoundRobinPolicy([\u001b[39m'\u001b[39m\u001b[39m70.191.42.158\u001b[39m\u001b[39m'\u001b[39m])\n",
      "\u001b[1;32m      <a href='vscode-notebook-cell:/Users/markkim/Documents/YBU_repos/YCQL-01/01_Lab_Setup.ipynb#ch0000030?line=4'>5</a>\u001b[0m cluster \u001b[39m=\u001b[39m Cluster( contact_points\u001b[39m=\u001b[39m[\u001b[39m'\u001b[39m\u001b[39m70.191.42.158\u001b[39m\u001b[39m'\u001b[39m], load_balancing_policy\u001b[39m=\u001b[39mlbp )\n",
      "\u001b[0;32m----> <a href='vscode-notebook-cell:/Users/markkim/Documents/YBU_repos/YCQL-01/01_Lab_Setup.ipynb#ch0000030?line=5'>6</a>\u001b[0m session \u001b[39m=\u001b[39m cluster\u001b[39m.\u001b[39;49mconnect()\n",
      "\n",
      "File \u001b[0;32m~/.pyenv/versions/3.9.4/lib/python3.9/site-packages/cassandra/cluster.py:1667\u001b[0m, in \u001b[0;36mcassandra.cluster.Cluster.connect\u001b[0;34m()\u001b[0m\n",
      "\n",
      "File \u001b[0;32m~/.pyenv/versions/3.9.4/lib/python3.9/site-packages/cassandra/cluster.py:1703\u001b[0m, in \u001b[0;36mcassandra.cluster.Cluster.connect\u001b[0;34m()\u001b[0m\n",
      "\n",
      "File \u001b[0;32m~/.pyenv/versions/3.9.4/lib/python3.9/site-packages/cassandra/cluster.py:1690\u001b[0m, in \u001b[0;36mcassandra.cluster.Cluster.connect\u001b[0;34m()\u001b[0m\n",
      "\n",
      "File \u001b[0;32m~/.pyenv/versions/3.9.4/lib/python3.9/site-packages/cassandra/cluster.py:3488\u001b[0m, in \u001b[0;36mcassandra.cluster.ControlConnection.connect\u001b[0;34m()\u001b[0m\n",
      "\n",
      "File \u001b[0;32m~/.pyenv/versions/3.9.4/lib/python3.9/site-packages/cassandra/cluster.py:3533\u001b[0m, in \u001b[0;36mcassandra.cluster.ControlConnection._reconnect_internal\u001b[0;34m()\u001b[0m\n",
      "\n",
      "\u001b[0;31mNoHostAvailable\u001b[0m: ('Unable to connect to any servers', {'70.191.42.158:9042': OSError(None, \"Tried connecting to [('70.191.42.158', 9042)]. Last error: timed out\")})"
     ]
    }
   ],
   "source": [
    "from cassandra.cluster import Cluster\n",
    "from cassandra.policies import WhiteListRoundRobinPolicy\n",
    "\n",
    "lbp = WhiteListRoundRobinPolicy(['70.191.42.158'])\n",
    "cluster = Cluster( contact_points=['70.191.42.158'], load_balancing_policy=lbp )\n",
    "session = cluster.connect()"
   ]
  }
 ],
 "metadata": {
  "kernelspec": {
   "display_name": "Python 3.9.4 64-bit ('3.9.4': pyenv)",
   "language": "python",
   "name": "python3"
  },
  "language_info": {
   "codemirror_mode": {
    "name": "ipython",
    "version": 3
   },
   "file_extension": ".py",
   "mimetype": "text/x-python",
   "name": "python",
   "nbconvert_exporter": "python",
   "pygments_lexer": "ipython3",
   "version": "3.9.4"
  },
  "orig_nbformat": 4,
  "vscode": {
   "interpreter": {
    "hash": "0857ffcb80af2fb548f76c195b67e2e5b75e102946b97bbf401092901016b64a"
   }
  }
 },
 "nbformat": 4,
 "nbformat_minor": 2
}
