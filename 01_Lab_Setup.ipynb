{
 "cells": [
  {
   "cell_type": "markdown",
   "metadata": {
    "deletable": false,
    "editable": false
   },
   "source": [
    "# Lab Requirements and Setup\n",
    "\n",
    "This lab consists of several Jupyter notebooks and runs in Gitpod using VS Code.  Follow the instructions for requirements and setup.\n",
    "\n",
    "## About Jupyter notebooks\n",
    "A notebook consists of one or more cells. There are two types of cells: markdown and code. This is a markdown cell. You execute (run)a code cell by simply select the play icon in the cell's left gutter. In VS Code, notebooks cells are editable. For code cells, you can modify the code for execution. Certain labs contain challenges that require you to do just that!\n",
    "\n",
    "### Requirements\n",
    "Here are the requirements for this lab:\n",
    "- Launch from the gitpod workspace\n",
    "- yb-ctl has a three node cluster up and running, however Gitpod does not support all loopback addresses, so only 127.0.0.1 has available web user interfaces (gp ports list in the terminal)"
   ]
  },
  {
   "cell_type": "markdown",
   "metadata": {
    "deletable": false,
    "editable": false
   },
   "source": [
    "#### Notebook keyboard shortcuts\n",
    "| Keystroke | Description |\n",
    "|--|--|\n",
    "| ESC | Change the cell mode |\n",
    "| A | Add a cell above |\n",
    "| B | Add a cell below |\n",
    "| J or down arrow key |  Change a cell to below | \n",
    "| K or up arrow key | Change a cell to above | \n",
    "| Ctrl+Enter | Run the currently selected cell |\n",
    "| Shift+Enter | Run the currently selected cell and insert a new cell immediately below (focus moves to new cell) |\n",
    "| Alt+Enter | Run the currently selected cell and insert a new cell immediately below (focus remains on current cell) |\n",
    "| dd | Delete a selected cell |\n",
    "| z | Undo the last change | \n",
    "| M | switch the cell type to Markdown | \n",
    "| Y | switch the cell type to code |\n",
    "| L | Enable/Disable line numbers |\n",
    "```\n"
   ]
  },
  {
   "cell_type": "markdown",
   "metadata": {
    "deletable": false,
    "editable": false
   },
   "source": [
    "## Setup steps\n",
    "Here are the steps to setup this lab:\n",
    "- Create the notebook variables\n",
    "- Create the `db_ybu` database"
   ]
  },
  {
   "cell_type": "markdown",
   "metadata": {
    "deletable": false,
    "editable": false
   },
   "source": [
    "### Create the notebook variables \n",
    "\n",
    "> IMPORTANT!\n",
    "> \n",
    "> Do NOT skip editing and running this cell. \n",
    "> \n",
    "\n",
    "\n",
    "The following Python cell creates and stores variables that all the notebooks will use. You can view these variables in the Jupyter tab.\n",
    "\n",
    "- To run the script, select Execute Cell (Play Arrow) in the left gutter of the cell.\n",
    "- Verify the accuracy of the output values"
   ]
  },
  {
   "cell_type": "code",
   "execution_count": null,
   "metadata": {
    "deletable": false,
    "editable": false
   },
   "outputs": [],
   "source": [
    "# Env variables for Notebook\n",
    "import os\n",
    "\n",
    "# read env_vars.env\n",
    "env_vars = !cat env_vars.env\n",
    "for var in env_vars:\n",
    "    key, value = var.split('=')\n",
    "    os.environ[key] = value\n",
    " \n",
    "\n",
    "# Comment out Local\n",
    "#MY_YB_PATH=os.environ.get('MY_YB_PATH')\n",
    "MY_YB_PATH=os.environ.get('MY_YB_PATH_LOCAL')\n",
    "\n",
    "# env_vars defines the following\n",
    "MY_DB_NAME=os.environ.get('MY_DB_NAME')\n",
    "MY_HOST_IPv4_01=os.environ.get('MY_HOST_IPv4_01')\n",
    "MY_HOST_IPv4_02=os.environ.get('MY_HOST_IPv4_02')\n",
    "MY_HOST_IPv4_03=os.environ.get('MY_HOST_IPv4_03')\n",
    "MY_TSERVER_WEBSERVER_PORT=os.environ.get('MY_TSERVER_WEBSERVER_PORT')\n",
    "MY_DATA_DDL_FILE=os.environ.get(\"MY_DATA_DDL_FILE\")\n",
    "MY_DATA_DML_FILE=os.environ.get(\"MY_DATA_DML_FILE\")\n",
    "MY_UTIL_FUNCTIONS_FILE=os.environ.get(\"MY_UTIL_FUNCTIONS_FILE\")\n",
    "MY_UTIL_YBTSERVER_METRICS_FILE=os.environ.get(\"MY_UTIL_YBTSERVER_METRICS_FILE\")\n",
    "\n",
    "# Current directory of project and related child folders\n",
    "MY_NOTEBOOK_DIR=os.getcwd()\n",
    "MY_NOTEBOOK_DATA_FOLDER=MY_NOTEBOOK_DIR +'/data'\n",
    "MY_NOTEBOOK_UTILS_FOLDER=MY_NOTEBOOK_DIR + '/utils'\n",
    "\n",
    "# Store the note book values for other notebooks to use\n",
    "%store MY_DB_NAME\n",
    "%store MY_YB_PATH\n",
    "%store MY_HOST_IPv4_01\n",
    "%store MY_HOST_IPv4_02\n",
    "%store MY_HOST_IPv4_03\n",
    "%store MY_NOTEBOOK_DIR\n",
    "%store MY_TSERVER_WEBSERVER_PORT\n",
    "%store MY_NOTEBOOK_DATA_FOLDER\n",
    "%store MY_NOTEBOOK_UTILS_FOLDER\n",
    "%store MY_DATA_DDL_FILE\n",
    "%store MY_DATA_DML_FILE\n",
    "%store MY_UTIL_FUNCTIONS_FILE\n",
    "%store MY_UTIL_YBTSERVER_METRICS_FILE"
   ]
  },
  {
   "cell_type": "markdown",
   "metadata": {
    "deletable": false,
    "editable": false
   },
   "source": [
    "### Create the `db_ybu` database with `ysqlsh`\n",
    "- With `ysqlsh`, connect to the local host\n",
    "- Create the `db_ybu` database\n",
    "- List the databases"
   ]
  },
  {
   "cell_type": "code",
   "execution_count": null,
   "metadata": {
    "vscode": {
     "languageId": "shellscript"
    }
   },
   "outputs": [],
   "source": [
    "%%bash -s \"$MY_YB_PATH\" \"$MY_DB_NAME\"  # create database\n",
    "YB_PATH=${1}\n",
    "DB_NAME=${2}\n",
    "\n",
    "cd $YB_PATH\n",
    "\n",
    "# drop and create\n",
    "./bin/ysqlsh -d yugabyte -c \"drop database if exists \"${DB_NAME}\";\"  \n",
    "./bin/ysqlsh -d yugabyte -c \"create database \"${DB_NAME}\";\" \n",
    "\n",
    "# list dbs\n",
    "./bin/ysqlsh -d yugabyte -c \"\\l\""
   ]
  },
  {
   "cell_type": "markdown",
   "metadata": {
    "deletable": false,
    "editable": false
   },
   "source": [
    "### Create Utils\n",
    "For illustration purposes, this lab requires specific user defined functions and objects for the following:\n",
    "- Functions for converting hash range strings to integers\n",
    "- YB-TServer metrics"
   ]
  },
  {
   "cell_type": "markdown",
   "metadata": {
    "deletable": false,
    "editable": false
   },
   "source": [
    "#### Util Functions"
   ]
  },
  {
   "cell_type": "code",
   "execution_count": null,
   "metadata": {
    "vscode": {
     "languageId": "shellscript"
    }
   },
   "outputs": [],
   "source": [
    "%%bash -s \"$MY_YB_PATH\" \"$MY_DB_NAME\" \"$MY_NOTEBOOK_UTILS_FOLDER\" \"$MY_UTIL_FUNCTIONS_FILE\"  # util functions\n",
    "YB_PATH=${1}\n",
    "DB_NAME=${2}\n",
    "UTILS_FOLDER=${3}\n",
    "UTIL_FUNCTIONS_FILE=${4}\n",
    "\n",
    "\n",
    "#ls $UTIL_FOLDER\n",
    "UTIL_FUNCTIONS_FILE_PATH=${UTILS_FOLDER}/${UTIL_FUNCTIONS_FILE}\n",
    "\n",
    "cd $YB_PATH\n",
    "\n",
    "# Functions file\n",
    "./bin/ysqlsh -q -d ${DB_NAME} -f ${UTIL_FUNCTIONS_FILE_PATH} \n",
    "sleep 1;\n",
    "\n",
    "# Describe functions\n",
    "./bin/ysqlsh -d ${DB_NAME} -c \"\\df\""
   ]
  },
  {
   "cell_type": "markdown",
   "metadata": {
    "deletable": false,
    "editable": false
   },
   "source": [
    "#### Util Metrics"
   ]
  },
  {
   "cell_type": "code",
   "execution_count": 36,
   "metadata": {
    "vscode": {
     "languageId": "shellscript"
    }
   },
   "outputs": [
    {
     "name": "stdout",
     "output_type": "stream",
     "text": [
      "CREATE EXTENSION\n",
      "DROP TABLE\n",
      "DROP FUNCTION\n",
      "DROP VIEW\n",
      "DROP VIEW\n",
      "DROP VIEW\n",
      "DROP FUNCTION\n",
      "DROP VIEW\n",
      "DROP FUNCTION\n",
      "DROP VIEW\n",
      "CREATE TABLE\n",
      "CREATE FUNCTION\n",
      "CREATE VIEW\n",
      "CREATE VIEW\n",
      "CREATE VIEW\n",
      "CREATE VIEW\n",
      "CREATE VIEW\n",
      "CREATE FUNCTION\n",
      "CREATE FUNCTION\n",
      "CREATE FUNCTION\n",
      "CREATE FUNCTION\n",
      "CREATE FUNCTION\n",
      "                                                                                                                                                               List of functions\n",
      " Schema |                        Name                        |                                                                                       Result data type                                                                                        |                           Argument data types                            | Type \n",
      "--------+----------------------------------------------------+-----------------------------------------------------------------------------------------------------------------------------------------------------------------------------------------------+--------------------------------------------------------------------------+------\n",
      " public | connectby                                          | SETOF record                                                                                                                                                                                  | text, text, text, text, integer                                          | func\n",
      " public | connectby                                          | SETOF record                                                                                                                                                                                  | text, text, text, text, integer, text                                    | func\n",
      " public | connectby                                          | SETOF record                                                                                                                                                                                  | text, text, text, text, text, integer                                    | func\n",
      " public | connectby                                          | SETOF record                                                                                                                                                                                  | text, text, text, text, text, integer, text                              | func\n",
      " public | crosstab                                           | SETOF record                                                                                                                                                                                  | text                                                                     | func\n",
      " public | crosstab                                           | SETOF record                                                                                                                                                                                  | text, integer                                                            | func\n",
      " public | crosstab                                           | SETOF record                                                                                                                                                                                  | text, text                                                               | func\n",
      " public | crosstab2                                          | SETOF tablefunc_crosstab_2                                                                                                                                                                    | text                                                                     | func\n",
      " public | crosstab3                                          | SETOF tablefunc_crosstab_3                                                                                                                                                                    | text                                                                     | func\n",
      " public | crosstab4                                          | SETOF tablefunc_crosstab_4                                                                                                                                                                    | text                                                                     | func\n",
      " public | fn_convert_partition_hex_range                     | text                                                                                                                                                                                          | p_partition text                                                         | func\n",
      " public | fn_find_hash_code_in_partition_hex_range           | text                                                                                                                                                                                          | p_hash_code integer, p_partition text                                    | func\n",
      " public | fn_hex_to_int                                      | integer                                                                                                                                                                                       | hexval text                                                              | func\n",
      " public | fn_random_int_from_array                           | integer                                                                                                                                                                                       | id integer DEFAULT 1                                                     | func\n",
      " public | fn_random_name                                     | text                                                                                                                                                                                          | isfirstname integer DEFAULT 0, islastname integer DEFAULT 0              | func\n",
      " public | fn_test                                            | TABLE(replace_host text, a_host text)                                                                                                                                                         | gitpod_url text DEFAULT 'local'::text                                    | func\n",
      " public | fn_yb_create_stmts                                 | timestamp with time zone                                                                                                                                                                      | gitpod_url text DEFAULT 'local'::text                                    | func\n",
      " public | fn_yb_tserver_metrics_snap                         | timestamp with time zone                                                                                                                                                                      | snaps_to_keep integer DEFAULT 1, yb_tserver_webport integer DEFAULT 8200 | func\n",
      " public | fn_yb_tserver_metrics_snap_and_show_tablet_load    | TABLE(value numeric, rate numeric, namespace_name text, table_name text, table_id text, host text, tablet_id text, is_raft_leader text, metric_name text, percent_table numeric, ops numeric) | gitpod_url text DEFAULT 'local'::text                                    | func\n",
      " public | fn_yb_tserver_metrics_snap_and_show_tablet_load_ct | TABLE(row_name text, rocksdb_number_db_seek numeric, rocksdb_number_db_next numeric, rows_inserted numeric)                                                                                   | gitpod_url text DEFAULT 'local'::text                                    | func\n",
      " public | fn_yb_tserver_metrics_snap_table                   | TABLE(row_name text, rocksdb_number_db_seek numeric, rocksdb_number_db_next numeric, rows_inserted numeric)                                                                                   | gitpod_url text DEFAULT 'local'::text                                    | func\n",
      " public | normal_rand                                        | SETOF double precision                                                                                                                                                                        | integer, double precision, double precision                              | func\n",
      "(22 rows)\n",
      "\n"
     ]
    },
    {
     "name": "stderr",
     "output_type": "stream",
     "text": [
      "ysqlsh:/Users/seth/Documents/GitHub/YugabyteDB-University/YSQLPE03-Where-Clause/utils/util_ybtserver_metrics.sql:11: NOTICE:  extension \"tablefunc\" already exists, skipping\n",
      "ysqlsh:/Users/seth/Documents/GitHub/YugabyteDB-University/YSQLPE03-Where-Clause/utils/util_ybtserver_metrics.sql:14: NOTICE:  drop cascades to 4 other objects\n",
      "DETAIL:  drop cascades to view vw_yb_tserver_metrics_last\n",
      "drop cascades to view vw_yb_tserver_metrics_report\n",
      "drop cascades to view vw_yb_tserver_metrics_snapshot_tablets\n",
      "drop cascades to view vw_yb_tserver_metrics_snapshot_tablets_metrics\n",
      "ysqlsh:/Users/seth/Documents/GitHub/YugabyteDB-University/YSQLPE03-Where-Clause/utils/util_ybtserver_metrics.sql:16: NOTICE:  view \"vw_yb_tserver_metrics_snapshot_tablets\" does not exist, skipping\n",
      "ysqlsh:/Users/seth/Documents/GitHub/YugabyteDB-University/YSQLPE03-Where-Clause/utils/util_ybtserver_metrics.sql:17: NOTICE:  view \"vw_yb_tserver_metrics_report\" does not exist, skipping\n",
      "ysqlsh:/Users/seth/Documents/GitHub/YugabyteDB-University/YSQLPE03-Where-Clause/utils/util_ybtserver_metrics.sql:18: NOTICE:  view \"vw_yb_tserver_metrics_snapshot_tablets_metrics\" does not exist, skipping\n",
      "ysqlsh:/Users/seth/Documents/GitHub/YugabyteDB-University/YSQLPE03-Where-Clause/utils/util_ybtserver_metrics.sql:20: NOTICE:  view \"vw_yb_tserver_metrics_snap_and_show_tablet_load\" does not exist, skipping\n",
      "ysqlsh:/Users/seth/Documents/GitHub/YugabyteDB-University/YSQLPE03-Where-Clause/utils/util_ybtserver_metrics.sql:22: NOTICE:  view \"vw_yb_tserver_metrics_snapshot_tablets_metrics\" does not exist, skipping\n"
     ]
    }
   ],
   "source": [
    "%%bash -s \"$MY_YB_PATH\" \"$MY_DB_NAME\" \"$MY_NOTEBOOK_UTILS_FOLDER\" \"$MY_UTIL_YBTSERVER_METRICS_FILE\"  # utl metrics\n",
    "YB_PATH=${1}\n",
    "DB_NAME=${2}\n",
    "UTILS_FOLDER=${3}\n",
    "UTIL_YBTSERVER_METRICS_FILE=${4}\n",
    "\n",
    "#ls $UTIL_FOLDER\n",
    "\n",
    "UTIL_YBTSERVER_METRICS_FILE=${UTILS_FOLDER}/${UTIL_YBTSERVER_METRICS_FILE}\n",
    "\n",
    "cd $YB_PATH\n",
    "\n",
    "# Metrics file\n",
    "./bin/ysqlsh -d ${DB_NAME} -f ${UTIL_YBTSERVER_METRICS_FILE}\n",
    "# >&/dev/null\n",
    "\n",
    "# Describe relations\n",
    "./bin/ysqlsh -d ${DB_NAME} -c \"\\df\""
   ]
  },
  {
   "cell_type": "markdown",
   "metadata": {
    "deletable": false,
    "editable": false
   },
   "source": [
    "### Create tables and loaded data using DDL and DML scripts\n",
    "- Create tables with a DDL script\n",
    "- Load data with a DML script\n",
    "- Verify the creation of tables and data\n",
    "- View the DDL for tbl_countries"
   ]
  },
  {
   "cell_type": "markdown",
   "metadata": {
    "deletable": false,
    "editable": false
   },
   "source": [
    "##### Create tables, load data, and review relations"
   ]
  },
  {
   "cell_type": "code",
   "execution_count": 35,
   "metadata": {
    "vscode": {
     "languageId": "shellscript"
    }
   },
   "outputs": [
    {
     "name": "stdout",
     "output_type": "stream",
     "text": [
      "                               List of relations\n",
      " Schema |                        Name                        | Type  |  Owner   \n",
      "--------+----------------------------------------------------+-------+----------\n",
      " public | tbl_cities                                         | table | yugabyte\n",
      " public | tbl_countries                                      | table | yugabyte\n",
      " public | tbl_no_pk                                          | table | yugabyte\n",
      " public | tbl_states                                         | table | yugabyte\n",
      " public | tbl_test                                           | table | yugabyte\n",
      " public | tbl_yb_tserver_metrics_snapshots                   | table | yugabyte\n",
      " public | test                                               | table | yugabyte\n",
      " public | test3                                              | table | yugabyte\n",
      " public | testb                                              | table | yugabyte\n",
      " public | vw_yb_tserver_metrics_last                         | view  | yugabyte\n",
      " public | vw_yb_tserver_metrics_report                       | view  | yugabyte\n",
      " public | vw_yb_tserver_metrics_snap_and_show_tablet_load_ct | view  | yugabyte\n",
      " public | vw_yb_tserver_metrics_snapshot_tablets             | view  | yugabyte\n",
      " public | vw_yb_tserver_metrics_snapshot_tablets_metrics     | view  | yugabyte\n",
      "(14 rows)\n",
      "\n"
     ]
    }
   ],
   "source": [
    "%%bash -s \"$MY_YB_PATH\" \"$MY_DB_NAME\" \"$MY_NOTEBOOK_DATA_FOLDER\" \"$MY_DATA_DDL_FILE\" \"$MY_DATA_DML_FILE\"   # World Cities\n",
    "YB_PATH=${1}\n",
    "DB_NAME=${2}\n",
    "DATA_FOLDER=${3}\n",
    "DATA_DDL_FILE=${4}\n",
    "DATA_DML_FILE=${5}\n",
    "\n",
    "#ls $DATA_FOLDER\n",
    "\n",
    "WORLD_DDL_PATH=${DATA_FOLDER}/${DATA_DDL_FILE}\n",
    "WORLD_DML_PATH=${DATA_FOLDER}/${DATA_DML_FILE}\n",
    "\n",
    "cd $YB_PATH\n",
    "\n",
    "# DDL file\n",
    "./bin/ysqlsh -d ${DB_NAME} -f ${WORLD_DDL_PATH} >&/dev/null\n",
    "sleep 1;\n",
    "\n",
    "# DML file\n",
    "./bin/ysqlsh -d ${DB_NAME} -f ${WORLD_DML_PATH} >&/dev/null\n",
    "sleep 1;\n",
    "\n",
    "# Describe relations\n",
    "./bin/ysqlsh -d ${DB_NAME} -c \"\\d\""
   ]
  },
  {
   "cell_type": "markdown",
   "metadata": {
    "deletable": false,
    "editable": false
   },
   "source": [
    "##### View DDL for tbl_countries\n",
    "\n",
    "- Requires bash and ysqlsh\n",
    "- SQL magic does not support the PostgreSQL commands"
   ]
  },
  {
   "cell_type": "code",
   "execution_count": null,
   "metadata": {
    "vscode": {
     "languageId": "shellscript"
    }
   },
   "outputs": [],
   "source": [
    "%%bash -s \"$MY_YB_PATH\" \"$MY_DB_NAME\"  # \\d tbl_countriees\n",
    "\n",
    "YB_PATH=${1}\n",
    "DB_NAME=${2}\n",
    "\n",
    "cd $YB_PATH\n",
    "\n",
    "\n",
    "./bin/ysqlsh -d ${DB_NAME} -c \"\\d tbl_countries\"\n",
    "#./bin/ysqlsh -d ${DBNAME} -c \"\\d tbl_countries\"\n",
    "#./bin/ysqlsh -d ${DBNAME} -c \"\\d tbl_states\"\n"
   ]
  },
  {
   "cell_type": "markdown",
   "metadata": {
    "deletable": false,
    "editable": false
   },
   "source": [
    "## Connect to YugabyteDB using the PostgreSQL Driver for Python\n",
    "The following cell requires:\n",
    "- Python 3.8+ and psycopg2\n"
   ]
  },
  {
   "cell_type": "code",
   "execution_count": null,
   "metadata": {
    "deletable": false,
    "editable": false
   },
   "outputs": [],
   "source": [
    "# Connect to db_ybu\n",
    "# Inspiration from https://medium.com/analytics-vidhya/postgresql-integration-with-jupyter-notebook-deb97579a38d\n",
    "import psycopg2\n",
    "import sqlalchemy as alc\n",
    "from sqlalchemy import create_engine\n",
    "\n",
    "# env_var.env\n",
    "db_host=MY_HOST_IPv4_01\n",
    "db_name=MY_DB_NAME\n",
    "\n",
    "connection_str='postgresql+psycopg2://yugabyte@'+db_host+':5433/'+db_name\n",
    "\n",
    "engine = create_engine(connection_str)"
   ]
  },
  {
   "cell_type": "markdown",
   "metadata": {
    "deletable": false,
    "editable": false
   },
   "source": [
    "#### Load SQL magic extension\n",
    ">IMPORTANT!\n",
    ">\n",
    "> To use SQL magic, you must run the following cell that loads the notebook extension."
   ]
  },
  {
   "cell_type": "code",
   "execution_count": null,
   "metadata": {
    "vscode": {
     "languageId": "sql"
    }
   },
   "outputs": [],
   "source": [
    "%reload_ext sql\n",
    "# Example format\n",
    "%sql {connection_str}"
   ]
  },
  {
   "cell_type": "markdown",
   "metadata": {
    "deletable": false,
    "editable": false
   },
   "source": [
    "#### Show table row counts"
   ]
  },
  {
   "cell_type": "code",
   "execution_count": null,
   "metadata": {
    "vscode": {
     "languageId": "sql"
    }
   },
   "outputs": [],
   "source": [
    "%%sql /* row counts */\n",
    "\n",
    "select '' _\n",
    "    , v1.name\n",
    "    , v1.counts\n",
    "from (\n",
    "    select 'tbl_cities' as name, count(*) as counts from tbl_cities\n",
    "    union \n",
    "    select 'tbl_cities_name_alt_null' as name, count(*) \n",
    "    from tbl_cities\n",
    "    where 1=1\n",
    "    and city_name_alt IS NULL\n",
    "    union\n",
    "    select 'tbl_states' as name,count(*) from tbl_states\n",
    "    union \n",
    "    select 'tbl_countries' as name, count(*) from tbl_countries\n",
    "    union\n",
    "    select 'tbl_country_name_alt_null' as name, count(*) \n",
    "    from tbl_countries \n",
    "    where 1=1\n",
    "    and country_name_alt IS NULL\n",
    "    ) v1\n",
    "order by v1.counts desc;"
   ]
  },
  {
   "cell_type": "markdown",
   "metadata": {
    "deletable": false,
    "editable": false
   },
   "source": [
    "---\n",
    "# That's It!\n",
    "In this lab, you completed the following:\n",
    "\n",
    "- Setup\n",
    "  - Created the `db_ybu` database with `ysqlsh`\n",
    "  - Created utils\n",
    "  - Created tables and loaded data using DDL and DML scripts\n",
    "  - Connected to the database using a PostgreSQL driver for Python\n",
    "\n",
    "Next, open `02_Tables_Tablets_and_Sharding.ipynb`"
   ]
  },
  {
   "cell_type": "code",
   "execution_count": null,
   "metadata": {
    "vscode": {
     "languageId": "shellscript"
    }
   },
   "outputs": [],
   "source": [
    "%%bash\n",
    "gp open 02_Tables_Tablets_and_Sharding.ipynb"
   ]
  }
 ],
 "metadata": {
  "kernelspec": {
   "display_name": "Python 3.7.9 64-bit",
   "language": "python",
   "name": "python3"
  },
  "language_info": {
   "codemirror_mode": {
    "name": "ipython",
    "version": 3
   },
   "file_extension": ".py",
   "mimetype": "text/x-python",
   "name": "python",
   "nbconvert_exporter": "python",
   "pygments_lexer": "ipython3",
   "version": "3.7.9"
  },
  "orig_nbformat": 4,
  "vscode": {
   "interpreter": {
    "hash": "aee8b7b246df8f9039afb4144a1f6fd8d2ca17a180786b69acc140d282b71a49"
   }
  }
 },
 "nbformat": 4,
 "nbformat_minor": 2
}
