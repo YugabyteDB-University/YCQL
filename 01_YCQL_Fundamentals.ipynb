{
 "cells": [
  {
   "cell_type": "markdown",
   "metadata": {
    "deletable": false,
    "editable": false
   },
   "source": [
    "# Lab Requirements and Setup\n",
    "\n",
    "This lab consists of several Jupyter notebooks. The notebooks run in Gitpod. [Gitpod](https://www.gitpod.io/) facilitates runtime environments where a YugabyteDB database cluster can be deployed. Read the following instructions for requirements and setup of the Gitpod environment.\n",
    "\n",
    "## About Jupyter notebooks\n",
    "You will use a Jupyter notebook in this lab to run commands to assign environmental variables and Cassandra Query Language commands for the Yugabyte Cloud Query Language known as YCQL. \n",
    "\n",
    "There are two types of cells: markdown and code. This is a markdown cell.\n",
    "\n",
    "You run a code cell by simply selecting the play icon in the cell's left gutter. For code cells, you can modify the code for execution. Certain labs contain challenges or experiments that require you to do just that - modify a code cell and re-run it!\n",
    "\n",
    "### Requirements\n",
    "Here are the requirements for this lab:\n",
    "- Launch using a gitpod workspace\n",
    "- Run a three node, YugabyteDB cluster using `yb-ctl`\n",
    "\n",
    "> Note\n",
    ">  \n",
    "> Although a three node cluster is up and running, Gitpod does not support visiting loopback addresses over a web ui, even if exposed on a different port.\n",
    "> 127.0.0.1 is the only web user interfaces. To see all available ports in Gitpod, in the terminal, run `gp ports list`."
   ]
  },
  {
   "cell_type": "markdown",
   "metadata": {
    "deletable": false,
    "editable": false
   },
   "source": [
    "#### Notebook keyboard shortcuts\n",
    "The Jupyter extension for Gitpod supports the following keyboard shortcuts:\n",
    "| Keystroke | Description |\n",
    "|--|--|\n",
    "| ESC | Change the cell mode |\n",
    "| A | Add a cell above |\n",
    "| B | Add a cell below |\n",
    "| J or down arrow key |  Change a cell to below | \n",
    "| K or up arrow key | Change a cell to above | \n",
    "| Ctrl+Enter | Run the currently selected cell |\n",
    "| Shift+Enter | Run the currently selected cell and insert a new cell immediately below (focus moves to new cell) |\n",
    "| Alt+Enter | Run the currently selected cell and insert a new cell immediately below (focus remains on current cell) |\n",
    "| dd | Delete a selected cell |\n",
    "| z | Undo the last change | \n",
    "| M | switch the cell type to Markdown | \n",
    "| Y | switch the cell type to code |\n",
    "| L | Enable/Disable line numbers |\n",
    "```\n"
   ]
  },
  {
   "cell_type": "markdown",
   "metadata": {
    "deletable": false,
    "editable": false
   },
   "source": [
    "## Setup steps\n",
    "Here are the steps to setup this lab:\n",
    "- Install missing dependencies and restart the notebook\n",
    "- Create the notebook variables\n",
    "- Create the `db_ybu` database"
   ]
  },
  {
   "cell_type": "markdown",
   "metadata": {},
   "source": [
    "### Install missing dependencies and restart the notebook\n",
    "Run the following cell to ensure that the notebook dependencies are available to the notebook. "
   ]
  },
  {
   "cell_type": "markdown",
   "metadata": {
    "deletable": false,
    "editable": false
   },
   "source": [
    "### Create the notebook variables \n",
    "\n",
    "> IMPORTANT!\n",
    "> \n",
    "> Do NOT skip running this cell. \n",
    "> \n",
    "\n",
    "The following Python cell creates and stores variables that all the notebooks in this lab will use. You can view these variables in the Jupyter tab.\n",
    "\n",
    "- To run the script, select Execute Cell (Play Arrow) in the left gutter of the cell.\n",
    "- Verify the accuracy of the output values"
   ]
  },
  {
   "cell_type": "code",
   "execution_count": null,
   "metadata": {
    "vscode": {
     "languageId": "shellscript"
    }
   },
   "outputs": [],
   "source": [
    "# Env variables for Notebook\n",
    "import os\n",
    "\n",
    "# read env_vars.env\n",
    "env_vars = !cat env_vars.env\n",
    "for var in env_vars:\n",
    "    key, value = var.split('=')\n",
    "    os.environ[key] = value\n",
    " \n",
    "\n",
    "# Comment out Local\n",
    "# MY_YB_PATH=os.environ.get('MY_YB_PATH_LOCAL')\n",
    "# MY_GITPOD_WORKSPACE_URL=os.environ.get('MY_GITPOD_WORKSPACE_URL_LOCAL')\n",
    "# MY_SUDO=os.environ.get('MY_SUDO')\n",
    "\n",
    "# Gitpod specific\n",
    "MY_YB_PATH=os.environ.get('MY_YB_PATH')\n",
    "MY_GITPOD_WORKSPACE_URL=os.environ.get('GITPOD_WORKSPACE_URL')\n",
    "\n",
    "# env_vars defines the following\n",
    "MY_DB_NAME=os.environ.get('MY_DB_NAME')\n",
    "MY_HOST_IPv4_01=os.environ.get('MY_HOST_IPv4_01')\n",
    "MY_HOST_IPv4_02=os.environ.get('MY_HOST_IPv4_02')\n",
    "MY_HOST_IPv4_03=os.environ.get('MY_HOST_IPv4_03')\n",
    "MY_TSERVER_WEBSERVER_PORT=os.environ.get('MY_TSERVER_WEBSERVER_PORT')\n",
    "MY_DATA_DDL_FILE=os.environ.get(\"MY_DATA_DDL_FILE\")\n",
    "MY_DATA_DML_FILE=os.environ.get(\"MY_DATA_DML_FILE\")\n",
    "print(MY_DATA_DDL_FILE, MY_DATA_DML_FILE)\n",
    "MY_UTIL_FUNCTIONS_FILE=os.environ.get(\"MY_UTIL_FUNCTIONS_FILE\")\n",
    "MY_UTIL_YBTSERVER_METRICS_FILE=os.environ.get(\"MY_UTIL_YBTSERVER_METRICS_FILE\")\n",
    "\n",
    "# Current directory of project and related child folders\n",
    "MY_NOTEBOOK_DIR=os.getcwd()\n",
    "MY_NOTEBOOK_DATA_FOLDER=MY_NOTEBOOK_DIR +'/data'\n",
    "MY_NOTEBOOK_UTILS_FOLDER=MY_NOTEBOOK_DIR + '/utils'\n",
    "\n",
    "print(MY_NOTEBOOK_DATA_FOLDER, MY_NOTEBOOK_UTILS_FOLDER)\n",
    "# Store the note book values for other notebooks to use\n",
    "\n",
    "%store MY_DB_NAME\n",
    "%store MY_YB_PATH\n",
    "%store MY_GITPOD_WORKSPACE_URL\n",
    "%store MY_HOST_IPv4_01\n",
    "%store MY_HOST_IPv4_02\n",
    "%store MY_HOST_IPv4_03\n",
    "%store MY_NOTEBOOK_DIR\n",
    "%store MY_TSERVER_WEBSERVER_PORT\n",
    "%store MY_NOTEBOOK_DATA_FOLDER\n",
    "%store MY_NOTEBOOK_UTILS_FOLDER\n",
    "%store MY_DATA_DDL_FILE\n",
    "%store MY_DATA_DML_FILE\n",
    "%store MY_UTIL_FUNCTIONS_FILE\n",
    "%store MY_UTIL_YBTSERVER_METRICS_FILE"
   ]
  },
  {
   "cell_type": "markdown",
   "metadata": {},
   "source": [
    "#### YCQL Shell Commands\n",
    "The following commands are YCQL shell commands that use the YCQLSH to connect to the keyspace. Work down the list of commands, uncommenting only one line at a time under the YCQL Shell Commands comment."
   ]
  },
  {
   "cell_type": "code",
   "execution_count": null,
   "metadata": {
    "vscode": {
     "languageId": "shellscript"
    }
   },
   "outputs": [],
   "source": [
    "%%bash -s \"$MY_YB_PATH\"   # Shell Commands\n",
    "YB_PATH=${1}\n",
    "cd $YB_PATH\n",
    "\n",
    "# YCQL Shell Commands\n",
    "./bin/ycqlsh --execute \"HELP SHOW\"  \n",
    "# ./bin/ycqlsh --execute \"SHOW VERSION\"  \n",
    "# ./bin/ycqlsh --execute \"SHOW HOST\"\n",
    "# ./bin/ycqlsh --execute \"HELP DESCRIBE\"\n",
    "# ./bin/ycqlsh --execute \"DESC KEYSPACES\"\n",
    "# ./bin/ycqlsh --execute \"DESC TABLES\"\n",
    "# ./bin/ycqlsh --execute \"HELP LOGIN\"\n",
    "# ./bin/ycqlsh --execute \"LOGIN cassandra\"\n",
    "# ./bin/ycqlsh --execute \"./bin/ycqlsh -u cassandra -p cassandra\"\n",
    "# ./bin/ycqlsh --execute \"EXIT\"\n",
    "# ./bin/ycqlsh --execute \"SELECT * FROM system_auth.roles;\"  "
   ]
  },
  {
   "cell_type": "markdown",
   "metadata": {},
   "source": [
    "The results of these commands show how to display information about the database environment and how to select roles, important for role backed security. In the preceeding commands, note that the `ycqlsh` script is used to execute a shell command. You will use this command to send YCQL commands to the database."
   ]
  },
  {
   "cell_type": "markdown",
   "metadata": {
    "deletable": false,
    "editable": false
   },
   "source": [
    "### Create the `mydemo` keyspace and `employees` table with `ycqlsh`\n",
    "Run the following cell to connect to the YugabyteDB cluster using `ycqlsh`, then create the `mydemo` keyspace and `employees` table."
   ]
  },
  {
   "cell_type": "code",
   "execution_count": null,
   "metadata": {
    "vscode": {
     "languageId": "shellscript"
    }
   },
   "outputs": [],
   "source": [
    "%%bash -s \"$MY_YB_PATH\"   # Create the keyspace, mydemo, and table, employees\n",
    "YB_PATH=${1}\n",
    "cd $YB_PATH\n",
    "\n",
    "\n",
    "./bin/ycqlsh --execute \"CREATE KEYSPACE IF NOT EXISTS mydemo;\"\n",
    "\n",
    "./bin/ycqlsh --execute \"\n",
    "  CREATE TABLE mydemo.employees ( \n",
    "      id INT, \n",
    "      name TEXT, \n",
    "      email TEXT,\n",
    "      PRIMARY KEY (id)\n",
    "  );\n",
    "\"\n",
    "\n",
    "./bin/ycqlsh --execute \"DESC keyspaces\"\n"
   ]
  },
  {
   "cell_type": "markdown",
   "metadata": {},
   "source": [
    "#### Write to the table employees\n",
    "Seed the employees table with employee data."
   ]
  },
  {
   "cell_type": "code",
   "execution_count": null,
   "metadata": {
    "vscode": {
     "languageId": "shellscript"
    }
   },
   "outputs": [],
   "source": [
    "%%bash -s \"$MY_YB_PATH\"   # Populate the employees table\n",
    "YB_PATH=${1}\n",
    "cd $YB_PATH\n",
    "\n",
    "./bin/ycqlsh --execute \"\n",
    "  INSERT INTO mydemo.employees (id, name, email) VALUES \n",
    "    (1, 'Bruce Wayne', 'batman@yb.com');\n",
    " \"\n",
    "\n",
    "./bin/ycqlsh --execute \"\n",
    "  INSERT INTO mydemo.employees (id, name, email) VALUES \n",
    "      (2, 'Clark Kent', 'superman@yb.com');\n",
    "\"\n",
    "\n",
    "./bin/ycqlsh --execute \"\n",
    "  INSERT INTO mydemo.employees (id, name, email) VALUES \n",
    "      (3, 'Peter Parker', 'spiderman@yb.com');\n",
    "\""
   ]
  },
  {
   "cell_type": "markdown",
   "metadata": {},
   "source": [
    "#### Read from Table \n",
    "Verify the tables were seeded with data. In this section, run the following cells to see the difference between searching for all the rows, a particular value, or a range of values by changing the WHERE clause predicate."
   ]
  },
  {
   "cell_type": "code",
   "execution_count": null,
   "metadata": {
    "vscode": {
     "languageId": "shellscript"
    }
   },
   "outputs": [],
   "source": [
    "%%bash -s \"$MY_YB_PATH\"   # Data search\n",
    "YB_PATH=${1}\n",
    "cd $YB_PATH\n",
    "\n",
    "# Read all columns from the employees table\n",
    "./bin/ycqlsh --execute \"SELECT * FROM mydemo.employees;\""
   ]
  },
  {
   "cell_type": "code",
   "execution_count": null,
   "metadata": {
    "vscode": {
     "languageId": "shellscript"
    }
   },
   "outputs": [],
   "source": [
    "%%bash -s \"$MY_YB_PATH\"   \n",
    "YB_PATH=${1}\n",
    "cd $YB_PATH\n",
    "\n",
    "# Find an employee id = 3\n",
    "./bin/ycqlsh --execute \"\n",
    "  SELECT id as company_id, name as full_name FROM mydemo.employees WHERE id=3;\n",
    "\""
   ]
  },
  {
   "cell_type": "markdown",
   "metadata": {},
   "source": [
    "#### Range Query\n",
    "To select a range of values, the AND operator is used to create the upper and lower limits of the search."
   ]
  },
  {
   "cell_type": "code",
   "execution_count": null,
   "metadata": {
    "vscode": {
     "languageId": "shellscript"
    }
   },
   "outputs": [],
   "source": [
    "%%bash -s \"$MY_YB_PATH\"   \n",
    "YB_PATH=${1}\n",
    "cd $YB_PATH\n",
    "\n",
    "# Search a range of values\n",
    "./bin/ycqlsh --execute \"\n",
    "  SELECT * FROM mydemo.employees WHERE name>='B' AND name<'D';\n",
    "\""
   ]
  },
  {
   "cell_type": "markdown",
   "metadata": {},
   "source": [
    "## Import data from SQL scripts\n",
    "In this section, you will create a new keyspace, `db_ybu`, where you will import sql scripts. Run the next cell, to create the keyspace, `db_ybu`."
   ]
  },
  {
   "cell_type": "code",
   "execution_count": null,
   "metadata": {
    "vscode": {
     "languageId": "shellscript"
    }
   },
   "outputs": [],
   "source": [
    "%%bash -s \"$MY_YB_PATH\" \"$MY_DB_NAME\" \n",
    "YB_PATH=${1}\n",
    "DB_NAME=${2}\n",
    "\n",
    "cd $YB_PATH\n",
    "\n",
    "# Drop keyspace if exists\n",
    "./bin/ycqlsh --execute \"\n",
    "  DROP KEYSPACE IF EXISTS \"${DB_NAME}\";\n",
    "\"\n",
    " \n",
    "# Create keyspace, db_ybu\n",
    "./bin/ycqlsh --execute \"\n",
    "  CREATE KEYSPACE \"${DB_NAME}\";\n",
    "\" \n",
    "\n",
    "# Connect to the keyspace, db_ybu\n",
    "./bin/ycqlsh --execute \"USE \"${DB_NAME}\";\"\n",
    "\n",
    "# List keyspaces, validate keyspace creation\n",
    "./bin/ycqlsh --execute \"DESCRIBE \"${DB_NAME}\"\""
   ]
  },
  {
   "cell_type": "markdown",
   "metadata": {},
   "source": [
    "To verify that the keyspace, db_ybu, was created successfully, you can use the DESCRIBE shell command, also abbreviated as DESC."
   ]
  },
  {
   "cell_type": "markdown",
   "metadata": {},
   "source": [
    "### Load DDL and Data from File\n",
    "You will run the following cell in order to assign the file paths of the DML and DDL sql scripts. Once the DDL file creates the tables, the DML file will populate the tables with data."
   ]
  },
  {
   "cell_type": "code",
   "execution_count": null,
   "metadata": {
    "vscode": {
     "languageId": "shellscript"
    }
   },
   "outputs": [],
   "source": [
    "%%bash -s \"$MY_YB_PATH\" \"$MY_DB_NAME\" \"$MY_NOTEBOOK_DATA_FOLDER\" \"$MY_DATA_DDL_FILE\" \"$MY_DATA_DML_FILE\"   \n",
    "# Wishlist\n",
    "YB_PATH=${1}\n",
    "DB_NAME=${2}\n",
    "DATA_FOLDER=${3}\n",
    "DATA_DDL_FILE=${4}\n",
    "DATA_DML_FILE=${5}\n",
    "\n",
    "# ls $DATA_FOLDER\n",
    "\n",
    "WISHLIST_DDL_PATH=${DATA_FOLDER}/${DATA_DDL_FILE}\n",
    "WISHLIST_DML_PATH=${DATA_FOLDER}/${DATA_DML_FILE}\n",
    "\n",
    "cd $YB_PATH\n",
    "\n",
    "# DDL file\n",
    "./bin/ycqlsh -k ${DB_NAME} -f ${WISHLIST_DDL_PATH} \n",
    "sleep 1;\n",
    "\n",
    "# # DML file\n",
    "./bin/ycqlsh -k ${DB_NAME} -f ${WISHLIST_DML_PATH} \n",
    "sleep 1;\n",
    "\n",
    "# # Describe relations\n",
    "./bin/ycqlsh --execute \"DESCRIBE TABLES\""
   ]
  },
  {
   "cell_type": "markdown",
   "metadata": {},
   "source": [
    "In the preceeding import commands, you ran the YCQL commands in the YCQL shell to connect to the db_ybu keyspace and execute the respective sql scripts. Note that the DESCRIBE TABLES shell command displays the schemas of each table in the keyspace, `db_ybu`. Note that the DESCRIBE shell command can be used to describe keyspaces, tables, indexes, and sequences as well. For more information about the use of DESCRIBE, use the HELP DESCRIBE command."
   ]
  },
  {
   "cell_type": "markdown",
   "metadata": {},
   "source": [
    "### Verify the tables were seeded\n",
    "Run the following cell to verfy each of the three tables "
   ]
  },
  {
   "cell_type": "code",
   "execution_count": null,
   "metadata": {
    "vscode": {
     "languageId": "shellscript"
    }
   },
   "outputs": [],
   "source": [
    "%%bash -s \"$MY_YB_PATH\"   # Verify data population\n",
    "YB_PATH=${1}\n",
    "cd $YB_PATH\n",
    "\n",
    "# Read data in the tbl_wishlists_by_category\n",
    "./bin/ycqlsh --execute \"\n",
    "  SELECT * FROM db_ybu.tbl_products_by_category;\n",
    "\"  "
   ]
  },
  {
   "cell_type": "code",
   "execution_count": null,
   "metadata": {
    "vscode": {
     "languageId": "shellscript"
    }
   },
   "outputs": [],
   "source": [
    "%%bash -s \"$MY_YB_PATH\"  \n",
    "YB_PATH=${1}\n",
    "cd $YB_PATH\n",
    "\n",
    "# Read data in the tbl_wishlists_by_user \n",
    "./bin/ycqlsh --execute \"\n",
    "  SELECT * FROM db_ybu.tbl_wishlists_by_user;\n",
    "\" "
   ]
  },
  {
   "cell_type": "code",
   "execution_count": null,
   "metadata": {
    "vscode": {
     "languageId": "shellscript"
    }
   },
   "outputs": [],
   "source": [
    "%%bash -s \"$MY_YB_PATH\"   \n",
    "YB_PATH=${1}\n",
    "cd $YB_PATH\n",
    "\n",
    "# Read data in the tbl_products_by_wishlist\n",
    "./bin/ycqlsh --execute \"\n",
    "  SELECT * FROM db_ybu.tbl_products_by_wishlist;\n",
    "\"  "
   ]
  },
  {
   "cell_type": "code",
   "execution_count": null,
   "metadata": {
    "vscode": {
     "languageId": "shellscript"
    }
   },
   "outputs": [],
   "source": [
    "%%bash -s \"$MY_YB_PATH\"   # Drop tables\n",
    "YB_PATH=${1}\n",
    "cd $YB_PATH\n",
    "\n",
    "./bin/ycqlsh --execute \"\n",
    "  DROP table IF EXISTS db_ybu.tbl_products_by_wishlist;\n",
    "\" \n",
    "\n",
    "./bin/ycqlsh --execute \"\n",
    "  DROP table IF EXISTS db_ybu.tbl_products_by_category;\n",
    "\" \n",
    "\n",
    "./bin/ycqlsh --execute \"\n",
    "  DROP table IF EXISTS db_ybu.tbl_wishlists_by_user;\n",
    "\" \n",
    "\n",
    "./bin/ycqlsh --execute \"\n",
    "  DROP keyspace IF EXISTS db_ybu;\n",
    "\" "
   ]
  },
  {
   "cell_type": "markdown",
   "metadata": {
    "deletable": false,
    "editable": false
   },
   "source": [
    "---\n",
    "# All done!\n",
    "In this lab, you completed the following:\n",
    "\n",
    "- Setup\n",
    "  - Created the `mydemo` keyspace with `ycqlsh`\n",
    "  - Created tables and loaded data using DDL and DML scripts"
   ]
  },
  {
   "cell_type": "code",
   "execution_count": null,
   "metadata": {
    "vscode": {
     "languageId": "shellscript"
    }
   },
   "outputs": [],
   "source": [
    "%%bash\n",
    "gp open 02_YCQL_Intermediate.ipynb"
   ]
  }
 ],
 "metadata": {
  "kernelspec": {
   "display_name": "Python 3.8.9 64-bit",
   "language": "python",
   "name": "python3"
  },
  "language_info": {
   "codemirror_mode": {
    "name": "ipython",
    "version": 3
   },
   "file_extension": ".py",
   "mimetype": "text/x-python",
   "name": "python",
   "nbconvert_exporter": "python",
   "pygments_lexer": "ipython3",
   "version": "3.8.9"
  },
  "orig_nbformat": 4,
  "vscode": {
   "interpreter": {
    "hash": "31f2aee4e71d21fbe5cf8b01ff0e069b9275f58929596ceb00d14d90e3e16cd6"
   }
  }
 },
 "nbformat": 4,
 "nbformat_minor": 2
}
