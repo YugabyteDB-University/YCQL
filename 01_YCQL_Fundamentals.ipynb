{
 "cells": [
  {
   "cell_type": "markdown",
   "metadata": {
    "deletable": false,
    "editable": false
   },
   "source": [
    "# Lab Requirements and Setup\n",
    "\n",
    "This lab consists of several Jupyter notebooks and runs in Gitpod using VS Code.  Follow the instructions for requirements and setup.\n",
    "\n",
    "## About Jupyter notebooks\n",
    "A notebook consists of one or more cells. In VS Code, notebooks cells are editable. \n",
    "\n",
    "There are two types of cells: markdown and code. This is a markdown cell.\n",
    "\n",
    "You run a code cell by simply selecting the play icon in the cell's left gutter. For code cells, you can modify the code for execution. Certain labs contain challenges or experiments that require you to do just that - modify a code cell and re-run it!\n",
    "\n",
    "### Requirements\n",
    "Here are the requirements for this lab:\n",
    "- Launch using a gitpod workspace\n",
    "- Run a three node, YugabyteDB cluster using `yb-ctl`\n",
    "\n",
    "> Note\n",
    ">  \n",
    "> Although a three node cluster is up and running, Gitpod does not support visiting loopback addresses over a web ui, even if exposed on a different port.\n",
    "> 127.0.0.1 is the only web user interfaces. To see all available ports in Gitpod, in the terminal, run `gp ports list`."
   ]
  },
  {
   "cell_type": "markdown",
   "metadata": {
    "deletable": false,
    "editable": false
   },
   "source": [
    "#### Notebook keyboard shortcuts\n",
    "The Jupyter extension for Gitpod supports the following keyboard shortcuts:\n",
    "| Keystroke | Description |\n",
    "|--|--|\n",
    "| ESC | Change the cell mode |\n",
    "| A | Add a cell above |\n",
    "| B | Add a cell below |\n",
    "| J or down arrow key |  Change a cell to below | \n",
    "| K or up arrow key | Change a cell to above | \n",
    "| Ctrl+Enter | Run the currently selected cell |\n",
    "| Shift+Enter | Run the currently selected cell and insert a new cell immediately below (focus moves to new cell) |\n",
    "| Alt+Enter | Run the currently selected cell and insert a new cell immediately below (focus remains on current cell) |\n",
    "| dd | Delete a selected cell |\n",
    "| z | Undo the last change | \n",
    "| M | switch the cell type to Markdown | \n",
    "| Y | switch the cell type to code |\n",
    "| L | Enable/Disable line numbers |\n",
    "```\n"
   ]
  },
  {
   "cell_type": "markdown",
   "metadata": {
    "deletable": false,
    "editable": false
   },
   "source": [
    "## Setup steps\n",
    "Here are the steps to setup this lab:\n",
    "- Install missing dependencies and restart the notebook\n",
    "- Create the notebook variables\n",
    "- Create the `db_ybu` database"
   ]
  },
  {
   "cell_type": "markdown",
   "metadata": {},
   "source": [
    "### Install missing dependencies and restart the notebook\n",
    "Run the following cell to ensure that the notebook dependencies are available to the notebook. "
   ]
  },
  {
   "cell_type": "markdown",
   "metadata": {
    "deletable": false,
    "editable": false
   },
   "source": [
    "### Create the notebook variables \n",
    "\n",
    "> IMPORTANT!\n",
    "> \n",
    "> Do NOT skip running this cell. \n",
    "> \n",
    "\n",
    "The following Python cell creates and stores variables that all the notebooks in this lab will use. You can view these variables in the Jupyter tab.\n",
    "\n",
    "- To run the script, select Execute Cell (Play Arrow) in the left gutter of the cell.\n",
    "- Verify the accuracy of the output values"
   ]
  },
  {
   "cell_type": "code",
   "execution_count": 2,
   "metadata": {
    "vscode": {
     "languageId": "shellscript"
    }
   },
   "outputs": [
    {
     "name": "stdout",
     "output_type": "stream",
     "text": [
      "wishlist_ddl.sql wishlist_dml.sql\n",
      "/Users/markkim/Documents/YBU_repos/jupyter/YCQL-01/data /Users/markkim/Documents/YBU_repos/jupyter/YCQL-01/utils\n",
      "Stored 'MY_DB_NAME' (str)\n",
      "Stored 'MY_YB_PATH' (str)\n",
      "Stored 'MY_GITPOD_WORKSPACE_URL' (str)\n",
      "Stored 'MY_HOST_IPv4_01' (str)\n",
      "Stored 'MY_HOST_IPv4_02' (str)\n",
      "Stored 'MY_HOST_IPv4_03' (str)\n",
      "Stored 'MY_NOTEBOOK_DIR' (str)\n",
      "Stored 'MY_TSERVER_WEBSERVER_PORT' (str)\n",
      "Stored 'MY_NOTEBOOK_DATA_FOLDER' (str)\n",
      "Stored 'MY_NOTEBOOK_UTILS_FOLDER' (str)\n",
      "Stored 'MY_DATA_DDL_FILE' (str)\n",
      "Stored 'MY_DATA_DML_FILE' (str)\n",
      "Stored 'MY_UTIL_FUNCTIONS_FILE' (str)\n",
      "Stored 'MY_UTIL_YBTSERVER_METRICS_FILE' (str)\n",
      "Stored 'MY_SUDO' (str)\n"
     ]
    }
   ],
   "source": [
    "# Env variables for Notebook\n",
    "import os\n",
    "\n",
    "# read env_vars.env\n",
    "env_vars = !cat env_vars.env\n",
    "for var in env_vars:\n",
    "    key, value = var.split('=')\n",
    "    os.environ[key] = value\n",
    " \n",
    "\n",
    "# Comment out Local\n",
    "# MY_YB_PATH=os.environ.get('MY_YB_PATH_LOCAL')\n",
    "# MY_GITPOD_WORKSPACE_URL=os.environ.get('MY_GITPOD_WORKSPACE_URL_LOCAL')\n",
    "# MY_SUDO=os.environ.get('MY_SUDO')\n",
    "\n",
    "# Gitpod specific\n",
    "MY_YB_PATH=os.environ.get('MY_YB_PATH')\n",
    "MY_GITPOD_WORKSPACE_URL=os.environ.get('GITPOD_WORKSPACE_URL')\n",
    "\n",
    "# env_vars defines the following\n",
    "MY_DB_NAME=os.environ.get('MY_DB_NAME')\n",
    "MY_HOST_IPv4_01=os.environ.get('MY_HOST_IPv4_01')\n",
    "MY_HOST_IPv4_02=os.environ.get('MY_HOST_IPv4_02')\n",
    "MY_HOST_IPv4_03=os.environ.get('MY_HOST_IPv4_03')\n",
    "MY_TSERVER_WEBSERVER_PORT=os.environ.get('MY_TSERVER_WEBSERVER_PORT')\n",
    "MY_DATA_DDL_FILE=os.environ.get(\"MY_DATA_DDL_FILE\")\n",
    "MY_DATA_DML_FILE=os.environ.get(\"MY_DATA_DML_FILE\")\n",
    "print(MY_DATA_DDL_FILE, MY_DATA_DML_FILE)\n",
    "MY_UTIL_FUNCTIONS_FILE=os.environ.get(\"MY_UTIL_FUNCTIONS_FILE\")\n",
    "MY_UTIL_YBTSERVER_METRICS_FILE=os.environ.get(\"MY_UTIL_YBTSERVER_METRICS_FILE\")\n",
    "\n",
    "# Current directory of project and related child folders\n",
    "MY_NOTEBOOK_DIR=os.getcwd()\n",
    "MY_NOTEBOOK_DATA_FOLDER=MY_NOTEBOOK_DIR +'/data'\n",
    "MY_NOTEBOOK_UTILS_FOLDER=MY_NOTEBOOK_DIR + '/utils'\n",
    "\n",
    "print(MY_NOTEBOOK_DATA_FOLDER, MY_NOTEBOOK_UTILS_FOLDER)\n",
    "# Store the note book values for other notebooks to use\n",
    "\n",
    "%store MY_DB_NAME\n",
    "%store MY_YB_PATH\n",
    "%store MY_GITPOD_WORKSPACE_URL\n",
    "%store MY_HOST_IPv4_01\n",
    "%store MY_HOST_IPv4_02\n",
    "%store MY_HOST_IPv4_03\n",
    "%store MY_NOTEBOOK_DIR\n",
    "%store MY_TSERVER_WEBSERVER_PORT\n",
    "%store MY_NOTEBOOK_DATA_FOLDER\n",
    "%store MY_NOTEBOOK_UTILS_FOLDER\n",
    "%store MY_DATA_DDL_FILE\n",
    "%store MY_DATA_DML_FILE\n",
    "%store MY_UTIL_FUNCTIONS_FILE\n",
    "%store MY_UTIL_YBTSERVER_METRICS_FILE"
   ]
  },
  {
   "cell_type": "markdown",
   "metadata": {},
   "source": [
    "#### YCQL Shell Commands\n",
    "The following commands are YCQL shell commands that use the YCQLSH to connect to the keyspace.\\"
   ]
  },
  {
   "cell_type": "code",
   "execution_count": 5,
   "metadata": {
    "vscode": {
     "languageId": "shellscript"
    }
   },
   "outputs": [
    {
     "name": "stdout",
     "output_type": "stream",
     "text": [
      "\n",
      "        SHOW [ycqlsh only]\n",
      "\n",
      "          Displays information about the current ycqlsh session. Can be called in\n",
      "          the following ways:\n",
      "\n",
      "        SHOW VERSION\n",
      "\n",
      "          Shows the version and build of the connected Cassandra instance, as\n",
      "          well as the versions of the CQL spec and the Thrift protocol that\n",
      "          the connected Cassandra instance understands.\n",
      "\n",
      "        SHOW HOST\n",
      "\n",
      "          Shows where ycqlsh is currently connected.\n",
      "\n",
      "        SHOW SESSION <sessionid>\n",
      "\n",
      "          Pretty-prints the requested tracing session.\n",
      "        \n"
     ]
    }
   ],
   "source": [
    "%%bash -s \"$MY_YB_PATH\"   # READ TABLES\n",
    "YB_PATH=${1}\n",
    "cd $YB_PATH\n",
    "\n",
    "# YCQL Commands\n",
    "./bin/ycqlsh --execute \"HELP SHOW\"  \n",
    "# ./bin/ycqlsh --execute \"SHOW VERSION\"  \n",
    "# ./bin/ycqlsh --execute \"SHOW HOST\"\n",
    "# ./bin/ycqlsh --execute \"HELP DESCRIBE\"\n",
    "# ./bin/ycqlsh --execute \"DESC KEYSPACES\"\n",
    "# ./bin/ycqlsh --execute \"DESC TABLES\"\n",
    "# ./bin/ycqlsh --execute \"HELP LOGIN\"\n",
    "# ./bin/ycqlsh --execute \"LOGIN cassandra\"\n",
    "# ./bin/ycqlsh --execute \"./bin/ycqlsh -u cassandra -p cassandra\"\n",
    "# ./bin/ycqlsh --execute \"EXIT\"\n",
    "# ./bin/ycqlsh --execute \"SELECT * FROM system_auth.roles;\"  "
   ]
  },
  {
   "cell_type": "markdown",
   "metadata": {},
   "source": [
    "The results of these commands show how to display information about the database environment and how to select roles, important for role backed security."
   ]
  },
  {
   "cell_type": "markdown",
   "metadata": {
    "deletable": false,
    "editable": false
   },
   "source": [
    "### Create the `mydemo` keyspace and `employees` table with `ycqlsh`\n",
    "Run the following cell to connect to the YugabyteDB cluster using `ycqlsh`, then create the `mydemo` keyspace and `employees` table."
   ]
  },
  {
   "cell_type": "code",
   "execution_count": 11,
   "metadata": {
    "vscode": {
     "languageId": "shellscript"
    }
   },
   "outputs": [
    {
     "name": "stdout",
     "output_type": "stream",
     "text": [
      "\n",
      "system_auth  mydemo  system_schema  system\n",
      "\n"
     ]
    }
   ],
   "source": [
    "%%bash -s \"$MY_YB_PATH\"   # READ TABLES\n",
    "YB_PATH=${1}\n",
    "cd $YB_PATH\n",
    "\n",
    "\n",
    "./bin/ycqlsh --execute \"CREATE KEYSPACE IF NOT EXISTS mydemo;\"  \n",
    "# ./bin/ycqlsh --execute \"CREATE TABLE mydemo.employees (\n",
    "#     id INT,\n",
    "#     name TEXT,\n",
    "#     email TEXT,\n",
    "#     PRIMARY KEY (id)\n",
    "# );\"\n",
    "# ./bin/ycqlsh --execute \"DESC keyspaces\"\n"
   ]
  },
  {
   "cell_type": "markdown",
   "metadata": {},
   "source": [
    "#### Write to the table employees\n",
    "Seed the employees table with employee data."
   ]
  },
  {
   "cell_type": "code",
   "execution_count": 7,
   "metadata": {
    "vscode": {
     "languageId": "shellscript"
    }
   },
   "outputs": [],
   "source": [
    "%%bash -s \"$MY_YB_PATH\"   # READ TABLES\n",
    "YB_PATH=${1}\n",
    "cd $YB_PATH\n",
    "\n",
    "./bin/ycqlsh --execute \"\n",
    "  INSERT INTO mydemo.employees (id, name, email) VALUES \n",
    "    (1, 'Bruce Wayne', 'batman@yb.com');\n",
    " \"\n",
    "\n",
    "./bin/ycqlsh --execute \"\n",
    "INSERT INTO mydemo.employees (id, name, email) VALUES \n",
    "    (2, 'Clark Kent', 'superman@yb.com');\n",
    "\"\n",
    "\n",
    "./bin/ycqlsh --execute \"\n",
    "INSERT INTO mydemo.employees (id, name, email) VALUES \n",
    "    (3, 'Peter Parker', 'spiderman@yb.com');\n",
    "\"\n"
   ]
  },
  {
   "cell_type": "markdown",
   "metadata": {},
   "source": [
    "#### Read from Table \n",
    "Verify the tables were seeded with data."
   ]
  },
  {
   "cell_type": "code",
   "execution_count": 39,
   "metadata": {
    "vscode": {
     "languageId": "shellscript"
    }
   },
   "outputs": [
    {
     "name": "stdout",
     "output_type": "stream",
     "text": [
      "\n",
      " company_id | full_name\n",
      "------------+--------------\n",
      "          3 | Peter Parker\n",
      "\n",
      "(1 rows)\n"
     ]
    }
   ],
   "source": [
    "%%bash -s \"$MY_YB_PATH\"   # READ TABLES\n",
    "YB_PATH=${1}\n",
    "cd $YB_PATH\n",
    "\n",
    "# # Read\n",
    "./bin/ycqlsh --execute \"SELECT * FROM mydemo.employees;\"\n",
    "# ./bin/ycqlsh --execute \"SELECT id as company_id, name as full_name FROM mydemo.employees WHERE id=3;\"\n",
    "# ./bin/ycqlsh --execute \"SELECT * FROM mydemo.employees WHERE name >= 'B' AND name < 'D';\""
   ]
  },
  {
   "cell_type": "markdown",
   "metadata": {},
   "source": []
  },
  {
   "cell_type": "markdown",
   "metadata": {},
   "source": [
    "#### Data Load\n",
    "In this section, you will populate a database using sql shell scripts. First you will create a new keyspace, then load the DDL and DML sql files into YugabyteDB."
   ]
  },
  {
   "cell_type": "code",
   "execution_count": 12,
   "metadata": {
    "vscode": {
     "languageId": "shellscript"
    }
   },
   "outputs": [
    {
     "name": "stdout",
     "output_type": "stream",
     "text": [
      "\n",
      "Keyspace db_ybu\n",
      "---------------\n",
      "<empty>\n",
      "\n",
      "Keyspace system_auth\n",
      "--------------------\n",
      "roles  role_permissions  resource_role_permissions_index\n",
      "\n",
      "Keyspace mydemo\n",
      "---------------\n",
      "employees\n",
      "\n",
      "Keyspace system_schema\n",
      "----------------------\n",
      "aggregates  types  columns  functions  keyspaces\n",
      "indexes     views  tables   triggers \n",
      "\n",
      "Keyspace system\n",
      "---------------\n",
      "local  size_estimates  peers  partitions\n",
      "\n"
     ]
    }
   ],
   "source": [
    "%%bash -s \"$MY_YB_PATH\" \"$MY_DB_NAME\"  # create database\n",
    "YB_PATH=${1}\n",
    "DB_NAME=${2}\n",
    "\n",
    "cd $YB_PATH\n",
    "\n",
    "# drop and create\n",
    "./bin/ycqlsh --execute \"DROP KEYSPACE IF EXISTS \"${DB_NAME}\";\"\n",
    "# 127.0.0.1\n",
    " \n",
    "./bin/ycqlsh --execute \"CREATE KEYSPACE \"${DB_NAME}\" \n",
    "  WITH REPLICATION = \n",
    "  { 'class': 'SimpleStrategy', 'replication_factor': 1 };\" \n",
    "# 127.0.0.1\n",
    "\n",
    "# Connect to Keyspace\n",
    "./bin/ycqlsh --execute \"USE \"${DB_NAME}\";\"\n",
    "\n",
    "# List keyspaces, validate keyspace creation\n",
    "./bin/ycqlsh --execute \"DESCRIBE TABLES\""
   ]
  },
  {
   "cell_type": "markdown",
   "metadata": {},
   "source": [
    "## Load DDL and Data from File\n",
    "Load SQL statements from a script\n",
    "This will load "
   ]
  },
  {
   "cell_type": "code",
   "execution_count": 16,
   "metadata": {
    "vscode": {
     "languageId": "shellscript"
    }
   },
   "outputs": [
    {
     "name": "stdout",
     "output_type": "stream",
     "text": [
      "\n",
      "Keyspace db_ybu\n",
      "---------------\n",
      "tbl_products_by_category  tbl_products_by_wishlist  tbl_wishlists_by_user\n",
      "\n",
      "Keyspace system_auth\n",
      "--------------------\n",
      "roles  role_permissions  resource_role_permissions_index\n",
      "\n",
      "Keyspace mydemo\n",
      "---------------\n",
      "employees\n",
      "\n",
      "Keyspace system_schema\n",
      "----------------------\n",
      "aggregates  types  columns  functions  keyspaces\n",
      "indexes     views  tables   triggers \n",
      "\n",
      "Keyspace system\n",
      "---------------\n",
      "local  size_estimates  peers  partitions\n",
      "\n"
     ]
    }
   ],
   "source": [
    "%%bash -s \"$MY_YB_PATH\" \"$MY_DB_NAME\" \"$MY_NOTEBOOK_DATA_FOLDER\" \"$MY_DATA_DDL_FILE\" \"$MY_DATA_DML_FILE\"   \n",
    "# Wishlist\n",
    "YB_PATH=${1}\n",
    "DB_NAME=${2}\n",
    "DATA_FOLDER=${3}\n",
    "DATA_DDL_FILE=${4}\n",
    "DATA_DML_FILE=${5}\n",
    "\n",
    "# ls $DATA_FOLDER\n",
    "\n",
    "WISHLIST_DDL_PATH=${DATA_FOLDER}/${DATA_DDL_FILE}\n",
    "WISHLIST_DML_PATH=${DATA_FOLDER}/${DATA_DML_FILE}\n",
    "\n",
    "cd $YB_PATH\n",
    "\n",
    "# DDL file\n",
    "./bin/ycqlsh -k ${DB_NAME} -f ${WISHLIST_DDL_PATH} \n",
    "sleep 1;\n",
    "\n",
    "# # DML file\n",
    "./bin/ycqlsh -k ${DB_NAME} -f ${WISHLIST_DML_PATH} \n",
    "sleep 1;\n",
    "\n",
    "# # Describe relations\n",
    "./bin/ycqlsh --execute \"DESCRIBE TABLES\""
   ]
  },
  {
   "cell_type": "code",
   "execution_count": 1,
   "metadata": {
    "vscode": {
     "languageId": "shellscript"
    }
   },
   "outputs": [
    {
     "name": "stderr",
     "output_type": "stream",
     "text": [
      "bash: line 2: cd: $MY_YB_PATH: No such file or directory\n",
      "bash: line 5: ./bin/ycqlsh: No such file or directory\n"
     ]
    },
    {
     "ename": "CalledProcessError",
     "evalue": "Command 'b'YB_PATH=${1}\\ncd $YB_PATH\\n\\n# drop and create\\n./bin/ycqlsh --execute \"SELECT * FROM db_ybu.tbl_products_by_category;\"  \\n# ./bin/ycqlsh --execute \"SELECT * FROM db_ybu.tbl_wishlists_by_user;\"  \\n# ./bin/ycqlsh --execute \"SELECT * FROM db_ybu.tbl_products_by_wishlist;\"  \\n\\n# list dbs\\n# ./bin/ycqlsh --execute \"DESCRIBE db_ybu.tbl_products_by_wishlist\"\\n'' returned non-zero exit status 127.",
     "output_type": "error",
     "traceback": [
      "\u001b[0;31m---------------------------------------------------------------------------\u001b[0m",
      "\u001b[0;31mCalledProcessError\u001b[0m                        Traceback (most recent call last)",
      "\u001b[1;32m/Users/markkim/Documents/YBU_repos/jupyter/YCQL-01/01_YCQL-Fundamentas.ipynb Cell 21\u001b[0m in \u001b[0;36m<cell line: 1>\u001b[0;34m()\u001b[0m\n\u001b[0;32m----> <a href='vscode-notebook-cell:/Users/markkim/Documents/YBU_repos/jupyter/YCQL-01/01_YCQL-Fundamentas.ipynb#X35sZmlsZQ%3D%3D?line=0'>1</a>\u001b[0m get_ipython()\u001b[39m.\u001b[39;49mrun_cell_magic(\u001b[39m'\u001b[39;49m\u001b[39mbash\u001b[39;49m\u001b[39m'\u001b[39;49m, \u001b[39m'\u001b[39;49m\u001b[39m-s \u001b[39;49m\u001b[39m\"\u001b[39;49m\u001b[39m$MY_YB_PATH\u001b[39;49m\u001b[39m\"\u001b[39;49m\u001b[39m   # READ TABLES\u001b[39;49m\u001b[39m'\u001b[39;49m, \u001b[39m'\u001b[39;49m\u001b[39mYB_PATH=$\u001b[39;49m\u001b[39m{1}\u001b[39;49;00m\u001b[39m\\n\u001b[39;49;00m\u001b[39mcd $YB_PATH\u001b[39;49m\u001b[39m\\n\u001b[39;49;00m\u001b[39m\\n\u001b[39;49;00m\u001b[39m# drop and create\u001b[39;49m\u001b[39m\\n\u001b[39;49;00m\u001b[39m./bin/ycqlsh --execute \u001b[39;49m\u001b[39m\"\u001b[39;49m\u001b[39mSELECT * FROM db_ybu.tbl_products_by_category;\u001b[39;49m\u001b[39m\"\u001b[39;49m\u001b[39m  \u001b[39;49m\u001b[39m\\n\u001b[39;49;00m\u001b[39m# ./bin/ycqlsh --execute \u001b[39;49m\u001b[39m\"\u001b[39;49m\u001b[39mSELECT * FROM db_ybu.tbl_wishlists_by_user;\u001b[39;49m\u001b[39m\"\u001b[39;49m\u001b[39m  \u001b[39;49m\u001b[39m\\n\u001b[39;49;00m\u001b[39m# ./bin/ycqlsh --execute \u001b[39;49m\u001b[39m\"\u001b[39;49m\u001b[39mSELECT * FROM db_ybu.tbl_products_by_wishlist;\u001b[39;49m\u001b[39m\"\u001b[39;49m\u001b[39m  \u001b[39;49m\u001b[39m\\n\u001b[39;49;00m\u001b[39m\\n\u001b[39;49;00m\u001b[39m# list dbs\u001b[39;49m\u001b[39m\\n\u001b[39;49;00m\u001b[39m# ./bin/ycqlsh --execute \u001b[39;49m\u001b[39m\"\u001b[39;49m\u001b[39mDESCRIBE db_ybu.tbl_products_by_wishlist\u001b[39;49m\u001b[39m\"\u001b[39;49m\u001b[39m\\n\u001b[39;49;00m\u001b[39m'\u001b[39;49m)\n",
      "File \u001b[0;32m~/.pyenv/versions/3.9.4/lib/python3.9/site-packages/IPython/core/interactiveshell.py:2358\u001b[0m, in \u001b[0;36mInteractiveShell.run_cell_magic\u001b[0;34m(self, magic_name, line, cell)\u001b[0m\n\u001b[1;32m   2356\u001b[0m \u001b[39mwith\u001b[39;00m \u001b[39mself\u001b[39m\u001b[39m.\u001b[39mbuiltin_trap:\n\u001b[1;32m   2357\u001b[0m     args \u001b[39m=\u001b[39m (magic_arg_s, cell)\n\u001b[0;32m-> 2358\u001b[0m     result \u001b[39m=\u001b[39m fn(\u001b[39m*\u001b[39;49margs, \u001b[39m*\u001b[39;49m\u001b[39m*\u001b[39;49mkwargs)\n\u001b[1;32m   2359\u001b[0m \u001b[39mreturn\u001b[39;00m result\n",
      "File \u001b[0;32m~/.pyenv/versions/3.9.4/lib/python3.9/site-packages/IPython/core/magics/script.py:153\u001b[0m, in \u001b[0;36mScriptMagics._make_script_magic.<locals>.named_script_magic\u001b[0;34m(line, cell)\u001b[0m\n\u001b[1;32m    151\u001b[0m \u001b[39melse\u001b[39;00m:\n\u001b[1;32m    152\u001b[0m     line \u001b[39m=\u001b[39m script\n\u001b[0;32m--> 153\u001b[0m \u001b[39mreturn\u001b[39;00m \u001b[39mself\u001b[39;49m\u001b[39m.\u001b[39;49mshebang(line, cell)\n",
      "File \u001b[0;32m~/.pyenv/versions/3.9.4/lib/python3.9/site-packages/IPython/core/magics/script.py:305\u001b[0m, in \u001b[0;36mScriptMagics.shebang\u001b[0;34m(self, line, cell)\u001b[0m\n\u001b[1;32m    300\u001b[0m \u001b[39mif\u001b[39;00m args\u001b[39m.\u001b[39mraise_error \u001b[39mand\u001b[39;00m p\u001b[39m.\u001b[39mreturncode \u001b[39m!=\u001b[39m \u001b[39m0\u001b[39m:\n\u001b[1;32m    301\u001b[0m     \u001b[39m# If we get here and p.returncode is still None, we must have\u001b[39;00m\n\u001b[1;32m    302\u001b[0m     \u001b[39m# killed it but not yet seen its return code. We don't wait for it,\u001b[39;00m\n\u001b[1;32m    303\u001b[0m     \u001b[39m# in case it's stuck in uninterruptible sleep. -9 = SIGKILL\u001b[39;00m\n\u001b[1;32m    304\u001b[0m     rc \u001b[39m=\u001b[39m p\u001b[39m.\u001b[39mreturncode \u001b[39mor\u001b[39;00m \u001b[39m-\u001b[39m\u001b[39m9\u001b[39m\n\u001b[0;32m--> 305\u001b[0m     \u001b[39mraise\u001b[39;00m CalledProcessError(rc, cell)\n",
      "\u001b[0;31mCalledProcessError\u001b[0m: Command 'b'YB_PATH=${1}\\ncd $YB_PATH\\n\\n# drop and create\\n./bin/ycqlsh --execute \"SELECT * FROM db_ybu.tbl_products_by_category;\"  \\n# ./bin/ycqlsh --execute \"SELECT * FROM db_ybu.tbl_wishlists_by_user;\"  \\n# ./bin/ycqlsh --execute \"SELECT * FROM db_ybu.tbl_products_by_wishlist;\"  \\n\\n# list dbs\\n# ./bin/ycqlsh --execute \"DESCRIBE db_ybu.tbl_products_by_wishlist\"\\n'' returned non-zero exit status 127."
     ]
    }
   ],
   "source": [
    "%%bash -s \"$MY_YB_PATH\"   # READ TABLES\n",
    "YB_PATH=${1}\n",
    "cd $YB_PATH\n",
    "\n",
    "# drop and create\n",
    "./bin/ycqlsh --execute \"SELECT * FROM db_ybu.tbl_products_by_category;\"  \n",
    "# ./bin/ycqlsh --execute \"SELECT * FROM db_ybu.tbl_wishlists_by_user;\"  \n",
    "# ./bin/ycqlsh --execute \"SELECT * FROM db_ybu.tbl_products_by_wishlist;\"  \n",
    "\n",
    "# list dbs\n",
    "# ./bin/ycqlsh --execute \"DESCRIBE db_ybu.tbl_products_by_category\"\n",
    "# ./bin/ycqlsh --execute \"DESCRIBE db_ybu.tbl_wishlists_by_user\"\n",
    "# ./bin/ycqlsh --execute \"DESCRIBE db_ybu.tbl_products_by_wishlist\""
   ]
  },
  {
   "cell_type": "markdown",
   "metadata": {
    "deletable": false,
    "editable": false
   },
   "source": [
    "---\n",
    "# All done!\n",
    "In this lab, you completed the following:\n",
    "\n",
    "- Setup\n",
    "  - Created the `mydemo` keyspace with `ycqlsh`\n",
    "  - Created tables and loaded data using DDL and DML scripts"
   ]
  }
 ],
 "metadata": {
  "kernelspec": {
   "display_name": "Python 3.9.4 64-bit ('3.9.4': pyenv)",
   "language": "python",
   "name": "python3"
  },
  "language_info": {
   "codemirror_mode": {
    "name": "ipython",
    "version": 3
   },
   "file_extension": ".py",
   "mimetype": "text/x-python",
   "name": "python",
   "nbconvert_exporter": "python",
   "pygments_lexer": "ipython3",
   "version": "3.9.4"
  },
  "orig_nbformat": 4,
  "vscode": {
   "interpreter": {
    "hash": "0857ffcb80af2fb548f76c195b67e2e5b75e102946b97bbf401092901016b64a"
   }
  }
 },
 "nbformat": 4,
 "nbformat_minor": 2
}
