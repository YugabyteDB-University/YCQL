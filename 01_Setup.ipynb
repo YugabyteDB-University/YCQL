{
 "cells": [
  {
   "attachments": {},
   "cell_type": "markdown",
   "metadata": {
    "deletable": false,
    "editable": false
   },
   "source": [
    "<div style=\"width:100%; background-color: #000041\"><a target=\"_blank\\\" href=\"http://university.yugabyte.com\\\"><img src=\"assets/YBU_Logo.webp\" /></a></div>\n",
    "\n",
    "> Free YugabyteDB YCQL Development course at Yugabyte University\n",
    ">\n",
    "> You can sign up for at [YugabyteDB YCQL Development](https://university.yugabyte.com/courses/yugabytedb-ycql-development).\n",
    ">\n",
    "\n",
    "# Labs for YCQL Development\n",
    "The labs for this course consists of several Jupyter notebooks that run in Gitpod. [Gitpod](https://www.gitpod.io/) facilitates runtime environments where a YugabyteDB database cluster can be deployed. Read the following instructions for requirements and to setup of the Gitpod environment.\n"
   ]
  },
  {
   "attachments": {},
   "cell_type": "markdown",
   "metadata": {},
   "source": [
    "## About Jupyter notebooks\n",
    "You will use a Jupyter notebook in this lab to run commands to assign environmental variables and Cassandra Query Language commands for the Yugabyte Cloud Query Language known as YCQL. \n",
    "\n",
    "There are two types of cells: markdown and code. This is a markdown cell.\n",
    "\n",
    "You run a code cell by simply selecting the play icon in the cell's left gutter. For code cells, you can modify the code for execution. Certain labs contain challenges or experiments that require you to do just that - modify a code cell and re-run it!\n",
    "\n",
    "### Requirements\n",
    "Here are the requirements for this lab:\n",
    "- Launch using a gitpod workspace\n",
    "- Run a three node, YugabyteDB cluster using `yb-ctl`\n",
    "\n",
    "> Note\n",
    ">  \n",
    "> Although a three node cluster is up and running, Gitpod does not support visiting loopback addresses over a web ui, even if exposed on a different port.\n",
    "> 127.0.0.1 is the only web user interfaces. To see all available ports in Gitpod, in the terminal, run `gp ports list`."
   ]
  },
  {
   "cell_type": "markdown",
   "metadata": {
    "deletable": false,
    "editable": false
   },
   "source": [
    "#### Notebook keyboard shortcuts\n",
    "The Jupyter extension for Gitpod supports the following keyboard shortcuts:\n",
    "| Keystroke | Description |\n",
    "|--|--|\n",
    "| ESC | Change the cell mode |\n",
    "| A | Add a cell above |\n",
    "| B | Add a cell below |\n",
    "| J or down arrow key |  Change a cell to below | \n",
    "| K or up arrow key | Change a cell to above | \n",
    "| Ctrl+Enter | Run the currently selected cell |\n",
    "| Shift+Enter | Run the currently selected cell and insert a new cell immediately below (focus moves to new cell) |\n",
    "| Alt+Enter | Run the currently selected cell and insert a new cell immediately below (focus remains on current cell) |\n",
    "| dd | Delete a selected cell |\n",
    "| z | Undo the last change | \n",
    "| M | switch the cell type to Markdown | \n",
    "| Y | switch the cell type to code |\n",
    "| L | Enable/Disable line numbers |\n",
    "```\n"
   ]
  },
  {
   "cell_type": "markdown",
   "metadata": {
    "deletable": false,
    "editable": false
   },
   "source": [
    "## Setup steps\n",
    "Here are the steps to setup this lab:\n",
    "- Install missing dependencies and restart the notebook\n",
    "- Create the notebook variables\n",
    "- Create the `ks_ybu` database"
   ]
  },
  {
   "cell_type": "markdown",
   "metadata": {},
   "source": [
    "### Install missing dependencies and restart the notebook\n",
    "Run the following cell to ensure that the notebook dependencies are available to the notebook. "
   ]
  },
  {
   "cell_type": "markdown",
   "metadata": {
    "deletable": false,
    "editable": false
   },
   "source": [
    "### Create the notebook variables \n",
    "\n",
    "> IMPORTANT!\n",
    "> \n",
    "> Do NOT skip running this cell. \n",
    "> \n",
    "\n",
    "The following Python cell creates and stores variables that all the notebooks in this lab will use. You can view these variables in the Jupyter tab.\n",
    "\n",
    "- To run the script, select Execute Cell (Play Arrow) in the left gutter of the cell.\n",
    "- Verify the accuracy of the output values"
   ]
  },
  {
   "cell_type": "code",
   "execution_count": 8,
   "metadata": {},
   "outputs": [
    {
     "name": "stdout",
     "output_type": "stream",
     "text": [
      "Stored 'MY_DB_NAME' (str)\n",
      "Stored 'MY_YB_PATH' (str)\n",
      "Stored 'MY_YB_PATH_DATA' (str)\n",
      "Stored 'MY_GITPOD_WORKSPACE_URL' (str)\n",
      "Stored 'MY_HOST_IPv4_01' (str)\n",
      "Stored 'MY_HOST_IPv4_02' (str)\n",
      "Stored 'MY_HOST_IPv4_03' (str)\n",
      "Stored 'MY_NOTEBOOK_DIR' (str)\n",
      "Stored 'MY_TSERVER_WEBSERVER_PORT' (str)\n",
      "Stored 'MY_NOTEBOOK_DATA_FOLDER' (str)\n",
      "Stored 'MY_YB_MASTER_HOST_GITPOD_URL' (str)\n",
      "Stored 'MY_YB_TSERVER_HOST_GITPOD_URL' (str)\n",
      "Stored 'MY_DATA_DDL_FILE' (str)\n",
      "Stored 'MY_DATA_DML_FILE' (str)\n"
     ]
    }
   ],
   "source": [
    "# Env variables for Notebook\n",
    "import os\n",
    "\n",
    "# read env_vars.env\n",
    "env_vars = !cat env_vars.env\n",
    "for var in env_vars:\n",
    "    key, value = var.split('=')\n",
    "    os.environ[key] = value\n",
    " \n",
    "\n",
    "# Comment out Local \n",
    "#MY_YB_PATH=os.environ.get('MY_YB_PATH_LOCAL')\n",
    "#MY_YB_PATH_DATA=os.environ.get('MY_YB_PATH_DATA_LOCAL')\n",
    "#MY_GITPOD_WORKSPACE_URL=os.environ.get('MY_GITPOD_WORKSPACE_URL_LOCAL')\n",
    "\n",
    "\n",
    "# Gitpod specific\n",
    "MY_YB_PATH=os.environ.get('MY_YB_PATH')\n",
    "MY_YB_PATH_DATA=os.environ.get('MY_YB_PATH_DATA')\n",
    "MY_GITPOD_WORKSPACE_URL=os.environ.get('GITPOD_WORKSPACE_URL')\n",
    "\n",
    "\n",
    "# env_vars defines the following\n",
    "MY_DB_NAME=os.environ.get('MY_DB_NAME')\n",
    "MY_HOST_IPv4_01=os.environ.get('MY_HOST_IPv4_01')\n",
    "MY_HOST_IPv4_02=os.environ.get('MY_HOST_IPv4_02')\n",
    "MY_HOST_IPv4_03=os.environ.get('MY_HOST_IPv4_03')\n",
    "MY_TSERVER_WEBSERVER_PORT=os.environ.get('MY_TSERVER_WEBSERVER_PORT')\n",
    "\n",
    "# Gitpod URLS\n",
    "MY_YB_MASTER_HOST_GITPOD_URL = MY_GITPOD_WORKSPACE_URL.replace('https://','https://7000-')\n",
    "MY_YB_TSERVER_HOST_GITPOD_URL = MY_GITPOD_WORKSPACE_URL.replace('https://','https://'+MY_TSERVER_WEBSERVER_PORT+'-')\n",
    "\n",
    "# Current directory of project and related child folders\n",
    "MY_NOTEBOOK_DIR=os.getcwd()\n",
    "MY_NOTEBOOK_DATA_FOLDER=MY_NOTEBOOK_DIR +'/data'\n",
    "\n",
    "# Data files\n",
    "MY_DATA_DDL_FILE=os.environ.get(\"MY_DATA_DDL_FILE\")\n",
    "MY_DATA_DML_FILE=os.environ.get(\"MY_DATA_DML_FILE\")\n",
    "\n",
    "# Store the note book values for other notebooks to use\n",
    "\n",
    "%store MY_DB_NAME\n",
    "%store MY_YB_PATH\n",
    "%store MY_YB_PATH_DATA\n",
    "%store MY_GITPOD_WORKSPACE_URL\n",
    "%store MY_HOST_IPv4_01\n",
    "%store MY_HOST_IPv4_02\n",
    "%store MY_HOST_IPv4_03\n",
    "%store MY_NOTEBOOK_DIR\n",
    "%store MY_TSERVER_WEBSERVER_PORT\n",
    "%store MY_NOTEBOOK_DATA_FOLDER\n",
    "%store MY_YB_MASTER_HOST_GITPOD_URL\n",
    "%store MY_YB_TSERVER_HOST_GITPOD_URL\n",
    "%store MY_DATA_DDL_FILE\n",
    "%store MY_DATA_DML_FILE"
   ]
  },
  {
   "attachments": {},
   "cell_type": "markdown",
   "metadata": {},
   "source": [
    "---\n",
    "## Commands for `ycqlsh`, YCQL shell\n",
    "The following commands are YCQL shell commands. Using `ycqlsh`, you can execute YCQL statements for zero or more keyspaces. \n",
    "\n",
    "You can view the commands using `--help`."
   ]
  },
  {
   "cell_type": "code",
   "execution_count": null,
   "metadata": {
    "vscode": {
     "languageId": "shellscript"
    }
   },
   "outputs": [],
   "source": [
    "%%bash -s \"$MY_YB_PATH\"   # Shell Commands\n",
    "YB_PATH=${1}\n",
    "cd $YB_PATH/bin\n",
    "\n",
    "./ycqlsh --help"
   ]
  },
  {
   "attachments": {},
   "cell_type": "markdown",
   "metadata": {},
   "source": [
    "You can connect a keyspace with `-k` or `--keyspace`."
   ]
  },
  {
   "cell_type": "code",
   "execution_count": null,
   "metadata": {
    "vscode": {
     "languageId": "shellscript"
    }
   },
   "outputs": [],
   "source": [
    "%%bash -s \"$MY_YB_PATH\"   # Shell Commands\n",
    "YB_PATH=${1}\n",
    "cd $YB_PATH/bin\n",
    "\n",
    "./ycqlsh --help | grep -A 0 keyspace"
   ]
  },
  {
   "attachments": {},
   "cell_type": "markdown",
   "metadata": {},
   "source": [
    "You can run Data Definition Language (DDL) and Data Manipulation Language (DML) commands with `-e` or `--execute`."
   ]
  },
  {
   "cell_type": "code",
   "execution_count": null,
   "metadata": {
    "vscode": {
     "languageId": "shellscript"
    }
   },
   "outputs": [],
   "source": [
    "%%bash -s \"$MY_YB_PATH\"   # Shell Commands\n",
    "YB_PATH=${1}\n",
    "cd $YB_PATH/bin\n",
    "\n",
    "./ycqlsh --help | grep -A 1 execute"
   ]
  },
  {
   "attachments": {},
   "cell_type": "markdown",
   "metadata": {},
   "source": [
    "When connecting, it can be helpful to refresh metadata using `-r` or `--refresh_on_describe`."
   ]
  },
  {
   "cell_type": "code",
   "execution_count": null,
   "metadata": {
    "vscode": {
     "languageId": "shellscript"
    }
   },
   "outputs": [],
   "source": [
    "%%bash -s \"$MY_YB_PATH\"   # Shell Commands\n",
    "YB_PATH=${1}\n",
    "cd $YB_PATH/bin\n",
    "\n",
    "./ycqlsh --help | grep -A 2 refresh_on_describe"
   ]
  },
  {
   "attachments": {},
   "cell_type": "markdown",
   "metadata": {},
   "source": [
    "---\n",
    "## YCQL commands and helpful queries\n",
    "Yugabyte Cloud Query Language (YCQL) is an Apache Cassandra compatible language. Here are some YCQL language commands that you will helpful."
   ]
  },
  {
   "cell_type": "code",
   "execution_count": null,
   "metadata": {
    "vscode": {
     "languageId": "shellscript"
    }
   },
   "outputs": [],
   "source": [
    "%%bash -s \"$MY_YB_PATH\"    # YCQL commands and queries\n",
    "YB_PATH=${1}\n",
    "cd $YB_PATH/bin\n",
    "\n",
    "./ycqlsh -r -e \"\n",
    "  CONSISTENCY;\n",
    "  \""
   ]
  },
  {
   "attachments": {},
   "cell_type": "markdown",
   "metadata": {},
   "source": [
    "YCQL is compatible with CQL 3.4.2."
   ]
  },
  {
   "cell_type": "code",
   "execution_count": null,
   "metadata": {
    "vscode": {
     "languageId": "shellscript"
    }
   },
   "outputs": [],
   "source": [
    "%%bash -s \"$MY_YB_PATH\"    # YCQL commands and queries\n",
    "YB_PATH=${1}\n",
    "cd $YB_PATH/bin\n",
    "\n",
    "./ycqlsh -r -e \"\n",
    "  show version;\n",
    "  \"  "
   ]
  },
  {
   "cell_type": "code",
   "execution_count": null,
   "metadata": {
    "vscode": {
     "languageId": "shellscript"
    }
   },
   "outputs": [],
   "source": [
    "%%bash -s \"$MY_YB_PATH\"   # YCQL commands and queries\n",
    "YB_PATH=${1}\n",
    "cd $YB_PATH/bin\n",
    "\n",
    "./ycqlsh -r -e \"\n",
    "  select cql_version from system.local;\n",
    "  \"  "
   ]
  },
  {
   "attachments": {},
   "cell_type": "markdown",
   "metadata": {},
   "source": [
    "`show host` details the host connection."
   ]
  },
  {
   "cell_type": "code",
   "execution_count": null,
   "metadata": {
    "vscode": {
     "languageId": "shellscript"
    }
   },
   "outputs": [],
   "source": [
    "%%bash -s \"$MY_YB_PATH\"   # YCQL commands and queries\n",
    "YB_PATH=${1}\n",
    "cd $YB_PATH/bin\n",
    "\n",
    "./ycqlsh -r -e \"\n",
    "  show host;\n",
    "\"  "
   ]
  },
  {
   "attachments": {},
   "cell_type": "markdown",
   "metadata": {},
   "source": [
    "`decribe kespaces`  returns the names of all keyspaces."
   ]
  },
  {
   "cell_type": "code",
   "execution_count": null,
   "metadata": {
    "vscode": {
     "languageId": "shellscript"
    }
   },
   "outputs": [],
   "source": [
    "%%bash -s \"$MY_YB_PATH\"   # YCQL commands and queries\n",
    "YB_PATH=${1}\n",
    "cd $YB_PATH/bin\n",
    "\n",
    "./ycqlsh -r -e \"\n",
    "  help describe;\n",
    "  \"  \n"
   ]
  },
  {
   "attachments": {},
   "cell_type": "markdown",
   "metadata": {},
   "source": [
    "`describe tables` or `desc tables` returns the names of all tables in the current keyspace, or in all keyspacces."
   ]
  },
  {
   "cell_type": "code",
   "execution_count": null,
   "metadata": {
    "vscode": {
     "languageId": "shellscript"
    }
   },
   "outputs": [],
   "source": [
    "%%bash -s \"$MY_YB_PATH\"  # YCQL commands and queries\n",
    "YB_PATH=${1}\n",
    "cd $YB_PATH/bin\n",
    "\n",
    "./ycqlsh -r -e \"\n",
    "  desc tables;\n",
    "  \""
   ]
  },
  {
   "attachments": {},
   "cell_type": "markdown",
   "metadata": {},
   "source": [
    "The following queries the roles table. `cassandra` is a default role. "
   ]
  },
  {
   "cell_type": "code",
   "execution_count": null,
   "metadata": {
    "vscode": {
     "languageId": "shellscript"
    }
   },
   "outputs": [],
   "source": [
    "%%bash -s \"$MY_YB_PATH\"    # YCQL commands and queries\n",
    "YB_PATH=${1}\n",
    "cd $YB_PATH/bin\n",
    "\n",
    "./ycqlsh -r -k \"system_auth\" -e \"\n",
    "  select * from roles;\n",
    "  \"  "
   ]
  }
 ],
 "metadata": {
  "kernelspec": {
   "display_name": "Python 3",
   "language": "python",
   "name": "python3"
  },
  "language_info": {
   "codemirror_mode": {
    "name": "ipython",
    "version": 3
   },
   "file_extension": ".py",
   "mimetype": "text/x-python",
   "name": "python",
   "nbconvert_exporter": "python",
   "pygments_lexer": "ipython3",
   "version": "3.7.9"
  },
  "orig_nbformat": 4,
  "vscode": {
   "interpreter": {
    "hash": "aee8b7b246df8f9039afb4144a1f6fd8d2ca17a180786b69acc140d282b71a49"
   }
  }
 },
 "nbformat": 4,
 "nbformat_minor": 2
}
