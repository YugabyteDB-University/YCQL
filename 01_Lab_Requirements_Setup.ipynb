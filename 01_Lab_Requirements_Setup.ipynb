{
 "cells": [
  {
   "cell_type": "markdown",
   "metadata": {},
   "source": [
    "# Lab Requirements and Setup\n",
    "> IMPORTANT: Notebook requirements and how start YugabyteDB locally (mac/linux) with yb-ctl\n",
    "\n",
    "This lab consists of several notebooks. Each notebook consists of one or more notebook cells. There are specific requirements for running the notebook cells. Follow the instructions for requirements and setup."
   ]
  },
  {
   "cell_type": "markdown",
   "metadata": {},
   "source": [
    "## Requirements\n",
    "Here are the requirements for running the notebooks in this lab:\n",
    "- Install YugabyteDB Core ( Mac OS or Linux)\n",
    "- Install the VS Code Jupyter Extension\n",
    "- Install Python 3.7.9+\n",
    "- Password for `sudo`"
   ]
  },
  {
   "cell_type": "markdown",
   "metadata": {},
   "source": [
    "### Install YugabyteDB Core\n",
    "> IMPORTANT\n",
    "> Do **NOT** run the start command, e.g. `.bin/yugabyted start`\n",
    "\n",
    "To install YugabyteDB, for Mac OS:\n",
    "- Visit https://download.yugabyte.com/#macos\n",
    "\n",
    "To install YugabyteDB, for Linux:\n",
    "- Visit https://download.yugabyte.com/#linux\n",
    "\n",
    "\n"
   ]
  },
  {
   "cell_type": "markdown",
   "metadata": {},
   "source": [
    "### Install the VS Code Jupyter Extension\n",
    "Here are the steps to install the VS Code Jupyter extension:\n",
    "- In VS Code, in the Sidebar, select Manage (gear icon), then select Extensions.\n",
    "- In the **Search Extensions** textbox, enter **Jupyter**.\n",
    "- In the Search panel, select **Jupyter** by Microsoft.\n",
    "- In the Extensions: Jupyter tab, select Install.\n",
    "  \n",
    "To learn more, visit\n",
    "- https://code.visualstudio.com/docs/datascience/jupyter-notebooks\n",
    "- https://github.com/microsoft/vscode-jupyter\n",
    "\n",
    "#### Helpful keyboard shortcuts\n",
    "```\n",
    "ESC : Change the cell mode\n",
    "A : Add a cell above\n",
    "B : Add a cell below\n",
    "J or down arrow key : Change a cell to below\n",
    "K or up arrow key : Change a cell to above\n",
    "Ctrl+Enter : Run the currently selected cell\n",
    "Shift+Enter : Run the currently selected cell and insert a new cell immediately below (focus moves to new cell)\n",
    "Alt+Enter : Run the currently selected cell and insert a new cell immediately below (focus remains on current cell)\n",
    "dd : Delete a selected cell\n",
    "z : Undo the last change\n",
    "M : switch the cell type to Markdown\n",
    "Y : switch the cell type to code\n",
    "L : Enable/Disable line numbers\n",
    "```\n",
    "\n",
    "### Python 3.7.9\n",
    "The notebooks in this lab use Python 3.7.9. To install Python for the Mac Os or for Linux, follow the steps at \n",
    "https://www.python.org/downloads/\n",
    "\n",
    "For Mac OS users, you can install Python using Homebrew.\n",
    "\n",
    "  \n",
    "### Change YB-TServer port in flag\n",
    "Because the `ipykernel_launcher` starts off using port `9000` most of the time, this lab will create a YugabyteDB cluster using port `8200` for the YB-TServer, ensuring that there is not a port conflict.\n",
    "\n",
    "### Password for `sudo`\n",
    "To setup the host alias for loopback calls using `ifconfig`, the bash scripts in the the related notebook cells use sudo. \n",
    "\n",
    "You have a couple options for supplying the sudo password, all of which are generally insecure:\n",
    "- change the script itself in the notebook cell\n",
    "- set the variable in referenced .env file\n",
    "- use a bash_profile variable\n",
    "\n",
    "\n",
    "You can also just run these scripts in the terminal, which is interactive, and manually enter the sudo password.\n",
    "\n"
   ]
  },
  {
   "cell_type": "markdown",
   "metadata": {},
   "source": [
    "## Setup steps\n",
    "Here are the steps to setup this lab:\n",
    "- Edit `env_vars.env`\n",
    "- Create the notebook variables\n",
    "- Create the loopback aliases\n",
    "- Create the YugabyteDB local cluster\n",
    "- Create the `db_ybu` database"
   ]
  },
  {
   "cell_type": "markdown",
   "metadata": {},
   "source": [
    "### Edit `env_vars.env` file\n",
    "Here are the steps to edit the file.\n",
    "- In the Explorer, select `env_vars.env`.\n",
    "- In the `env_vars.env` tab, edit the file as needed:\n",
    "  - Optional: Specify the password for sudo, if that's your preference, with `ENV_SUDO`, and save your changes.\n",
    "  - Mandatory: Specify the yugabyte installation path"
   ]
  },
  {
   "cell_type": "markdown",
   "metadata": {},
   "source": [
    "### Create the notebook variables \n",
    "\n",
    "> IMPORTANT!\n",
    "> \n",
    "> Do NOT skip editing and running this cell. \n",
    "> \n",
    "\n",
    "\n",
    "The following Python cell creates and stors the Jupyter notebook variables.\n",
    "- First, edit the script to select how to assign a value to `MY_SUDO`.\n",
    "- To run the script, select Execute Cell (Play Arrow in the cell side bar).\n",
    "- Verify the accuracy of the output values"
   ]
  },
  {
   "cell_type": "code",
   "execution_count": null,
   "metadata": {},
   "outputs": [],
   "source": [
    "# Env variables for Notebook\n",
    "import os\n",
    "\n",
    "env_vars = !cat env_vars.env\n",
    "for var in env_vars:\n",
    "    key, value = var.split('=')\n",
    "    os.environ[key] = value\n",
    " \n",
    "### BEGIN: Edit your MY_SUDO\n",
    "\n",
    "# Leave it blank forcing a strategy for notebook execution\n",
    "# MY_SUDO=''\n",
    "\n",
    "# Specify your sudo password in the cell\n",
    "# MY_SUDO='psswrd'\n",
    "\n",
    "# env_vars defines ENV_SUDO='psswrd'\n",
    "# MY_SUDO=os.environ.get('ENV_SUDO')\n",
    "\n",
    "# bash_profile exports the variable, e.g., export GLOBAL_SUDO='psswrd' \n",
    "MY_SUDO=os.environ.get('GLOBAL_SUDO')\n",
    "\n",
    "### END: MY_SUDO\n",
    "\n",
    "\n",
    "# Create and assign notebook variables\n",
    "# env_vars defines the following\n",
    "MY_DB_NAME=os.environ.get('MY_DB_NAME')\n",
    "MY_YB_PATH=os.environ.get('MY_YB_PATH')\n",
    "MY_HOST_IPv4_01=os.environ.get('MY_HOST_IPv4_01')\n",
    "MY_HOST_IPv4_02=os.environ.get('MY_HOST_IPv4_02')\n",
    "MY_HOST_IPv4_03=os.environ.get('MY_HOST_IPv4_03')\n",
    "MY_TSERVER_WEBSERVER_PORT=os.environ.get('MY_TSERVER_WEBSERVER_PORT')\n",
    "MY_DATA_DDL_FILE=os.environ.get(\"MY_DATA_DDL_FILE\")\n",
    "MY_DATA_DML_FILE=os.environ.get(\"MY_DATA_DML_FILE\")\n",
    "MY_UTIL_FUNCTIONS_FILE=os.environ.get(\"MY_UTIL_FUNCTIONS_FILE\")\n",
    "MY_UTIL_YBTSERVER_METRICS_FILE=os.environ.get(\"MY_UTIL_YBTSERVER_METRICS_FILE\")\n",
    "# Current directory of project and related child folders\n",
    "\n",
    "MY_NOTEBOOK_DIR=os.getcwd()\n",
    "MY_NOTEBOOK_DATA_FOLDER=MY_NOTEBOOK_DIR +'/data'\n",
    "\n",
    "MY_NOTEBOOK_UTILS_FOLDER=MY_NOTEBOOK_DIR + '/utils'\n",
    "\n",
    "# Store the note book values for other notebooks to use\n",
    "%store MY_SUDO\n",
    "%store MY_DB_NAME\n",
    "%store MY_YB_PATH\n",
    "%store MY_HOST_IPv4_01\n",
    "%store MY_HOST_IPv4_02\n",
    "%store MY_HOST_IPv4_03\n",
    "%store MY_NOTEBOOK_DIR\n",
    "%store MY_TSERVER_WEBSERVER_PORT\n",
    "%store MY_NOTEBOOK_DATA_FOLDER\n",
    "%store MY_NOTEBOOK_UTILS_FOLDER\n",
    "%store MY_DATA_DDL_FILE\n",
    "%store MY_DATA_DML_FILE\n",
    "%store MY_UTIL_FUNCTIONS_FILE\n",
    "%store MY_UTIL_YBTSERVER_METRICS_FILE"
   ]
  },
  {
   "cell_type": "markdown",
   "metadata": {},
   "source": [
    "### Create a YugabyteDB local cluster\n",
    "- If a YugabyteDB local cluster is running, it will be stopped and destroyed using `yugabyted`\n",
    "- To avoid the port 9000 conflict, specifies port `TSERVER_WEBSERVER_PORT` as `8200`\n"
   ]
  },
  {
   "cell_type": "markdown",
   "metadata": {},
   "source": [
    "### Create the `db_ybu` database with `ysqlsh`\n",
    "- With `ysqlsh`, connect to the local host\n",
    "- Create the `db_ybu` database\n",
    "- List the databases"
   ]
  },
  {
   "cell_type": "code",
   "execution_count": null,
   "metadata": {
    "vscode": {
     "languageId": "shellscript"
    }
   },
   "outputs": [],
   "source": [
    "%%bash -s \"$MY_YB_PATH\" \"$MY_DB_NAME\"  # create database\n",
    "YB_PATH=${1}\n",
    "DB_NAME=${2}\n",
    "\n",
    "cd $YB_PATH\n",
    "\n",
    "# drop and create\n",
    "./bin/ysqlsh -d yugabyte -c \"drop database if exists \"${DB_NAME}\";\"  \n",
    "./bin/ysqlsh -d yugabyte -c \"create database \"${DB_NAME}\";\" \n",
    "\n",
    "# list dbs\n",
    "./bin/ysqlsh -d yugabyte -c \"\\l\"\n"
   ]
  },
  {
   "cell_type": "markdown",
   "metadata": {},
   "source": [
    "### Create Utils\n",
    "For illustration purposes, this lab requires specific user defined functions and objects for the following:\n",
    "- Functions for converting hash range strings to integers\n",
    "- YB-TServer metrics"
   ]
  },
  {
   "cell_type": "markdown",
   "metadata": {},
   "source": [
    "#### Util Functions"
   ]
  },
  {
   "cell_type": "code",
   "execution_count": null,
   "metadata": {
    "vscode": {
     "languageId": "shellscript"
    }
   },
   "outputs": [],
   "source": [
    "%%bash -s \"$MY_YB_PATH\" \"$MY_DB_NAME\" \"$MY_NOTEBOOK_UTILS_FOLDER\" \"$MY_UTIL_FUNCTIONS_FILE\"  # util functions\n",
    "YB_PATH=${1}\n",
    "DB_NAME=${2}\n",
    "UTILS_FOLDER=${3}\n",
    "UTIL_FUNCTIONS_FILE=${4}\n",
    "\n",
    "\n",
    "#ls $UTIL_FOLDER\n",
    "\n",
    "UTIL_FUNCTIONS_FILE_PATH=${UTILS_FOLDER}/${UTIL_FUNCTIONS_FILE}\n",
    "\n",
    "\n",
    "cd $YB_PATH\n",
    "\n",
    "# Functions file\n",
    "./bin/ysqlsh -d ${DB_NAME} -f ${UTIL_FUNCTIONS_FILE_PATH} \n",
    "sleep 1;\n",
    "\n",
    "\n",
    "# Describe functions\n",
    "./bin/ysqlsh -d ${DB_NAME} -c \"\\df\""
   ]
  },
  {
   "cell_type": "markdown",
   "metadata": {},
   "source": [
    "#### Util Metrics"
   ]
  },
  {
   "cell_type": "code",
   "execution_count": 3,
   "metadata": {
    "vscode": {
     "languageId": "shellscript"
    }
   },
   "outputs": [
    {
     "name": "stdout",
     "output_type": "stream",
     "text": [
      "CREATE EXTENSION\n",
      "DROP TABLE\n",
      "CREATE TABLE\n",
      "DROP FUNCTION\n",
      "CREATE FUNCTION\n",
      "CREATE VIEW\n",
      "CREATE VIEW\n",
      "CREATE VIEW\n",
      "CREATE VIEW\n",
      "CREATE VIEW\n",
      "CREATE VIEW\n",
      "DROP FUNCTION\n",
      "CREATE FUNCTION\n",
      "                               List of relations\n",
      " Schema |                        Name                        | Type  |  Owner   \n",
      "--------+----------------------------------------------------+-------+----------\n",
      " public | tbl_cities                                         | table | yugabyte\n",
      " public | tbl_countries                                      | table | yugabyte\n",
      " public | tbl_no_pk                                          | table | yugabyte\n",
      " public | tbl_states                                         | table | yugabyte\n",
      " public | tbl_yb_tserver_metrics_snapshots                   | table | yugabyte\n",
      " public | vw_yb_tserver_metrics_last                         | view  | yugabyte\n",
      " public | vw_yb_tserver_metrics_report                       | view  | yugabyte\n",
      " public | vw_yb_tserver_metrics_snap_and_show_tablet_load    | view  | yugabyte\n",
      " public | vw_yb_tserver_metrics_snap_and_show_tablet_load_ct | view  | yugabyte\n",
      " public | vw_yb_tserver_metrics_snapshot_tablets             | view  | yugabyte\n",
      " public | vw_yb_tserver_metrics_snapshot_tablets_metrics     | view  | yugabyte\n",
      "(11 rows)\n",
      "\n"
     ]
    },
    {
     "name": "stderr",
     "output_type": "stream",
     "text": [
      "ysqlsh:/Users/seth/Documents/GitHub/ybu/101_CodeSnippets/Module_Anatomy_of_an_index/utils/util_ybtserver_metrics.sql:3: NOTICE:  extension \"tablefunc\" already exists, skipping\n",
      "ysqlsh:/Users/seth/Documents/GitHub/ybu/101_CodeSnippets/Module_Anatomy_of_an_index/utils/util_ybtserver_metrics.sql:6: NOTICE:  drop cascades to 5 other objects\n",
      "DETAIL:  drop cascades to view vw_yb_tserver_metrics_last\n",
      "drop cascades to view vw_yb_tserver_metrics_report\n",
      "drop cascades to view vw_yb_tserver_metrics_snap_and_show_tablet_load\n",
      "drop cascades to view vw_yb_tserver_metrics_snapshot_tablets\n",
      "drop cascades to view vw_yb_tserver_metrics_snapshot_tablets_metrics\n"
     ]
    }
   ],
   "source": [
    "%%bash -s \"$MY_YB_PATH\" \"$MY_DB_NAME\" \"$MY_NOTEBOOK_UTILS_FOLDER\" \"$MY_UTIL_YBTSERVER_METRICS_FILE\"  # utl metrics\n",
    "YB_PATH=${1}\n",
    "DB_NAME=${2}\n",
    "UTILS_FOLDER=${3}\n",
    "UTIL_YBTSERVER_METRICS_FILE=${4}\n",
    "\n",
    "#ls $UTIL_FOLDER\n",
    "\n",
    "UTIL_YBTSERVER_METRICS_FILE=${UTILS_FOLDER}/${UTIL_YBTSERVER_METRICS_FILE}\n",
    "\n",
    "cd $YB_PATH\n",
    "\n",
    "# Metrics file\n",
    "./bin/ysqlsh -d ${DB_NAME} -f ${UTIL_YBTSERVER_METRICS_FILE} \n",
    "sleep 1;\n",
    "\n",
    "# Describe relations\n",
    "./bin/ysqlsh -d ${DB_NAME} -c \"\\d\""
   ]
  },
  {
   "cell_type": "markdown",
   "metadata": {},
   "source": [
    "### Create tables and loaded data using DDL and DML scripts\n",
    "- Create tables with a DDL script\n",
    "- Load data with a DML script\n",
    "- Verify the creation of tables and data\n",
    "- View the DDL for tbl_countries"
   ]
  },
  {
   "cell_type": "markdown",
   "metadata": {},
   "source": [
    "##### Create tables, load data, and review relations"
   ]
  },
  {
   "cell_type": "code",
   "execution_count": null,
   "metadata": {
    "vscode": {
     "languageId": "shellscript"
    }
   },
   "outputs": [],
   "source": [
    "%%bash -s \"$MY_YB_PATH\" \"$MY_DB_NAME\" \"$MY_NOTEBOOK_DATA_FOLDER\" \"$MY_DATA_DDL_FILE\" \"$MY_DATA_DML_FILE\"   # World Cities\n",
    "YB_PATH=${1}\n",
    "DB_NAME=${2}\n",
    "DATA_FOLDER=${3}\n",
    "DATA_DDL_FILE=${4}\n",
    "DATA_DML_FILE=${5}\n",
    "\n",
    "#ls $DATA_FOLDER\n",
    "\n",
    "WORLD_DDL_PATH=${DATA_FOLDER}/${DATA_DDL_FILE}\n",
    "WORLD_DML_PATH=${DATA_FOLDER}/${DATA_DML_FILE}\n",
    "\n",
    "cd $YB_PATH\n",
    "\n",
    "# DDL file\n",
    "./bin/ysqlsh -d ${DB_NAME} -f ${WORLD_DDL_PATH} \n",
    "sleep 1;\n",
    "\n",
    "# DML file\n",
    "./bin/ysqlsh -d ${DB_NAME} -f ${WORLD_DML_PATH} \n",
    "sleep 1;\n",
    "\n",
    "# Describe relations\n",
    "./bin/ysqlsh -d ${DB_NAME} -c \"\\d\""
   ]
  },
  {
   "cell_type": "markdown",
   "metadata": {},
   "source": [
    "##### View DDL for tbl_countries\n",
    "\n",
    "- Require bash, as the magic sql cell won't do it\n",
    "- Need to run \\d command"
   ]
  },
  {
   "cell_type": "code",
   "execution_count": null,
   "metadata": {
    "vscode": {
     "languageId": "shellscript"
    }
   },
   "outputs": [],
   "source": [
    "%%bash -s \"$MY_YB_PATH\" \"$MY_DB_NAME\"  # \\d tbl_countriees\n",
    "\n",
    "YB_PATH=${1}\n",
    "DB_NAME=${2}\n",
    "\n",
    "cd $YB_PATH\n",
    "\n",
    "\n",
    "./bin/ysqlsh -d ${DB_NAME} -c \"\\d tbl_countries\"\n",
    "#./bin/ysqlsh -d ${DBNAME} -c \"\\d tbl_countries\"\n",
    "#./bin/ysqlsh -d ${DBNAME} -c \"\\d tbl_states\"\n"
   ]
  },
  {
   "cell_type": "markdown",
   "metadata": {},
   "source": [
    "## Connect to YugabyteDB using the PostgreSQL Driver for Python\n",
    "The following cell requires:\n",
    "- Python 3.7.9 and psycopg2\n"
   ]
  },
  {
   "cell_type": "code",
   "execution_count": null,
   "metadata": {},
   "outputs": [],
   "source": [
    "# Connect to db_ybu\n",
    "# Inspiration from https://medium.com/analytics-vidhya/postgresql-integration-with-jupyter-notebook-deb97579a38d\n",
    "import psycopg2\n",
    "import sqlalchemy as alc\n",
    "from sqlalchemy import create_engine\n",
    "\n",
    "# env_var.env\n",
    "db_host=MY_HOST_IPv4_01\n",
    "db_name=MY_DB_NAME\n",
    "\n",
    "connection_str='postgresql+psycopg2://yugabyte@'+db_host+':5433/'+db_name\n",
    "\n",
    "engine = create_engine(connection_str)"
   ]
  },
  {
   "cell_type": "markdown",
   "metadata": {},
   "source": [
    "#### Load SQL magic extension\n",
    ">IMPORTANT!\n",
    ">\n",
    "> To use SQL magic, you must run the following cell that loads the notebook extension."
   ]
  },
  {
   "cell_type": "code",
   "execution_count": null,
   "metadata": {
    "vscode": {
     "languageId": "sql"
    }
   },
   "outputs": [],
   "source": [
    "%reload_ext sql\n",
    "# Example format\n",
    "%sql {connection_str}"
   ]
  },
  {
   "cell_type": "markdown",
   "metadata": {},
   "source": [
    "#### Show table row counts"
   ]
  },
  {
   "cell_type": "code",
   "execution_count": null,
   "metadata": {
    "vscode": {
     "languageId": "sql"
    }
   },
   "outputs": [],
   "source": [
    "%%sql /* row counts */\n",
    "\n",
    "select '' _\n",
    "    , v1.name\n",
    "    , v1.counts\n",
    "from (\n",
    "    select 'tbl_cities' as name, count(*) as counts from tbl_cities\n",
    "    union \n",
    "    select 'tbl_cities_name_alt_null' as name, count(*) \n",
    "    from tbl_cities\n",
    "    where 1=1\n",
    "    and city_name_alt IS NULL\n",
    "    union\n",
    "    select 'tbl_states' as name,count(*) from tbl_states\n",
    "    union \n",
    "    select 'tbl_countries' as name, count(*) from tbl_countries\n",
    "    union\n",
    "    select 'tbl_country_name_alt_null' as name, count(*) \n",
    "    from tbl_countries \n",
    "    where 1=1\n",
    "    and country_name_alt IS NULL\n",
    "    ) v1\n",
    "order by v1.counts desc;"
   ]
  },
  {
   "cell_type": "markdown",
   "metadata": {},
   "source": [
    "To learn more about the metrices, review the json output for `yb-tserver` metrics\n",
    "- http://127.0.0.1:8200/metrics\n",
    "- http://127.0.0.2:8200/metrics\n",
    "- http://127.0.0.3:8200/metrics\n",
    "  \n",
    "For inspiration, see [https://github.com/FranckPachot/ybdemo/blob/main/docker/yb-lab/client/ybwr.sql](https://github.com/FranckPachot/ybdemo/blob/main/docker/yb-lab/client/ybwr.sql)\n",
    "\n",
    "See `util_ybtserver_metrics.sql` for these details (python has hard time running AWK command in SQL, so not here)\n",
    "- Create extension for crosstab\n",
    "- Delete existing objects\n",
    "- Create table for metrics as jsonb\n",
    "- Create function that:\n",
    "  - deletes # of snapshots\n",
    "  - greps UI :9000 (or custom... 8200) / metrics for each tablet server in cluster\n",
    "  - updates snapshot in data by removing system and other database metrics\n",
    "- Create views to report specific metrics for table id by tablet ids\n",
    "- Create function for crosstab result"
   ]
  },
  {
   "cell_type": "markdown",
   "metadata": {},
   "source": [
    "---\n",
    "# That's It!\n",
    "In this lab, you completed the following:\n",
    "- Requirement\n",
    "  - Install YugabyteDB\n",
    "  - Install the Jupyter Extension\n",
    "  - Determined how to supply a password for sudo\n",
    "  - Edited the en_vars.env file\n",
    "- Setup\n",
    "  - Created create notebook variables\n",
    "  - Created the loopback host aliases\n",
    "  - Created a YugabyteDB local cluster\n",
    "  - Created the `db_ybu` database with `ysqlsh`\n",
    "  - Created tables and loaded data using DDL and DML scripts\n",
    "  - Connected to the database using a PostgreSQL driver for Python\n",
    "  - Create utils"
   ]
  }
 ],
 "metadata": {
  "kernelspec": {
   "display_name": "Python 3.7.9 64-bit",
   "language": "python",
   "name": "python3"
  },
  "language_info": {
   "codemirror_mode": {
    "name": "ipython",
    "version": 3
   },
   "file_extension": ".py",
   "mimetype": "text/x-python",
   "name": "python",
   "nbconvert_exporter": "python",
   "pygments_lexer": "ipython3",
   "version": "3.7.9"
  },
  "orig_nbformat": 4,
  "vscode": {
   "interpreter": {
    "hash": "aee8b7b246df8f9039afb4144a1f6fd8d2ca17a180786b69acc140d282b71a49"
   }
  }
 },
 "nbformat": 4,
 "nbformat_minor": 2
}
