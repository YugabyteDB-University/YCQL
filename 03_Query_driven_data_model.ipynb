{
 "cells": [
  {
   "attachments": {},
   "cell_type": "markdown",
   "metadata": {},
   "source": [
    "<div style=\"width:100%; background-color: #000041\"><a target=\"_blank\\\" href=\"http://university.yugabyte.com\\\"><img src=\"assets/YBU_Logo.webp\" /></a></div>\n",
    "\n",
    "> Free YugabyteDB YCQL Development course at Yugabyte University\n",
    ">\n",
    "> You can sign up for at [YugabyteDB YCQL Development](https://university.yugabyte.com/courses/yugabytedb-ycql-development).\n",
    ">\n",
    "\n",
    "\n",
    "# Query-driven data model\n",
    "In this notebook, you will learn about how to use indexes to optimize the data model, validate data, and improve query performance. First, you will learn how to measure the performance of queries, then you will learn how to create indexes to make the queries more efficient and performant at scale."
   ]
  },
  {
   "attachments": {},
   "cell_type": "markdown",
   "metadata": {
    "deletable": false,
    "editable": false
   },
   "source": [
    "### Import the notebook variables \n",
    "\n",
    "> Requirements:\n",
    ">\n",
    "> You must first create the variables in the `01_Setup.ipynb` notebook.\n",
    ">\n",
    "\n",
    "The following Python cell reads the stored variables created in the `01_Setup.ipynb` notebook. \n",
    "\n",
    "- To run the script, select Execute Cell (Play Arrow) in the left gutter of the cell."
   ]
  },
  {
   "cell_type": "code",
   "execution_count": null,
   "metadata": {
    "vscode": {
     "languageId": "shellscript"
    }
   },
   "outputs": [],
   "source": [
    "%store -r MY_DB_NAME\n",
    "%store -r MY_YB_PATH\n",
    "%store -r MY_YB_PATH_DATA\n",
    "%store -r MY_GITPOD_WORKSPACE_URL\n",
    "%store -r MY_HOST_IPv4_01\n",
    "%store -r MY_HOST_IPv4_02\n",
    "%store -r MY_HOST_IPv4_03\n",
    "%store -r MY_NOTEBOOK_DIR\n",
    "%store -r MY_TSERVER_WEBSERVER_PORT\n",
    "%store -r MY_NOTEBOOK_DATA_FOLDER\n",
    "%store -r MY_YB_MASTER_HOST_GITPOD_URL\n",
    "%store -r MY_YB_TSERVER_HOST_GITPOD_URL\n",
    "%store -r MY_DATA_DDL_FILE\n",
    "%store -r MY_DATA_DML_FILE"
   ]
  },
  {
   "attachments": {},
   "cell_type": "markdown",
   "metadata": {
    "deletable": false,
    "editable": false
   },
   "source": [
    "### Create the `ks_ybu` keyspace\n",
    "Run the following cells to connect to the YugabyteDB cluster using `ycqlsh`. Then, complete the following tasks:\n",
    "- Create the `ks_ybu` keyspace if it does not exists\n"
   ]
  },
  {
   "attachments": {},
   "cell_type": "markdown",
   "metadata": {},
   "source": [
    "Create the keyspace, `ks_ybu`."
   ]
  },
  {
   "cell_type": "code",
   "execution_count": null,
   "metadata": {
    "vscode": {
     "languageId": "shellscript"
    }
   },
   "outputs": [],
   "source": [
    "%%bash -s \"$MY_YB_PATH\" \"$MY_DB_NAME\" # Create the keyspace, ks_ybu. DB_NAME=ks_ybu.\n",
    "YB_PATH=${1}\n",
    "DB_NAME=${2}\n",
    "cd $YB_PATH/bin\n",
    "\n",
    "# shell variable sustituton, DB_NAME=ks_ybu\n",
    "./ycqlsh -r -e \"\n",
    "  create keyspace if not exists $DB_NAME;\n",
    "  \""
   ]
  },
  {
   "attachments": {},
   "cell_type": "markdown",
   "metadata": {},
   "source": [
    "Confirm the keyspace creation."
   ]
  },
  {
   "cell_type": "code",
   "execution_count": null,
   "metadata": {
    "vscode": {
     "languageId": "shellscript"
    }
   },
   "outputs": [],
   "source": [
    "%%bash -s \"$MY_YB_PATH\"  \"$MY_DB_NAME\" # Create the keyspace, ks_ybu. DB_NAME=ks_ybu.\n",
    "YB_PATH=${1}\n",
    "DB_NAME=${2}\n",
    "cd $YB_PATH/bin\n",
    "\n",
    "# shell variable sustituton, DB_NAME=ks_ybu\n",
    "./ycqlsh -r -e \"\n",
    "  describe keyspace $DB_NAME;\n",
    "  \""
   ]
  },
  {
   "attachments": {},
   "cell_type": "markdown",
   "metadata": {},
   "source": [
    "Drop the existing tables in the keyspace.\n"
   ]
  },
  {
   "cell_type": "code",
   "execution_count": null,
   "metadata": {
    "vscode": {
     "languageId": "shellscript"
    }
   },
   "outputs": [],
   "source": [
    "%%bash -s \"$MY_YB_PATH\"  \"$MY_DB_NAME\" # Drop the table\n",
    "YB_PATH=${1}\n",
    "DB_NAME=${2}\n",
    "cd $YB_PATH/bin\n",
    "\n",
    "#  DB_NAME=ks_ybu\n",
    "./ycqlsh -r -k $DB_NAME -e \"\n",
    "  drop table if exists tbl_employees;\n",
    "  \""
   ]
  },
  {
   "attachments": {},
   "cell_type": "markdown",
   "metadata": {},
   "source": [
    "### Run the DDL and DML scripts\n",
    "Run the following cells to run both DDL and DML files"
   ]
  },
  {
   "cell_type": "code",
   "execution_count": null,
   "metadata": {
    "vscode": {
     "languageId": "shellscript"
    }
   },
   "outputs": [],
   "source": [
    "%%bash -s \"$MY_YB_PATH\" \"$MY_DB_NAME\" \"$MY_NOTEBOOK_DATA_FOLDER\" \"$MY_DATA_DDL_FILE\"  \"$MY_DATA_DML_FILE\"  \n",
    "# Wishlist\n",
    "YB_PATH=${1}\n",
    "DB_NAME=${2}\n",
    "DATA_FOLDER=${3}\n",
    "DATA_DDL_FILE=${4}\n",
    "DATA_DML_FILE=${5}\n",
    "\n",
    "WISHLIST_DDL_PATH=${DATA_FOLDER}/${DATA_DDL_FILE}\n",
    "WISHLIST_DML_PATH=${DATA_FOLDER}/${DATA_DML_FILE}\n",
    "\n",
    "cd $YB_PATH/bin\n",
    "\n",
    "# DDL file\n",
    "./ycqlsh -k ${DB_NAME} -f ${WISHLIST_DDL_PATH} \n",
    "sleep 1;\n",
    "\n",
    "# DML file\n",
    "./ycqlsh -k ${DB_NAME} -f ${WISHLIST_DML_PATH} \n",
    "sleep 1;"
   ]
  },
  {
   "attachments": {},
   "cell_type": "markdown",
   "metadata": {},
   "source": [
    "Describe the tables."
   ]
  },
  {
   "cell_type": "code",
   "execution_count": null,
   "metadata": {
    "vscode": {
     "languageId": "shellscript"
    }
   },
   "outputs": [],
   "source": [
    "%%bash -s \"$MY_YB_PATH\"  \"$MY_DB_NAME\" # describe the tables from the DDL script\n",
    "YB_PATH=${1}\n",
    "DB_NAME=${2}\n",
    "cd $YB_PATH/bin\n",
    "\n",
    "# shell variable sustituton, DB_NAME=ks_ybu\n",
    "./ycqlsh -r -k $DB_NAME -e \"\n",
    "  describe tables;\n",
    "  \""
   ]
  },
  {
   "cell_type": "markdown",
   "metadata": {},
   "source": [
    "Validate the data was loaded properly from the SQL scripts."
   ]
  },
  {
   "cell_type": "code",
   "execution_count": null,
   "metadata": {
    "vscode": {
     "languageId": "shellscript"
    }
   },
   "outputs": [],
   "source": [
    "%%bash -s \"$MY_YB_PATH\" \"$MY_DB_NAME\" \"$MY_NOTEBOOK_DATA_FOLDER\" \"$MY_DATA_DML_FILE\"   \n",
    "# Wishlist\n",
    "YB_PATH=${1}\n",
    "DB_NAME=${2}\n",
    "cd $YB_PATH/bin\n",
    "\n",
    "# shell variable sustituton, DB_NAME=ks_ybu\n",
    "./ycqlsh -r -k $DB_NAME -e \"\n",
    "  select * from tbl_products_by_brand;\n",
    "  \""
   ]
  },
  {
   "cell_type": "code",
   "execution_count": null,
   "metadata": {
    "vscode": {
     "languageId": "shellscript"
    }
   },
   "outputs": [],
   "source": [
    "%%bash -s \"$MY_YB_PATH\" \"$MY_DB_NAME\" \"$MY_NOTEBOOK_DATA_FOLDER\" \"$MY_DATA_DML_FILE\"   \n",
    "# Wishlist\n",
    "YB_PATH=${1}\n",
    "DB_NAME=${2}\n",
    "cd $YB_PATH/bin\n",
    "\n",
    "# shell variable sustituton, DB_NAME=ks_ybu\n",
    "./ycqlsh -r -k $DB_NAME -e \"\n",
    "  select * from tbl_products_by_category;\n",
    "  \""
   ]
  },
  {
   "cell_type": "code",
   "execution_count": null,
   "metadata": {
    "vscode": {
     "languageId": "shellscript"
    }
   },
   "outputs": [],
   "source": [
    "%%bash -s \"$MY_YB_PATH\" \"$MY_DB_NAME\" \"$MY_NOTEBOOK_DATA_FOLDER\" \"$MY_DATA_DML_FILE\"   \n",
    "# Wishlist\n",
    "YB_PATH=${1}\n",
    "DB_NAME=${2}\n",
    "cd $YB_PATH/bin\n",
    "\n",
    "# shell variable sustituton, DB_NAME=ks_ybu\n",
    "./ycqlsh -r -k $DB_NAME -e \"\n",
    "  select * from tbl_products_by_wishlist;\n",
    "  \""
   ]
  },
  {
   "cell_type": "code",
   "execution_count": null,
   "metadata": {
    "vscode": {
     "languageId": "shellscript"
    }
   },
   "outputs": [],
   "source": [
    "%%bash -s \"$MY_YB_PATH\" \"$MY_DB_NAME\" \"$MY_NOTEBOOK_DATA_FOLDER\" \"$MY_DATA_DML_FILE\"   \n",
    "# Wishlist\n",
    "YB_PATH=${1}\n",
    "DB_NAME=${2}\n",
    "cd $YB_PATH/bin\n",
    "\n",
    "# shell variable sustituton, DB_NAME=ks_ybu\n",
    "./ycqlsh -r -k $DB_NAME -e \"\n",
    "  select * from tbl_wishlists_by_user;\n",
    "  \""
   ]
  },
  {
   "attachments": {},
   "cell_type": "markdown",
   "metadata": {},
   "source": [
    "---\n",
    "## Execution plan\n",
    "\n",
    "In YCQL, an execution plan, known as a query plan, is similar in style to a YSQL query plan. A query plan consists of execution nodes. A plan node represents an action and may include one or more sub-actions. An action refers to a specific, internal operation. Nodes can be nested. Nested nodes are executed from the inside out. This means that the innermost node is executed before an outer node. This can be best thought of as a nested function call where the inner node returns its results to the outer node, often in a loop.\n",
    "\n",
    "To see an example oq query plan, run the following cell:"
   ]
  },
  {
   "cell_type": "code",
   "execution_count": null,
   "metadata": {
    "vscode": {
     "languageId": "shellscript"
    }
   },
   "outputs": [],
   "source": [
    "%%bash -s \"$MY_YB_PATH\" \"$MY_DB_NAME\"   # # Query plan: Sequential scan  with filter\n",
    "YB_PATH=${1}\n",
    "DB_NAME=${2}  \n",
    "cd $YB_PATH/bin\n",
    "\n",
    "# DB_NAME=ks_ybu\n",
    "./ycqlsh -r -k $DB_NAME -e \"\n",
    "  explain select sum(quantity) as total_items\n",
    "  from tbl_products_by_wishlist\n",
    "  where quantity > 1;\n",
    "\"    "
   ]
  },
  {
   "attachments": {},
   "cell_type": "markdown",
   "metadata": {},
   "source": [
    "In the above output, the query plan shows that this is an aggregate query. An aggregate query exhibits a nested node. The innermost node is the sequence scan operation. The sequence scan applies a filter sub-action for a conditional expression. The sequence scan operation returns the subtotal value to the outermost operation, the aggregation operation.\n"
   ]
  },
  {
   "attachments": {},
   "cell_type": "markdown",
   "metadata": {},
   "source": [
    "## Query plan: Sequence scan\n",
    "A query that results in a sequential scan of a very large table can be very costly in YugabyteDB. For a sequential scan operation, each tablet must perform a seek operation. A seek operation requires CPU, memory, and disk operations. A seek operation consists of reading data from a SST file. The SST file contains the DocKey and document value. The SST file format consists of data and meta blocks. A sequential scan reads all the data blocks within a SST file. \n",
    "\n",
    "Coordinating the tablet operations and gathering tablet results require additional network, CPU, and memory consumption. The topology of a cluster can increase the network latency related to coordinating tablet operations and gathering tablet results. For these reasons, a sequential scan consumes numerous computing resources and often results in very poor query performance, especially for very large tables with billions of rows."
   ]
  },
  {
   "cell_type": "code",
   "execution_count": null,
   "metadata": {
    "vscode": {
     "languageId": "shellscript"
    }
   },
   "outputs": [],
   "source": [
    "%%bash -s \"$MY_YB_PATH\" \"$MY_DB_NAME\"   # Query plan: Sequential scan  \n",
    "YB_PATH=${1}\n",
    "DB_NAME=${2}  \n",
    "cd $YB_PATH/bin\n",
    "\n",
    "# DB_NAME=ks_ybu\n",
    "./ycqlsh -r -k $DB_NAME -e \"\n",
    "  explain select * from tbl_products_by_category;\n",
    "\"  "
   ]
  },
  {
   "attachments": {},
   "cell_type": "markdown",
   "metadata": {},
   "source": [
    "### Query plan: Primary key lookup\n",
    "In this following example, the where expression contains three conditional expressions. Each conditional expression contains a primary key column and an equality operator. Because all three parts of the primary key are in the where expression and include equality operators, the query is a primary key lookup query. A primary key lookup is guaranteed to return zero or one row.\n"
   ]
  },
  {
   "cell_type": "code",
   "execution_count": null,
   "metadata": {
    "vscode": {
     "languageId": "shellscript"
    }
   },
   "outputs": [],
   "source": [
    "%%bash -s \"$MY_YB_PATH\" \"$MY_DB_NAME\"   # # Query plan: Sequential scan  with filter\n",
    "YB_PATH=${1}\n",
    "DB_NAME=${2}  \n",
    "cd $YB_PATH/bin\n",
    "\n",
    "# DB_NAME=ks_ybu\n",
    "./ycqlsh -r -k $DB_NAME -e \"\n",
    "  explain select category, product_name, product_id, brand, price, discount, description, gtin\n",
    "  from tbl_products_by_category \n",
    "  where category = 'H20'\n",
    "    and product_name = 'Talc 5'\n",
    "    and product_id = 62362;\n",
    "\"    "
   ]
  },
  {
   "attachments": {},
   "cell_type": "markdown",
   "metadata": {},
   "source": [
    "### Primary key lookup: Tablet\n",
    "A primary key lookup operation uses the DocKey to determine the location of the row. The partition key hash encoded value of the DocKey informs the operation. The query reads from the tablet that contains the partition key hash. The clustering keys order the data on disk for the given encoded hash. The primary key lookup performs a single seek in the SST file of the related tablet in RocksDB. This is known as a single-key query. The Key-Conditions and Filter sub-actions are semantic artifacts of the query planner. There are no related operations for these sub-actions. "
   ]
  },
  {
   "attachments": {},
   "cell_type": "markdown",
   "metadata": {},
   "source": [
    "#### Select a YB-TServer host\n",
    "Set the host variable for one of the nodes. All three nodes in the cluster are running a Tablet Server (YB-TServer). You can comment/uncomment lines 7-9 as needed.\n"
   ]
  },
  {
   "cell_type": "code",
   "execution_count": 13,
   "metadata": {
    "vscode": {
     "languageId": "shellscript"
    }
   },
   "outputs": [],
   "source": [
    "%%bash -s \"$MY_HOST_IPv4_01\" \"$MY_HOST_IPv4_02\" \"$MY_HOST_IPv4_03\" --out MY_HOST_IPv4\n",
    "HOST_IPv4_01=$( echo \"${1}\" | tr -d \" \")\n",
    "HOST_IPv4_02=$( echo \"${2}\" | tr -d \" \")\n",
    "HOST_IPv4_03=$( echo \"${3}\" | tr -d \" \")\n",
    "\n",
    "# change the hosts for different tablet leaders\n",
    "#MY_HOST_IPv4=$HOST_IPv4_01\n",
    "MY_HOST_IPv4=$HOST_IPv4_02\n",
    "#MY_HOST_IPv4=$HOST_IPv4_03\n",
    "\n",
    "echo ${MY_HOST_IPv4}"
   ]
  },
  {
   "attachments": {},
   "cell_type": "markdown",
   "metadata": {},
   "source": [
    "Store the select host variable."
   ]
  },
  {
   "cell_type": "code",
   "execution_count": null,
   "metadata": {},
   "outputs": [],
   "source": [
    "%store MY_HOST_IPv4\n",
    "print(MY_HOST_IPv4)"
   ]
  },
  {
   "attachments": {},
   "cell_type": "markdown",
   "metadata": {},
   "source": [
    "Save the table name as a variable."
   ]
  },
  {
   "cell_type": "code",
   "execution_count": null,
   "metadata": {},
   "outputs": [],
   "source": [
    "MY_OBJECT_NAME=\"tbl_products_by_category\"\n",
    "%store MY_OBJECT_NAME\n",
    "print(MY_OBJECT_NAME)"
   ]
  },
  {
   "attachments": {},
   "cell_type": "markdown",
   "metadata": {},
   "source": [
    "Grep the Table_ID for the the table using `curl` and `jq`.\n",
    "\n",
    "> Note:\n",
    "> If your are running locally, this cell requires `jq`. \n",
    "> To install for your local OS, try the following:\n",
    "> - Ubuntu: \n",
    ">   - `sudo apt-get install jq`\n",
    "> - OS X:\n",
    ">   - `brew install jq`\n",
    "> "
   ]
  },
  {
   "cell_type": "code",
   "execution_count": null,
   "metadata": {
    "vscode": {
     "languageId": "shellscript"
    }
   },
   "outputs": [],
   "source": [
    "%%bash -s \"$MY_OBJECT_NAME\" \"$MY_HOST_IPv4\"  \"$MY_DB_NAME\"  \"$MY_TSERVER_WEBSERVER_PORT\"  --out MY_TABLE_ID\n",
    "OBJECT_NAME=$( echo \"${1}\" | tr -d \" \")\n",
    "HOST_IPv4=$( echo \"${2}\" | tr -d \" \")\n",
    "DB_NAME=$( echo \"${3}\" | tr -d \" \")\n",
    "TSERVER_WEBSERVER_PORT=$( echo \"${4}\" | tr -d \" \")\n",
    "\n",
    "\n",
    "MY_URL=\"http://${HOST_IPv4}:${TSERVER_WEBSERVER_PORT}/metrics\"\n",
    "\n",
    "MY_TABLE_ID=`curl -s --compressed ${MY_URL} | jq -r 'limit(1;  .[] | select(.attributes.namespace_name==\"'${DB_NAME}'\" and .type==\"tablet\" and .attributes.table_name==\"'${OBJECT_NAME}'\") |  .attributes.table_id) '`\n",
    "\n",
    "echo ${MY_TABLE_ID}"
   ]
  },
  {
   "attachments": {},
   "cell_type": "markdown",
   "metadata": {},
   "source": [
    "Store the table_id for the table."
   ]
  },
  {
   "cell_type": "code",
   "execution_count": null,
   "metadata": {},
   "outputs": [],
   "source": [
    "%store MY_TABLE_ID\n",
    "print(MY_TABLE_ID)"
   ]
  },
  {
   "attachments": {},
   "cell_type": "markdown",
   "metadata": {},
   "source": [
    "Get the tablet_id for the tablet leader for the select node host."
   ]
  },
  {
   "cell_type": "code",
   "execution_count": null,
   "metadata": {
    "vscode": {
     "languageId": "shellscript"
    }
   },
   "outputs": [],
   "source": [
    "%%bash -s \"$MY_OBJECT_NAME\" \"$MY_HOST_IPv4\" --out MY_TABLET_ID\n",
    "OBJECT_NAME=$( echo \"${1}\" | tr -d \" \")\n",
    "HOST_IPv4=$( echo \"${2}\" | tr -d \" \")\n",
    "\n",
    "MY_URL=\"http://${HOST_IPv4}:8200/metrics\"\n",
    "\n",
    "TABLET_ID=`curl -s --compressed ${MY_URL} | jq --raw-output ' .[] | select(.attributes.namespace_name==\"ks_ybu\" and .type==\"tablet\" and .attributes.table_name==\"'$OBJECT_NAME'\") | {tablet_id: .id, metrics: .metrics[] | select(.name == (\"is_raft_leader\") ) | select(.value == 1) } | select(.tablet_id) | {tablet_id} | .tablet_id '`\n",
    "\n",
    "echo ${TABLET_ID}"
   ]
  },
  {
   "attachments": {},
   "cell_type": "markdown",
   "metadata": {},
   "source": [
    "Store the tablet_id for the tablet leader."
   ]
  },
  {
   "cell_type": "code",
   "execution_count": null,
   "metadata": {},
   "outputs": [],
   "source": [
    "%store MY_TABLET_ID\n",
    "print(MY_TABLET_ID)"
   ]
  },
  {
   "attachments": {},
   "cell_type": "markdown",
   "metadata": {},
   "source": [
    "Flush the WAL file to a SST file for the given table_id."
   ]
  },
  {
   "cell_type": "code",
   "execution_count": null,
   "metadata": {
    "vscode": {
     "languageId": "shellscript"
    }
   },
   "outputs": [],
   "source": [
    "%%bash -s \"$MY_YB_PATH\" \"$MY_HOST_IPv4\" \"$MY_TABLE_ID\"  # Import file path of Yugabyte and DB name\n",
    "YB_PATH=$( echo \"${1}\" | tr -d \" \")\n",
    "HOST_IPv4=$( echo \"${2}\" | tr -d \" \")\n",
    "TABLE_ID=$( echo \"${3}\" | tr -d \" \")\n",
    "cd $YB_PATH/bin\n",
    "\n",
    "./yb-admin -init_master_addrs ${HOST_IPv4}:7100 flush_table_by_id ${TABLE_ID} 600"
   ]
  },
  {
   "attachments": {},
   "cell_type": "markdown",
   "metadata": {},
   "source": [
    "Dump and decode the SST file in human-readable form.\n",
    "\n",
    "> Note:\n",
    ">\n",
    "> If the following does dump the SST file, it is most likely that there are not any rows written to this tablet. To resolve this issue, you need to select a different Tablet Server host. Return back to [Select a YB-TServer host] and select a different node host."
   ]
  },
  {
   "cell_type": "code",
   "execution_count": 18,
   "metadata": {
    "vscode": {
     "languageId": "shellscript"
    }
   },
   "outputs": [
    {
     "name": "stdout",
     "output_type": "stream",
     "text": [
      "SubDocKey(DocKey(0xa09c, [\"H20\"], [\"Talc 5\", 62362]), [SystemColumnId(0); HT{ physical: 1672260278581154 }]) -> null\n",
      "SubDocKey(DocKey(0xa09c, [\"H20\"], [\"Talc 5\", 62362]), [ColumnId(3); HT{ physical: 1672260278581154 w: 1 }]) -> \"Yeah\"\n",
      "SubDocKey(DocKey(0xa09c, [\"H20\"], [\"Talc 5\", 62362]), [ColumnId(4); HT{ physical: 1672260278581154 w: 2 }]) -> 9.99\n",
      "SubDocKey(DocKey(0xa09c, [\"H20\"], [\"Talc 5\", 62362]), [ColumnId(5); HT{ physical: 1672260278581154 w: 3 }]) -> 7\n",
      "SubDocKey(DocKey(0xa09c, [\"H20\"], [\"Talc 5\", 62362]), [ColumnId(6); HT{ physical: 1672260278581154 w: 4 }]) -> \"1 liter\"\n",
      "SubDocKey(DocKey(0xa09c, [\"H20\"], [\"Talc 5\", 62362]), [ColumnId(7); HT{ physical: 1672260278581154 w: 5 }]) -> \"006236226326\"\n"
     ]
    }
   ],
   "source": [
    "%%bash -s \"$MY_YB_PATH\" \"$MY_YB_PATH_DATA\" \"$MY_TABLE_ID\" \"$MY_TABLET_ID\" # Import file path of Yugabyte and DB name\n",
    "YB_PATH=$( echo \"${1}\" | tr -d \" \")\n",
    "YB_PATH_DATA=$( echo \"${2}\" | tr -d \" \")\n",
    "TABLE_ID=$( echo \"${3}\" | tr -d \" \")\n",
    "TABLET_ID=$( echo \"${4}\" | tr -d \" \")\n",
    "\n",
    "cd $YB_PATH/bin/\n",
    "\n",
    "TABLE_ID_PATH=${YB_PATH_DATA}/node-1/disk-1/yb-data/tserver/data/rocksdb/table-${TABLE_ID}/tablet-${TABLET_ID}\n",
    "#ls -l  ${TABLE_ID_PATH}\n",
    "\n",
    "./sst_dump --command=scan --file=${TABLE_ID_PATH} --output_format=decoded_regulardb | grep 62362"
   ]
  },
  {
   "attachments": {},
   "cell_type": "markdown",
   "metadata": {},
   "source": [
    "> Question:\n",
    ">\n",
    "> The query predicate is:\n",
    "> \n",
    "> ```where category = 'H20' and product_name = 'Talc 5' and product_id = 62362```\n",
    "> \n",
    "> How can you find the partition key hash in the SST dump for the query predicate?\n",
    "> \n",
    "> Hint:\n",
    ">\n",
    "> Modify the \"Select a YB-TServer host\" cell to use a a different YB-TServer. Then, rerun the cells."
   ]
  },
  {
   "attachments": {},
   "cell_type": "markdown",
   "metadata": {},
   "source": [
    "TODO: Continue from here!"
   ]
  },
  {
   "cell_type": "code",
   "execution_count": null,
   "metadata": {
    "vscode": {
     "languageId": "shellscript"
    }
   },
   "outputs": [],
   "source": [
    "%%bash -s \"$MY_YB_PATH\"  \"$MY_DB_NAME\"  # Query plan: aggregate function\n",
    "YB_PATH=${1}\n",
    "DB_NAME=${2}  \n",
    "cd $YB_PATH/bin\n",
    "\n",
    "# DB_NAME=ks_ybu\n",
    "./ycqlsh -r -k $DB_NAME -e \"\n",
    "  select * from tbl_products_by_wishlist;\n",
    "  \n",
    "\"  "
   ]
  },
  {
   "cell_type": "markdown",
   "metadata": {},
   "source": [
    "### Secondary Indexes \n",
    "In this section, you will create an index and determine how this affects the efficiency of a query by comparing the query plans.\n",
    "\n",
    "Run the following cell to create and describe an index by describing the tbl_products_by_category table."
   ]
  },
  {
   "cell_type": "code",
   "execution_count": null,
   "metadata": {
    "vscode": {
     "languageId": "shellscript"
    }
   },
   "outputs": [],
   "source": [
    "%%bash -s \"$MY_YB_PATH\" \n",
    "YB_PATH=${1}\n",
    "cd $YB_PATH\n",
    "\n",
    "# Create a secondary index, product_name\n",
    "./bin/ycqlsh --execute \"\n",
    "create index idx_products_by_name \n",
    "  on ks_ybu.tbl_products_by_category (product_name) \n",
    "  include (description);\n",
    "\"   \n",
    "\n",
    "# Verfiy the index has been created for the tbl_products_by_category\n",
    "./bin/ycqlsh --execute \"\n",
    "  DESC ks_ybu.tbl_products_by_category\n",
    "\""
   ]
  },
  {
   "cell_type": "code",
   "execution_count": null,
   "metadata": {
    "vscode": {
     "languageId": "shellscript"
    }
   },
   "outputs": [],
   "source": [
    "%%bash -s \"$MY_YB_PATH\" \n",
    "YB_PATH=${1}\n",
    "cd $YB_PATH\n",
    "\n",
    "\n",
    "# Verfiy the index has been created for the tbl_products_by_category\n",
    "./bin/ycqlsh --execute \"\n",
    "  describe ks_ybu.tbl_products_by_category\n",
    "\""
   ]
  },
  {
   "cell_type": "code",
   "execution_count": null,
   "metadata": {
    "vscode": {
     "languageId": "shellscript"
    }
   },
   "outputs": [],
   "source": [
    "%%bash -s \"$MY_YB_PATH\" \n",
    "YB_PATH=${1}\n",
    "cd $YB_PATH\n",
    "\n",
    "# Verfiy the index has been created for the tbl_products_by_category\n",
    "./bin/ycqlsh --execute \"\n",
    "  select partition_hash(category), category from ks_ybu.tbl_products_by_category;\n",
    "\""
   ]
  },
  {
   "cell_type": "code",
   "execution_count": null,
   "metadata": {
    "vscode": {
     "languageId": "shellscript"
    }
   },
   "outputs": [],
   "source": [
    "%%bash -s \"$MY_YB_PATH\" \n",
    "YB_PATH=${1}\n",
    "cd $YB_PATH\n",
    "\n",
    "# Verfiy the index has been created for the tbl_products_by_category\n",
    "./bin/ycqlsh --execute \"\n",
    "  select partition_hash(name), category from ks_ybu.tbl_products_by_name;\n",
    "\""
   ]
  },
  {
   "cell_type": "markdown",
   "metadata": {},
   "source": [
    "#### Verify the query plan for a secondary index\n",
    "In the previous cell, a secondary index was created so that the product name can be efficiently queried on the tbl_products_by_category table. The DESC keyword is used to verify if the index was created correctly. \n",
    "\n",
    "> **Important:** The attributes in the primary key remain a part of the secondary index and can be retrieved from the index without an extra trip to the primary table, improving operational efficiency. \n",
    "\n",
    "The description attribute was added using the `INCLUDE` keyword to the secondary index to create a covering index.\n",
    "\n",
    "Run the following cell to verify if adding a secondary index for the `product_name` can make the product_name query on the `tbl_products_by_category` more efficient."
   ]
  },
  {
   "cell_type": "code",
   "execution_count": null,
   "metadata": {
    "vscode": {
     "languageId": "shellscript"
    }
   },
   "outputs": [],
   "source": [
    "%%bash -s \"$MY_YB_PATH\"   # Sequential Scan\n",
    "YB_PATH=${1}\n",
    "cd $YB_PATH\n",
    "\n",
    "# Expose the query plan for a covering index\n",
    "./bin/ycqlsh --execute \"\n",
    "  EXPLAIN SELECT product_name, category, price, description, product_id \n",
    "  FROM ks_ybu.tbl_products_by_category where product_name=?;\n",
    "\"  "
   ]
  },
  {
   "cell_type": "markdown",
   "metadata": {},
   "source": [
    "#### Index Only Scan\n",
    "By running the previous cell, you were able to determine that by adding a secondary index for the condition attribute, `product_name`, the query plan has changed from a sequential scan to an index only scan. This has improved this query's performance by orders of magnitude when accounting for large scale workloads. \n",
    "\n",
    "The `INCLUDE` clause plays an essential role in making queries more efficient and indexes more useful.  In the previous cell, the `product_name` was added to the index by using the `INCLUDE` clause. Now, the secondary index contains the values of the `product_name` attribute, creating a covering index, reducing a trip to the primary table, also known as the heap in PostgreSQL.\n",
    "\n",
    "For example, if you had not added the `description` attribute in the `INCLUDE` clause, that would have made the query plan an index scan. This means that in our example, although the index was used to locate product_name, the primary table was still accessed to retrieve the data for the `description` column."
   ]
  },
  {
   "cell_type": "markdown",
   "metadata": {},
   "source": [
    "### Unique Indexes\n",
    "You can disallow a column from having duplicate values by using a unique constraint as shown in the following cell."
   ]
  },
  {
   "cell_type": "code",
   "execution_count": null,
   "metadata": {
    "vscode": {
     "languageId": "shellscript"
    }
   },
   "outputs": [],
   "source": [
    "%%bash -s \"$MY_YB_PATH\"  \n",
    "YB_PATH=${1}\n",
    "cd $YB_PATH\n",
    "\n",
    "# Query Plan\n",
    "./bin/ycqlsh --execute \"\n",
    "  CREATE UNIQUE INDEX idx_unique_product_by_id \n",
    "  ON ks_ybu.tbl_products_by_category(product_id)\n",
    "  INCLUDE(description);\n",
    "\"  \n",
    "  \n",
    "./bin/ycqlsh --execute \"\n",
    "  DESC ks_ybu.tbl_products_by_category\n",
    "\"  \n",
    "# This statement will cause an error since duplicate values for the \n",
    "# product_id are not allowed, 87c7624a-4af5-4347-922d-ab43ab32476b.\n",
    "./bin/ycqlsh --execute \"\n",
    "  INSERT INTO ks_ybu.tbl_products_by_category (\n",
    "    product_name, \n",
    "    description, \n",
    "    price, \n",
    "    category,\n",
    "    product_id \n",
    "  ) VALUES (\n",
    "    'Guard dogs',\n",
    "    'Doberman Pinchers',\n",
    "    643.99,\n",
    "    'Security',\n",
    "    87c7624a-4af5-4347-922d-ab43ab32476b\n",
    "  );\n",
    "\""
   ]
  },
  {
   "cell_type": "markdown",
   "metadata": {},
   "source": [
    ">**Important:** Notice the error in the result set: `Execution Error. Duplicate value disallowed by unique index idx_unique_product_by_id`. This verifies that the unique index that was created for the `product_id` is preventing a duplicate value for this attribute. Currently the same `product_id` identitifies a backpack and cannot be used again for a different product."
   ]
  },
  {
   "cell_type": "markdown",
   "metadata": {},
   "source": [
    "#### Partial Indexes\n",
    "\n",
    "Use a range partition to reduce the amount of data that requires scanning.\n",
    "In this index, you will partition all products over $30 in the Office Supply category. "
   ]
  },
  {
   "cell_type": "code",
   "execution_count": null,
   "metadata": {
    "vscode": {
     "languageId": "shellscript"
    }
   },
   "outputs": [],
   "source": [
    "%%bash -s \"$MY_YB_PATH\"  \n",
    "YB_PATH=${1}\n",
    "cd $YB_PATH\n",
    "\n",
    "# Query Plan\n",
    "./bin/ycqlsh --execute \"\n",
    "  CREATE INDEX ON ks_ybu.tbl_products_by_category(price) \n",
    "  INCLUDE (description, product_name) \n",
    "  WHERE price > 30 and category = 'Office Supplies';\n",
    "\"\n",
    "\n",
    "./bin/ycqlsh --execute \"\n",
    "  DESC ks_ybu.tbl_products_by_category\n",
    "\"  "
   ]
  },
  {
   "cell_type": "markdown",
   "metadata": {},
   "source": [
    "### Specific Indexes\n",
    "An index can be created that specifies a particular value of an attribute. For instance, suppose that a popular item in our ecommerce site is searched for constantly. It may be beneficial to create an index that satisfies this query quickly and efficiently. In the following cell, there is an example of an index for a popular product, batteries."
   ]
  },
  {
   "cell_type": "code",
   "execution_count": null,
   "metadata": {
    "vscode": {
     "languageId": "shellscript"
    }
   },
   "outputs": [],
   "source": [
    "%%bash -s \"$MY_YB_PATH\"  \n",
    "YB_PATH=${1}\n",
    "cd $YB_PATH\n",
    "\n",
    "# Specific Index\n",
    "./bin/ycqlsh --execute \"\n",
    "  CREATE INDEX idx_batteries_desc \n",
    "  ON ks_ybu.tbl_products_by_category (description) \n",
    "  INCLUDE (product_name) \n",
    "  WHERE description='Batteries';\n",
    "\"\n",
    "#  Index Only Scan\n",
    "./bin/ycqlsh --execute \"\n",
    "  EXPLAIN SELECT \n",
    "    description, \n",
    "    product_name, \n",
    "    product_id, \n",
    "    category, \n",
    "    price \n",
    "  FROM ks_ybu.tbl_products_by_category \n",
    "  WHERE description='Batteries';\n",
    "\"  "
   ]
  },
  {
   "cell_type": "code",
   "execution_count": null,
   "metadata": {
    "vscode": {
     "languageId": "shellscript"
    }
   },
   "outputs": [],
   "source": [
    "%%bash -s \"$MY_YB_PATH\"  \n",
    "YB_PATH=${1}\n",
    "cd $YB_PATH\n",
    "\n",
    "#  Seq Scan\n",
    "./bin/ycqlsh --execute \"\n",
    "  EXPLAIN SELECT description, product_name, product_id, category, price FROM ks_ybu.tbl_products_by_category \n",
    "  WHERE description='Hotdogs';\n",
    "\"  "
   ]
  },
  {
   "cell_type": "markdown",
   "metadata": {},
   "source": [
    ">**Important:** Note that in the previous cell, an index only scan will occur only if the WHERE clause predicate returns the same expression as originally stated in the index creation statement.\n",
    "\n",
    "Run the following statement to verify that a query to a different expression will not use the index to satisfy the query."
   ]
  },
  {
   "cell_type": "code",
   "execution_count": null,
   "metadata": {
    "vscode": {
     "languageId": "shellscript"
    }
   },
   "outputs": [],
   "source": [
    "%%bash -s \"$MY_YB_PATH\"  \n",
    "YB_PATH=${1}\n",
    "cd $YB_PATH\n",
    "\n",
    "#  Seq Scan\n",
    "./bin/ycqlsh --execute \"\n",
    "  EXPLAIN SELECT description, product_name, product_id, category, price FROM ks_ybu.tbl_products_by_category \n",
    "  WHERE description=?;\n",
    "\"  "
   ]
  },
  {
   "cell_type": "markdown",
   "metadata": {
    "vscode": {
     "languageId": "shellscript"
    }
   },
   "source": [
    "#### Collections\n",
    "More complex data structures allow YCQL to store data sets that offers more flexibility in its data model capabilities. Very important when a trying to reduce the amount of tables that need to be queried. Run the following cell to add a new column to the category table whose data type is an ordered list with text elements."
   ]
  },
  {
   "cell_type": "code",
   "execution_count": null,
   "metadata": {
    "vscode": {
     "languageId": "shellscript"
    }
   },
   "outputs": [],
   "source": [
    "%%bash -s \"$MY_YB_PATH\"  \n",
    "YB_PATH=${1}\n",
    "cd $YB_PATH\n",
    "\n",
    "# Collection: Create a column with a list containing text elements\n",
    "./bin/ycqlsh --execute \"\n",
    "  ALTER TABLE ks_ybu.tbl_products_by_category \n",
    "  ADD warehouse_ids LIST<TEXT>;\n",
    "\"\n",
    "\n",
    "./bin/ycqlsh --execute \"\n",
    "  DESC ks_ybu.tbl_products_by_category\n",
    "\""
   ]
  },
  {
   "cell_type": "markdown",
   "metadata": {},
   "source": [
    "#### Collection: SET\n",
    "Run the following cell to create a new column on the category table. This new column will be a SET with text elements. "
   ]
  },
  {
   "cell_type": "code",
   "execution_count": null,
   "metadata": {
    "vscode": {
     "languageId": "shellscript"
    }
   },
   "outputs": [],
   "source": [
    "%%bash -s \"$MY_YB_PATH\"  \n",
    "YB_PATH=${1}\n",
    "cd $YB_PATH\n",
    "\n",
    "# Collection: Create a column for a set containing text elements\n",
    "./bin/ycqlsh --execute \"\n",
    "  ALTER TABLE ks_ybu.tbl_products_by_category \n",
    "  ADD tags SET<TEXT>;\n",
    "\"\n",
    "\n",
    "./bin/ycqlsh --execute \"\n",
    "  DESC ks_ybu.tbl_products_by_category\n",
    "\""
   ]
  },
  {
   "cell_type": "markdown",
   "metadata": {},
   "source": [
    "#### Frozen Collections\n",
    "Run the following cell to crate a frozen collection. In this example a list was frozen. While this value in this column can be dropped, its elements cannot be manipulated."
   ]
  },
  {
   "cell_type": "code",
   "execution_count": null,
   "metadata": {
    "vscode": {
     "languageId": "shellscript"
    }
   },
   "outputs": [],
   "source": [
    "%%bash -s \"$MY_YB_PATH\"  \n",
    "YB_PATH=${1}\n",
    "cd $YB_PATH\n",
    "\n",
    "# Frozen Collection\n",
    "./bin/ycqlsh --execute \"\n",
    "  ALTER TABLE ks_ybu.tbl_products_by_category \n",
    "  ADD store_locations FROZEN<LIST<TEXT>>;\n",
    "\"\n",
    "\n",
    "./bin/ycqlsh --execute \"\n",
    "  DESC ks_ybu.tbl_products_by_category\n",
    "\""
   ]
  },
  {
   "cell_type": "markdown",
   "metadata": {},
   "source": [
    "#### JSON\n",
    "\n",
    "JSONB is considered the best way to utilize complex data structures since in YCQL, JSONB is searchable. This is not true of the other collections in YCQL. Also note that collections can be used in JSON as well. Run the following cell and note the pattern necessary to write a JSON object to a table in YCQL."
   ]
  },
  {
   "cell_type": "code",
   "execution_count": null,
   "metadata": {
    "vscode": {
     "languageId": "shellscript"
    }
   },
   "outputs": [],
   "source": [
    "%%bash -s \"$MY_YB_PATH\"  \n",
    "YB_PATH=${1}\n",
    "cd $YB_PATH\n",
    "\n",
    "# Query Plan\n",
    "./bin/ycqlsh --execute \"\n",
    "  INSERT INTO ks_ybu.tbl_products_by_category (\n",
    "    category, \n",
    "    price, \n",
    "    product_id, \n",
    "    sku_details\n",
    "  ) VALUES (\n",
    "    'Grocery',\n",
    "    9.99,\n",
    "    6eb8d774-8b03-4457-a8e9-710339ca7165,\n",
    "    '{\n",
    "      \\\"product_id\\\": \\\"6eb8d774-8b03-4457-a8e9-710339ca7165\\\",\n",
    "      \\\"warehouse_sku\\\": \\\"8jk39d03-8b03-4457-a8e9-710339ca7165\\\"\n",
    "    }'\n",
    "  );\n",
    "\"\n",
    "\n",
    "./bin/ycqlsh --execute \"\n",
    "  SELECT * FROM ks_ybu.tbl_products_by_category;\n",
    "\""
   ]
  },
  {
   "cell_type": "markdown",
   "metadata": {},
   "source": [
    "In the preceding cell, note the syntax necessary to insert a JSON object into the table. Outside the curly brackets are single quotes, where inside the brackets there are double quotes."
   ]
  },
  {
   "cell_type": "markdown",
   "metadata": {},
   "source": [
    "#### JSONB Index\n",
    "\n",
    "JSONB is considered the best way to utilize complex data structures since in YCQL, JSONB is searchable."
   ]
  },
  {
   "cell_type": "code",
   "execution_count": null,
   "metadata": {
    "vscode": {
     "languageId": "shellscript"
    }
   },
   "outputs": [],
   "source": [
    "%%bash -s \"$MY_YB_PATH\"  \n",
    "YB_PATH=${1}\n",
    "cd $YB_PATH\n",
    "\n",
    "# Query Plan\n",
    "./bin/ycqlsh --execute \"\n",
    "  CREATE INDEX idx_sku_details_name \n",
    "  ON ks_ybu.tbl_products_by_category((sku_details->>'Name'));\n",
    "\"\n",
    "\n",
    "./bin/ycqlsh --execute \"\n",
    "  DESC  ks_ybu.tbl_products_by_category\n",
    "\"\n",
    "\n",
    "./bin/ycqlsh --execute \"\n",
    "  EXPLAIN SELECT category, price, product_id FROM ks_ybu.tbl_products_by_category \n",
    "  WHERE (sku_details->>'Name')=?;\n",
    "\""
   ]
  },
  {
   "cell_type": "markdown",
   "metadata": {},
   "source": [
    "In the preceding cell, note the syntax that is required to create an index using a JSON key. Also note the syntax used to search by the key in a JSON object."
   ]
  },
  {
   "cell_type": "markdown",
   "metadata": {},
   "source": [
    "### Time to Live\n",
    "\n",
    "YCQL offers data expiration. In the context of data modelling, removing \"old\" or deprecated data can improve database operational costs as well as storage costs."
   ]
  },
  {
   "cell_type": "code",
   "execution_count": null,
   "metadata": {
    "vscode": {
     "languageId": "shellscript"
    }
   },
   "outputs": [],
   "source": [
    "%%bash -s \"$MY_YB_PATH\"  \n",
    "YB_PATH=${1}\n",
    "cd $YB_PATH\n",
    "\n",
    "# Query Plan\n",
    "./bin/ycqlsh --execute \"\n",
    "  CREATE TABLE ks_ybu.tbl_todolists_by_user (\n",
    "    user_id BIGINT, \n",
    "    todolist_name TEXT, \n",
    "    todolist_id UUID, \n",
    "    is_public BOOLEAN, \n",
    "    PRIMARY KEY((user_id), todolist_name)\n",
    "  ) \n",
    "  WITH CLUSTERING ORDER BY (todolist_name DESC);\n",
    "\""
   ]
  },
  {
   "cell_type": "markdown",
   "metadata": {},
   "source": [
    "In the following cell, a row is added to the table with a time-to-live of 5 seconds. Once the time has expired, notice that the row is no longer in the table. This is a TTL scoped to the data row."
   ]
  },
  {
   "cell_type": "code",
   "execution_count": null,
   "metadata": {
    "vscode": {
     "languageId": "shellscript"
    }
   },
   "outputs": [],
   "source": [
    "%%bash -s \"$MY_YB_PATH\"  \n",
    "YB_PATH=${1}\n",
    "cd $YB_PATH\n",
    "\n",
    "./bin/ycqlsh --execute \"\n",
    "  INSERT INTO ks_ybu.tbl_wishlists_by_user(\n",
    "      user_id,\n",
    "      name,  \n",
    "      wishlist_id,\n",
    "      is_public\n",
    "    ) VALUES (\n",
    "      'Mark', \n",
    "      'Grocery', \n",
    "      2a70494e-6b68-4739-b3e0-ff06aa0a2d67, \n",
    "      true\n",
    "    ) \n",
    "    USING TTL 5;\n",
    "  \"  "
   ]
  },
  {
   "cell_type": "code",
   "execution_count": null,
   "metadata": {
    "vscode": {
     "languageId": "shellscript"
    }
   },
   "outputs": [],
   "source": [
    "%%bash -s \"$MY_YB_PATH\"  \n",
    "YB_PATH=${1}\n",
    "cd $YB_PATH\n",
    "\n",
    "./bin/ycqlsh --execute \"\n",
    "  INSERT INTO ks_ybu.tbl_wishlists_by_user(\n",
    "      user_id, \n",
    "      name, \n",
    "      wishlist_id,\n",
    "      is_public\n",
    "    ) VALUES (\n",
    "      'Mark', \n",
    "      'Grocery', \n",
    "      2a70494e-6b68-4739-b3e0-ff06aa0a2d67, \n",
    "      true\n",
    "    ) \n",
    "    USING TTL 5;\n",
    "  \"  \n",
    "\n",
    "  ./bin/ycqlsh --execute \"\n",
    "    SELECT * FROM ks_ybu.tbl_todolists_by_user;\n",
    "  \"  "
   ]
  },
  {
   "cell_type": "markdown",
   "metadata": {},
   "source": [
    "Wait five seconds before running the following cell. This will verify that the row level data expiration property run successfully."
   ]
  },
  {
   "cell_type": "code",
   "execution_count": null,
   "metadata": {
    "vscode": {
     "languageId": "shellscript"
    }
   },
   "outputs": [],
   "source": [
    "%%bash -s \"$MY_YB_PATH\"  \n",
    "YB_PATH=${1}\n",
    "cd $YB_PATH\n",
    "   \n",
    "./bin/ycqlsh --execute \"\n",
    "  SELECT * FROM ks_ybu.tbl_todolists_by_user;\n",
    "\" "
   ]
  },
  {
   "cell_type": "markdown",
   "metadata": {},
   "source": [
    "If the row is still visible, wait a few more seconds to run the preceding cell. This will verify that the row has expired as expected."
   ]
  },
  {
   "cell_type": "markdown",
   "metadata": {
    "deletable": false,
    "editable": false
   },
   "source": [
    "---\n",
    "# All done!\n",
    "In this lab, you completed the following:\n",
    "\n",
    "- Setup\n",
    "  - Created the `ks_ybu` database with `ycqlsh`\n",
    "  - Created tables and loaded data using DDL and DML scripts"
   ]
  }
 ],
 "metadata": {
  "kernelspec": {
   "display_name": "Python 3",
   "language": "python",
   "name": "python3"
  },
  "language_info": {
   "codemirror_mode": {
    "name": "ipython",
    "version": 3
   },
   "file_extension": ".py",
   "mimetype": "text/x-python",
   "name": "python",
   "nbconvert_exporter": "python",
   "pygments_lexer": "ipython3",
   "version": "3.8.9"
  },
  "orig_nbformat": 4,
  "vscode": {
   "interpreter": {
    "hash": "31f2aee4e71d21fbe5cf8b01ff0e069b9275f58929596ceb00d14d90e3e16cd6"
   }
  }
 },
 "nbformat": 4,
 "nbformat_minor": 2
}
