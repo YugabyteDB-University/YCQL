{
 "cells": [
  {
   "attachments": {},
   "cell_type": "markdown",
   "metadata": {},
   "source": [
    "<div style=\"width:100%; background-color: #000041\"><a target=\"_blank\\\" href=\"http://university.yugabyte.com\\\"><img src=\"assets/YBU_Logo.webp\" /></a></div><br>\n",
    "\n",
    "> **YugabyteDB YCQL Development**\n",
    ">\n",
    "> Enroll for free at [Yugabyte University](https://university.yugabyte.com/courses/yugabytedb-ycql-development).\n",
    ">\n",
    "\n",
    "# Secondary indexes\n",
    "In this notebook, you will learn how to create secondary indexes to not only improve query performance, but also remove unnecessary tables from the data model."
   ]
  },
  {
   "attachments": {},
   "cell_type": "markdown",
   "metadata": {
    "deletable": false,
    "editable": false
   },
   "source": [
    "### Import the notebook variables \n",
    "\n",
    "> Requirements:\n",
    ">\n",
    "> You must first create the variables in the `01_Setup.ipynb` notebook.\n",
    ">\n",
    "\n",
    "The following Python cell reads the stored variables created in the `01_Setup.ipynb` notebook. \n",
    "\n",
    "- To run the script, select Execute Cell (Play Arrow) in the left gutter of the cell."
   ]
  },
  {
   "cell_type": "code",
   "execution_count": 2,
   "metadata": {
    "vscode": {
     "languageId": "shellscript"
    }
   },
   "outputs": [],
   "source": [
    "%store -r MY_DB_NAME\n",
    "%store -r MY_YB_PATH\n",
    "%store -r MY_YB_PATH_DATA\n",
    "%store -r MY_GITPOD_WORKSPACE_URL\n",
    "%store -r MY_HOST_IPv4_01\n",
    "%store -r MY_HOST_IPv4_02\n",
    "%store -r MY_HOST_IPv4_03\n",
    "%store -r MY_NOTEBOOK_DIR\n",
    "%store -r MY_TSERVER_WEBSERVER_PORT\n",
    "%store -r MY_NOTEBOOK_DATA_FOLDER\n",
    "%store -r MY_YB_MASTER_HOST_GITPOD_URL\n",
    "%store -r MY_YB_TSERVER_HOST_GITPOD_URL\n",
    "%store -r MY_DATA_DDL_FILE\n",
    "%store -r MY_DATA_DML_FILE"
   ]
  },
  {
   "attachments": {},
   "cell_type": "markdown",
   "metadata": {},
   "source": [
    "---\n",
    "## Secondary index: `Index Scan` query plan\n",
    "In this section, you will create secondary indexes. A secondary index is a data structure that contains some of the columns of the index table and an index key that supports one or more data access patterns. \n",
    "\n",
    "To begin, examine the query plan without the implementation of a secondary index."
   ]
  },
  {
   "cell_type": "code",
   "execution_count": null,
   "metadata": {
    "vscode": {
     "languageId": "shellscript"
    }
   },
   "outputs": [],
   "source": [
    "%%bash -s \"$MY_YB_PATH\" \"$MY_DB_NAME\"   # new query plan\n",
    "YB_PATH=${1}\n",
    "DB_NAME=${2}  \n",
    "cd $YB_PATH/bin\n",
    "\n",
    "# DB_NAME=ks_ybu\n",
    "./ycqlsh -r -k $DB_NAME -e \"\n",
    "  explain select  category, brand, product_name, description, product_id \n",
    "  from tbl_products_by_category \n",
    "  where brand=?;\n",
    "\"  "
   ]
  },
  {
   "attachments": {},
   "cell_type": "markdown",
   "metadata": {},
   "source": [
    "The query plan reveals that the query uses a sequence scan."
   ]
  },
  {
   "cell_type": "code",
   "execution_count": null,
   "metadata": {
    "vscode": {
     "languageId": "shellscript"
    }
   },
   "outputs": [],
   "source": [
    "%%bash -s \"$MY_YB_PATH\" \"$MY_DB_NAME\"   # Secondary index\n",
    "YB_PATH=${1}\n",
    "DB_NAME=${2}  \n",
    "cd $YB_PATH/bin\n",
    "\n",
    "# DB_NAME=ks_ybu\n",
    "./ycqlsh -r -k $DB_NAME -e \"\n",
    "  describe tbl_products_by_category;\n",
    "  \""
   ]
  },
  {
   "attachments": {},
   "cell_type": "markdown",
   "metadata": {},
   "source": [
    "### Create the secondary index\n",
    "\n",
    "> **Important**\n",
    ">\n",
    "> You can only create a secondary index for a table with the `transactions` property enabled.\n",
    "> \n",
    "\n",
    "To begin, drop the secondary index if it exists."
   ]
  },
  {
   "cell_type": "code",
   "execution_count": null,
   "metadata": {
    "vscode": {
     "languageId": "shellscript"
    }
   },
   "outputs": [],
   "source": [
    "%%bash -s \"$MY_YB_PATH\" \"$MY_DB_NAME\"   # Secondary index\n",
    "YB_PATH=${1}\n",
    "DB_NAME=${2}  \n",
    "cd $YB_PATH/bin\n",
    "\n",
    "# DB_NAME=ks_ybu\n",
    "./ycqlsh -r -k $DB_NAME -e \"\n",
    "drop index if exists idx_products_by_category_brand;\"\n",
    "\n",
    "sleep 1;"
   ]
  },
  {
   "attachments": {},
   "cell_type": "markdown",
   "metadata": {},
   "source": [
    "Run the following cell to create an index by describing the `tbl_products_by_category` table."
   ]
  },
  {
   "cell_type": "code",
   "execution_count": null,
   "metadata": {
    "vscode": {
     "languageId": "shellscript"
    }
   },
   "outputs": [],
   "source": [
    "%%bash -s \"$MY_YB_PATH\" \"$MY_DB_NAME\"   # Secondary index\n",
    "YB_PATH=${1}\n",
    "DB_NAME=${2}  \n",
    "cd $YB_PATH/bin\n",
    "\n",
    "# DB_NAME=ks_ybu\n",
    "./ycqlsh -r -k $DB_NAME -e \"\n",
    "create index if not exists idx_products_by_category_brand \n",
    "  on tbl_products_by_category (brand) \n",
    "  ;\""
   ]
  },
  {
   "attachments": {},
   "cell_type": "markdown",
   "metadata": {},
   "source": [
    "Use the `describe` keyword  to verify if the index was created for the given table. \n"
   ]
  },
  {
   "cell_type": "code",
   "execution_count": null,
   "metadata": {
    "vscode": {
     "languageId": "shellscript"
    }
   },
   "outputs": [],
   "source": [
    "%%bash -s \"$MY_YB_PATH\" \"$MY_DB_NAME\"   # describe table to view index\n",
    "YB_PATH=${1}\n",
    "DB_NAME=${2}  \n",
    "cd $YB_PATH/bin\n",
    "\n",
    "# DB_NAME=ks_ybu\n",
    "./ycqlsh -r -k $DB_NAME -e \"\n",
    "  describe tbl_products_by_category;\n",
    "  \""
   ]
  },
  {
   "attachments": {},
   "cell_type": "markdown",
   "metadata": {},
   "source": [
    "The index key consists of a partition key and zero or more clustering keys. In the previous example, you can see that the index key is `brand`. The index inherits the primary key from the index table. The clustering keys are `category`,`product_name`, and `product_id`. "
   ]
  },
  {
   "attachments": {},
   "cell_type": "markdown",
   "metadata": {},
   "source": [
    "### View query plan for a secondary index\n",
    "\n",
    "> **Important:** \n",
    "> The primary key of the index table is part of the secondary index data structure. \n",
    "\n",
    "Run the following cell to verify if adding a secondary index for the `brand` can make the product_name query on the `tbl_products_by_category` more efficient."
   ]
  },
  {
   "cell_type": "code",
   "execution_count": null,
   "metadata": {
    "vscode": {
     "languageId": "shellscript"
    }
   },
   "outputs": [],
   "source": [
    "%%bash -s \"$MY_YB_PATH\" \"$MY_DB_NAME\"   # new query plan\n",
    "YB_PATH=${1}\n",
    "DB_NAME=${2}  \n",
    "cd $YB_PATH/bin\n",
    "\n",
    "# DB_NAME=ks_ybu\n",
    "./ycqlsh -r -k $DB_NAME -e \"\n",
    "  explain select  category, brand, product_name, description, product_id \n",
    "  from tbl_products_by_category \n",
    "  where brand=?;\n",
    "\"  "
   ]
  },
  {
   "attachments": {},
   "cell_type": "markdown",
   "metadata": {},
   "source": [
    "#### Index Scan\n",
    "With the introduction of a secondary index for the table, there is a new query plan. This query plan contains one node. The action is an index scan. Key Conditions is a sub-action that specifies the use of the partition key for the index. The index contains the partition key for the index and the primary key columns of the index table. After accessing the index, the query accesses the table. The table contains the description column. The action to access the index table is similar to a primary key lookup. Since the index contains the primary key columns, the query is able to lookup the rows in the table using the primary key values.\n",
    "\n",
    "To learn more about why this is the case, take a look at the SST files for an index tablet."
   ]
  },
  {
   "attachments": {},
   "cell_type": "markdown",
   "metadata": {},
   "source": [
    "### Index tablet and index scan query\n",
    "YugabyteDB stores a secondary index in the same way as it does for a table. A secondary index exists as tablets. The data structure is also similar. It is DocDB. "
   ]
  },
  {
   "attachments": {},
   "cell_type": "markdown",
   "metadata": {},
   "source": [
    "#### Select a YB-TServer host\n",
    "Set the host variable for one of the nodes. All three nodes in the cluster are running a Tablet Server (YB-TServer). You can comment/uncomment lines 7-9 as needed.\n"
   ]
  },
  {
   "cell_type": "code",
   "execution_count": null,
   "metadata": {
    "vscode": {
     "languageId": "shellscript"
    }
   },
   "outputs": [],
   "source": [
    "%%bash -s \"$MY_HOST_IPv4_01\" \"$MY_HOST_IPv4_02\" \"$MY_HOST_IPv4_03\" --out MY_HOST_IPv4\n",
    "HOST_IPv4_01=$( echo \"${1}\" | tr -d \" \")\n",
    "HOST_IPv4_02=$( echo \"${2}\" | tr -d \" \")\n",
    "HOST_IPv4_03=$( echo \"${3}\" | tr -d \" \")\n",
    "\n",
    "# change the hosts for different tablet leaders\n",
    "MY_HOST_IPv4=$HOST_IPv4_01\n",
    "#MY_HOST_IPv4=$HOST_IPv4_02\n",
    "#MY_HOST_IPv4=$HOST_IPv4_03\n",
    "\n",
    "echo ${MY_HOST_IPv4}"
   ]
  },
  {
   "attachments": {},
   "cell_type": "markdown",
   "metadata": {},
   "source": [
    "Store the select host variable."
   ]
  },
  {
   "cell_type": "code",
   "execution_count": null,
   "metadata": {},
   "outputs": [],
   "source": [
    "%store MY_HOST_IPv4\n",
    "print(MY_HOST_IPv4)"
   ]
  },
  {
   "attachments": {},
   "cell_type": "markdown",
   "metadata": {},
   "source": [
    "Save the table name as a variable."
   ]
  },
  {
   "cell_type": "code",
   "execution_count": null,
   "metadata": {},
   "outputs": [],
   "source": [
    "MY_OBJECT_NAME=\"idx_products_by_category_brand\"\n",
    "%store MY_OBJECT_NAME\n",
    "print(MY_OBJECT_NAME)"
   ]
  },
  {
   "attachments": {},
   "cell_type": "markdown",
   "metadata": {},
   "source": [
    "Grep the INDEX_ID for the the table using `curl` and `jq`.\n"
   ]
  },
  {
   "cell_type": "code",
   "execution_count": null,
   "metadata": {
    "vscode": {
     "languageId": "shellscript"
    }
   },
   "outputs": [],
   "source": [
    "%%bash -s \"$MY_OBJECT_NAME\" \"$MY_HOST_IPv4\"  \"$MY_DB_NAME\"  \"$MY_TSERVER_WEBSERVER_PORT\"  --out MY_INDEX_ID\n",
    "OBJECT_NAME=$( echo \"${1}\" | tr -d \" \")\n",
    "HOST_IPv4=$( echo \"${2}\" | tr -d \" \")\n",
    "DB_NAME=$( echo \"${3}\" | tr -d \" \")\n",
    "TSERVER_WEBSERVER_PORT=$( echo \"${4}\" | tr -d \" \")\n",
    "\n",
    "\n",
    "MY_URL=\"http://${HOST_IPv4}:${TSERVER_WEBSERVER_PORT}/metrics\"\n",
    "\n",
    "MY_INDEX_ID=`curl -s --compressed ${MY_URL} | jq -r 'limit(1;  .[] | select(.attributes.namespace_name==\"'${DB_NAME}'\" and .type==\"tablet\" and .attributes.table_name==\"'${OBJECT_NAME}'\") |  .attributes.table_id) '`\n",
    "\n",
    "echo ${MY_INDEX_ID}"
   ]
  },
  {
   "attachments": {},
   "cell_type": "markdown",
   "metadata": {},
   "source": [
    "Store the index_id for the index."
   ]
  },
  {
   "cell_type": "code",
   "execution_count": null,
   "metadata": {},
   "outputs": [],
   "source": [
    "%store MY_INDEX_ID\n",
    "print(MY_INDEX_ID)"
   ]
  },
  {
   "attachments": {},
   "cell_type": "markdown",
   "metadata": {},
   "source": [
    "Get the tablet_id for the tablet leader for the select node host."
   ]
  },
  {
   "cell_type": "code",
   "execution_count": null,
   "metadata": {
    "vscode": {
     "languageId": "shellscript"
    }
   },
   "outputs": [],
   "source": [
    "%%bash -s \"$MY_OBJECT_NAME\" \"$MY_HOST_IPv4\" --out MY_INDEX_TABLET_ID\n",
    "OBJECT_NAME=$( echo \"${1}\" | tr -d \" \")\n",
    "HOST_IPv4=$( echo \"${2}\" | tr -d \" \")\n",
    "\n",
    "MY_URL=\"http://${HOST_IPv4}:8200/metrics\"\n",
    "\n",
    "MY_INDEX_TABLET_ID=`curl -s --compressed ${MY_URL} | jq --raw-output ' .[] | select(.attributes.namespace_name==\"ks_ybu\" and .type==\"tablet\" and .attributes.table_name==\"'$OBJECT_NAME'\") | {tablet_id: .id, metrics: .metrics[] | select(.name == (\"is_raft_leader\") ) | select(.value == 1) } | select(.tablet_id) | {tablet_id} | .tablet_id '`\n",
    "\n",
    "echo ${MY_INDEX_TABLET_ID}"
   ]
  },
  {
   "attachments": {},
   "cell_type": "markdown",
   "metadata": {},
   "source": [
    "Store the tablet_id for the tablet leader."
   ]
  },
  {
   "cell_type": "code",
   "execution_count": null,
   "metadata": {},
   "outputs": [],
   "source": [
    "%store MY_INDEX_TABLET_ID\n",
    "print(MY_INDEX_TABLET_ID)"
   ]
  },
  {
   "attachments": {},
   "cell_type": "markdown",
   "metadata": {},
   "source": [
    "Flush the WAL file to a SST file for the given index_id."
   ]
  },
  {
   "cell_type": "code",
   "execution_count": null,
   "metadata": {
    "vscode": {
     "languageId": "shellscript"
    }
   },
   "outputs": [],
   "source": [
    "%%bash -s \"$MY_YB_PATH\" \"$MY_HOST_IPv4\" \"$MY_INDEX_ID\"  # Import file path of Yugabyte and DB name\n",
    "YB_PATH=$( echo \"${1}\" | tr -d \" \")\n",
    "HOST_IPv4=$( echo \"${2}\" | tr -d \" \")\n",
    "INDEX_ID=$( echo \"${3}\" | tr -d \" \")\n",
    "cd $YB_PATH/bin\n",
    "\n",
    "./yb-admin -init_master_addrs ${HOST_IPv4}:7100 flush_table_by_id ${INDEX_ID} 600"
   ]
  },
  {
   "attachments": {},
   "cell_type": "markdown",
   "metadata": {},
   "source": [
    "Dump and decode the SST file in human-readable form.\n",
    "\n",
    "> Note:\n",
    ">\n",
    "> If the following does **NOT** dump the SST file, it is most likely that there are not any rows written to this tablet. To resolve this issue, you need to select a different Tablet Server host. Return back to **Select a YB-TServer host** and select a different node host."
   ]
  },
  {
   "cell_type": "code",
   "execution_count": null,
   "metadata": {
    "vscode": {
     "languageId": "shellscript"
    }
   },
   "outputs": [],
   "source": [
    "%%bash -s \"$MY_YB_PATH\" \"$MY_YB_PATH_DATA\" \"$MY_INDEX_ID\" \"$MY_INDEX_TABLET_ID\" # Import file path of Yugabyte and DB name\n",
    "YB_PATH=$( echo \"${1}\" | tr -d \" \")\n",
    "YB_PATH_DATA=$( echo \"${2}\" | tr -d \" \")\n",
    "INDEX_ID=$( echo \"${3}\" | tr -d \" \")\n",
    "INDEX_TABLET_ID=$( echo \"${4}\" | tr -d \" \")\n",
    "\n",
    "cd $YB_PATH/bin/\n",
    "\n",
    "INDEX_ID_PATH=${YB_PATH_DATA}/node-1/disk-1/yb-data/tserver/data/rocksdb/table-${INDEX_ID}/tablet-${INDEX_TABLET_ID}\n",
    "\n",
    "# ls -l  ${TABLE_ID_PATH}\n",
    "\n",
    "./sst_dump --command=scan --file=${INDEX_ID_PATH} --output_format=decoded_regulardb "
   ]
  },
  {
   "attachments": {},
   "cell_type": "markdown",
   "metadata": {},
   "source": [
    "The DocKey consists of the partition key hash, the partition key, and the clustering keys. \n",
    "\n",
    "The index scan query begins by accessing a single tablet for the index. The seek operation reads data from the SST file for the index tablet using the partition key hash. Because the brand column contains non-unique values, there may be multiple seeks in the related SST file. The seek operation gathers the DocKeys. The DocKeys contains the primary key values for the index table. Using this list, a second operation accesses the index table tablets. When there is more than a single index table tablet, this is a batch operation. Often, the index and table tablets reside on different nodes. This means that the batch operation requires at least one or more remote procedure calls to one or more nodes in the cluster. The goal with the batch operation is to optimize the number of seek operations for a given table tablet by using a list of primary keys that fall within the tablet hash value range. Although this query is not as costly as a sequential scan query, it does require accessing one index tablet and at least one tablet for the index table. "
   ]
  },
  {
   "attachments": {},
   "cell_type": "markdown",
   "metadata": {},
   "source": [
    "## Secondary index: `Index Only Scan` query plan\n",
    "\n",
    " You can define one or more `include` columns to cover a query with the index alone. The term, covering index, describes a secondary index that a query uses to only access the index and not the table. The previous index required the query to access both the tablets for the index and for the table. A covering index only utilizes the index itself for the query. There are some restrictions for defining an include column in a secondary index. The include column needs to be a column with a basic data type."
   ]
  },
  {
   "attachments": {},
   "cell_type": "markdown",
   "metadata": {},
   "source": [
    "### Create the secondary index\n",
    "\n",
    "To begin, drop the secondary index if it exists."
   ]
  },
  {
   "cell_type": "code",
   "execution_count": 3,
   "metadata": {
    "vscode": {
     "languageId": "shellscript"
    }
   },
   "outputs": [],
   "source": [
    "%%bash -s \"$MY_YB_PATH\" \"$MY_DB_NAME\"   # Secondary index\n",
    "YB_PATH=${1}\n",
    "DB_NAME=${2}  \n",
    "cd $YB_PATH/bin\n",
    "\n",
    "# DB_NAME=ks_ybu\n",
    "./ycqlsh -r -k $DB_NAME -e \"\n",
    "drop index if exists idx_products_by_category_brand_inc;\"\n",
    "\n",
    "sleep 1;"
   ]
  },
  {
   "attachments": {},
   "cell_type": "markdown",
   "metadata": {},
   "source": [
    "Run the following cell to create the index the uses the `include` clause."
   ]
  },
  {
   "cell_type": "code",
   "execution_count": 4,
   "metadata": {
    "vscode": {
     "languageId": "shellscript"
    }
   },
   "outputs": [],
   "source": [
    "%%bash -s \"$MY_YB_PATH\" \"$MY_DB_NAME\"   # Secondary index\n",
    "YB_PATH=${1}\n",
    "DB_NAME=${2}  \n",
    "cd $YB_PATH/bin\n",
    "\n",
    "# DB_NAME=ks_ybu\n",
    "./ycqlsh -r -k $DB_NAME -e \"\n",
    "create index if not exists idx_products_by_category_brand_inc \n",
    "  on tbl_products_by_category (brand) \n",
    "  include (description)\n",
    "  ;\""
   ]
  },
  {
   "attachments": {},
   "cell_type": "markdown",
   "metadata": {},
   "source": [
    "Use the `describe` keyword  to verify if the index was created for the given table. \n"
   ]
  },
  {
   "cell_type": "code",
   "execution_count": 5,
   "metadata": {
    "vscode": {
     "languageId": "shellscript"
    }
   },
   "outputs": [
    {
     "name": "stdout",
     "output_type": "stream",
     "text": [
      "\n",
      "CREATE TABLE ks_ybu.tbl_products_by_category (\n",
      "    category text,\n",
      "    product_name text,\n",
      "    product_id int,\n",
      "    brand text,\n",
      "    price decimal,\n",
      "    discount int,\n",
      "    description text,\n",
      "    gtin text,\n",
      "    sku_details jsonb,\n",
      "    PRIMARY KEY (category, product_name, product_id)\n",
      ") WITH CLUSTERING ORDER BY (product_name ASC, product_id ASC)\n",
      "    AND default_time_to_live = 0\n",
      "    AND transactions = {'enabled': 'true'};\n",
      "CREATE INDEX idx_products_by_category_brand ON ks_ybu.tbl_products_by_category (brand, category, product_name, product_id)\n",
      "    WITH CLUSTERING ORDER BY (category ASC, product_name ASC, product_id ASC)\n",
      "    AND transactions = {'enabled': 'true'};\n",
      "CREATE INDEX idx_products_by_category_brand_inc ON ks_ybu.tbl_products_by_category (brand, category, product_name, product_id) INCLUDE (description)\n",
      "    WITH CLUSTERING ORDER BY (category ASC, product_name ASC, product_id ASC)\n",
      "    AND transactions = {'enabled': 'true'};\n",
      "\n"
     ]
    }
   ],
   "source": [
    "%%bash -s \"$MY_YB_PATH\" \"$MY_DB_NAME\"   # describe table to view index\n",
    "YB_PATH=${1}\n",
    "DB_NAME=${2}  \n",
    "cd $YB_PATH/bin\n",
    "\n",
    "# DB_NAME=ks_ybu\n",
    "./ycqlsh -r -k $DB_NAME -e \"\n",
    "  describe tbl_products_by_category;\n",
    "  \""
   ]
  },
  {
   "attachments": {},
   "cell_type": "markdown",
   "metadata": {},
   "source": [
    "There are now two indexes for the table. The index key  for the `idx_products_by_category_brand_inc` index consists of a partition key and zero or more clustering keys. In the previous example, you can see that the index key is `brand`. The index inherits the primary key from the index table. The clustering keys are `category`,`product_name`, and `product_id`.  In addition, the `description` column is added to the index."
   ]
  },
  {
   "attachments": {},
   "cell_type": "markdown",
   "metadata": {},
   "source": [
    "### View query plan for a secondary index\n",
    "Run the following to view the plan."
   ]
  },
  {
   "cell_type": "code",
   "execution_count": 6,
   "metadata": {
    "vscode": {
     "languageId": "shellscript"
    }
   },
   "outputs": [
    {
     "name": "stdout",
     "output_type": "stream",
     "text": [
      "\n",
      " QUERY PLAN\n",
      "----------------------------------------------------------------------------------------------------\n",
      " Index Only Scan using ks_ybu.idx_products_by_category_brand_inc on ks_ybu.tbl_products_by_category\n",
      "   Key Conditions: (brand = :brand)                                                                \n",
      "\n"
     ]
    }
   ],
   "source": [
    "%%bash -s \"$MY_YB_PATH\" \"$MY_DB_NAME\"   # new query plan\n",
    "YB_PATH=${1}\n",
    "DB_NAME=${2}  \n",
    "cd $YB_PATH/bin\n",
    "\n",
    "# DB_NAME=ks_ybu\n",
    "./ycqlsh -r -k $DB_NAME -e \"\n",
    "  explain select  category, brand, product_name, description, product_id \n",
    "  from tbl_products_by_category \n",
    "  where brand=?;\n",
    "\"  "
   ]
  },
  {
   "attachments": {},
   "cell_type": "markdown",
   "metadata": {},
   "source": [
    "#### Index Only Scan\n",
    "The introduction of a new covering index results in a new query plan. This query plan contains one node. The action is an index only scan. Key Conditions is a sub-action that specifies the use of the partition key for the index. The equality operator indicates that the internal operation is to locate a specific partition key on a single tablet. The index contains the partition key for the index, the primary key columns of the index table, and any included columns from the index table. In this example, the include column is the description column from the index table."
   ]
  },
  {
   "attachments": {},
   "cell_type": "markdown",
   "metadata": {},
   "source": [
    "### Index tablet and `index only scan` query\n",
    "To learn more about why this is an  `index only scan` query, take a look at how the YugabyteDB stores data for this index."
   ]
  },
  {
   "attachments": {},
   "cell_type": "markdown",
   "metadata": {},
   "source": [
    "#### Select a YB-TServer host\n",
    "Set the host variable for one of the nodes. All three nodes in the cluster are running a Tablet Server (YB-TServer). You can comment/uncomment lines 7-9 as needed.\n"
   ]
  },
  {
   "cell_type": "code",
   "execution_count": 7,
   "metadata": {
    "vscode": {
     "languageId": "shellscript"
    }
   },
   "outputs": [],
   "source": [
    "%%bash -s \"$MY_HOST_IPv4_01\" \"$MY_HOST_IPv4_02\" \"$MY_HOST_IPv4_03\" --out MY_HOST_IPv4\n",
    "HOST_IPv4_01=$( echo \"${1}\" | tr -d \" \")\n",
    "HOST_IPv4_02=$( echo \"${2}\" | tr -d \" \")\n",
    "HOST_IPv4_03=$( echo \"${3}\" | tr -d \" \")\n",
    "\n",
    "# change the hosts for different tablet leaders\n",
    "MY_HOST_IPv4=$HOST_IPv4_01\n",
    "#MY_HOST_IPv4=$HOST_IPv4_02\n",
    "#MY_HOST_IPv4=$HOST_IPv4_03\n",
    "\n",
    "echo ${MY_HOST_IPv4}"
   ]
  },
  {
   "attachments": {},
   "cell_type": "markdown",
   "metadata": {},
   "source": [
    "Store the select host variable."
   ]
  },
  {
   "cell_type": "code",
   "execution_count": 8,
   "metadata": {},
   "outputs": [
    {
     "name": "stdout",
     "output_type": "stream",
     "text": [
      "Stored 'MY_HOST_IPv4' (str)\n",
      "127.0.0.1\n",
      "\n"
     ]
    }
   ],
   "source": [
    "%store MY_HOST_IPv4\n",
    "print(MY_HOST_IPv4)"
   ]
  },
  {
   "attachments": {},
   "cell_type": "markdown",
   "metadata": {},
   "source": [
    "Save the table name as a variable."
   ]
  },
  {
   "cell_type": "code",
   "execution_count": 9,
   "metadata": {},
   "outputs": [
    {
     "name": "stdout",
     "output_type": "stream",
     "text": [
      "Stored 'MY_OBJECT_NAME' (str)\n",
      "idx_products_by_category_brand_inc\n"
     ]
    }
   ],
   "source": [
    "MY_OBJECT_NAME=\"idx_products_by_category_brand_inc\"\n",
    "%store MY_OBJECT_NAME\n",
    "print(MY_OBJECT_NAME)"
   ]
  },
  {
   "attachments": {},
   "cell_type": "markdown",
   "metadata": {},
   "source": [
    "Grep the INDEX_ID for the the table using `curl` and `jq`.\n"
   ]
  },
  {
   "cell_type": "code",
   "execution_count": 10,
   "metadata": {
    "vscode": {
     "languageId": "shellscript"
    }
   },
   "outputs": [],
   "source": [
    "%%bash -s \"$MY_OBJECT_NAME\" \"$MY_HOST_IPv4\"  \"$MY_DB_NAME\"  \"$MY_TSERVER_WEBSERVER_PORT\"  --out MY_INDEX_ID\n",
    "OBJECT_NAME=$( echo \"${1}\" | tr -d \" \")\n",
    "HOST_IPv4=$( echo \"${2}\" | tr -d \" \")\n",
    "DB_NAME=$( echo \"${3}\" | tr -d \" \")\n",
    "TSERVER_WEBSERVER_PORT=$( echo \"${4}\" | tr -d \" \")\n",
    "\n",
    "\n",
    "MY_URL=\"http://${HOST_IPv4}:${TSERVER_WEBSERVER_PORT}/metrics\"\n",
    "\n",
    "MY_INDEX_ID=`curl -s --compressed ${MY_URL} | jq -r 'limit(1;  .[] | select(.attributes.namespace_name==\"'${DB_NAME}'\" and .type==\"tablet\" and .attributes.table_name==\"'${OBJECT_NAME}'\") |  .attributes.table_id) '`\n",
    "\n",
    "echo ${MY_INDEX_ID}"
   ]
  },
  {
   "attachments": {},
   "cell_type": "markdown",
   "metadata": {},
   "source": [
    "Store the index_id for the index."
   ]
  },
  {
   "cell_type": "code",
   "execution_count": 11,
   "metadata": {},
   "outputs": [
    {
     "name": "stdout",
     "output_type": "stream",
     "text": [
      "Stored 'MY_INDEX_ID' (str)\n",
      "c905c879a79d48d3928805bfd89922ae\n",
      "\n"
     ]
    }
   ],
   "source": [
    "%store MY_INDEX_ID\n",
    "print(MY_INDEX_ID)"
   ]
  },
  {
   "attachments": {},
   "cell_type": "markdown",
   "metadata": {},
   "source": [
    "Get the tablet_id for the tablet leader for the select node host."
   ]
  },
  {
   "cell_type": "code",
   "execution_count": 12,
   "metadata": {
    "vscode": {
     "languageId": "shellscript"
    }
   },
   "outputs": [],
   "source": [
    "%%bash -s \"$MY_OBJECT_NAME\" \"$MY_HOST_IPv4\" --out MY_INDEX_TABLET_ID\n",
    "OBJECT_NAME=$( echo \"${1}\" | tr -d \" \")\n",
    "HOST_IPv4=$( echo \"${2}\" | tr -d \" \")\n",
    "\n",
    "MY_URL=\"http://${HOST_IPv4}:8200/metrics\"\n",
    "\n",
    "MY_INDEX_TABLET_ID=`curl -s --compressed ${MY_URL} | jq --raw-output ' .[] | select(.attributes.namespace_name==\"ks_ybu\" and .type==\"tablet\" and .attributes.table_name==\"'$OBJECT_NAME'\") | {tablet_id: .id, metrics: .metrics[] | select(.name == (\"is_raft_leader\") ) | select(.value == 1) } | select(.tablet_id) | {tablet_id} | .tablet_id '`\n",
    "\n",
    "echo ${MY_INDEX_TABLET_ID}"
   ]
  },
  {
   "attachments": {},
   "cell_type": "markdown",
   "metadata": {},
   "source": [
    "Store the tablet_id for the tablet leader."
   ]
  },
  {
   "cell_type": "code",
   "execution_count": 13,
   "metadata": {},
   "outputs": [
    {
     "name": "stdout",
     "output_type": "stream",
     "text": [
      "Stored 'MY_INDEX_TABLET_ID' (str)\n",
      "a10b1a1a4f3940c491e36ac9df768064\n",
      "\n"
     ]
    }
   ],
   "source": [
    "%store MY_INDEX_TABLET_ID\n",
    "print(MY_INDEX_TABLET_ID)"
   ]
  },
  {
   "attachments": {},
   "cell_type": "markdown",
   "metadata": {},
   "source": [
    "Flush the WAL file to a SST file for the given index_id."
   ]
  },
  {
   "cell_type": "code",
   "execution_count": 14,
   "metadata": {
    "vscode": {
     "languageId": "shellscript"
    }
   },
   "outputs": [
    {
     "name": "stdout",
     "output_type": "stream",
     "text": [
      "Flushed [c905c879a79d48d3928805bfd89922ae] tables.\n"
     ]
    }
   ],
   "source": [
    "%%bash -s \"$MY_YB_PATH\" \"$MY_HOST_IPv4\" \"$MY_INDEX_ID\"  # Import file path of Yugabyte and DB name\n",
    "YB_PATH=$( echo \"${1}\" | tr -d \" \")\n",
    "HOST_IPv4=$( echo \"${2}\" | tr -d \" \")\n",
    "INDEX_ID=$( echo \"${3}\" | tr -d \" \")\n",
    "cd $YB_PATH/bin\n",
    "\n",
    "./yb-admin -init_master_addrs ${HOST_IPv4}:7100 flush_table_by_id ${INDEX_ID} 600"
   ]
  },
  {
   "attachments": {},
   "cell_type": "markdown",
   "metadata": {},
   "source": [
    "Dump and decode the SST file in human-readable form.\n",
    "\n",
    "> Note:\n",
    ">\n",
    "> If the following does **NOT** dump the SST file, it is most likely that there are not any rows written to this tablet. To resolve this issue, you need to select a different Tablet Server host. Return back to **Select a YB-TServer host** and select a different node host."
   ]
  },
  {
   "cell_type": "code",
   "execution_count": 15,
   "metadata": {
    "vscode": {
     "languageId": "shellscript"
    }
   },
   "outputs": [
    {
     "name": "stdout",
     "output_type": "stream",
     "text": [
      "from [] to []\n",
      "Process /Users/seth/yugabyte-data/node-1/disk-1/yb-data/tserver/data/rocksdb/table-c905c879a79d48d3928805bfd89922ae/tablet-a10b1a1a4f3940c491e36ac9df768064/000010.sst\n",
      "Sst file format: block-based\n",
      "SubDocKey(DocKey(0xb464, [\"Yeah\"], [\"H20\", \"Talc 5\", 62362]), [SystemColumnId(0); HT{ physical: 1672699605559607 }]) -> null\n",
      "SubDocKey(DocKey(0xb464, [\"Yeah\"], [\"H20\", \"Talc 5\", 62362]), [ColumnId(4); HT{ physical: 1672699605559607 w: 1 }]) -> \"1 liter\"\n",
      "SubDocKey(DocKey(0xb464, [\"Yeah\"], [\"Hip\", \"Tute 20\", 62361]), [SystemColumnId(0); HT{ physical: 1672699605559607 w: 2 }]) -> null\n",
      "SubDocKey(DocKey(0xb464, [\"Yeah\"], [\"Hip\", \"Tute 20\", 62361]), [ColumnId(4); HT{ physical: 1672699605559607 w: 3 }]) -> \"front waist pack\"\n",
      "SubDocKey(DocKey(0xce08, [\"Climb\"], [\"Day\", \"Turn 24\", 12452]), [SystemColumnId(0); HT{ physical: 1672699605559607 w: 4 }]) -> null\n",
      "SubDocKey(DocKey(0xce08, [\"Climb\"], [\"Day\", \"Turn 24\", 12452]), [ColumnId(4); HT{ physical: 1672699605559607 w: 5 }]) -> \"day pack\"\n",
      "SubDocKey(DocKey(0xf131, [\"Bear\"], [\"Baby\", \"Tot 10\", 54563]), [SystemColumnId(0); HT{ physical: 1672699605559607 }]) -> null\n",
      "SubDocKey(DocKey(0xf131, [\"Bear\"], [\"Baby\", \"Tot 10\", 54563]), [ColumnId(4); HT{ physical: 1672699605559607 w: 1 }]) -> \"back baby carrier\"\n",
      "SubDocKey(DocKey(0xf131, [\"Bear\"], [\"Kids\", \"Claw 16\", 54561]), [SystemColumnId(0); HT{ physical: 1672699605559607 }]) -> null\n",
      "SubDocKey(DocKey(0xf131, [\"Bear\"], [\"Kids\", \"Claw 16\", 54561]), [ColumnId(4); HT{ physical: 1672699605559607 w: 1 }]) -> \"kids backpack\"\n"
     ]
    }
   ],
   "source": [
    "%%bash -s \"$MY_YB_PATH\" \"$MY_YB_PATH_DATA\" \"$MY_INDEX_ID\" \"$MY_INDEX_TABLET_ID\" # Import file path of Yugabyte and DB name\n",
    "YB_PATH=$( echo \"${1}\" | tr -d \" \")\n",
    "YB_PATH_DATA=$( echo \"${2}\" | tr -d \" \")\n",
    "INDEX_ID=$( echo \"${3}\" | tr -d \" \")\n",
    "INDEX_TABLET_ID=$( echo \"${4}\" | tr -d \" \")\n",
    "\n",
    "cd $YB_PATH/bin/\n",
    "\n",
    "INDEX_ID_PATH=${YB_PATH_DATA}/node-1/disk-1/yb-data/tserver/data/rocksdb/table-${INDEX_ID}/tablet-${INDEX_TABLET_ID}\n",
    "\n",
    "# ls -l  ${TABLE_ID_PATH}\n",
    "\n",
    "./sst_dump --command=scan --file=${INDEX_ID_PATH} --output_format=decoded_regulardb "
   ]
  },
  {
   "attachments": {},
   "cell_type": "markdown",
   "metadata": {},
   "source": [
    "A query plan with an index-only-scan operation accesses a single tablet for the index. The seek operation reads data from the SST file for the index tablet. Depending on the number of products for a given brand, there may be multiple seeks. However, because brand is the partition key for this index, the query locates the tablet with the partition hash key almost immediately. The partition hash key for the index is the DocKey hash. The DocKey consists of the index partition key hash, the index partition key, and clustering keys. The clustering keys are the primary key columns of the index table. The DocKey maps to subdocuments. The subdocuments in this example are the included columns:  description. Each subdocument contains a column value. The covering index efficiently processes the query without needing to access the data for the the index table."
   ]
  },
  {
   "attachments": {},
   "cell_type": "markdown",
   "metadata": {},
   "source": [
    "## Unique Indexes\n",
    "You can disallow a column from having duplicate values by using a unique constraint as shown in the following cell."
   ]
  },
  {
   "cell_type": "code",
   "execution_count": 16,
   "metadata": {
    "vscode": {
     "languageId": "shellscript"
    }
   },
   "outputs": [
    {
     "name": "stderr",
     "output_type": "stream",
     "text": [
      "bash: line 11: ./bin/ycqlsh: No such file or directory\n",
      "bash: line 16: ./bin/ycqlsh: No such file or directory\n"
     ]
    },
    {
     "ename": "CalledProcessError",
     "evalue": "Command 'b'YB_PATH=${1}\\nDB_NAME=${2}  \\ncd $YB_PATH/bin\\n\\n# DB_NAME=ks_ybu\\n./ycqlsh -r -k $DB_NAME -e \" CREATE UNIQUE INDEX idx_unique_product_by_id \\n  ON ks_ybu.tbl_products_by_category(product_id)\\n  INCLUDE (description);\\n\"  \\n  \\n./bin/ycqlsh --execute \"\\n  DESC ks_ybu.tbl_products_by_category\\n\"  \\n# This statement will cause an error since duplicate values for the \\n# product_id are not allowed, 87c7624a-4af5-4347-922d-ab43ab32476b.\\n./bin/ycqlsh --execute \"\\n  INSERT INTO ks_ybu.tbl_products_by_category (\\n    product_name, \\n    description, \\n    price, \\n    category,\\n    product_id \\n  ) VALUES (\\n    \\'Guard dogs\\',\\n    \\'Doberman Pinchers\\',\\n    643.99,\\n    \\'Security\\',\\n    87c7624a-4af5-4347-922d-ab43ab32476b\\n  );\\n\"\\n'' returned non-zero exit status 127.",
     "output_type": "error",
     "traceback": [
      "\u001b[0;31m---------------------------------------------------------------------------\u001b[0m",
      "\u001b[0;31mCalledProcessError\u001b[0m                        Traceback (most recent call last)",
      "\u001b[1;32m/Users/seth/Documents/GitHub/YugabyteDB-University/YCQL/04_Secondary_indexes_index_scan.ipynb Cell 70\u001b[0m in \u001b[0;36m<cell line: 1>\u001b[0;34m()\u001b[0m\n\u001b[0;32m----> <a href='vscode-notebook-cell:/Users/seth/Documents/GitHub/YugabyteDB-University/YCQL/04_Secondary_indexes_index_scan.ipynb#Y126sZmlsZQ%3D%3D?line=0'>1</a>\u001b[0m get_ipython()\u001b[39m.\u001b[39;49mrun_cell_magic(\u001b[39m'\u001b[39;49m\u001b[39mbash\u001b[39;49m\u001b[39m'\u001b[39;49m, \u001b[39m'\u001b[39;49m\u001b[39m-s \u001b[39;49m\u001b[39m\"\u001b[39;49m\u001b[39m$MY_YB_PATH\u001b[39;49m\u001b[39m\"\u001b[39;49m\u001b[39m \u001b[39;49m\u001b[39m\"\u001b[39;49m\u001b[39m$MY_DB_NAME\u001b[39;49m\u001b[39m\"\u001b[39;49m\u001b[39m   # describe table to view index\u001b[39;49m\u001b[39m'\u001b[39;49m, \u001b[39m'\u001b[39;49m\u001b[39mYB_PATH=$\u001b[39;49m\u001b[39m{1}\u001b[39;49;00m\u001b[39m\\n\u001b[39;49;00m\u001b[39mDB_NAME=$\u001b[39;49m\u001b[39m{2}\u001b[39;49;00m\u001b[39m  \u001b[39;49m\u001b[39m\\n\u001b[39;49;00m\u001b[39mcd $YB_PATH/bin\u001b[39;49m\u001b[39m\\n\u001b[39;49;00m\u001b[39m\\n\u001b[39;49;00m\u001b[39m# DB_NAME=ks_ybu\u001b[39;49m\u001b[39m\\n\u001b[39;49;00m\u001b[39m./ycqlsh -r -k $DB_NAME -e \u001b[39;49m\u001b[39m\"\u001b[39;49m\u001b[39m CREATE UNIQUE INDEX idx_unique_product_by_id \u001b[39;49m\u001b[39m\\n\u001b[39;49;00m\u001b[39m  ON ks_ybu.tbl_products_by_category(product_id)\u001b[39;49m\u001b[39m\\n\u001b[39;49;00m\u001b[39m  INCLUDE (description);\u001b[39;49m\u001b[39m\\n\u001b[39;49;00m\u001b[39m\"\u001b[39;49m\u001b[39m  \u001b[39;49m\u001b[39m\\n\u001b[39;49;00m\u001b[39m  \u001b[39;49m\u001b[39m\\n\u001b[39;49;00m\u001b[39m./bin/ycqlsh --execute \u001b[39;49m\u001b[39m\"\u001b[39;49m\u001b[39m\\n\u001b[39;49;00m\u001b[39m  DESC ks_ybu.tbl_products_by_category\u001b[39;49m\u001b[39m\\n\u001b[39;49;00m\u001b[39m\"\u001b[39;49m\u001b[39m  \u001b[39;49m\u001b[39m\\n\u001b[39;49;00m\u001b[39m# This statement will cause an error since duplicate values for the \u001b[39;49m\u001b[39m\\n\u001b[39;49;00m\u001b[39m# product_id are not allowed, 87c7624a-4af5-4347-922d-ab43ab32476b.\u001b[39;49m\u001b[39m\\n\u001b[39;49;00m\u001b[39m./bin/ycqlsh --execute \u001b[39;49m\u001b[39m\"\u001b[39;49m\u001b[39m\\n\u001b[39;49;00m\u001b[39m  INSERT INTO ks_ybu.tbl_products_by_category (\u001b[39;49m\u001b[39m\\n\u001b[39;49;00m\u001b[39m    product_name, \u001b[39;49m\u001b[39m\\n\u001b[39;49;00m\u001b[39m    description, \u001b[39;49m\u001b[39m\\n\u001b[39;49;00m\u001b[39m    price, \u001b[39;49m\u001b[39m\\n\u001b[39;49;00m\u001b[39m    category,\u001b[39;49m\u001b[39m\\n\u001b[39;49;00m\u001b[39m    product_id \u001b[39;49m\u001b[39m\\n\u001b[39;49;00m\u001b[39m  ) VALUES (\u001b[39;49m\u001b[39m\\n\u001b[39;49;00m\u001b[39m    \u001b[39;49m\u001b[39m\\'\u001b[39;49;00m\u001b[39mGuard dogs\u001b[39;49m\u001b[39m\\'\u001b[39;49;00m\u001b[39m,\u001b[39;49m\u001b[39m\\n\u001b[39;49;00m\u001b[39m    \u001b[39;49m\u001b[39m\\'\u001b[39;49;00m\u001b[39mDoberman Pinchers\u001b[39;49m\u001b[39m\\'\u001b[39;49;00m\u001b[39m,\u001b[39;49m\u001b[39m\\n\u001b[39;49;00m\u001b[39m    643.99,\u001b[39;49m\u001b[39m\\n\u001b[39;49;00m\u001b[39m    \u001b[39;49m\u001b[39m\\'\u001b[39;49;00m\u001b[39mSecurity\u001b[39;49m\u001b[39m\\'\u001b[39;49;00m\u001b[39m,\u001b[39;49m\u001b[39m\\n\u001b[39;49;00m\u001b[39m    87c7624a-4af5-4347-922d-ab43ab32476b\u001b[39;49m\u001b[39m\\n\u001b[39;49;00m\u001b[39m  );\u001b[39;49m\u001b[39m\\n\u001b[39;49;00m\u001b[39m\"\u001b[39;49m\u001b[39m\\n\u001b[39;49;00m\u001b[39m'\u001b[39;49m)\n",
      "File \u001b[0;32m~/Library/Python/3.8/lib/python/site-packages/IPython/core/interactiveshell.py:2347\u001b[0m, in \u001b[0;36mInteractiveShell.run_cell_magic\u001b[0;34m(self, magic_name, line, cell)\u001b[0m\n\u001b[1;32m   2345\u001b[0m \u001b[39mwith\u001b[39;00m \u001b[39mself\u001b[39m\u001b[39m.\u001b[39mbuiltin_trap:\n\u001b[1;32m   2346\u001b[0m     args \u001b[39m=\u001b[39m (magic_arg_s, cell)\n\u001b[0;32m-> 2347\u001b[0m     result \u001b[39m=\u001b[39m fn(\u001b[39m*\u001b[39;49margs, \u001b[39m*\u001b[39;49m\u001b[39m*\u001b[39;49mkwargs)\n\u001b[1;32m   2348\u001b[0m \u001b[39mreturn\u001b[39;00m result\n",
      "File \u001b[0;32m~/Library/Python/3.8/lib/python/site-packages/IPython/core/magics/script.py:153\u001b[0m, in \u001b[0;36mScriptMagics._make_script_magic.<locals>.named_script_magic\u001b[0;34m(line, cell)\u001b[0m\n\u001b[1;32m    151\u001b[0m \u001b[39melse\u001b[39;00m:\n\u001b[1;32m    152\u001b[0m     line \u001b[39m=\u001b[39m script\n\u001b[0;32m--> 153\u001b[0m \u001b[39mreturn\u001b[39;00m \u001b[39mself\u001b[39;49m\u001b[39m.\u001b[39;49mshebang(line, cell)\n",
      "File \u001b[0;32m~/Library/Python/3.8/lib/python/site-packages/IPython/core/magics/script.py:305\u001b[0m, in \u001b[0;36mScriptMagics.shebang\u001b[0;34m(self, line, cell)\u001b[0m\n\u001b[1;32m    300\u001b[0m \u001b[39mif\u001b[39;00m args\u001b[39m.\u001b[39mraise_error \u001b[39mand\u001b[39;00m p\u001b[39m.\u001b[39mreturncode \u001b[39m!=\u001b[39m \u001b[39m0\u001b[39m:\n\u001b[1;32m    301\u001b[0m     \u001b[39m# If we get here and p.returncode is still None, we must have\u001b[39;00m\n\u001b[1;32m    302\u001b[0m     \u001b[39m# killed it but not yet seen its return code. We don't wait for it,\u001b[39;00m\n\u001b[1;32m    303\u001b[0m     \u001b[39m# in case it's stuck in uninterruptible sleep. -9 = SIGKILL\u001b[39;00m\n\u001b[1;32m    304\u001b[0m     rc \u001b[39m=\u001b[39m p\u001b[39m.\u001b[39mreturncode \u001b[39mor\u001b[39;00m \u001b[39m-\u001b[39m\u001b[39m9\u001b[39m\n\u001b[0;32m--> 305\u001b[0m     \u001b[39mraise\u001b[39;00m CalledProcessError(rc, cell)\n",
      "\u001b[0;31mCalledProcessError\u001b[0m: Command 'b'YB_PATH=${1}\\nDB_NAME=${2}  \\ncd $YB_PATH/bin\\n\\n# DB_NAME=ks_ybu\\n./ycqlsh -r -k $DB_NAME -e \" CREATE UNIQUE INDEX idx_unique_product_by_id \\n  ON ks_ybu.tbl_products_by_category(product_id)\\n  INCLUDE (description);\\n\"  \\n  \\n./bin/ycqlsh --execute \"\\n  DESC ks_ybu.tbl_products_by_category\\n\"  \\n# This statement will cause an error since duplicate values for the \\n# product_id are not allowed, 87c7624a-4af5-4347-922d-ab43ab32476b.\\n./bin/ycqlsh --execute \"\\n  INSERT INTO ks_ybu.tbl_products_by_category (\\n    product_name, \\n    description, \\n    price, \\n    category,\\n    product_id \\n  ) VALUES (\\n    \\'Guard dogs\\',\\n    \\'Doberman Pinchers\\',\\n    643.99,\\n    \\'Security\\',\\n    87c7624a-4af5-4347-922d-ab43ab32476b\\n  );\\n\"\\n'' returned non-zero exit status 127."
     ]
    }
   ],
   "source": [
    "%%bash -s \"$MY_YB_PATH\" \"$MY_DB_NAME\"   # describe table to view index\n",
    "YB_PATH=${1}\n",
    "DB_NAME=${2}  \n",
    "cd $YB_PATH/bin\n",
    "\n",
    "# DB_NAME=ks_ybu\n",
    "./ycqlsh -r -k $DB_NAME -e \"\n",
    "  create unique index idx_products_by_category_unq\n",
    "  on tbl_products_by_category (gtin);\n",
    "\"  \n",
    "  \n",
    "./bin/ycqlsh --execute \"\n",
    "  desc tbl_products_by_category;\n",
    "\"  \n",
    "# This statement will cause an error since duplicate values for the \n",
    "# product_id are not allowed, 87c7624a-4af5-4347-922d-ab43ab32476b.\n",
    "./bin/ycqlsh --execute \"\n",
    "  INSERT INTO ks_ybu.tbl_products_by_category (\n",
    "    product_name, \n",
    "    description, \n",
    "    price, \n",
    "    category,\n",
    "    product_id \n",
    "  ) VALUES (\n",
    "    'Guard dogs',\n",
    "    'Doberman Pinchers',\n",
    "    643.99,\n",
    "    'Security',\n",
    "    87c7624a-4af5-4347-922d-ab43ab32476b\n",
    "  );\n",
    "\""
   ]
  },
  {
   "cell_type": "markdown",
   "metadata": {},
   "source": [
    ">**Important:** Notice the error in the result set: `Execution Error. Duplicate value disallowed by unique index idx_unique_product_by_id`. This verifies that the unique index that was created for the `product_id` is preventing a duplicate value for this attribute. Currently the same `product_id` identitifies a backpack and cannot be used again for a different product."
   ]
  },
  {
   "attachments": {},
   "cell_type": "markdown",
   "metadata": {},
   "source": [
    "## Partial Indexes\n",
    "\n",
    "Use a range partition to reduce the amount of data that requires scanning.\n",
    "In this index, you will partition all products over $30 in the Office Supply category. "
   ]
  },
  {
   "cell_type": "code",
   "execution_count": null,
   "metadata": {
    "vscode": {
     "languageId": "shellscript"
    }
   },
   "outputs": [],
   "source": [
    "%%bash -s \"$MY_YB_PATH\"  \n",
    "YB_PATH=${1}\n",
    "cd $YB_PATH\n",
    "\n",
    "# Query Plan\n",
    "./bin/ycqlsh --execute \"\n",
    "  CREATE INDEX ON ks_ybu.tbl_products_by_category(price) \n",
    "  INCLUDE (description, product_name) \n",
    "  WHERE price > 30 and category = 'Office Supplies';\n",
    "\"\n",
    "\n",
    "./bin/ycqlsh --execute \"\n",
    "  DESC ks_ybu.tbl_products_by_category\n",
    "\"  "
   ]
  },
  {
   "cell_type": "markdown",
   "metadata": {},
   "source": [
    "### Specific Indexes\n",
    "An index can be created that specifies a particular value of an attribute. For instance, suppose that a popular item in our ecommerce site is searched for constantly. It may be beneficial to create an index that satisfies this query quickly and efficiently. In the following cell, there is an example of an index for a popular product, batteries."
   ]
  },
  {
   "cell_type": "code",
   "execution_count": null,
   "metadata": {
    "vscode": {
     "languageId": "shellscript"
    }
   },
   "outputs": [],
   "source": [
    "%%bash -s \"$MY_YB_PATH\"  \n",
    "YB_PATH=${1}\n",
    "cd $YB_PATH\n",
    "\n",
    "# Specific Index\n",
    "./bin/ycqlsh --execute \"\n",
    "  CREATE INDEX idx_batteries_desc \n",
    "  ON ks_ybu.tbl_products_by_category (description) \n",
    "  INCLUDE (product_name) \n",
    "  WHERE description='Batteries';\n",
    "\"\n",
    "#  Index Only Scan\n",
    "./bin/ycqlsh --execute \"\n",
    "  EXPLAIN SELECT \n",
    "    description, \n",
    "    product_name, \n",
    "    product_id, \n",
    "    category, \n",
    "    price \n",
    "  FROM ks_ybu.tbl_products_by_category \n",
    "  WHERE description='Batteries';\n",
    "\"  "
   ]
  },
  {
   "cell_type": "code",
   "execution_count": null,
   "metadata": {
    "vscode": {
     "languageId": "shellscript"
    }
   },
   "outputs": [],
   "source": [
    "%%bash -s \"$MY_YB_PATH\"  \n",
    "YB_PATH=${1}\n",
    "cd $YB_PATH\n",
    "\n",
    "#  Seq Scan\n",
    "./bin/ycqlsh --execute \"\n",
    "  EXPLAIN SELECT description, product_name, product_id, category, price FROM ks_ybu.tbl_products_by_category \n",
    "  WHERE description='Hotdogs';\n",
    "\"  "
   ]
  },
  {
   "cell_type": "markdown",
   "metadata": {},
   "source": [
    ">**Important:** Note that in the previous cell, an index only scan will occur only if the WHERE clause predicate returns the same expression as originally stated in the index creation statement.\n",
    "\n",
    "Run the following statement to verify that a query to a different expression will not use the index to satisfy the query."
   ]
  },
  {
   "cell_type": "code",
   "execution_count": null,
   "metadata": {
    "vscode": {
     "languageId": "shellscript"
    }
   },
   "outputs": [],
   "source": [
    "%%bash -s \"$MY_YB_PATH\"  \n",
    "YB_PATH=${1}\n",
    "cd $YB_PATH\n",
    "\n",
    "#  Seq Scan\n",
    "./bin/ycqlsh --execute \"\n",
    "  EXPLAIN SELECT description, product_name, product_id, category, price FROM ks_ybu.tbl_products_by_category \n",
    "  WHERE description=?;\n",
    "\"  "
   ]
  },
  {
   "cell_type": "markdown",
   "metadata": {},
   "source": [
    "In the preceding cell, note the syntax necessary to insert a JSON object into the table. Outside the curly brackets are single quotes, where inside the brackets there are double quotes."
   ]
  },
  {
   "cell_type": "markdown",
   "metadata": {},
   "source": [
    "If the row is still visible, wait a few more seconds to run the preceding cell. This will verify that the row has expired as expected."
   ]
  },
  {
   "cell_type": "markdown",
   "metadata": {
    "deletable": false,
    "editable": false
   },
   "source": [
    "---\n",
    "# All done!\n",
    "In this lab, you completed the following:\n",
    "\n",
    "- Setup\n",
    "  - Created the `ks_ybu` database with `ycqlsh`\n",
    "  - Created tables and loaded data using DDL and DML scripts"
   ]
  }
 ],
 "metadata": {
  "kernelspec": {
   "display_name": "Python 3",
   "language": "python",
   "name": "python3"
  },
  "language_info": {
   "codemirror_mode": {
    "name": "ipython",
    "version": 3
   },
   "file_extension": ".py",
   "mimetype": "text/x-python",
   "name": "python",
   "nbconvert_exporter": "python",
   "pygments_lexer": "ipython3",
   "version": "3.8.9"
  },
  "orig_nbformat": 4,
  "vscode": {
   "interpreter": {
    "hash": "31f2aee4e71d21fbe5cf8b01ff0e069b9275f58929596ceb00d14d90e3e16cd6"
   }
  }
 },
 "nbformat": 4,
 "nbformat_minor": 2
}
