{
 "cells": [
  {
   "cell_type": "markdown",
   "metadata": {},
   "source": [
    "<div style=\"width:100%; background-color: #000041\"><a target=\"_blank\\\" href=\"http://university.yugabyte.com\\\"><img src=\"assets/YBU_Logo.webp\" /></a></div>"
   ]
  },
  {
   "cell_type": "markdown",
   "metadata": {
    "deletable": false,
    "editable": false
   },
   "source": [
    "# Lab Requirements and Setup\n",
    "\n",
    "This lab consists of several Jupyter notebooks. The notebooks run in Gitpod. [Gitpod](https://www.gitpod.io/) facilitates runtime environments where a YugabyteDB database cluster can be deployed. Read the following instructions for requirements and setup of the Gitpod environment.\n",
    "\n",
    "## About Jupyter notebooks\n",
    "You will use a Jupyter notebook in this lab to run commands to assign environmental variables and Cassandra Query Language commands for the Yugabyte Cloud Query Language known as YCQL. \n",
    "\n",
    "There are two types of cells: markdown and code. This is a markdown cell.\n",
    "\n",
    "You run a code cell by simply selecting the play icon in the cell's left gutter. For code cells, you can modify the code for execution. Certain labs contain challenges or experiments that require you to do just that - modify a code cell and re-run it!\n",
    "\n",
    "### Requirements\n",
    "Here are the requirements for this lab:\n",
    "- Launch using a gitpod workspace\n",
    "- Run a three node, YugabyteDB cluster using `yb-ctl`\n",
    "\n",
    "> Note\n",
    ">  \n",
    "> Although a three node cluster is up and running, Gitpod does not support visiting loopback addresses over a web ui, even if exposed on a different port.\n",
    "> 127.0.0.1 is the only web user interfaces. To see all available ports in Gitpod, in the terminal, run `gp ports list`."
   ]
  },
  {
   "cell_type": "markdown",
   "metadata": {
    "deletable": false,
    "editable": false
   },
   "source": [
    "#### Notebook keyboard shortcuts\n",
    "The Jupyter extension for Gitpod supports the following keyboard shortcuts:\n",
    "| Keystroke | Description |\n",
    "|--|--|\n",
    "| ESC | Change the cell mode |\n",
    "| A | Add a cell above |\n",
    "| B | Add a cell below |\n",
    "| J or down arrow key |  Change a cell to below | \n",
    "| K or up arrow key | Change a cell to above | \n",
    "| Ctrl+Enter | Run the currently selected cell |\n",
    "| Shift+Enter | Run the currently selected cell and insert a new cell immediately below (focus moves to new cell) |\n",
    "| Alt+Enter | Run the currently selected cell and insert a new cell immediately below (focus remains on current cell) |\n",
    "| dd | Delete a selected cell |\n",
    "| z | Undo the last change | \n",
    "| M | switch the cell type to Markdown | \n",
    "| Y | switch the cell type to code |\n",
    "| L | Enable/Disable line numbers |\n",
    "```\n"
   ]
  },
  {
   "cell_type": "markdown",
   "metadata": {
    "deletable": false,
    "editable": false
   },
   "source": [
    "## Setup steps\n",
    "Here are the steps to setup this lab:\n",
    "- Install missing dependencies and restart the notebook\n",
    "- Create the notebook variables\n",
    "- Create the `ks_ybu` database"
   ]
  },
  {
   "cell_type": "markdown",
   "metadata": {},
   "source": [
    "### Install missing dependencies and restart the notebook\n",
    "Run the following cell to ensure that the notebook dependencies are available to the notebook. "
   ]
  },
  {
   "cell_type": "markdown",
   "metadata": {
    "deletable": false,
    "editable": false
   },
   "source": [
    "### Create the notebook variables \n",
    "\n",
    "> IMPORTANT!\n",
    "> \n",
    "> Do NOT skip running this cell. \n",
    "> \n",
    "\n",
    "The following Python cell creates and stores variables that all the notebooks in this lab will use. You can view these variables in the Jupyter tab.\n",
    "\n",
    "- To run the script, select Execute Cell (Play Arrow) in the left gutter of the cell.\n",
    "- Verify the accuracy of the output values"
   ]
  },
  {
   "cell_type": "code",
   "execution_count": null,
   "metadata": {},
   "outputs": [],
   "source": [
    "# Env variables for Notebook\n",
    "import os\n",
    "\n",
    "# read env_vars.env\n",
    "env_vars = !cat env_vars.env\n",
    "for var in env_vars:\n",
    "    key, value = var.split('=')\n",
    "    os.environ[key] = value\n",
    " \n",
    "\n",
    "# Comment out Local \n",
    "MY_YB_PATH=os.environ.get('MY_YB_PATH_LOCAL')\n",
    "MY_GITPOD_WORKSPACE_URL=os.environ.get('MY_GITPOD_WORKSPACE_URL_LOCAL')\n",
    "MY_SUDO=os.environ.get('MY_SUDO')\n",
    "\n",
    "# Gitpod specific\n",
    "#MY_YB_PATH=os.environ.get('MY_YB_PATH')\n",
    "##MY_GITPOD_WORKSPACE_URL=os.environ.get('GITPOD_WORKSPACE_URL')\n",
    "\n",
    "# env_vars defines the following\n",
    "MY_DB_NAME=os.environ.get('MY_DB_NAME')\n",
    "MY_HOST_IPv4_01=os.environ.get('MY_HOST_IPv4_01')\n",
    "MY_HOST_IPv4_02=os.environ.get('MY_HOST_IPv4_02')\n",
    "MY_HOST_IPv4_03=os.environ.get('MY_HOST_IPv4_03')\n",
    "MY_TSERVER_WEBSERVER_PORT=os.environ.get('MY_TSERVER_WEBSERVER_PORT')\n",
    "MY_DATA_DDL_FILE=os.environ.get(\"MY_DATA_DDL_FILE\")\n",
    "MY_DATA_DML_FILE=os.environ.get(\"MY_DATA_DML_FILE\")\n",
    "MY_UTIL_FUNCTIONS_FILE=os.environ.get(\"MY_UTIL_FUNCTIONS_FILE\")\n",
    "MY_UTIL_YBTSERVER_METRICS_FILE=os.environ.get(\"MY_UTIL_YBTSERVER_METRICS_FILE\")\n",
    "\n",
    "# Current directory of project and related child folders\n",
    "MY_NOTEBOOK_DIR=os.getcwd()\n",
    "MY_NOTEBOOK_DATA_FOLDER=MY_NOTEBOOK_DIR +'/data'\n",
    "MY_NOTEBOOK_UTILS_FOLDER=MY_NOTEBOOK_DIR + '/utils'\n",
    "\n",
    "# Store the note book values for other notebooks to use\n",
    "\n",
    "%store MY_DB_NAME\n",
    "%store MY_YB_PATH\n",
    "%store MY_GITPOD_WORKSPACE_URL\n",
    "%store MY_HOST_IPv4_01\n",
    "%store MY_HOST_IPv4_02\n",
    "%store MY_HOST_IPv4_03\n",
    "%store MY_NOTEBOOK_DIR\n",
    "%store MY_TSERVER_WEBSERVER_PORT\n",
    "%store MY_NOTEBOOK_DATA_FOLDER\n",
    "%store MY_NOTEBOOK_UTILS_FOLDER\n",
    "%store MY_DATA_DDL_FILE\n",
    "%store MY_DATA_DML_FILE\n",
    "%store MY_UTIL_FUNCTIONS_FILE\n",
    "%store MY_UTIL_YBTSERVER_METRICS_FILE"
   ]
  },
  {
   "attachments": {},
   "cell_type": "markdown",
   "metadata": {},
   "source": [
    "# YCQL Shell Commands\n",
    "The following commands are YCQL shell commands. Using `ucqlsh`, you can execute YCQL statements for zero or more keyspaces. \n",
    "\n",
    "By default, YugabyteDB and the YCQL API have a consistency level of QUORUM. "
   ]
  },
  {
   "cell_type": "code",
   "execution_count": null,
   "metadata": {
    "vscode": {
     "languageId": "shellscript"
    }
   },
   "outputs": [],
   "source": [
    "%%bash -s \"$MY_YB_PATH\"   # Shell Commands\n",
    "YB_PATH=${1}\n",
    "cd $YB_PATH\n",
    "\n",
    "./bin/ycqlsh --execute \"CONSISTENCY\""
   ]
  },
  {
   "attachments": {},
   "cell_type": "markdown",
   "metadata": {},
   "source": [
    "YCQL is compatible with CQL 3.4.2."
   ]
  },
  {
   "cell_type": "code",
   "execution_count": null,
   "metadata": {
    "vscode": {
     "languageId": "shellscript"
    }
   },
   "outputs": [],
   "source": [
    "%%bash -s \"$MY_YB_PATH\"   # Shell Commands\n",
    "YB_PATH=${1}\n",
    "cd $YB_PATH\n",
    "\n",
    "./bin/ycqlsh --execute \"show version\"  "
   ]
  },
  {
   "cell_type": "code",
   "execution_count": null,
   "metadata": {
    "vscode": {
     "languageId": "shellscript"
    }
   },
   "outputs": [],
   "source": [
    "%%bash -s \"$MY_YB_PATH\"   # Shell Commands\n",
    "YB_PATH=${1}\n",
    "cd $YB_PATH\n",
    "\n",
    "./bin/ycqlsh --execute \"select cql_version from system.local;\"  "
   ]
  },
  {
   "attachments": {},
   "cell_type": "markdown",
   "metadata": {},
   "source": [
    "`show host` details the host connection."
   ]
  },
  {
   "cell_type": "code",
   "execution_count": null,
   "metadata": {
    "vscode": {
     "languageId": "shellscript"
    }
   },
   "outputs": [],
   "source": [
    "%%bash -s \"$MY_YB_PATH\"   # Shell Commands\n",
    "YB_PATH=${1}\n",
    "cd $YB_PATH\n",
    "\n",
    "./bin/ycqlsh --execute \"show host\"  "
   ]
  },
  {
   "attachments": {},
   "cell_type": "markdown",
   "metadata": {},
   "source": [
    "`decribe kespaces`  returns the names of all keyspaces."
   ]
  },
  {
   "cell_type": "code",
   "execution_count": null,
   "metadata": {
    "vscode": {
     "languageId": "shellscript"
    }
   },
   "outputs": [],
   "source": [
    "%%bash -s \"$MY_YB_PATH\"   # Shell Commands\n",
    "YB_PATH=${1}\n",
    "cd $YB_PATH\n",
    "\n",
    "#./bin/ycqlsh --execute \"describe keyspaces\"  \n",
    "./bin/ycqlsh --execute \"help describe\"  \n"
   ]
  },
  {
   "attachments": {},
   "cell_type": "markdown",
   "metadata": {},
   "source": [
    "`describe tables` returns the names of all tables in the current keyspace, or in all keyspacces."
   ]
  },
  {
   "cell_type": "code",
   "execution_count": null,
   "metadata": {
    "vscode": {
     "languageId": "shellscript"
    }
   },
   "outputs": [],
   "source": [
    "%%bash -s \"$MY_YB_PATH\"   # Shell Commands\n",
    "YB_PATH=${1}\n",
    "cd $YB_PATH\n",
    "\n",
    "./bin/ycqlsh --execute \"desc tables\""
   ]
  },
  {
   "attachments": {},
   "cell_type": "markdown",
   "metadata": {},
   "source": [
    "The following queries the roles table. `cassandra` is a default role. "
   ]
  },
  {
   "cell_type": "code",
   "execution_count": null,
   "metadata": {
    "vscode": {
     "languageId": "shellscript"
    }
   },
   "outputs": [],
   "source": [
    "%%bash -s \"$MY_YB_PATH\"   # Shell Commands\n",
    "YB_PATH=${1}\n",
    "cd $YB_PATH\n",
    "\n",
    "./bin/ycqlsh --execute \"select * from system_auth.roles;\"  "
   ]
  },
  {
   "attachments": {},
   "cell_type": "markdown",
   "metadata": {
    "deletable": false,
    "editable": false
   },
   "source": [
    "## Create the `ks_ybu` keyspace\n",
    "Run the following cells to connect to the YugabyteDB cluster using `ycqlsh`. Then, complete the following tasks:\n",
    "- Create the `ks_ybu` keyspace \n",
    "- Create the `tbl_employees` table\n",
    "- Describe the  `tbl_employees` table"
   ]
  },
  {
   "cell_type": "code",
   "execution_count": null,
   "metadata": {
    "vscode": {
     "languageId": "shellscript"
    }
   },
   "outputs": [],
   "source": [
    "%%bash -s \"$MY_YB_PATH\"   # Create the keyspace, ks_ybu, and table, employees\n",
    "YB_PATH=${1}\n",
    "cd $YB_PATH\n",
    "\n",
    "\n",
    "./bin/ycqlsh --execute \\\"\n",
    "  create keyspace if not exists ks_ybu;\n",
    "  \""
   ]
  },
  {
   "attachments": {},
   "cell_type": "markdown",
   "metadata": {},
   "source": [
    "Confirm the keysapce creation."
   ]
  },
  {
   "cell_type": "code",
   "execution_count": null,
   "metadata": {
    "vscode": {
     "languageId": "shellscript"
    }
   },
   "outputs": [],
   "source": [
    "%%bash -s \"$MY_YB_PATH\"   # Create the keyspace, ks_ybu, and table, employees\n",
    "YB_PATH=${1}\n",
    "cd $YB_PATH\n",
    "\n",
    "\n",
    "./bin/ycqlsh --execute \"describe keyspace ks_ybu;\n",
    "  \""
   ]
  },
  {
   "attachments": {},
   "cell_type": "markdown",
   "metadata": {},
   "source": [
    "### Create the `tbl_employees` table"
   ]
  },
  {
   "attachments": {},
   "cell_type": "markdown",
   "metadata": {},
   "source": [
    "If the table already exists, the command will drop the table."
   ]
  },
  {
   "cell_type": "code",
   "execution_count": null,
   "metadata": {
    "vscode": {
     "languageId": "shellscript"
    }
   },
   "outputs": [],
   "source": [
    "%%bash -s \"$MY_YB_PATH\"   # Create the keyspace, ks_ybu, and table, employees\n",
    "YB_PATH=${1}\n",
    "cd $YB_PATH\n",
    "\n",
    "\n",
    "./bin/ycqlsh --execute \"\n",
    "  drop table if exists ks_ybu.tbl_employees;\n",
    "  \""
   ]
  },
  {
   "attachments": {},
   "cell_type": "markdown",
   "metadata": {},
   "source": [
    "Create the table, `tbl_employees`. \n",
    "\n",
    "> Note: A primary key is required for all user tables in a keysapce."
   ]
  },
  {
   "cell_type": "code",
   "execution_count": null,
   "metadata": {
    "vscode": {
     "languageId": "shellscript"
    }
   },
   "outputs": [],
   "source": [
    "%%bash -s \"$MY_YB_PATH\"   # Create the keyspace, ks_ybu, and table, employees\n",
    "YB_PATH=${1}\n",
    "cd $YB_PATH\n",
    "\n",
    "./bin/ycqlsh --execute \"\n",
    "  create table ks_ybu.tbl_employees ( \n",
    "    id int, \n",
    "    full_name text, \n",
    "    email text,\n",
    "    year int static,\n",
    "    primary key (id, full_name) \n",
    "    );\n",
    "  \""
   ]
  },
  {
   "attachments": {},
   "cell_type": "markdown",
   "metadata": {},
   "source": [
    "Describe `tbl_employees`. \n",
    "\n",
    "> Question:\n",
    ">   \n",
    "> What is different about the table description and the create table statement?"
   ]
  },
  {
   "cell_type": "code",
   "execution_count": null,
   "metadata": {
    "vscode": {
     "languageId": "shellscript"
    }
   },
   "outputs": [],
   "source": [
    "%%bash -s \"$MY_YB_PATH\"   # Create the keyspace, ks_ybu, and table, employees\n",
    "YB_PATH=${1}\n",
    "cd $YB_PATH\n",
    "\n",
    "\n",
    "./bin/ycqlsh --execute \"desc ks_ybu.tbl_employees \"\n"
   ]
  },
  {
   "attachments": {},
   "cell_type": "markdown",
   "metadata": {},
   "source": [
    "> Answer:\n",
    ">   \n",
    "> The description of the table reveals that the primary key consists of two key columns. The first key column is `id`. The second key column is `full_name`. `id` is the partition key for the table. The clustering key column is `full_name`. Ascending is the order of the clustering key column."
   ]
  },
  {
   "attachments": {},
   "cell_type": "markdown",
   "metadata": {},
   "source": [
    "#### Write to the table employees with `insert`\n",
    "\n",
    "Insert rows into the `tbl_employees` table."
   ]
  },
  {
   "cell_type": "code",
   "execution_count": null,
   "metadata": {
    "vscode": {
     "languageId": "shellscript"
    }
   },
   "outputs": [],
   "source": [
    "%%bash -s \"$MY_YB_PATH\"   # Populate the employees table\n",
    "YB_PATH=${1}\n",
    "cd $YB_PATH\n",
    "\n",
    "./bin/ycqlsh --execute \"\n",
    "  insert into ks_ybu.tbl_employees \n",
    "    (id, full_name, email, year) \n",
    "    values \n",
    "    (1, 'Bruce Wayne', 'batman@yb.com', 2020);\n",
    " \"\n",
    "\n",
    " ./bin/ycqlsh --execute \"\n",
    "  insert into ks_ybu.tbl_employees \n",
    "    (id, full_name, email, year) \n",
    "    values \n",
    "    (1, 'Dick Grayson', 'robin@yb.com', 2020);\n",
    " \"\n",
    "\n",
    "./bin/ycqlsh --execute \"\n",
    "  insert into ks_ybu.tbl_employees \n",
    "     (id, full_name, email, year) \n",
    "    values \n",
    "    (2, 'Clark Kent', 'superman@yb.com', 2021);\n",
    "\"\n",
    "\n",
    "./bin/ycqlsh --execute \"\n",
    "  insert into ks_ybu.tbl_employees \n",
    "     (id, full_name, email, year) \n",
    "    values \n",
    "    (3, 'Peter Parker', 'spiderman@yb.com', 2022);\n",
    "\""
   ]
  },
  {
   "attachments": {},
   "cell_type": "markdown",
   "metadata": {},
   "source": [
    "### Query the table using `select`\n",
    "Verify the row insertion. Run the following cells to observe the differences between:\n",
    "- query all rows of the table \n",
    "- query the table with a where-expression predicate that contains the primary key and a equality operator\n",
    "- query the table with a where-expression predicate that for a range for a regular column"
   ]
  },
  {
   "attachments": {},
   "cell_type": "markdown",
   "metadata": {},
   "source": [
    "Query all the rows from `tbl_employees` using a`select statement` and a wildcard."
   ]
  },
  {
   "cell_type": "code",
   "execution_count": null,
   "metadata": {
    "vscode": {
     "languageId": "shellscript"
    }
   },
   "outputs": [],
   "source": [
    "%%bash -s \"$MY_YB_PATH\"   # Data search\n",
    "YB_PATH=${1}\n",
    "cd $YB_PATH\n",
    "\n",
    "# Read all columns from the employees table\n",
    "./bin/ycqlsh --execute \"\n",
    "    select * from ks_ybu.tbl_employees;\n",
    "    \""
   ]
  },
  {
   "attachments": {},
   "cell_type": "markdown",
   "metadata": {},
   "source": [
    "Query the table using a where-expression predicate that contains the primary key and a equality operators."
   ]
  },
  {
   "cell_type": "code",
   "execution_count": null,
   "metadata": {
    "vscode": {
     "languageId": "shellscript"
    }
   },
   "outputs": [],
   "source": [
    "%%bash -s \"$MY_YB_PATH\"   \n",
    "YB_PATH=${1}\n",
    "cd $YB_PATH\n",
    "\n",
    "# Find an employee id = 3\n",
    "./bin/ycqlsh --execute \"\n",
    "  select *\n",
    "  from ks_ybu.tbl_employees\n",
    "  where id = 1 and full_name='Dick Grayson';\n",
    "\""
   ]
  },
  {
   "attachments": {},
   "cell_type": "markdown",
   "metadata": {},
   "source": [
    "Query the table using where-expression predicate that specifies a range for a regular column."
   ]
  },
  {
   "cell_type": "code",
   "execution_count": null,
   "metadata": {
    "vscode": {
     "languageId": "shellscript"
    }
   },
   "outputs": [],
   "source": [
    "%%bash -s \"$MY_YB_PATH\"   \n",
    "YB_PATH=${1}\n",
    "cd $YB_PATH\n",
    "\n",
    "./bin/ycqlsh --execute \"\n",
    "  select * from ks_ybu.tbl_employees \n",
    "  where  year > 2020 and year < 2022;\n",
    "\""
   ]
  },
  {
   "attachments": {},
   "cell_type": "markdown",
   "metadata": {},
   "source": [
    "### Observe the upsert behavior\n",
    "The following update statement exhibits upsert behavior when there is no row to update based on the where clause predicate."
   ]
  },
  {
   "cell_type": "code",
   "execution_count": null,
   "metadata": {
    "vscode": {
     "languageId": "shellscript"
    }
   },
   "outputs": [],
   "source": [
    "%%bash -s \"$MY_YB_PATH\"   \n",
    "YB_PATH=${1}\n",
    "cd $YB_PATH\n",
    "\n",
    "# Search a range of values\n",
    "./bin/ycqlsh --execute \"\n",
    " update ks_ybu.tbl_employees\n",
    " set email='captainamerica@yb.com'\n",
    "   , year = 2022\n",
    " where id = 4 \n",
    "   and full_name = 'Steven Rogers'\n",
    "  \""
   ]
  },
  {
   "attachments": {},
   "cell_type": "markdown",
   "metadata": {},
   "source": [
    "Confirm the new row."
   ]
  },
  {
   "cell_type": "code",
   "execution_count": null,
   "metadata": {
    "vscode": {
     "languageId": "shellscript"
    }
   },
   "outputs": [],
   "source": [
    "%%bash -s \"$MY_YB_PATH\"   \n",
    "YB_PATH=${1}\n",
    "cd $YB_PATH\n",
    "\n",
    "# Search a range of values\n",
    "./bin/ycqlsh --execute \"\n",
    " select * from ks_ybu.tbl_employees where id = 4;\n",
    "  \""
   ]
  },
  {
   "cell_type": "markdown",
   "metadata": {},
   "source": [
    "## todo DELTE Behavior\n"
   ]
  },
  {
   "cell_type": "markdown",
   "metadata": {},
   "source": [
    "single-row deleteion"
   ]
  },
  {
   "cell_type": "code",
   "execution_count": null,
   "metadata": {
    "vscode": {
     "languageId": "shellscript"
    }
   },
   "outputs": [],
   "source": [
    "%%bash -s \"$MY_YB_PATH\"   \n",
    "YB_PATH=${1}\n",
    "cd $YB_PATH\n",
    "\n",
    "# Search a range of values\n",
    "./bin/ycqlsh --execute \"\n",
    "  delete from ks_ybu.tbl_employees where id = 6;\n",
    "\""
   ]
  },
  {
   "cell_type": "code",
   "execution_count": null,
   "metadata": {
    "vscode": {
     "languageId": "shellscript"
    }
   },
   "outputs": [],
   "source": [
    "%%bash -s \"$MY_YB_PATH\"   \n",
    "YB_PATH=${1}\n",
    "cd $YB_PATH\n",
    "\n",
    "# Search a range of values\n",
    "./bin/ycqlsh --execute \"\n",
    " select * from ks_ybu.tbl_employees;\n",
    "  \""
   ]
  },
  {
   "cell_type": "code",
   "execution_count": null,
   "metadata": {
    "vscode": {
     "languageId": "shellscript"
    }
   },
   "outputs": [],
   "source": [
    "%%bash -s \"$MY_YB_PATH\"   \n",
    "YB_PATH=${1}\n",
    "cd $YB_PATH\n",
    "\n",
    "# Search a range of values\n",
    "./bin/ycqlsh --execute \"\n",
    "  create table ks_ybu.tbl1 (col_pk int, col_ck1 text, col_reg int, primary key (col_pk, col_ck));\n",
    "  \""
   ]
  },
  {
   "cell_type": "code",
   "execution_count": null,
   "metadata": {
    "vscode": {
     "languageId": "shellscript"
    }
   },
   "outputs": [],
   "source": [
    "%%bash -s \"$MY_YB_PATH\"   \n",
    "YB_PATH=${1}\n",
    "cd $YB_PATH\n",
    "\n",
    "# Search a range of values\n",
    "./bin/ycqlsh --execute \"\n",
    "  insert into ks_ybu.tbl1 (col_pk , col_ck , col_reg ) values ( 1, 'green', 2022);\n",
    "  insert into ks_ybu.tbl1 (col_pk , col_ck , col_reg ) values ( 1, 'red', 2022);\n",
    "  insert into ks_ybu.tbl1 (col_pk , col_ck , col_reg ) values ( 2, 'red', 2022);\n",
    "  insert into ks_ybu.tbl1 (col_pk , col_ck , col_reg ) values ( 2, 'green', 2022);\n",
    "  insert into ks_ybu.tbl1 (col_pk , col_ck , col_reg ) values ( 3, 'blue', 2022);\n",
    "  insert into ks_ybu.tbl1 (col_pk , col_ck , col_reg ) values ( 3, 'red', 2022);\n",
    "  \""
   ]
  },
  {
   "cell_type": "markdown",
   "metadata": {},
   "source": [
    "### single row, PK"
   ]
  },
  {
   "cell_type": "code",
   "execution_count": null,
   "metadata": {
    "vscode": {
     "languageId": "shellscript"
    }
   },
   "outputs": [],
   "source": [
    "%%bash -s \"$MY_YB_PATH\"   \n",
    "YB_PATH=${1}\n",
    "cd $YB_PATH\n",
    "\n",
    "# Search a range of values\n",
    "./bin/ycqlsh --execute \"\n",
    "  delete from ks_ybu.tbl1 where col_pk = 1 and col_ck = 'green';\n",
    "  \""
   ]
  },
  {
   "cell_type": "code",
   "execution_count": null,
   "metadata": {
    "vscode": {
     "languageId": "shellscript"
    }
   },
   "outputs": [],
   "source": [
    "%%bash -s \"$MY_YB_PATH\"   \n",
    "YB_PATH=${1}\n",
    "cd $YB_PATH\n",
    "\n",
    "# Search a range of values\n",
    "./bin/ycqlsh --execute \"\n",
    "  select * from ks_ybu.tbl1;\n",
    "  \""
   ]
  },
  {
   "cell_type": "markdown",
   "metadata": {},
   "source": [
    "### multi-row"
   ]
  },
  {
   "cell_type": "code",
   "execution_count": null,
   "metadata": {
    "vscode": {
     "languageId": "shellscript"
    }
   },
   "outputs": [],
   "source": [
    "%%bash -s \"$MY_YB_PATH\"   \n",
    "YB_PATH=${1}\n",
    "cd $YB_PATH\n",
    "\n",
    "# Search a range of values\n",
    "./bin/ycqlsh --execute \"\n",
    "  delete from ks_ybu.tbl1 where col_pk=1 and col_ck > 'green'\n",
    "  \""
   ]
  },
  {
   "cell_type": "code",
   "execution_count": null,
   "metadata": {
    "vscode": {
     "languageId": "shellscript"
    }
   },
   "outputs": [],
   "source": [
    "%%bash -s \"$MY_YB_PATH\"   \n",
    "YB_PATH=${1}\n",
    "cd $YB_PATH\n",
    "\n",
    "# Search a range of values\n",
    "./bin/ycqlsh --execute \"\n",
    "  select * from ks_ybu.tbl1;\n",
    "  \""
   ]
  },
  {
   "cell_type": "markdown",
   "metadata": {},
   "source": [
    "### delete a column value?\n"
   ]
  },
  {
   "cell_type": "code",
   "execution_count": null,
   "metadata": {
    "vscode": {
     "languageId": "shellscript"
    }
   },
   "outputs": [],
   "source": [
    "%%bash -s \"$MY_YB_PATH\"   \n",
    "YB_PATH=${1}\n",
    "cd $YB_PATH\n",
    "\n",
    "# Search a range of values\n",
    "./bin/ycqlsh --execute \"\n",
    "  delete col_reg from ks_ybu.tbl1 where col_pk = 3 and col_ck = 'blue';\n",
    "  \""
   ]
  },
  {
   "cell_type": "markdown",
   "metadata": {},
   "source": [
    "#### delete if"
   ]
  },
  {
   "cell_type": "code",
   "execution_count": null,
   "metadata": {
    "vscode": {
     "languageId": "shellscript"
    }
   },
   "outputs": [],
   "source": [
    "%%bash -s \"$MY_YB_PATH\"   \n",
    "YB_PATH=${1}\n",
    "cd $YB_PATH\n",
    "\n",
    "# Search a range of values\n",
    "./bin/ycqlsh --execute \"\n",
    "  delete from ks_ybu.tbl1 where col_pk = 2 and col_ck = 'green' if col_ck > 2021;\n",
    "  \""
   ]
  },
  {
   "cell_type": "markdown",
   "metadata": {},
   "source": [
    "## Import data from SQL scripts\n",
    "In this section, you will create a new keyspace, `ks_ybu`, where you will import sql scripts. Run the next cell, to create the keyspace, `ks_ybu`."
   ]
  },
  {
   "cell_type": "code",
   "execution_count": null,
   "metadata": {
    "vscode": {
     "languageId": "shellscript"
    }
   },
   "outputs": [],
   "source": [
    "%%bash -s \"$MY_YB_PATH\" \"$MY_DB_NAME\" \n",
    "YB_PATH=${1}\n",
    "DB_NAME=${2}\n",
    "\n",
    "cd $YB_PATH\n",
    "\n",
    "# Drop table if exisits so that namespace can be created\n",
    "./bin/ycqlsh --execute \"drop table if exists ks_ybu.employees;\"\n",
    "\n",
    "\n",
    "# Drop keyspace if exists\n",
    "./bin/ycqlsh --execute \"drop keyspace if exists \"${DB_NAME}\";\"\n",
    "\n",
    "\n",
    " \n",
    "# Create keyspace, ks_ybu\n",
    "./bin/ycqlsh --execute \"create keyspace \"${DB_NAME}\";\" \n",
    "\n",
    "\n",
    "\n",
    "# List keyspaces, validate keyspace creation\n",
    "./bin/ycqlsh --execute \"describe \"${DB_NAME}\";\""
   ]
  },
  {
   "cell_type": "markdown",
   "metadata": {},
   "source": [
    "To verify that the keyspace, ks_ybu, was created successfully, you can use the DESCRIBE shell command, also abbreviated as DESC."
   ]
  },
  {
   "cell_type": "markdown",
   "metadata": {},
   "source": [
    "### Load DDL and Data from File\n",
    "You will run the following cell in order to assign the file paths of the DML and DDL sql scripts. Once the DDL file creates the tables, the DML file will populate the tables with data."
   ]
  },
  {
   "cell_type": "code",
   "execution_count": null,
   "metadata": {
    "vscode": {
     "languageId": "shellscript"
    }
   },
   "outputs": [],
   "source": [
    "%%bash -s \"$MY_YB_PATH\" \"$MY_DB_NAME\" \"$MY_NOTEBOOK_DATA_FOLDER\" \"$MY_DATA_DDL_FILE\" \"$MY_DATA_DML_FILE\"   \n",
    "# Wishlist\n",
    "YB_PATH=${1}\n",
    "DB_NAME=${2}\n",
    "DATA_FOLDER=${3}\n",
    "DATA_DDL_FILE=${4}\n",
    "DATA_DML_FILE=${5}\n",
    "\n",
    "# ls $DATA_FOLDER\n",
    "\n",
    "WISHLIST_DDL_PATH=${DATA_FOLDER}/${DATA_DDL_FILE}\n",
    "WISHLIST_DML_PATH=${DATA_FOLDER}/${DATA_DML_FILE}\n",
    "\n",
    "cd $YB_PATH\n",
    "\n",
    "# DDL file\n",
    "./bin/ycqlsh -k ${DB_NAME} -f ${WISHLIST_DDL_PATH} \n",
    "sleep 1;\n",
    "\n",
    "# # DML file\n",
    "./bin/ycqlsh -k ${DB_NAME} -f ${WISHLIST_DML_PATH} \n",
    "sleep 1;\n",
    "\n",
    "# # Describe relations\n",
    "./bin/ycqlsh --execute \"describe tables\""
   ]
  },
  {
   "cell_type": "markdown",
   "metadata": {},
   "source": [
    "In the preceeding import commands, you ran the YCQL commands in the YCQL shell to connect to the ks_ybu keyspace and execute the respective sql scripts. Note that the DESCRIBE TABLES shell command displays the schemas of each table in the keyspace, `ks_ybu`. Note that the DESCRIBE shell command can be used to describe keyspaces, tables, indexes, and sequences as well. For more information about the use of DESCRIBE, use the HELP DESCRIBE command."
   ]
  },
  {
   "cell_type": "markdown",
   "metadata": {},
   "source": [
    "### Verify the tables were seeded\n",
    "Run the following cell to verfy each of the three tables "
   ]
  },
  {
   "cell_type": "code",
   "execution_count": null,
   "metadata": {
    "vscode": {
     "languageId": "shellscript"
    }
   },
   "outputs": [],
   "source": [
    "%%bash -s \"$MY_YB_PATH\"   # Verify data population\n",
    "YB_PATH=${1}\n",
    "cd $YB_PATH\n",
    "\n",
    "# Read data in the tbl_wishlists_by_category\n",
    "./bin/ycqlsh --execute \"\n",
    "  select * from ks_ybu.tbl_products_by_category;\n",
    "\"  "
   ]
  },
  {
   "cell_type": "code",
   "execution_count": null,
   "metadata": {
    "vscode": {
     "languageId": "shellscript"
    }
   },
   "outputs": [],
   "source": [
    "%%bash -s \"$MY_YB_PATH\"  \n",
    "YB_PATH=${1}\n",
    "cd $YB_PATH\n",
    "\n",
    "# Read data in the tbl_wishlists_by_user \n",
    "./bin/ycqlsh --execute \"\n",
    "  select * from ks_ybu.tbl_wishlists_by_user;\n",
    "\" "
   ]
  },
  {
   "cell_type": "code",
   "execution_count": null,
   "metadata": {
    "vscode": {
     "languageId": "shellscript"
    }
   },
   "outputs": [],
   "source": [
    "%%bash -s \"$MY_YB_PATH\"   \n",
    "YB_PATH=${1}\n",
    "cd $YB_PATH\n",
    "\n",
    "# Read data in the tbl_products_by_wishlist\n",
    "./bin/ycqlsh --execute \"\n",
    "  select * from ks_ybu.tbl_products_by_wishlist;\n",
    "\"  "
   ]
  },
  {
   "cell_type": "code",
   "execution_count": null,
   "metadata": {
    "vscode": {
     "languageId": "shellscript"
    }
   },
   "outputs": [],
   "source": [
    "%%bash -s \"$MY_YB_PATH\"   # Drop tables\n",
    "YB_PATH=${1}\n",
    "cd $YB_PATH\n",
    "\n",
    "./bin/ycqlsh --execute \"\n",
    "  drop table if exists ks_ybu.tbl_products_by_wishlist;\n",
    "\" \n",
    "\n",
    "./bin/ycqlsh --execute \"\n",
    "  drop table if exists ks_ybu.tbl_products_by_category;\n",
    "\" \n",
    "\n",
    "./bin/ycqlsh --execute \"\n",
    "  drop table if exists ks_ybu.tbl_wishlists_by_user;\n",
    "\" \n",
    "\n",
    "./bin/ycqlsh --execute \"\n",
    "  drop keyspace if exists ks_ybu;\n",
    "\" "
   ]
  },
  {
   "cell_type": "markdown",
   "metadata": {
    "deletable": false,
    "editable": false
   },
   "source": [
    "---\n",
    "# All done!\n",
    "In this lab, you completed the following:\n",
    "\n",
    "- Setup\n",
    "  - Created the `ks_ybu` keyspace with `ycqlsh`\n",
    "  - Created tables and loaded data using DDL and DML scripts"
   ]
  },
  {
   "cell_type": "code",
   "execution_count": null,
   "metadata": {
    "vscode": {
     "languageId": "shellscript"
    }
   },
   "outputs": [],
   "source": [
    "%%bash\n",
    "gp open 02_YCQL_Intermediate.ipynb"
   ]
  },
  {
   "attachments": {},
   "cell_type": "markdown",
   "metadata": {},
   "source": [
    "### Slides:\n",
    "Create the keyspace."
   ]
  },
  {
   "cell_type": "code",
   "execution_count": null,
   "metadata": {
    "vscode": {
     "languageId": "shellscript"
    }
   },
   "outputs": [],
   "source": [
    "%%bash -s \"$MY_YB_PATH\"   # Drop tables\n",
    "YB_PATH=${1}\n",
    "cd $YB_PATH\n",
    "\n",
    "./bin/ycqlsh --execute \"create keyspace ks_catalog;\" \n"
   ]
  },
  {
   "cell_type": "code",
   "execution_count": null,
   "metadata": {
    "vscode": {
     "languageId": "shellscript"
    }
   },
   "outputs": [],
   "source": [
    "%%bash -s \"$MY_YB_PATH\"   # Drop tables\n",
    "YB_PATH=${1}\n",
    "cd $YB_PATH\n",
    "\n",
    "./bin/ycqlsh --execute \"drop table if exists ks_ybu.tbl_music;\" \n"
   ]
  },
  {
   "cell_type": "code",
   "execution_count": null,
   "metadata": {
    "vscode": {
     "languageId": "shellscript"
    }
   },
   "outputs": [],
   "source": [
    "%%bash -s \"$MY_YB_PATH\"   # Drop tables\n",
    "YB_PATH=${1}\n",
    "cd $YB_PATH\n",
    "\n",
    "./bin/ycqlsh --execute \"create table if not exists ks_ybu.tbl_music (artist text primary key, song text, year int);\" \n"
   ]
  },
  {
   "cell_type": "code",
   "execution_count": null,
   "metadata": {
    "vscode": {
     "languageId": "shellscript"
    }
   },
   "outputs": [],
   "source": [
    "%%bash -s \"$MY_YB_PATH\"   # Drop tables\n",
    "YB_PATH=${1}\n",
    "cd $YB_PATH\n",
    "\n",
    "./bin/ycqlsh --execute \"create table if not exists ks_ybu.tbl_music (artist text, song text, year int, primary key ((artist, song)));\" \n"
   ]
  },
  {
   "cell_type": "code",
   "execution_count": null,
   "metadata": {
    "vscode": {
     "languageId": "shellscript"
    }
   },
   "outputs": [],
   "source": [
    "%%bash -s \"$MY_YB_PATH\"   # Drop tables\n",
    "YB_PATH=${1}\n",
    "cd $YB_PATH\n",
    "\n",
    "./bin/ycqlsh --execute \"drop table if exists ks_ybu.tbl_music;\"\n",
    "\n",
    "./bin/ycqlsh --execute \"\n",
    "    create table if not exists ks_ybu.tbl_music (\n",
    "        artist text, \n",
    "        song text, \n",
    "        year int, \n",
    "        primary key ((artist), song, year ) \n",
    "        )\n",
    "    with transactions = {'enabled': 'true'}\n",
    "    ;\n",
    "\""
   ]
  },
  {
   "cell_type": "code",
   "execution_count": null,
   "metadata": {
    "vscode": {
     "languageId": "shellscript"
    }
   },
   "outputs": [],
   "source": [
    "%%bash -s \"$MY_YB_PATH\"   # Drop tables\n",
    "YB_PATH=${1}\n",
    "cd $YB_PATH\n",
    "\n",
    "./bin/ycqlsh --execute \"\n",
    " describe ks_ybu.tbl_music;\n",
    " \""
   ]
  },
  {
   "cell_type": "code",
   "execution_count": null,
   "metadata": {
    "vscode": {
     "languageId": "shellscript"
    }
   },
   "outputs": [],
   "source": [
    "%%bash -s \"$MY_YB_PATH\"   # Drop tables\n",
    "YB_PATH=${1}\n",
    "cd $YB_PATH\n",
    "\n",
    "./bin/ycqlsh --execute \"\n",
    "insert into ks_ybu.tbl_music ( artist, song, year) values ('Beatles','A',1966);\n",
    "insert into ks_ybu.tbl_music ( artist, song, year) values ('Kate Bush','A',1988);\n",
    "insert into ks_ybu.tbl_music ( artist, song, year) values ('Radiohead','A',1997);\n",
    "insert into ks_ybu.tbl_music ( artist, song, year) values ('Harry Styles','A',2022);\n",
    "\""
   ]
  },
  {
   "cell_type": "code",
   "execution_count": null,
   "metadata": {
    "vscode": {
     "languageId": "shellscript"
    }
   },
   "outputs": [],
   "source": [
    "%%bash -s \"$MY_YB_PATH\"   # Drop tables\n",
    "YB_PATH=${1}\n",
    "cd $YB_PATH\n",
    "\n",
    "./bin/ycqlsh --execute \"drop table if exists ks_ybu.tbl_music;\"\n",
    "\n",
    "./bin/ycqlsh --execute \"create table if not exists ks_ybu.tbl_music (artist text, song text, year int, primary key ((artist) , song , year) );\" \n"
   ]
  },
  {
   "cell_type": "code",
   "execution_count": null,
   "metadata": {
    "vscode": {
     "languageId": "shellscript"
    }
   },
   "outputs": [],
   "source": [
    "%%bash -s \"$MY_YB_PATH\"   # Drop tables\n",
    "YB_PATH=${1}\n",
    "cd $YB_PATH\n",
    "\n",
    "./bin/ycqlsh --execute \"\n",
    "insert into ks_ybu.tbl_music ( artist, song, year) values ('Beatles','A',1966);\n",
    "insert into ks_ybu.tbl_music ( artist, song, year) values ('Beatles','B',1968);\n",
    "insert into ks_ybu.tbl_music ( artist, song, year) values ('Beatles','C',1968);\n",
    "insert into ks_ybu.tbl_music ( artist, song, year) values ('Beatles','D',1966);\n",
    "insert into ks_ybu.tbl_music ( artist, song, year) values ('Beatles','E',1966);\n",
    "insert into ks_ybu.tbl_music ( artist, song, year) values ('Harry Styles','E',2021);\n",
    "insert into ks_ybu.tbl_music ( artist, song, year) values ('Harry Styles','C',2021);\n",
    "insert into ks_ybu.tbl_music ( artist, song, year) values ('Harry Styles','D',2020);\n",
    "insert into ks_ybu.tbl_music ( artist, song, year) values ('Harry Styles','B',2022);\n",
    "insert into ks_ybu.tbl_music ( artist, song, year) values ('Harry Styles','A',2022);\n",
    "insert into ks_ybu.tbl_music ( artist, song, year) values ('Kate Bush','E',1985);\n",
    "insert into ks_ybu.tbl_music ( artist, song, year) values ('Kate Bush','A',1988);\n",
    "insert into ks_ybu.tbl_music ( artist, song, year) values ('Kate Bush','D',1985);\n",
    "insert into ks_ybu.tbl_music ( artist, song, year) values ('Kate Bush','B',1988);\n",
    "insert into ks_ybu.tbl_music ( artist, song, year) values ('Kate Bush','C',1985);\n",
    "insert into ks_ybu.tbl_music ( artist, song, year) values ('Radiohead','B',1998);\n",
    "insert into ks_ybu.tbl_music ( artist, song, year) values ('Radiohead','A',1997);\n",
    "insert into ks_ybu.tbl_music ( artist, song, year) values ('Radiohead','C',2020);\n",
    "insert into ks_ybu.tbl_music ( artist, song, year) values ('Radiohead','D',1998);\n",
    "insert into ks_ybu.tbl_music ( artist, song, year) values ('Radiohead','E',1997);\n",
    "\""
   ]
  },
  {
   "cell_type": "code",
   "execution_count": null,
   "metadata": {
    "vscode": {
     "languageId": "shellscript"
    }
   },
   "outputs": [],
   "source": [
    "%%bash -s \"$MY_YB_PATH\"   # Drop tables\n",
    "YB_PATH=${1}\n",
    "cd $YB_PATH\n",
    "\n",
    "./bin/ycqlsh --execute \"select * from ks_ybu.tbl_music;\""
   ]
  },
  {
   "cell_type": "code",
   "execution_count": null,
   "metadata": {},
   "outputs": [],
   "source": [
    "MY_OBJECT_NAME=\"idx_music_jsonb\"\n",
    "%store MY_OBJECT_NAME\n",
    "print(MY_OBJECT_NAME)"
   ]
  },
  {
   "cell_type": "code",
   "execution_count": null,
   "metadata": {
    "vscode": {
     "languageId": "shellscript"
    }
   },
   "outputs": [],
   "source": [
    "%%bash -s \"$MY_HOST_IPv4_01\" \"$MY_HOST_IPv4_02\" \"$MY_HOST_IPv4_03\" --out MY_HOST_IPv4\n",
    "\n",
    "HOST_IPv4_01=${1}\n",
    "HOST_IPv4_02=${2}\n",
    "HOST_IPv4_03=${3}\n",
    "\n",
    "# change the hosts for different tablet leaders\n",
    "# MY_HOST_IPv4=$HOST_IPv4_01\n",
    "MY_HOST_IPv4=$HOST_IPv4_02\n",
    "#MY_HOST_IPv4=$HOST_IPv4_03\n",
    "\n",
    "echo ${MY_HOST_IPv4}"
   ]
  },
  {
   "cell_type": "code",
   "execution_count": null,
   "metadata": {},
   "outputs": [],
   "source": [
    "%store MY_HOST_IPv4\n",
    "print(MY_HOST_IPv4)\n"
   ]
  },
  {
   "cell_type": "code",
   "execution_count": null,
   "metadata": {
    "vscode": {
     "languageId": "shellscript"
    }
   },
   "outputs": [],
   "source": [
    "%%bash -s \"$MY_OBJECT_NAME\" \"$MY_HOST_IPv4\" --out MY_INDEX_TABLE_ID\n",
    "\n",
    "OBJECT_NAME=$( echo \"${1}\" | tr -d \" \")\n",
    "HOST_IPv4=$( echo \"${2}\" | tr -d \" \")\n",
    "\n",
    "MY_URL=\"http://${HOST_IPv4}:8200/metrics\"\n",
    "\n",
    "MY_INDEX_TABLE_ID=`curl -s ${MY_URL} | jq -r 'limit(1;  .[] | select(.attributes.namespace_name==\"ks_ybu\" and .type==\"tablet\" and .attributes.table_name==\"'$OBJECT_NAME'\") |  .attributes.table_id) '`\n",
    "\n",
    "echo ${MY_INDEX_TABLE_ID} \n"
   ]
  },
  {
   "cell_type": "code",
   "execution_count": null,
   "metadata": {},
   "outputs": [],
   "source": [
    "%store MY_INDEX_TABLE_ID\n",
    "print(MY_INDEX_TABLE_ID)"
   ]
  },
  {
   "cell_type": "code",
   "execution_count": null,
   "metadata": {
    "vscode": {
     "languageId": "shellscript"
    }
   },
   "outputs": [],
   "source": [
    "%%bash -s \"$MY_OBJECT_NAME\" \"$MY_HOST_IPv4\" --out MY_INDEX_TABLET_ID\n",
    "OBJECT_NAME=$( echo \"${1}\" | tr -d \" \")\n",
    "HOST_IPv4=$( echo \"${2}\" | tr -d \" \")\n",
    "\n",
    "MY_URL=\"http://${HOST_IPv4}:8200/metrics\"\n",
    "\n",
    "\n",
    "INDEX_TABLET_ID=`curl -s ${MY_URL} | jq --raw-output ' .[] | select(.attributes.namespace_name==\"ks_ybu\" and .type==\"tablet\" and .attributes.table_name==\"'$OBJECT_NAME'\") | {tablet_id: .id, metrics: .metrics[] | select(.name == (\"is_raft_leader\") ) | select(.value == 1) } | select(.tablet_id) | {tablet_id} | .tablet_id '`\n",
    "\n",
    "echo ${INDEX_TABLET_ID}"
   ]
  },
  {
   "cell_type": "code",
   "execution_count": null,
   "metadata": {},
   "outputs": [],
   "source": [
    "%store MY_INDEX_TABLET_ID\n",
    "print(MY_INDEX_TABLET_ID)"
   ]
  },
  {
   "cell_type": "code",
   "execution_count": null,
   "metadata": {
    "vscode": {
     "languageId": "shellscript"
    }
   },
   "outputs": [],
   "source": [
    "%%bash -s \"$MY_YB_PATH\" \"$MY_DB_NAME\" \"$MY_HOST_IPv4_01\" \"$MY_INDEX_TABLE_ID\"  # Import file path of Yugabyte and DB name\n",
    "YB_PATH=${1}\n",
    "DB_NAME=${2}\n",
    "HOST_IPv4=${3}\n",
    "\n",
    "INDEX_TABLE_ID=$( echo \"${4}\" | tr -d \" \")\n",
    "\n",
    "cd $YB_PATH\n",
    "\n",
    "./bin/yb-admin -init_master_addrs ${HOST_IPv4}:7100 flush_table_by_id ${INDEX_TABLE_ID} 600\n"
   ]
  },
  {
   "cell_type": "code",
   "execution_count": null,
   "metadata": {
    "vscode": {
     "languageId": "shellscript"
    }
   },
   "outputs": [],
   "source": [
    "%%bash -s \"$MY_YB_PATH\" \"$MY_DB_NAME\" \"$MY_HOST_IPv4_01\" \"$MY_INDEX_TABLE_ID\" \"$MY_INDEX_TABLET_ID\" # Import file path of Yugabyte and DB name\n",
    "YB_PATH=${1}\n",
    "DB_NAME=${2}\n",
    "HOST_IPv4=${3}\n",
    "INDEX_TABLE_ID=$( echo \"${4}\" | tr -d \" \")\n",
    "INDEX_TABLET_ID=$( echo \"${5}\" | tr -d \" \")\n",
    "\n",
    "cd $YB_PATH\n",
    "cd bin/\n",
    "\n",
    "TABLE_ID_PATH=/Users/seth/yugabyte-data/node-1/disk-1/yb-data/tserver/data/rocksdb/table-${INDEX_TABLE_ID}/tablet-${INDEX_TABLET_ID}\n",
    "ls -l  ${TABLE_ID_PATH}\n",
    "\n",
    "./sst_dump --command=scan --file=${TABLE_ID_PATH} --output_format=decoded_regulardb\n",
    "\n",
    "# ./sst_dump --command=scan --file=${TABLE_ID_PATH} --show_properties\n",
    "# -command=scan --read_num=5"
   ]
  },
  {
   "cell_type": "markdown",
   "metadata": {},
   "source": [
    "## Part 5 | Built-in functions"
   ]
  },
  {
   "cell_type": "markdown",
   "metadata": {},
   "source": [
    "date-time"
   ]
  },
  {
   "cell_type": "code",
   "execution_count": null,
   "metadata": {
    "vscode": {
     "languageId": "shellscript"
    }
   },
   "outputs": [],
   "source": [
    "%%bash -s \"$MY_YB_PATH\" \"$MY_DB_NAME\" \"$MY_HOST_IPv4_01\" \"$MY_INDEX_TABLE_ID\" \"$MY_INDEX_TABLET_ID\" # Import file path of Yugabyte and DB name\n",
    "YB_PATH=${1}\n",
    "DB_NAME=${2}\n",
    "HOST_IPv4=${3}\n",
    "INDEX_TABLE_ID=$( echo \"${4}\" | tr -d \" \")\n",
    "INDEX_TABLET_ID=$( echo \"${5}\" | tr -d \" \")\n",
    "\n",
    "cd $YB_PATH\n",
    "cd bin/\n",
    "\n",
    "TABLE_ID_PATH=/Users/seth/yugabyte-data/node-1/disk-1/yb-data/tserver/data/rocksdb/table-${INDEX_TABLE_ID}/tablet-${INDEX_TABLET_ID}\n",
    "ls -l  ${TABLE_ID_PATH}\n",
    "\n",
    "./sst_dump --command=scan --file=${TABLE_ID_PATH} --output_format=decoded_regulardb\n",
    "\n",
    "# ./sst_dump --command=scan --file=${TABLE_ID_PATH} --show_properties\n",
    "# -command=scan --read_num=5"
   ]
  },
  {
   "cell_type": "code",
   "execution_count": null,
   "metadata": {
    "vscode": {
     "languageId": "shellscript"
    }
   },
   "outputs": [],
   "source": [
    "%%bash -s \"$MY_YB_PATH\"   \n",
    "YB_PATH=${1}\n",
    "cd $YB_PATH\n",
    "\n",
    "# Search a range of values\n",
    "./bin/ycqlsh --execute \"\n",
    "  select col_pk, totimestamp(now()),todate(now()), dateof(now()) from ks_ybu.tbl1 \n",
    "\n",
    "\n",
    "\""
   ]
  },
  {
   "cell_type": "code",
   "execution_count": null,
   "metadata": {
    "vscode": {
     "languageId": "shellscript"
    }
   },
   "outputs": [],
   "source": [
    "%%bash -s \"$MY_YB_PATH\"   \n",
    "YB_PATH=${1}\n",
    "cd $YB_PATH\n",
    "\n",
    "# Search a range of values\n",
    "./bin/ycqlsh --execute \"\n",
    "  select col_pk, col_ck, col_reg, currentdate(), currenttime(), currenttimestamp(), todate(now()) from ks_ybu.tbl1 \n",
    "\n",
    "\n",
    "\""
   ]
  },
  {
   "cell_type": "code",
   "execution_count": null,
   "metadata": {
    "vscode": {
     "languageId": "shellscript"
    }
   },
   "outputs": [],
   "source": [
    "%%bash -s \"$MY_YB_PATH\"   \n",
    "YB_PATH=${1}\n",
    "cd $YB_PATH\n",
    "\n",
    "# Search a range of values\n",
    "./bin/ycqlsh --execute \"\n",
    "  select partition_hash(artist,song) from ks_ybu.tbl_music;\n",
    "\n",
    "\n",
    "\""
   ]
  },
  {
   "cell_type": "code",
   "execution_count": null,
   "metadata": {
    "vscode": {
     "languageId": "shellscript"
    }
   },
   "outputs": [],
   "source": [
    "%%bash -s \"$MY_YB_PATH\"   \n",
    "YB_PATH=${1}\n",
    "cd $YB_PATH\n",
    "\n",
    "# Search a range of values\n",
    "./bin/ycqlsh --execute \"\n",
    "  select partition_hash(col_pk),col_pk, partition_hash('AAAA'),col_ck, col_reg, currentdate(), currenttime(), currenttimestamp(), todate(now()) from ks_ybu.tbl1 \n",
    "\n",
    "\n",
    "\""
   ]
  },
  {
   "attachments": {},
   "cell_type": "markdown",
   "metadata": {},
   "source": [
    "---\n",
    "JSON with tbl_music\n"
   ]
  },
  {
   "cell_type": "code",
   "execution_count": null,
   "metadata": {
    "vscode": {
     "languageId": "shellscript"
    }
   },
   "outputs": [],
   "source": [
    "%%bash -s \"$MY_YB_PATH\"  \"$MY_DB_NAME\"  # Query for id\n",
    "YB_PATH=${1}\n",
    "DB_NAME=${2}\n",
    "cd $YB_PATH/bin\n",
    "\n",
    "# DB_NAME=ks_ybu\n",
    "./ycqlsh -r -k $DB_NAME -e \"alter table tbl_music add tours jsonb;\""
   ]
  },
  {
   "cell_type": "code",
   "execution_count": null,
   "metadata": {
    "vscode": {
     "languageId": "shellscript"
    }
   },
   "outputs": [],
   "source": [
    "%%bash -s \"$MY_YB_PATH\"  \"$MY_DB_NAME\"  # Query for id\n",
    "YB_PATH=${1}\n",
    "DB_NAME=${2}\n",
    "cd $YB_PATH/bin\n",
    "\n",
    "# DB_NAME=ks_ybu\n",
    "./ycqlsh -r -k $DB_NAME -e \"select * from ks_ybu.tbl_music;\""
   ]
  },
  {
   "attachments": {},
   "cell_type": "markdown",
   "metadata": {},
   "source": [
    "insert into tbl_music ( artist, song, year, tours) \n",
    " values (\n",
    "    'Harry Styles',\n",
    "    'F',\n",
    "    2023,\n",
    "    '{ \\\"Events\\\": [{ \\\"Date\\\": \\\"2023-01-29\\\", \\\"Venue\\\": \\\"Kia Forum\\\",\\\"Capacity\\\": 50000,\\\"Members\\\": {\\\"Piano\\\": \\\"Charlotte Clark\",  \\\"Vocalist\\\": \\\"Ny Oh\\\"} }, { \\\"Date\\\": \\\"2023-06-17\\\", \\\"Venue\\\": \\\"Wembley Stadium\\\", \\\"Capacity\\\": 75000, \\\"Members\\\": { \\\"Vocalist\\\": \\\"Ny Oh\\\", \\\"Bass Guitar\\\": \\\"Pauli Lovejoy\\\" }}] }'"
   ]
  },
  {
   "attachments": {},
   "cell_type": "markdown",
   "metadata": {},
   "source": [
    "Insert"
   ]
  },
  {
   "cell_type": "code",
   "execution_count": null,
   "metadata": {
    "vscode": {
     "languageId": "shellscript"
    }
   },
   "outputs": [],
   "source": [
    "%%bash -s \"$MY_YB_PATH\"  \"$MY_DB_NAME\"  # Query for id\n",
    "YB_PATH=${1}\n",
    "DB_NAME=${2}\n",
    "cd $YB_PATH/bin\n",
    "\n",
    "# DB_NAME=ks_ybu\n",
    "./ycqlsh -r -k $DB_NAME -e \"\n",
    " insert into tbl_music ( artist, song, year, tours) \n",
    " values (\n",
    "    'Harry Styles',\n",
    "    'F',\n",
    "    2023,\n",
    "    '{ \\\"Events\\\": [  { \\\"Date\\\": \\\"2023-01-29\\\",\n",
    "          \\\"Venue\\\": \\\"Kia Forum\\\",\n",
    "          \\\"Capacity\\\": 50000,\n",
    "          \\\"Members\\\": {\\\"Piano\\\": \\\"Charlotte Clark\\\",\n",
    "              \\\"Vocalist\\\": \\\"Ny Oh\\\"} \n",
    "              },\n",
    "        { \\\"Date\\\": \\\"2023-06-17\\\", \\\"Venue\\\": \\\"Wembley Stadium\\\", \\\"Capacity\\\": 75000, \\\"Members\\\": { \\\"Vocalist\\\": \\\"Ny Oh\\\", \\\"Bass Guitar\\\": \\\"Pauli Lovejoy\\\" }}] }' \n",
    "    );\n",
    "\""
   ]
  },
  {
   "attachments": {},
   "cell_type": "markdown",
   "metadata": {},
   "source": [
    "Update | add- key-value pair\n",
    "` set sku_details->'rating' = '3'`"
   ]
  },
  {
   "cell_type": "code",
   "execution_count": null,
   "metadata": {
    "vscode": {
     "languageId": "shellscript"
    }
   },
   "outputs": [],
   "source": [
    "%%bash -s \"$MY_YB_PATH\"  \"$MY_DB_NAME\"  # Query for id\n",
    "YB_PATH=${1}\n",
    "DB_NAME=${2}\n",
    "cd $YB_PATH/bin\n",
    "\n",
    "# DB_NAME=ks_ybu\n",
    "./ycqlsh -r -k $DB_NAME -e \"\n",
    "  update tbl_music\n",
    "    set tours->'Events'->0->>'City' = '\\\"Inglewood\\\"'\n",
    "    where  artist = 'Harry Styles'\n",
    "    and song = 'F'\n",
    "    and year = 2023;\n",
    "    \"\n"
   ]
  },
  {
   "attachments": {},
   "cell_type": "markdown",
   "metadata": {},
   "source": [
    "los angelese"
   ]
  },
  {
   "cell_type": "code",
   "execution_count": null,
   "metadata": {
    "vscode": {
     "languageId": "shellscript"
    }
   },
   "outputs": [],
   "source": [
    "%%bash -s \"$MY_YB_PATH\"  \"$MY_DB_NAME\"  # Query for id\n",
    "YB_PATH=${1}\n",
    "DB_NAME=${2}\n",
    "cd $YB_PATH/bin\n",
    "\n",
    "# DB_NAME=ks_ybu\n",
    "./ycqlsh -r -k $DB_NAME -e \"\n",
    "  update tbl_music\n",
    "    set tours->'Events'->0->>'City' = '\\\"Los Angeles\\\"'\n",
    "    where  artist = 'Harry Styles'\n",
    "    and song = 'F'\n",
    "    and year = 2023;\n",
    "    \"\n"
   ]
  },
  {
   "cell_type": "code",
   "execution_count": null,
   "metadata": {
    "vscode": {
     "languageId": "shellscript"
    }
   },
   "outputs": [],
   "source": [
    "%%bash -s \"$MY_YB_PATH\"  \"$MY_DB_NAME\"  # Query for id\n",
    "YB_PATH=${1}\n",
    "DB_NAME=${2}\n",
    "cd $YB_PATH/bin\n",
    "\n",
    "# DB_NAME=ks_ybu\n",
    "./ycqlsh -r -k $DB_NAME -e \"\n",
    "    select * from tbl_music\n",
    "    where artist = 'Harry Styles'\n",
    "    and year = 2023;\""
   ]
  },
  {
   "cell_type": "code",
   "execution_count": null,
   "metadata": {
    "vscode": {
     "languageId": "shellscript"
    }
   },
   "outputs": [],
   "source": [
    "%%bash -s \"$MY_YB_PATH\"  \"$MY_DB_NAME\"  # Query for id\n",
    "YB_PATH=${1}\n",
    "DB_NAME=${2}\n",
    "cd $YB_PATH/bin\n",
    "\n",
    "# DB_NAME=ks_ybu\n",
    "./ycqlsh -r -k $DB_NAME -e \"\n",
    "  update tbl_music\n",
    "    set tours = '{ \\\"Events\\\": [{ \\\"Date\\\": \\\"2023-01-29\\\", \\\"Venue\\\": \\\"Kia Forum\\\",\\\"Capacity\\\": 50000,\\\"Members\\\": {\\\"Piano\\\": \\\"Charlotte Clark\\\",  \\\"Vocalist\\\": \\\"Ny Oh\\\"} }, { \\\"Date\\\": \\\"2023-06-17\\\", \\\"Venue\\\": \\\"Wembley Stadium\\\", \\\"Capacity\\\": 75000, \\\"Members\\\": { \\\"Vocalist\\\": \\\"Ny Oh\\\", \\\"Bass Guitar\\\": \\\"Pauli Lovejoy\\\" }}] }'\n",
    "    where  artist = 'Harry Styles'\n",
    "    and song = 'F'\n",
    "    and year = 2023;\n",
    "    \"\n"
   ]
  },
  {
   "cell_type": "code",
   "execution_count": null,
   "metadata": {
    "vscode": {
     "languageId": "shellscript"
    }
   },
   "outputs": [],
   "source": [
    "%%bash -s \"$MY_YB_PATH\"  \"$MY_DB_NAME\"  # Query for id\n",
    "YB_PATH=${1}\n",
    "DB_NAME=${2}\n",
    "cd $YB_PATH/bin\n",
    "\n",
    "# DB_NAME=ks_ybu\n",
    "./ycqlsh -r -k $DB_NAME -e \"\n",
    "    select * from tbl_music\n",
    "    where artist = 'Harry Styles'\n",
    "    and year = 2023;\""
   ]
  },
  {
   "cell_type": "code",
   "execution_count": null,
   "metadata": {
    "vscode": {
     "languageId": "shellscript"
    }
   },
   "outputs": [],
   "source": [
    "%%bash -s \"$MY_YB_PATH\"  \"$MY_DB_NAME\"  # Query for id\n",
    "YB_PATH=${1}\n",
    "DB_NAME=${2}\n",
    "cd $YB_PATH/bin\n",
    "\n",
    "# DB_NAME=ks_ybu\n",
    "./ycqlsh -r -k $DB_NAME -e \"\n",
    "select artist,\n",
    "  tours->'Events'->0->>'Date' as date_1,\n",
    "  tours->'Events'->0->>'Venue' as venue_1,\n",
    "  tours->'Events'->0->>'Capacity' as capacity_1,\n",
    "  tours->'Events'->0->'Members' as members_1\n",
    "from tbl_music  \n",
    "where artist = 'Harry Styles'\n",
    "    and year = 2023\n",
    "    and song = 'F'  ;\n",
    "    \""
   ]
  },
  {
   "cell_type": "code",
   "execution_count": null,
   "metadata": {
    "vscode": {
     "languageId": "shellscript"
    }
   },
   "outputs": [],
   "source": [
    "%%bash -s \"$MY_YB_PATH\"  \"$MY_DB_NAME\"  # Query for id\n",
    "YB_PATH=${1}\n",
    "DB_NAME=${2}\n",
    "cd $YB_PATH/bin\n",
    "\n",
    "# DB_NAME=ks_ybu\n",
    "./ycqlsh -r -k $DB_NAME -e \"\n",
    "select artist,\n",
    "  tours->'Events'->0->>'Date' as date_1,\n",
    "  tours->'Events'->0->>'Venue' as venue_1,\n",
    "  tours->'Events'->0->>'Capacity' as capacity_1,\n",
    "  tours->'Events'->0->'Members'->>'Piano' as Piano_1,\n",
    "  tours->'Events'->0->'Members'->>'Vocalist' as Vocalist_1\n",
    "from tbl_music\n",
    "where tours->'Events'->0->>'Date' = '2023-01-29';\n",
    "    \""
   ]
  },
  {
   "cell_type": "code",
   "execution_count": null,
   "metadata": {
    "vscode": {
     "languageId": "shellscript"
    }
   },
   "outputs": [],
   "source": [
    "%%bash -s \"$MY_YB_PATH\"  \"$MY_DB_NAME\"  # Query for id\n",
    "YB_PATH=${1}\n",
    "DB_NAME=${2}\n",
    "cd $YB_PATH/bin\n",
    "\n",
    "# DB_NAME=ks_ybu\n",
    "./ycqlsh -r -k $DB_NAME -e \"\n",
    "explain select artist,\n",
    "  tours->'Events'->0->>'Date' as date_1,\n",
    "  tours->'Events'->0->>'Venue' as venue_1,\n",
    "  tours->'Events'->0->>'Capacity' as capacity_1,\n",
    "  tours->'Events'->0->'Members'->>'Piano' as Piano_1,\n",
    "  tours->'Events'->0->'Members'->>'Vocalist' as Vocalist_1\n",
    "from tbl_music\n",
    "where tours->'Events'->0->>'Date' = '2023-01-29';\n",
    "    \""
   ]
  },
  {
   "cell_type": "code",
   "execution_count": null,
   "metadata": {
    "vscode": {
     "languageId": "shellscript"
    }
   },
   "outputs": [],
   "source": [
    "%%bash -s \"$MY_YB_PATH\"  \"$MY_DB_NAME\"  # Query for id\n",
    "YB_PATH=${1}\n",
    "DB_NAME=${2}\n",
    "cd $YB_PATH/bin\n",
    "\n",
    "# DB_NAME=ks_ybu\n",
    "./ycqlsh -r -k $DB_NAME -e \"\n",
    "    drop index if exists idx_music_jsonb\n",
    "    ;\n",
    "    \""
   ]
  },
  {
   "cell_type": "code",
   "execution_count": null,
   "metadata": {
    "vscode": {
     "languageId": "shellscript"
    }
   },
   "outputs": [],
   "source": [
    "%%bash -s \"$MY_YB_PATH\"  \"$MY_DB_NAME\"  # Query for id\n",
    "YB_PATH=${1}\n",
    "DB_NAME=${2}\n",
    "cd $YB_PATH/bin\n",
    "\n",
    "# DB_NAME=ks_ybu\n",
    "./ycqlsh -r -k $DB_NAME -e \"\n",
    "    create index if not exists idx_music_jsonb\n",
    "     on tbl_music (\n",
    "        tours->'Events'->0->>'Date',\n",
    "        tours->'Events'->0->>'Venue',\n",
    "        tours->'Events'->0->>'Capacity', \n",
    "        tours->'Events'->0->'Members'->>'Piano', \n",
    "        tours->'Events'->0->'Members'->>'Vocalist'\n",
    "        )\n",
    "    ;\n",
    "    \""
   ]
  },
  {
   "cell_type": "code",
   "execution_count": null,
   "metadata": {
    "vscode": {
     "languageId": "shellscript"
    }
   },
   "outputs": [],
   "source": [
    "%%bash -s \"$MY_YB_PATH\"  \"$MY_DB_NAME\"  # Query for id\n",
    "YB_PATH=${1}\n",
    "DB_NAME=${2}\n",
    "cd $YB_PATH/bin\n",
    "\n",
    "# DB_NAME=ks_ybu\n",
    "./ycqlsh -r -k $DB_NAME -e \"\n",
    "explain select artist, song, year,\n",
    "  tours->'Events'->0->>'Date' as date_1,\n",
    "  tours->'Events'->0->>'Venue' as venue_1,\n",
    "  tours->'Events'->0->>'Capacity' as capacity_1,\n",
    "  tours->'Events'->0->'Members'->>'Piano' as Piano_1,\n",
    "  tours->'Events'->0->'Members'->>'Vocalist' as Vocalist_1\n",
    "from tbl_music\n",
    "where tours->'Events'->0->>'Venue' = '\"?\"';\n",
    "    \""
   ]
  },
  {
   "attachments": {},
   "cell_type": "markdown",
   "metadata": {},
   "source": [
    "grep IMPORTANT data.csv | cassandra-loader -f stdin -h 1.2.3.4 -schema \"test.itest(a, b)\"\n",
    "\n",
    "mysql -h 192.168.128.1 -e 'select * from db1.vw_music_json' | cassandra-loader -f stdin -h 127.0.0.1 -schema \"ks_ybu.tbl_music (artist, song, year, tours)\""
   ]
  },
  {
   "cell_type": "code",
   "execution_count": null,
   "metadata": {
    "vscode": {
     "languageId": "shellscript"
    }
   },
   "outputs": [],
   "source": [
    "%%bash\n",
    "HOST_MYSQL=192.168.128.1\n",
    "HOST_YCQL=127.0.0.1\n",
    "VW_MYSQL=\"select artist, song, year, tours from db1.vw_music_json;\"\n",
    "SCHEMA_YCQL=\"ks_ybu.tbl_music (artist, song, year, tours)\"\n",
    "\n",
    "echo ${VW_MYSQL} \\ \n",
    "  $SCHEMA_YCQL\n"
   ]
  }
 ],
 "metadata": {
  "kernelspec": {
   "display_name": "Python 3",
   "language": "python",
   "name": "python3"
  },
  "language_info": {
   "codemirror_mode": {
    "name": "ipython",
    "version": 3
   },
   "file_extension": ".py",
   "mimetype": "text/x-python",
   "name": "python",
   "nbconvert_exporter": "python",
   "pygments_lexer": "ipython3",
   "version": "3.8.9"
  },
  "orig_nbformat": 4,
  "vscode": {
   "interpreter": {
    "hash": "31f2aee4e71d21fbe5cf8b01ff0e069b9275f58929596ceb00d14d90e3e16cd6"
   }
  }
 },
 "nbformat": 4,
 "nbformat_minor": 2
}
