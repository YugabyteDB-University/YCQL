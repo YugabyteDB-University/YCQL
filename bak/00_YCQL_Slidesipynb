{
 "cells": [
  {
   "attachments": {},
   "cell_type": "markdown",
   "metadata": {
    "deletable": false,
    "editable": false
   },
   "source": [
    "# CurrDev --> Slides code, not a student notebook\n",
    "\n",
    "### Import the notebook variables "
   ]
  },
  {
   "cell_type": "code",
   "execution_count": null,
   "metadata": {},
   "outputs": [],
   "source": [
    "%store -r MY_DB_NAME\n",
    "%store -r MY_YB_PATH\n",
    "%store -r MY_GITPOD_WORKSPACE_URL\n",
    "%store -r MY_HOST_IPv4_01\n",
    "%store -r MY_HOST_IPv4_02\n",
    "%store -r MY_HOST_IPv4_03\n",
    "%store -r MY_NOTEBOOK_DIR\n",
    "%store -r MY_TSERVER_WEBSERVER_PORT\n",
    "%store -r MY_NOTEBOOK_DATA_FOLDER\n",
    "%store -r MY_DATA_DDL_FILE\n",
    "%store -r MY_DATA_DML_FILE\n",
    "\n",
    "# new for table id"
   ]
  },
  {
   "cell_type": "markdown",
   "metadata": {},
   "source": [
    "DDL and DML"
   ]
  },
  {
   "cell_type": "code",
   "execution_count": null,
   "metadata": {
    "vscode": {
     "languageId": "shellscript"
    }
   },
   "outputs": [],
   "source": [
    "%%bash -s \"$MY_YB_PATH\" \"$MY_DB_NAME\" \"$MY_NOTEBOOK_DATA_FOLDER\" \"$MY_DATA_DDL_FILE\" \"$MY_DATA_DML_FILE\"   \n",
    "# Wishlist\n",
    "YB_PATH=${1}\n",
    "DB_NAME=${2}\n",
    "DATA_FOLDER=${3}\n",
    "DATA_DDL_FILE=${4}\n",
    "DATA_DML_FILE=${5}\n",
    "\n",
    "WISHLIST_DDL_PATH=${DATA_FOLDER}/${DATA_DDL_FILE}\n",
    "WISHLIST_DML_PATH=${DATA_FOLDER}/${DATA_DML_FILE}\n",
    "echo $WISHLIST_DDL_PATH\n",
    "echo $WISHLIST_DML_PATH\n",
    "cd $YB_PATH\n",
    "\n",
    "# DDL file\n",
    "./bin/ycqlsh -k ${DB_NAME} -f ${WISHLIST_DDL_PATH} \n",
    "sleep 1;\n",
    "\n",
    "# # DML file\n",
    "./bin/ycqlsh -k ${DB_NAME} -f ${WISHLIST_DML_PATH} \n",
    "sleep 1;\n"
   ]
  },
  {
   "cell_type": "code",
   "execution_count": null,
   "metadata": {
    "vscode": {
     "languageId": "shellscript"
    }
   },
   "outputs": [],
   "source": [
    "%%bash -s \"$MY_YB_PATH\" \"$MY_DB_NAME\" \"$MY_NOTEBOOK_DATA_FOLDER\" \"$MY_DATA_DDL_FILE\" \"$MY_DATA_DML_FILE\"   \n",
    "# Wishlist\n",
    "YB_PATH=${1}\n",
    "DB_NAME=${2}\n",
    "cd $YB_PATH\n",
    "\n",
    "# # Describe relations\n",
    "./bin/ycqlsh --execute \"\n",
    "  DESCRIBE tables;\n",
    "\""
   ]
  },
  {
   "cell_type": "markdown",
   "metadata": {},
   "source": [
    "###  TODO UPDATE LIKE INDEX\n",
    "Create SST files\n",
    "\n",
    "In order to read the actual data, we have to ask DocDB to (prematurely) persist the memtable so we can read the rocksdb contents. This is done using a yb-admin command. The above --print-entities command prints the table id (please mind to use the table id, lots of other objects in YugabyteDB have id's too!), which can be used to flush the tablet data to disk:"
   ]
  },
  {
   "cell_type": "code",
   "execution_count": null,
   "metadata": {
    "vscode": {
     "languageId": "shellscript"
    }
   },
   "outputs": [],
   "source": [
    "%%bash -s \"$MY_YB_PATH\" \"$MY_DB_NAME\"  \"$MY_HOST_IPv4_02\" \"$MY_TABLE_ID\" # Import file path of Yugabyte and DB name\n",
    "YB_PATH=${1}\n",
    "DB_NAME=${2}\n",
    "HOST_IPv4=${3}\n",
    "\n",
    "TABLE_ID=${4}\n",
    "\n",
    "echo $TABLE_ID\n",
    "cd $YB_PATH\n",
    "\n",
    "#yb-admin -init_master_addrs localhost:7100 flush_table_by_id 000033e8000030008000000000004232 600\n",
    "./bin/yb-admin -init_master_addrs ${HOST_IPv4}:7100 flush_table_by_id ${TABLE_ID} 600\n"
   ]
  },
  {
   "cell_type": "markdown",
   "metadata": {},
   "source": [
    "### View files"
   ]
  },
  {
   "cell_type": "code",
   "execution_count": null,
   "metadata": {
    "vscode": {
     "languageId": "shellscript"
    }
   },
   "outputs": [],
   "source": [
    "%%bash -s \"$MY_YB_PATH\" \"$MY_DB_NAME\"  \"$MY_HOST_IPv4_02\" \"$MY_TABLE_ID\" \"$MY_TABLET_ID\" # Import file path of Yugabyte and DB name\n",
    "YB_PATH=${1}\n",
    "DB_NAME=${2}\n",
    "HOST_IPv4=${3}\n",
    "TABLE_ID=${4}\n",
    "TABLET_ID=${5}\n",
    "\n",
    "\n",
    "cd $YB_PATH\n",
    "cd bin/\n",
    "\n",
    "TABLE_ID_PATH=/Users/seth/yugabyte-data/node-1/disk-1/yb-data/tserver/data/rocksdb/table-${TABLE_ID}/tablet-${TABLET_ID=}\n",
    "\n",
    "# cd $TABLE_ID_PATH\n",
    "\n",
    "./sst_dump --command=scan --file=${TABLE_ID_PATH} --output_format=decoded_regulardb\n"
   ]
  },
  {
   "cell_type": "markdown",
   "metadata": {},
   "source": [
    "## Index SST"
   ]
  },
  {
   "cell_type": "code",
   "execution_count": null,
   "metadata": {
    "vscode": {
     "languageId": "shellscript"
    }
   },
   "outputs": [],
   "source": [
    "%%bash -s \"$MY_YB_PATH\" \n",
    "YB_PATH=${1}\n",
    "cd $YB_PATH\n",
    "\n",
    "# Verfiy the index has been created for the tbl_products_by_category\n",
    "./bin/ycqlsh --execute \"\n",
    "  select * from ks_ybu.tbl_products_by_name;\n",
    "\""
   ]
  },
  {
   "cell_type": "markdown",
   "metadata": {},
   "source": [
    "# Examples\n",
    "\n",
    "## q1 - Seq Scan\n"
   ]
  },
  {
   "cell_type": "code",
   "execution_count": null,
   "metadata": {
    "vscode": {
     "languageId": "shellscript"
    }
   },
   "outputs": [],
   "source": [
    "%%bash -s \"$MY_YB_PATH\" \n",
    "YB_PATH=${1}\n",
    "cd $YB_PATH\n",
    "\n",
    "\n",
    "./bin/ycqlsh --execute \"\n",
    " select product_name, product_id, price, description \n",
    " from ks_ybu.tbl_products_by_category \n",
    " where brand = 'Fern';\n",
    "\""
   ]
  },
  {
   "cell_type": "code",
   "execution_count": null,
   "metadata": {
    "vscode": {
     "languageId": "shellscript"
    }
   },
   "outputs": [],
   "source": [
    "%%bash -s \"$MY_YB_PATH\" \n",
    "YB_PATH=${1}\n",
    "cd $YB_PATH\n",
    "\n",
    "\n",
    "./bin/ycqlsh --execute \"\n",
    " explain select product_name, product_id, price, description \n",
    " from ks_ybu.tbl_products_by_category \n",
    " where brand = ?;\n",
    "\""
   ]
  },
  {
   "cell_type": "markdown",
   "metadata": {},
   "source": [
    "## q2 - Range Scan using Partition Key"
   ]
  },
  {
   "cell_type": "code",
   "execution_count": null,
   "metadata": {
    "vscode": {
     "languageId": "shellscript"
    }
   },
   "outputs": [],
   "source": [
    "%%bash -s \"$MY_YB_PATH\"   \n",
    "YB_PATH=${1}\n",
    "cd $YB_PATH\n",
    "\n",
    "# Query plan: Sequential Scan\n",
    "./bin/ycqlsh --execute \"\n",
    "  explain select product_name, product_id, price, description \n",
    "  from ks_ybu.tbl_products_by_category\n",
    "  where category='Kids';\n",
    "\"  "
   ]
  },
  {
   "cell_type": "markdown",
   "metadata": {},
   "source": [
    "## q3 - Sequence Scan"
   ]
  },
  {
   "cell_type": "code",
   "execution_count": null,
   "metadata": {
    "vscode": {
     "languageId": "shellscript"
    }
   },
   "outputs": [],
   "source": [
    "%%bash -s \"$MY_YB_PATH\"   \n",
    "YB_PATH=${1}\n",
    "cd $YB_PATH\n",
    "\n",
    "# Query plan: Sequential Scan\n",
    "./bin/ycqlsh --execute \"\n",
    "  select product_name, product_id, price, description \n",
    "  from ks_ybu.tbl_products_by_category\n",
    "  where brand = 'Fern';\n",
    "\"  "
   ]
  },
  {
   "cell_type": "code",
   "execution_count": null,
   "metadata": {
    "vscode": {
     "languageId": "shellscript"
    }
   },
   "outputs": [],
   "source": [
    "%%bash -s \"$MY_YB_PATH\"   \n",
    "YB_PATH=${1}\n",
    "cd $YB_PATH\n",
    "\n",
    "# Query plan: Sequential Scan\n",
    "./bin/ycqlsh --execute \"\n",
    "  explain select product_name, product_id, price, description \n",
    "  from ks_ybu.tbl_products_by_category\n",
    "  where brand = ?;\n",
    "\"  "
   ]
  },
  {
   "cell_type": "markdown",
   "metadata": {},
   "source": [
    "## q4 - PK lookup"
   ]
  },
  {
   "cell_type": "code",
   "execution_count": null,
   "metadata": {
    "vscode": {
     "languageId": "shellscript"
    }
   },
   "outputs": [],
   "source": [
    "%%bash -s \"$MY_YB_PATH\"   \n",
    "YB_PATH=${1}\n",
    "cd $YB_PATH\n",
    "\n",
    "# Query plan: Sequential Scan\n",
    "./bin/ycqlsh --execute \"\n",
    "  explain select product_name, product_id, price, description \n",
    "  from ks_ybu.tbl_products_by_category\n",
    "  where category = ? and product_name = ? and product_id = ?;\n",
    "\"  "
   ]
  },
  {
   "cell_type": "markdown",
   "metadata": {},
   "source": [
    "## q5 - Range Scan\n"
   ]
  },
  {
   "cell_type": "code",
   "execution_count": null,
   "metadata": {
    "vscode": {
     "languageId": "shellscript"
    }
   },
   "outputs": [],
   "source": [
    "%%bash -s \"$MY_YB_PATH\"   \n",
    "YB_PATH=${1}\n",
    "cd $YB_PATH\n",
    "\n",
    "\n",
    "./bin/ycqlsh --execute \"\n",
    "  explain select product_name, product_id, price, description \n",
    "  from ks_ybu.tbl_products_by_category\n",
    "  where category = ?;\n",
    "\"  "
   ]
  },
  {
   "cell_type": "markdown",
   "metadata": {},
   "source": [
    "## q6 - create index, product by brand"
   ]
  },
  {
   "cell_type": "code",
   "execution_count": null,
   "metadata": {
    "vscode": {
     "languageId": "shellscript"
    }
   },
   "outputs": [],
   "source": [
    "%%bash -s \"$MY_YB_PATH\"   \n",
    "YB_PATH=${1}\n",
    "cd $YB_PATH\n",
    "\n",
    "# Query plan: Sequential Scan\n",
    "./bin/ycqlsh --execute \"\n",
    "  drop index if exists ks_ybu.idx_products_by_brand;\n",
    "\"  "
   ]
  },
  {
   "cell_type": "code",
   "execution_count": null,
   "metadata": {
    "vscode": {
     "languageId": "shellscript"
    }
   },
   "outputs": [],
   "source": [
    "%%bash -s \"$MY_YB_PATH\"   \n",
    "YB_PATH=${1}\n",
    "cd $YB_PATH\n",
    "\n",
    "# Query plan: Sequential Scan\n",
    "./bin/ycqlsh --execute \"\n",
    "  create index idx_products_by_brand\n",
    "  on ks_ybu.tbl_products_by_category\n",
    "  (brand);\n",
    "\"  "
   ]
  },
  {
   "cell_type": "markdown",
   "metadata": {},
   "source": [
    "### q6 - Describe index to show it"
   ]
  },
  {
   "cell_type": "code",
   "execution_count": null,
   "metadata": {
    "vscode": {
     "languageId": "shellscript"
    }
   },
   "outputs": [],
   "source": [
    "%%bash -s \"$MY_YB_PATH\"  \n",
    "YB_PATH=${1}\n",
    "cd $YB_PATH\n",
    "\n",
    "# Query Plan\n",
    "./bin/ycqlsh --execute \"\n",
    " describe ks_ybu.idx_products_by_brand\n",
    "\"    "
   ]
  },
  {
   "cell_type": "markdown",
   "metadata": {},
   "source": [
    "### q6 - Explain --> Index Scan\n",
    "Does not include price and description\n"
   ]
  },
  {
   "cell_type": "code",
   "execution_count": null,
   "metadata": {
    "vscode": {
     "languageId": "shellscript"
    }
   },
   "outputs": [],
   "source": [
    "%%bash -s \"$MY_YB_PATH\"  \n",
    "YB_PATH=${1}\n",
    "cd $YB_PATH\n",
    "\n",
    "# Query Plan\n",
    "./bin/ycqlsh --execute \"\n",
    "  explain select product_name, product_id, price, description \n",
    "  from ks_ybu.tbl_products_by_category \n",
    "  where brand = ?;\n",
    "\"    "
   ]
  },
  {
   "cell_type": "markdown",
   "metadata": {},
   "source": [
    "### q6 Index SST Files\n",
    "\t"
   ]
  },
  {
   "cell_type": "code",
   "execution_count": null,
   "metadata": {},
   "outputs": [],
   "source": [
    "MY_INDEX_TABLE_ID='6db1c23348dd49e4a7eae9c43725035e'\n",
    "MY_INDEX_TABLET_ID='00d9931ef32945ccb1c17e1ca30ac001'\n",
    "\t\n",
    "%store MY_INDEX_TABLE_ID\n",
    "%store MY_INDEX_TABLET_ID"
   ]
  },
  {
   "cell_type": "code",
   "execution_count": null,
   "metadata": {
    "vscode": {
     "languageId": "shellscript"
    }
   },
   "outputs": [],
   "source": [
    "%%bash -s \"$MY_YB_PATH\" \"$MY_DB_NAME\"  \"$MY_HOST_IPv4_02\" \"$MY_INDEX_TABLE_ID\" # Import file path of Yugabyte and DB name\n",
    "YB_PATH=${1}\n",
    "DB_NAME=${2}\n",
    "HOST_IPv4=${3}\n",
    "\n",
    "INDEX_TABLE_ID=${4}\n",
    "\n",
    "echo $INDEX_TABLE_ID\n",
    "cd $YB_PATH\n",
    "\n",
    "#yb-admin -init_master_addrs localhost:7100 flush_table_by_id 000033e8000030008000000000004232 600\n",
    "./bin/yb-admin -init_master_addrs ${HOST_IPv4}:7100 flush_table_by_id ${INDEX_TABLE_ID} 600\n"
   ]
  },
  {
   "cell_type": "code",
   "execution_count": null,
   "metadata": {
    "vscode": {
     "languageId": "shellscript"
    }
   },
   "outputs": [],
   "source": [
    "%%bash -s \"$MY_YB_PATH\" \"$MY_DB_NAME\"  \"$MY_HOST_IPv4_02\" \"$MY_INDEX_TABLE_ID\" \"$MY_INDEX_TABLET_ID\" # Import file path of Yugabyte and DB name\n",
    "YB_PATH=${1}\n",
    "DB_NAME=${2}\n",
    "HOST_IPv4=${3}\n",
    "INDEX_TABLE_ID=${4}\n",
    "INDEX_TABLET_ID=${5}\n",
    "\n",
    "\n",
    "cd $YB_PATH\n",
    "cd bin/\n",
    "\n",
    "TABLE_ID_PATH=/Users/seth/yugabyte-data/node-1/disk-1/yb-data/tserver/data/rocksdb/table-${INDEX_TABLE_ID}/tablet-${INDEX_TABLET_ID}\n",
    "ls ${TABLE_ID_PATH}\n",
    "\n",
    "\n",
    "./sst_dump --command=scan --file=${TABLE_ID_PATH} --output_format=decoded_regulardb\n",
    "# ./sst_dump --command=scan --file=${TABLE_ID_PATH} --show_properties\n",
    "# -command=scan --read_num=5"
   ]
  },
  {
   "cell_type": "markdown",
   "metadata": {},
   "source": [
    "## q7  -- Index Only"
   ]
  },
  {
   "cell_type": "code",
   "execution_count": null,
   "metadata": {
    "vscode": {
     "languageId": "shellscript"
    }
   },
   "outputs": [],
   "source": [
    "%%bash -s \"$MY_YB_PATH\"   \n",
    "YB_PATH=${1}\n",
    "cd $YB_PATH\n",
    "\n",
    "\n",
    "./bin/ycqlsh --execute \"\n",
    "  drop index  if exists ks_ybu.idx_products_by_brand_include;\n",
    "\"  \n"
   ]
  },
  {
   "cell_type": "code",
   "execution_count": null,
   "metadata": {
    "vscode": {
     "languageId": "shellscript"
    }
   },
   "outputs": [],
   "source": [
    "%%bash -s \"$MY_YB_PATH\"   \n",
    "YB_PATH=${1}\n",
    "cd $YB_PATH\n",
    "\n",
    "# Query plan: Sequential Scan\n",
    "./bin/ycqlsh --execute \"\n",
    "  create index idx_products_by_brand_include on ks_ybu.tbl_products_by_category\n",
    "  (brand)\n",
    "  include (price, description);\n",
    "\"  "
   ]
  },
  {
   "cell_type": "code",
   "execution_count": null,
   "metadata": {
    "vscode": {
     "languageId": "shellscript"
    }
   },
   "outputs": [],
   "source": [
    "%%bash -s \"$MY_YB_PATH\"  \n",
    "YB_PATH=${1}\n",
    "cd $YB_PATH\n",
    "\n",
    "# Query Plan\n",
    "./bin/ycqlsh --execute \"\n",
    " explain select product_name, product_id, price, description \n",
    "  from ks_ybu.tbl_products_by_category\n",
    "  where brand =  ?;\n",
    "\"    "
   ]
  },
  {
   "cell_type": "markdown",
   "metadata": {},
   "source": [
    "### q7a"
   ]
  },
  {
   "cell_type": "code",
   "execution_count": null,
   "metadata": {},
   "outputs": [],
   "source": [
    "MY_INDEX_TABLE_ID='c84bdb1d1ab749939a03d758c6413f21'\n",
    "MY_INDEX_TABLET_ID='318f1505ec15412fa76c409f81aacc38'\n",
    "%store MY_INDEX_TABLE_ID\n",
    "%store MY_INDEX_TABLET_ID"
   ]
  },
  {
   "cell_type": "code",
   "execution_count": null,
   "metadata": {
    "vscode": {
     "languageId": "shellscript"
    }
   },
   "outputs": [],
   "source": [
    "%%bash -s \"$MY_YB_PATH\" \"$MY_DB_NAME\"  \"$MY_HOST_IPv4_02\" \"$MY_INDEX_TABLE_ID\" # Import file path of Yugabyte and DB name\n",
    "YB_PATH=${1}\n",
    "DB_NAME=${2}\n",
    "HOST_IPv4=${3}\n",
    "\n",
    "INDEX_TABLE_ID=${4}\n",
    "\n",
    "echo $INDEX_TABLE_ID\n",
    "cd $YB_PATH\n",
    "\n",
    "#yb-admin -init_master_addrs localhost:7100 flush_table_by_id 000033e8000030008000000000004232 600\n",
    "./bin/yb-admin -init_master_addrs ${HOST_IPv4}:7100 flush_table_by_id ${INDEX_TABLE_ID} 600\n"
   ]
  },
  {
   "cell_type": "code",
   "execution_count": null,
   "metadata": {
    "vscode": {
     "languageId": "shellscript"
    }
   },
   "outputs": [],
   "source": [
    "%%bash -s \"$MY_YB_PATH\" \"$MY_DB_NAME\"  \"$MY_HOST_IPv4_02\" \"$MY_INDEX_TABLE_ID\" \"$MY_INDEX_TABLET_ID\" # Import file path of Yugabyte and DB name\n",
    "YB_PATH=${1}\n",
    "DB_NAME=${2}\n",
    "HOST_IPv4=${3}\n",
    "INDEX_TABLE_ID=${4}\n",
    "INDEX_TABLET_ID=${5}\n",
    "\n",
    "\n",
    "cd $YB_PATH\n",
    "cd bin/\n",
    "\n",
    "TABLE_ID_PATH=/Users/seth/yugabyte-data/node-1/disk-1/yb-data/tserver/data/rocksdb/table-${INDEX_TABLE_ID}/tablet-${INDEX_TABLET_ID}\n",
    "ls ${TABLE_ID_PATH}\n",
    "\n",
    "\n",
    "./sst_dump --command=scan --file=${TABLE_ID_PATH} --output_format=decoded_regulardb\n",
    "# ./sst_dump --command=scan --file=${TABLE_ID_PATH} --show_properties\n",
    "# -command=scan --read_num=5"
   ]
  },
  {
   "cell_type": "markdown",
   "metadata": {},
   "source": [
    "## q8 unique\n",
    "uses gtin"
   ]
  },
  {
   "cell_type": "markdown",
   "metadata": {},
   "source": [
    "### q8a\n",
    "unique with constraint\n"
   ]
  },
  {
   "cell_type": "code",
   "execution_count": null,
   "metadata": {
    "vscode": {
     "languageId": "shellscript"
    }
   },
   "outputs": [],
   "source": [
    "%%bash -s \"$MY_YB_PATH\"   \n",
    "YB_PATH=${1}\n",
    "cd $YB_PATH\n",
    "\n",
    "./bin/ycqlsh --execute \"\n",
    "  drop index if exists ks_ybu.idx_products_unq_gtin;\n",
    "\"  "
   ]
  },
  {
   "cell_type": "code",
   "execution_count": null,
   "metadata": {
    "vscode": {
     "languageId": "shellscript"
    }
   },
   "outputs": [],
   "source": [
    "%%bash -s \"$MY_YB_PATH\"   \n",
    "YB_PATH=${1}\n",
    "cd $YB_PATH\n",
    "\n",
    "# Query plan: Sequential Scan\n",
    "./bin/ycqlsh --execute \"\n",
    "  create unique index idx_products_unq_gtin on ks_ybu.tbl_products_by_category\n",
    "  (gtin)\n",
    "\"  "
   ]
  },
  {
   "cell_type": "code",
   "execution_count": null,
   "metadata": {
    "vscode": {
     "languageId": "shellscript"
    }
   },
   "outputs": [],
   "source": [
    "%%bash -s \"$MY_YB_PATH\"  \n",
    "YB_PATH=${1}\n",
    "cd $YB_PATH\n",
    "\n",
    "# Query Plan\n",
    "./bin/ycqlsh --execute \"\n",
    "desc ks_ybu.idx_products_unq_gtin;\n",
    "\"    "
   ]
  },
  {
   "cell_type": "code",
   "execution_count": null,
   "metadata": {
    "vscode": {
     "languageId": "shellscript"
    }
   },
   "outputs": [],
   "source": [
    "%%bash -s \"$MY_YB_PATH\"  \n",
    "YB_PATH=${1}\n",
    "cd $YB_PATH\n",
    "\n",
    "# Query Plan\n",
    "./bin/ycqlsh --execute \"\n",
    " explain select product_name, product_id, price, description\n",
    "  from ks_ybu.tbl_products_by_category\n",
    "  where gtin = ?;\n",
    "\"    "
   ]
  },
  {
   "cell_type": "code",
   "execution_count": null,
   "metadata": {
    "vscode": {
     "languageId": "shellscript"
    }
   },
   "outputs": [],
   "source": [
    "%%bash -s \"$MY_YB_PATH\"  \n",
    "YB_PATH=${1}\n",
    "cd $YB_PATH\n",
    "\n",
    "# Query Plan\n",
    "./bin/ycqlsh --execute \"\n",
    " select product_name, product_id, price, description, brand, category, gtin\n",
    "  from ks_ybu.tbl_products_by_category\n",
    "  where gtin ='005456116545';\n",
    "\"    "
   ]
  },
  {
   "cell_type": "code",
   "execution_count": null,
   "metadata": {
    "vscode": {
     "languageId": "shellscript"
    }
   },
   "outputs": [],
   "source": [
    "%%bash -s \"$MY_YB_PATH\"  \n",
    "YB_PATH=${1}\n",
    "cd $YB_PATH\n",
    "\n",
    "# Query Plan\n",
    "./bin/ycqlsh --execute \"\n",
    "insert into ks_ybu.tbl_products_by_category (category, product_name, product_id, brand, price, discount, description, gtin) values ('H20','Talc 6',62364,'Yeah',11.99,7,'1.6 liter ','006236226326');\n",
    "\"    "
   ]
  },
  {
   "cell_type": "markdown",
   "metadata": {},
   "source": [
    "### Decode sst files by tablets\n",
    "You need to change the host IPS."
   ]
  },
  {
   "cell_type": "code",
   "execution_count": null,
   "metadata": {},
   "outputs": [],
   "source": [
    "MY_OBJECT_NAME=\"idx_products_unq_gtin\"\n",
    "%store MY_OBJECT_NAME\n",
    "print(MY_OBJECT_NAME)"
   ]
  },
  {
   "cell_type": "code",
   "execution_count": null,
   "metadata": {
    "vscode": {
     "languageId": "shellscript"
    }
   },
   "outputs": [],
   "source": [
    "%%bash -s \"$MY_HOST_IPv4_01\" \"$MY_HOST_IPv4_02\" \"$MY_HOST_IPv4_03\" --out MY_HOST_IPv4\n",
    "\n",
    "HOST_IPv4_01=${1}\n",
    "HOST_IPv4_02=${2}\n",
    "HOST_IPv4_03=${3}\n",
    "\n",
    "# change the hosts for different tablet leaders\n",
    "MY_HOST_IPv4=$HOST_IPv4_03\n",
    "\n",
    "echo ${MY_HOST_IPv4}"
   ]
  },
  {
   "cell_type": "markdown",
   "metadata": {},
   "source": [
    "Store the host ip for this procedure"
   ]
  },
  {
   "cell_type": "code",
   "execution_count": null,
   "metadata": {},
   "outputs": [],
   "source": [
    "%store MY_HOST_IPv4\n",
    "print(MY_HOST_IPv4)"
   ]
  },
  {
   "cell_type": "markdown",
   "metadata": {},
   "source": [
    "Gets the table_ID"
   ]
  },
  {
   "cell_type": "code",
   "execution_count": null,
   "metadata": {
    "vscode": {
     "languageId": "shellscript"
    }
   },
   "outputs": [],
   "source": [
    "%%bash -s \"$MY_OBJECT_NAME\" \"$MY_HOST_IPv4\" --out MY_INDEX_TABLE_ID\n",
    "\n",
    "OBJECT_NAME=${1}\n",
    "HOST_IPv4=${2}\n",
    "\n",
    "MY_INDEX_TABLE_ID=`curl -s http://${HOST_IPv4}:8200/metrics | jq -r 'limit(1;  .[] | select(.attributes.namespace_name==\"ks_ybu\" and .type==\"tablet\" and .attributes.table_name==\"'$OBJECT_NAME'\") |  .attributes.table_id) '`\n",
    "\n",
    "echo ${MY_INDEX_TABLE_ID}"
   ]
  },
  {
   "cell_type": "markdown",
   "metadata": {},
   "source": [
    "Stores the table id"
   ]
  },
  {
   "cell_type": "code",
   "execution_count": null,
   "metadata": {},
   "outputs": [],
   "source": [
    "%store MY_INDEX_TABLE_ID\n",
    "print(MY_INDEX_TABLE_ID)"
   ]
  },
  {
   "cell_type": "markdown",
   "metadata": {},
   "source": [
    "Gets the tablet_id leader for the host ip. This will change per host ip."
   ]
  },
  {
   "cell_type": "code",
   "execution_count": null,
   "metadata": {
    "vscode": {
     "languageId": "shellscript"
    }
   },
   "outputs": [],
   "source": [
    "%%bash -s \"$MY_OBJECT_NAME\" \"$MY_HOST_IPv4\" --out MY_INDEX_TABLET_ID\n",
    "OBJECT_NAME=$( echo \"${1}\" | tr -d \" \")\n",
    "HOST_IPv4=$( echo \"${2}\" | tr -d \" \")\n",
    "\n",
    "MY_URL=\"http://${HOST_IPv4}:8200/metrics\"\n",
    "\n",
    "INDEX_TABLET_ID=`curl -s $MY_URL | jq --raw-output ' .[] | select(.attributes.namespace_name==\"ks_ybu\" and .type==\"tablet\" and .attributes.table_name==\"idx_products_unq_gtin\" ) | {tablet_id: .id, metrics: .metrics[] | select(.name == (\"is_raft_leader\") ) | select(.value == 1) } | select(.tablet_id) | {tablet_id} | .tablet_id '`\n",
    "\n",
    "echo ${INDEX_TABLET_ID}"
   ]
  },
  {
   "cell_type": "markdown",
   "metadata": {},
   "source": [
    "Stores the tablet leader id "
   ]
  },
  {
   "cell_type": "code",
   "execution_count": null,
   "metadata": {},
   "outputs": [],
   "source": [
    "%store MY_INDEX_TABLET_ID\n",
    "print(MY_INDEX_TABLET_ID)"
   ]
  },
  {
   "cell_type": "markdown",
   "metadata": {},
   "source": [
    "Flush the sst files for the tablet"
   ]
  },
  {
   "cell_type": "code",
   "execution_count": null,
   "metadata": {
    "vscode": {
     "languageId": "shellscript"
    }
   },
   "outputs": [],
   "source": [
    "%%bash -s \"$MY_YB_PATH\" \"$MY_DB_NAME\" \"$MY_HOST_IPv4_01\" \"$MY_INDEX_TABLE_ID\"  # Import file path of Yugabyte and DB name\n",
    "YB_PATH=${1}\n",
    "DB_NAME=${2}\n",
    "HOST_IPv4=${3}\n",
    "\n",
    "INDEX_TABLE_ID=$( echo \"${4}\" | tr -d \" \")\n",
    "\n",
    "cd $YB_PATH\n",
    "\n",
    "./bin/yb-admin -init_master_addrs ${HOST_IPv4}:7100 flush_table_by_id ${INDEX_TABLE_ID} 600\n"
   ]
  },
  {
   "cell_type": "markdown",
   "metadata": {},
   "source": [
    "Decode the SST files for the tablet"
   ]
  },
  {
   "cell_type": "code",
   "execution_count": null,
   "metadata": {
    "vscode": {
     "languageId": "shellscript"
    }
   },
   "outputs": [],
   "source": [
    "%%bash -s \"$MY_YB_PATH\" \"$MY_DB_NAME\" \"$MY_HOST_IPv4_01\" \"$MY_INDEX_TABLE_ID\" \"$MY_INDEX_TABLET_ID\" # Import file path of Yugabyte and DB name\n",
    "YB_PATH=${1}\n",
    "DB_NAME=${2}\n",
    "HOST_IPv4=${3}\n",
    "INDEX_TABLE_ID=$( echo \"${4}\" | tr -d \" \")\n",
    "INDEX_TABLET_ID=$( echo \"${5}\" | tr -d \" \")\n",
    "\n",
    "cd $YB_PATH\n",
    "cd bin/\n",
    "\n",
    "TABLE_ID_PATH=/Users/seth/yugabyte-data/node-1/disk-1/yb-data/tserver/data/rocksdb/table-${INDEX_TABLE_ID}/tablet-${INDEX_TABLET_ID}\n",
    "ls -l  ${TABLE_ID_PATH}\n",
    "\n",
    "./sst_dump --command=scan --file=${TABLE_ID_PATH} --output_format=decoded_regulardb\n",
    "\n",
    "# ./sst_dump --command=scan --file=${TABLE_ID_PATH} --show_properties\n",
    "# -command=scan --read_num=5"
   ]
  },
  {
   "cell_type": "markdown",
   "metadata": {},
   "source": [
    "## q8b unique covering\n",
    "uses gtin"
   ]
  },
  {
   "cell_type": "code",
   "execution_count": null,
   "metadata": {
    "vscode": {
     "languageId": "shellscript"
    }
   },
   "outputs": [],
   "source": [
    "%%bash -s \"$MY_YB_PATH\"   \n",
    "YB_PATH=${1}\n",
    "cd $YB_PATH\n",
    "\n",
    "\n",
    "./bin/ycqlsh --execute \"\n",
    "  drop index if exists ks_ybu.idx_products_unq_gtin_inc;\n",
    "\"  \n"
   ]
  },
  {
   "cell_type": "code",
   "execution_count": null,
   "metadata": {
    "vscode": {
     "languageId": "shellscript"
    }
   },
   "outputs": [],
   "source": [
    "%%bash -s \"$MY_YB_PATH\"   \n",
    "YB_PATH=${1}\n",
    "cd $YB_PATH\n",
    "\n",
    "# Query plan: Sequential Scan\n",
    "./bin/ycqlsh --execute \"\n",
    "  create unique index idx_products_unq_gtin_inc on ks_ybu.tbl_products_by_category\n",
    "  (gtin)\n",
    "  include (brand, description, price)\n",
    "\"  "
   ]
  },
  {
   "cell_type": "code",
   "execution_count": null,
   "metadata": {
    "vscode": {
     "languageId": "shellscript"
    }
   },
   "outputs": [],
   "source": [
    "%%bash -s \"$MY_YB_PATH\"  \n",
    "YB_PATH=${1}\n",
    "cd $YB_PATH\n",
    "\n",
    "# Query Plan\n",
    "./bin/ycqlsh --execute \"\n",
    "desc ks_ybu.idx_products_unq_gtin_inc;\n",
    "\"    "
   ]
  },
  {
   "cell_type": "code",
   "execution_count": null,
   "metadata": {
    "vscode": {
     "languageId": "shellscript"
    }
   },
   "outputs": [],
   "source": [
    "%%bash -s \"$MY_YB_PATH\"  \n",
    "YB_PATH=${1}\n",
    "cd $YB_PATH\n",
    "\n",
    "# Query Plan\n",
    "./bin/ycqlsh --execute \"\n",
    " explain select category, product_name, product_id, brand, description, price\n",
    "  from ks_ybu.tbl_products_by_category\n",
    "  where gtin = ?;\n",
    "\"    "
   ]
  },
  {
   "cell_type": "code",
   "execution_count": null,
   "metadata": {
    "vscode": {
     "languageId": "shellscript"
    }
   },
   "outputs": [],
   "source": [
    "%%bash -s \"$MY_YB_PATH\"  \n",
    "YB_PATH=${1}\n",
    "cd $YB_PATH\n",
    "\n",
    "# Query Plan\n",
    "./bin/ycqlsh --execute \"\n",
    " select category, product_name, product_id, brand, description, price\n",
    "  from ks_ybu.tbl_products_by_category\n",
    "  where gtin = '005456116545';\n",
    "\"    "
   ]
  },
  {
   "cell_type": "code",
   "execution_count": null,
   "metadata": {
    "vscode": {
     "languageId": "shellscript"
    }
   },
   "outputs": [],
   "source": [
    "%%bash -s \"$MY_YB_PATH\"  \n",
    "YB_PATH=${1}\n",
    "cd $YB_PATH\n",
    "\n",
    "# Query Plan\n",
    "./bin/ycqlsh --execute \"\n",
    "insert into ks_ybu.tbl_products_by_category (category, product_name, product_id, brand, price, discount, description, gtin) values ('H20','Talc 6',62364,'Yeah',11.99,7,'1.6 liter ','006236226326');\n",
    "\"    "
   ]
  },
  {
   "cell_type": "markdown",
   "metadata": {},
   "source": [
    "### q8b SST dump and decode"
   ]
  },
  {
   "cell_type": "code",
   "execution_count": null,
   "metadata": {},
   "outputs": [],
   "source": [
    "MY_OBJECT_NAME=\"idx_products_unq_gtin\"\n",
    "%store MY_OBJECT_NAME\n",
    "print(MY_OBJECT_NAME)"
   ]
  },
  {
   "cell_type": "code",
   "execution_count": null,
   "metadata": {
    "vscode": {
     "languageId": "shellscript"
    }
   },
   "outputs": [],
   "source": [
    "%%bash -s \"$MY_HOST_IPv4_01\" \"$MY_HOST_IPv4_02\" \"$MY_HOST_IPv4_03\" --out MY_HOST_IPv4\n",
    "\n",
    "HOST_IPv4_01=${1}\n",
    "HOST_IPv4_02=${2}\n",
    "HOST_IPv4_03=${3}\n",
    "\n",
    "# change the hosts for different tablet leaders\n",
    "MY_HOST_IPv4=$HOST_IPv4_02\n",
    "\n",
    "echo ${MY_HOST_IPv4}"
   ]
  },
  {
   "cell_type": "code",
   "execution_count": null,
   "metadata": {},
   "outputs": [],
   "source": [
    "%store MY_HOST_IPv4\n",
    "print(MY_HOST_IPv4)\n"
   ]
  },
  {
   "cell_type": "code",
   "execution_count": null,
   "metadata": {
    "vscode": {
     "languageId": "shellscript"
    }
   },
   "outputs": [],
   "source": [
    "%%bash -s \"$MY_OBJECT_NAME\" \"$MY_HOST_IPv4\" --out MY_INDEX_TABLE_ID\n",
    "\n",
    "OBJECT_NAME=${1}\n",
    "HOST_IPv4=${2}\n",
    "\n",
    "MY_INDEX_TABLE_ID=`curl -s http://${HOST_IPv4}:8200/metrics | jq -r 'limit(1;  .[] | select(.attributes.namespace_name==\"ks_ybu\" and .type==\"tablet\" and .attributes.table_name==\"'$OBJECT_NAME'\") |  .attributes.table_id) '`\n",
    "\n",
    "echo ${MY_INDEX_TABLE_ID} \n"
   ]
  },
  {
   "cell_type": "code",
   "execution_count": null,
   "metadata": {},
   "outputs": [],
   "source": [
    "%store MY_INDEX_TABLE_ID\n",
    "print(MY_INDEX_TABLE_ID)"
   ]
  },
  {
   "cell_type": "code",
   "execution_count": null,
   "metadata": {
    "vscode": {
     "languageId": "shellscript"
    }
   },
   "outputs": [],
   "source": [
    "%%bash -s \"$MY_OBJECT_NAME\" \"$MY_HOST_IPv4\" --out MY_INDEX_TABLET_ID\n",
    "OBJECT_NAME=$( echo \"${1}\" | tr -d \" \")\n",
    "HOST_IPv4=$( echo \"${2}\" | tr -d \" \")\n",
    "\n",
    "MY_URL=\"http://${HOST_IPv4}:8200/metrics\"\n",
    "\n",
    "INDEX_TABLET_ID=`curl -s $MY_URL | jq --raw-output ' .[] | select(.attributes.namespace_name==\"ks_ybu\" and .type==\"tablet\" and .attributes.table_name==\"idx_products_unq_gtin\" ) | {tablet_id: .id, metrics: .metrics[] | select(.name == (\"is_raft_leader\") ) | select(.value == 1) } | select(.tablet_id) | {tablet_id} | .tablet_id '`\n",
    "\n",
    "echo ${INDEX_TABLET_ID}"
   ]
  },
  {
   "cell_type": "code",
   "execution_count": null,
   "metadata": {},
   "outputs": [],
   "source": [
    "%store MY_INDEX_TABLET_ID\n",
    "print(MY_INDEX_TABLET_ID)"
   ]
  },
  {
   "cell_type": "code",
   "execution_count": null,
   "metadata": {
    "vscode": {
     "languageId": "shellscript"
    }
   },
   "outputs": [],
   "source": [
    "%%bash -s \"$MY_YB_PATH\" \"$MY_DB_NAME\" \"$MY_HOST_IPv4_01\" \"$MY_INDEX_TABLE_ID\"  # Import file path of Yugabyte and DB name\n",
    "YB_PATH=${1}\n",
    "DB_NAME=${2}\n",
    "HOST_IPv4=${3}\n",
    "\n",
    "INDEX_TABLE_ID=$( echo \"${4}\" | tr -d \" \")\n",
    "\n",
    "cd $YB_PATH\n",
    "\n",
    "./bin/yb-admin -init_master_addrs ${HOST_IPv4}:7100 flush_table_by_id ${INDEX_TABLE_ID} 600\n"
   ]
  },
  {
   "cell_type": "code",
   "execution_count": null,
   "metadata": {
    "vscode": {
     "languageId": "shellscript"
    }
   },
   "outputs": [],
   "source": [
    "%%bash -s \"$MY_YB_PATH\" \"$MY_DB_NAME\" \"$MY_HOST_IPv4_01\" \"$MY_INDEX_TABLE_ID\" \"$MY_INDEX_TABLET_ID\" # Import file path of Yugabyte and DB name\n",
    "YB_PATH=${1}\n",
    "DB_NAME=${2}\n",
    "HOST_IPv4=${3}\n",
    "INDEX_TABLE_ID=$( echo \"${4}\" | tr -d \" \")\n",
    "INDEX_TABLET_ID=$( echo \"${5}\" | tr -d \" \")\n",
    "\n",
    "cd $YB_PATH\n",
    "cd bin/\n",
    "\n",
    "TABLE_ID_PATH=/Users/seth/yugabyte-data/node-1/disk-1/yb-data/tserver/data/rocksdb/table-${INDEX_TABLE_ID}/tablet-${INDEX_TABLET_ID}\n",
    "ls -l  ${TABLE_ID_PATH}\n",
    "\n",
    "./sst_dump --command=scan --file=${TABLE_ID_PATH} --output_format=decoded_regulardb\n"
   ]
  },
  {
   "cell_type": "markdown",
   "metadata": {},
   "source": [
    "## q9 "
   ]
  },
  {
   "cell_type": "code",
   "execution_count": null,
   "metadata": {
    "vscode": {
     "languageId": "shellscript"
    }
   },
   "outputs": [],
   "source": [
    "%%bash -s \"$MY_YB_PATH\"   \n",
    "YB_PATH=${1}\n",
    "cd $YB_PATH\n",
    "\n",
    "./bin/ycqlsh --execute \"\n",
    "  drop index if exists ks_ybu.idx_products_high_discount;\n",
    "\"  "
   ]
  },
  {
   "cell_type": "code",
   "execution_count": null,
   "metadata": {
    "vscode": {
     "languageId": "shellscript"
    }
   },
   "outputs": [],
   "source": [
    "%%bash -s \"$MY_YB_PATH\"   \n",
    "YB_PATH=${1}\n",
    "cd $YB_PATH\n",
    "\n",
    "# Query plan: Sequential Scan\n",
    "./bin/ycqlsh --execute \"\n",
    "  create index idx_products_high_discount on ks_ybu.tbl_products_by_category\n",
    "  ( discount )\n",
    "  include ( brand, description, price )\n",
    "  where discount > 10;\n",
    "\"  "
   ]
  },
  {
   "cell_type": "markdown",
   "metadata": {},
   "source": [
    "### q9a partial"
   ]
  },
  {
   "cell_type": "code",
   "execution_count": null,
   "metadata": {
    "vscode": {
     "languageId": "shellscript"
    }
   },
   "outputs": [],
   "source": [
    "%%bash -s \"$MY_YB_PATH\"  \n",
    "YB_PATH=${1}\n",
    "cd $YB_PATH\n",
    "\n",
    "# Query Plan\n",
    "./bin/ycqlsh --execute \"\n",
    "desc ks_ybu.idx_products_high_discount;\n",
    "\"    "
   ]
  },
  {
   "cell_type": "code",
   "execution_count": null,
   "metadata": {
    "vscode": {
     "languageId": "shellscript"
    }
   },
   "outputs": [],
   "source": [
    "%%bash -s \"$MY_YB_PATH\"  \n",
    "YB_PATH=${1}\n",
    "cd $YB_PATH\n",
    "\n",
    "# Query Plan\n",
    "./bin/ycqlsh --execute \"\n",
    "explain select category, product_name, product_id, brand, description, price, discount\n",
    "  from ks_ybu.tbl_products_by_category\n",
    "  where discount > 10;\n",
    "\"    "
   ]
  },
  {
   "cell_type": "code",
   "execution_count": null,
   "metadata": {
    "vscode": {
     "languageId": "shellscript"
    }
   },
   "outputs": [],
   "source": [
    "%%bash -s \"$MY_YB_PATH\"  \n",
    "YB_PATH=${1}\n",
    "cd $YB_PATH\n",
    "\n",
    "# Query Plan\n",
    "./bin/ycqlsh --execute \"\n",
    " select category, product_name, product_id, brand, description, price, discount\n",
    "  from ks_ybu.tbl_products_by_category\n",
    "  where discount >10;\n",
    "\"    "
   ]
  },
  {
   "cell_type": "markdown",
   "metadata": {},
   "source": [
    "### q9a\n",
    "Partial index SST dump and decode\n"
   ]
  },
  {
   "cell_type": "code",
   "execution_count": null,
   "metadata": {},
   "outputs": [],
   "source": [
    "MY_OBJECT_NAME=\"idx_products_high_discount\"\n",
    "%store MY_OBJECT_NAME\n",
    "print(MY_OBJECT_NAME)"
   ]
  },
  {
   "cell_type": "code",
   "execution_count": null,
   "metadata": {
    "vscode": {
     "languageId": "shellscript"
    }
   },
   "outputs": [],
   "source": [
    "%%bash -s \"$MY_HOST_IPv4_01\" \"$MY_HOST_IPv4_02\" \"$MY_HOST_IPv4_03\" --out MY_HOST_IPv4\n",
    "\n",
    "HOST_IPv4_01=${1}\n",
    "HOST_IPv4_02=${2}\n",
    "HOST_IPv4_03=${3}\n",
    "\n",
    "# change the hosts for different tablet leaders\n",
    "#MY_HOST_IPv4=$HOST_IPv4_01\n",
    "MY_HOST_IPv4=$HOST_IPv4_02\n",
    "#MY_HOST_IPv4=$HOST_IPv4_03\n",
    "\n",
    "echo ${MY_HOST_IPv4}"
   ]
  },
  {
   "cell_type": "code",
   "execution_count": null,
   "metadata": {},
   "outputs": [],
   "source": [
    "%store MY_HOST_IPv4\n",
    "print(MY_HOST_IPv4)\n"
   ]
  },
  {
   "cell_type": "code",
   "execution_count": null,
   "metadata": {
    "vscode": {
     "languageId": "shellscript"
    }
   },
   "outputs": [],
   "source": [
    "%%bash -s \"$MY_OBJECT_NAME\" \"$MY_HOST_IPv4\" --out MY_INDEX_TABLE_ID\n",
    "\n",
    "OBJECT_NAME=$( echo \"${1}\" | tr -d \" \")\n",
    "HOST_IPv4=$( echo \"${2}\" | tr -d \" \")\n",
    "\n",
    "MY_URL=\"http://${HOST_IPv4}:8200/metrics\"\n",
    "\n",
    "MY_INDEX_TABLE_ID=`curl -s ${MY_URL} | jq -r 'limit(1;  .[] | select(.attributes.namespace_name==\"ks_ybu\" and .type==\"tablet\" and .attributes.table_name==\"'$OBJECT_NAME'\") |  .attributes.table_id) '`\n",
    "\n",
    "echo ${MY_INDEX_TABLE_ID} \n"
   ]
  },
  {
   "cell_type": "code",
   "execution_count": null,
   "metadata": {},
   "outputs": [],
   "source": [
    "%store MY_INDEX_TABLE_ID\n",
    "print(MY_INDEX_TABLE_ID)"
   ]
  },
  {
   "cell_type": "code",
   "execution_count": null,
   "metadata": {
    "vscode": {
     "languageId": "shellscript"
    }
   },
   "outputs": [],
   "source": [
    "%%bash -s \"$MY_OBJECT_NAME\" \"$MY_HOST_IPv4\" --out MY_INDEX_TABLET_ID\n",
    "OBJECT_NAME=$( echo \"${1}\" | tr -d \" \")\n",
    "HOST_IPv4=$( echo \"${2}\" | tr -d \" \")\n",
    "\n",
    "MY_URL=\"http://${HOST_IPv4}:8200/metrics\"\n",
    "\n",
    "\n",
    "INDEX_TABLET_ID=`curl -s ${MY_URL} | jq --raw-output ' .[] | select(.attributes.namespace_name==\"ks_ybu\" and .type==\"tablet\" and .attributes.table_name==\"'$OBJECT_NAME'\") | {tablet_id: .id, metrics: .metrics[] | select(.name == (\"is_raft_leader\") ) | select(.value == 1) } | select(.tablet_id) | {tablet_id} | .tablet_id '`\n",
    "\n",
    "echo ${INDEX_TABLET_ID}"
   ]
  },
  {
   "cell_type": "code",
   "execution_count": null,
   "metadata": {},
   "outputs": [],
   "source": [
    "%store MY_INDEX_TABLET_ID\n",
    "print(MY_INDEX_TABLET_ID)"
   ]
  },
  {
   "cell_type": "code",
   "execution_count": null,
   "metadata": {
    "vscode": {
     "languageId": "shellscript"
    }
   },
   "outputs": [],
   "source": [
    "%%bash -s \"$MY_YB_PATH\" \"$MY_DB_NAME\" \"$MY_HOST_IPv4_01\" \"$MY_INDEX_TABLE_ID\"  # Import file path of Yugabyte and DB name\n",
    "YB_PATH=${1}\n",
    "DB_NAME=${2}\n",
    "HOST_IPv4=${3}\n",
    "\n",
    "INDEX_TABLE_ID=$( echo \"${4}\" | tr -d \" \")\n",
    "\n",
    "cd $YB_PATH\n",
    "\n",
    "./bin/yb-admin -init_master_addrs ${HOST_IPv4}:7100 flush_table_by_id ${INDEX_TABLE_ID} 600\n"
   ]
  },
  {
   "cell_type": "code",
   "execution_count": null,
   "metadata": {
    "vscode": {
     "languageId": "shellscript"
    }
   },
   "outputs": [],
   "source": [
    "%%bash -s \"$MY_YB_PATH\" \"$MY_DB_NAME\" \"$MY_HOST_IPv4_01\" \"$MY_INDEX_TABLE_ID\" \"$MY_INDEX_TABLET_ID\" # Import file path of Yugabyte and DB name\n",
    "YB_PATH=${1}\n",
    "DB_NAME=${2}\n",
    "HOST_IPv4=${3}\n",
    "INDEX_TABLE_ID=$( echo \"${4}\" | tr -d \" \")\n",
    "INDEX_TABLET_ID=$( echo \"${5}\" | tr -d \" \")\n",
    "\n",
    "cd $YB_PATH\n",
    "cd bin/\n",
    "\n",
    "TABLE_ID_PATH=/Users/seth/yugabyte-data/node-1/disk-1/yb-data/tserver/data/rocksdb/table-${INDEX_TABLE_ID}/tablet-${INDEX_TABLET_ID}\n",
    "ls -l  ${TABLE_ID_PATH}\n",
    "\n",
    "./sst_dump --command=scan --file=${TABLE_ID_PATH} --output_format=decoded_regulardb\n",
    "\n",
    "# ./sst_dump --command=scan --file=${TABLE_ID_PATH} --show_properties\n",
    "# -command=scan --read_num=5"
   ]
  },
  {
   "cell_type": "markdown",
   "metadata": {},
   "source": [
    "### q9b partial with not null"
   ]
  },
  {
   "cell_type": "code",
   "execution_count": null,
   "metadata": {
    "vscode": {
     "languageId": "shellscript"
    }
   },
   "outputs": [],
   "source": [
    "%%bash -s \"$MY_YB_PATH\"  \n",
    "YB_PATH=${1}\n",
    "cd $YB_PATH\n",
    "\n",
    "# Query Plan\n",
    "./bin/ycqlsh --execute \"\n",
    "desc ks_ybu.idx_products_high_discount;\n",
    "\"    "
   ]
  },
  {
   "cell_type": "code",
   "execution_count": null,
   "metadata": {
    "vscode": {
     "languageId": "shellscript"
    }
   },
   "outputs": [],
   "source": [
    "%%bash -s \"$MY_YB_PATH\"  \n",
    "YB_PATH=${1}\n",
    "cd $YB_PATH\n",
    "\n",
    "# Query Plan\n",
    "./bin/ycqlsh --execute \"\n",
    "select category, product_name, product_id, brand, description, price, discount\n",
    "  from ks_ybu.tbl_products_by_category\n",
    "  where discount IN (9,10)\n",
    "\"    "
   ]
  },
  {
   "cell_type": "code",
   "execution_count": null,
   "metadata": {
    "vscode": {
     "languageId": "shellscript"
    }
   },
   "outputs": [],
   "source": [
    "%%bash -s \"$MY_YB_PATH\"  \n",
    "YB_PATH=${1}\n",
    "cd $YB_PATH\n",
    "\n",
    "# Query Plan\n",
    "./bin/ycqlsh --execute \"\n",
    " explain select category, product_name, product_id, brand, description, price, discount\n",
    "  from ks_ybu.tbl_products_by_category\n",
    "  where discount > 11\n",
    "\"    "
   ]
  },
  {
   "cell_type": "markdown",
   "metadata": {},
   "source": [
    "### q9b not null\n",
    "Partial index SST dump and decode\n"
   ]
  },
  {
   "cell_type": "code",
   "execution_count": null,
   "metadata": {},
   "outputs": [],
   "source": [
    "MY_OBJECT_NAME=\"idx_products_high_discount\"\n",
    "%store MY_OBJECT_NAME\n",
    "print(MY_OBJECT_NAME)"
   ]
  },
  {
   "cell_type": "code",
   "execution_count": null,
   "metadata": {
    "vscode": {
     "languageId": "shellscript"
    }
   },
   "outputs": [],
   "source": [
    "%%bash -s \"$MY_HOST_IPv4_01\" \"$MY_HOST_IPv4_02\" \"$MY_HOST_IPv4_03\" --out MY_HOST_IPv4\n",
    "\n",
    "HOST_IPv4_01=${1}\n",
    "HOST_IPv4_02=${2}\n",
    "HOST_IPv4_03=${3}\n",
    "\n",
    "# change the hosts for different tablet leaders\n",
    "MY_HOST_IPv4=$HOST_IPv4_03\n",
    "\n",
    "echo ${MY_HOST_IPv4}"
   ]
  },
  {
   "cell_type": "code",
   "execution_count": null,
   "metadata": {},
   "outputs": [],
   "source": [
    "%store MY_HOST_IPv4\n",
    "print(MY_HOST_IPv4)\n"
   ]
  },
  {
   "cell_type": "code",
   "execution_count": null,
   "metadata": {
    "vscode": {
     "languageId": "shellscript"
    }
   },
   "outputs": [],
   "source": [
    "%%bash -s \"$MY_OBJECT_NAME\" \"$MY_HOST_IPv4\" --out MY_INDEX_TABLE_ID\n",
    "\n",
    "OBJECT_NAME=$( echo \"${1}\" | tr -d \" \")\n",
    "HOST_IPv4=$( echo \"${2}\" | tr -d \" \")\n",
    "\n",
    "MY_URL=\"http://${HOST_IPv4}:8200/metrics\"\n",
    "\n",
    "MY_INDEX_TABLE_ID=`curl -s ${MY_URL} | jq -r 'limit(1;  .[] | select(.attributes.namespace_name==\"ks_ybu\" and .type==\"tablet\" and .attributes.table_name==\"'$OBJECT_NAME'\") |  .attributes.table_id) '`\n",
    "\n",
    "echo ${MY_INDEX_TABLE_ID} \n"
   ]
  },
  {
   "cell_type": "code",
   "execution_count": null,
   "metadata": {},
   "outputs": [],
   "source": [
    "%store MY_INDEX_TABLE_ID\n",
    "print(MY_INDEX_TABLE_ID)"
   ]
  },
  {
   "cell_type": "code",
   "execution_count": null,
   "metadata": {
    "vscode": {
     "languageId": "shellscript"
    }
   },
   "outputs": [],
   "source": [
    "%%bash -s \"$MY_OBJECT_NAME\" \"$MY_HOST_IPv4\" --out MY_INDEX_TABLET_ID\n",
    "OBJECT_NAME=$( echo \"${1}\" | tr -d \" \")\n",
    "HOST_IPv4=$( echo \"${2}\" | tr -d \" \")\n",
    "\n",
    "MY_URL=\"http://${HOST_IPv4}:8200/metrics\"\n",
    "\n",
    "\n",
    "INDEX_TABLET_ID=`curl -s ${MY_URL} | jq --raw-output ' .[] | select(.attributes.namespace_name==\"ks_ybu\" and .type==\"tablet\" and .attributes.table_name==\"'$OBJECT_NAME'\") | {tablet_id: .id, metrics: .metrics[] | select(.name == (\"is_raft_leader\") ) | select(.value == 1) } | select(.tablet_id) | {tablet_id} | .tablet_id '`\n",
    "\n",
    "echo ${INDEX_TABLET_ID}"
   ]
  },
  {
   "cell_type": "code",
   "execution_count": null,
   "metadata": {},
   "outputs": [],
   "source": [
    "%store MY_INDEX_TABLET_ID\n",
    "print(MY_INDEX_TABLET_ID)"
   ]
  },
  {
   "cell_type": "code",
   "execution_count": null,
   "metadata": {
    "vscode": {
     "languageId": "shellscript"
    }
   },
   "outputs": [],
   "source": [
    "%%bash -s \"$MY_YB_PATH\" \"$MY_DB_NAME\" \"$MY_HOST_IPv4_01\" \"$MY_INDEX_TABLE_ID\"  # Import file path of Yugabyte and DB name\n",
    "YB_PATH=${1}\n",
    "DB_NAME=${2}\n",
    "HOST_IPv4=${3}\n",
    "\n",
    "INDEX_TABLE_ID=$( echo \"${4}\" | tr -d \" \")\n",
    "\n",
    "cd $YB_PATH\n",
    "\n",
    "./bin/yb-admin -init_master_addrs ${HOST_IPv4}:7100 flush_table_by_id ${INDEX_TABLE_ID} 600\n"
   ]
  },
  {
   "cell_type": "code",
   "execution_count": null,
   "metadata": {
    "vscode": {
     "languageId": "shellscript"
    }
   },
   "outputs": [],
   "source": [
    "%%bash -s \"$MY_YB_PATH\" \"$MY_DB_NAME\" \"$MY_HOST_IPv4_01\" \"$MY_INDEX_TABLE_ID\" \"$MY_INDEX_TABLET_ID\" # Import file path of Yugabyte and DB name\n",
    "YB_PATH=${1}\n",
    "DB_NAME=${2}\n",
    "HOST_IPv4=${3}\n",
    "INDEX_TABLE_ID=$( echo \"${4}\" | tr -d \" \")\n",
    "INDEX_TABLET_ID=$( echo \"${5}\" | tr -d \" \")\n",
    "\n",
    "cd $YB_PATH\n",
    "cd bin/\n",
    "\n",
    "TABLE_ID_PATH=/Users/seth/yugabyte-data/node-1/disk-1/yb-data/tserver/data/rocksdb/table-${INDEX_TABLE_ID}/tablet-${INDEX_TABLET_ID}\n",
    "ls -l  ${TABLE_ID_PATH}\n",
    "\n",
    "./sst_dump --command=scan --file=${TABLE_ID_PATH} --output_format=decoded_regulardb\n",
    "\n",
    "# ./sst_dump --command=scan --file=${TABLE_ID_PATH} --show_properties\n",
    "# -command=scan --read_num=5"
   ]
  },
  {
   "cell_type": "markdown",
   "metadata": {},
   "source": [
    "#### Query plan\n",
    "In the preceding cell, the `WHERE` clause on line #13, searches for all rows that contain the product name \"Hotdogs\". The resulting query plan reveals that this query needed to scan every row in the primary table to determine which rows contained the product name \"Hotdogs\"."
   ]
  },
  {
   "cell_type": "markdown",
   "metadata": {},
   "source": [
    "### Aggregate Scan\n",
    "Run the following cell to determine the query plan for an query using an aggregate function. This query plan reveals another type of scan called a Range scan. A range scan reveals that many rows values are needed to satisfy this query."
   ]
  },
  {
   "cell_type": "code",
   "execution_count": null,
   "metadata": {
    "vscode": {
     "languageId": "shellscript"
    }
   },
   "outputs": [],
   "source": [
    "%%bash -s \"$MY_YB_PATH\" \n",
    "YB_PATH=${1}\n",
    "cd $YB_PATH\n",
    "\n",
    "# Query Plan for Aggregate function\n",
    "./bin/ycqlsh --execute \"\n",
    "  explain select sum(quantity) as subtotal \n",
    "  from ks_ybu.tbl_products_by_wishlist where wishlist_id=?;\n",
    "\"  "
   ]
  },
  {
   "cell_type": "markdown",
   "metadata": {},
   "source": [
    "### Secondary Indexes \n",
    "In this section, you will create an index and determine how this affects the efficiency of a query by comparing the query plans.\n",
    "\n",
    "Run the following cell to create and describe an index by describing the tbl_products_by_category table."
   ]
  },
  {
   "cell_type": "code",
   "execution_count": null,
   "metadata": {
    "vscode": {
     "languageId": "shellscript"
    }
   },
   "outputs": [],
   "source": [
    "%%bash -s \"$MY_YB_PATH\" \n",
    "YB_PATH=${1}\n",
    "cd $YB_PATH\n",
    "\n",
    "# Create a secondary index, product_name\n",
    "./bin/ycqlsh --execute \"\n",
    "  CREATE INDEX idx_products_by_name \n",
    "  ON ks_ybu.tbl_products_by_category (product_name) \n",
    "  INCLUDE (description);\n",
    "\"   \n",
    "\n",
    "# Verfiy the index has been created for the tbl_products_by_category\n",
    "./bin/ycqlsh --execute \"\n",
    "  DESC ks_ybu.tbl_products_by_category\n",
    "\""
   ]
  },
  {
   "cell_type": "markdown",
   "metadata": {},
   "source": [
    "#### Verify the query plan for a secondary index\n",
    "In the previous cell, a secondary index was created so that the product name can be efficiently queried on the tbl_products_by_category table. The DESC keyword is used to verify if the index was created correctly. \n",
    "\n",
    "> **Important:** The attributes in the primary key remain a part of the secondary index and can be retrieved from the index without an extra trip to the primary table, improving operational efficiency. \n",
    "\n",
    "The description attribute was added using the `INCLUDE` keyword to the secondary index to create a covering index.\n",
    "\n",
    "Run the following cell to verify if adding a secondary index for the `product_name` can make the product_name query on the `tbl_products_by_category` more efficient."
   ]
  },
  {
   "cell_type": "code",
   "execution_count": null,
   "metadata": {
    "vscode": {
     "languageId": "shellscript"
    }
   },
   "outputs": [],
   "source": [
    "%%bash -s \"$MY_YB_PATH\"   # Sequential Scan\n",
    "YB_PATH=${1}\n",
    "cd $YB_PATH\n",
    "\n",
    "# Expose the query plan for a covering index\n",
    "./bin/ycqlsh --execute \"\n",
    "  EXPLAIN SELECT product_name, category, price, description, product_id \n",
    "  FROM ks_ybu.tbl_products_by_category where product_name=?;\n",
    "\"  "
   ]
  },
  {
   "cell_type": "markdown",
   "metadata": {},
   "source": [
    "#### Index Only Scan\n",
    "By running the previous cell, you were able to determine that by adding a secondary index for the condition attribute, `product_name`, the query plan has changed from a sequential scan to an index only scan. This has improved this query's performance by orders of magnitude when accounting for large scale workloads. \n",
    "\n",
    "The `INCLUDE` clause plays an essential role in making queries more efficient and indexes more useful.  In the previous cell, the `product_name` was added to the index by using the `INCLUDE` clause. Now, the secondary index contains the values of the `product_name` attribute, creating a covering index, reducing a trip to the primary table, also known as the heap in PostgreSQL.\n",
    "\n",
    "For example, if you had not added the `description` attribute in the `INCLUDE` clause, that would have made the query plan an index scan. This means that in our example, although the index was used to locate product_name, the primary table was still accessed to retrieve the data for the `description` column."
   ]
  },
  {
   "cell_type": "markdown",
   "metadata": {},
   "source": [
    "### Unique Indexes\n",
    "You can disallow a column from having duplicate values by using a unique constraint as shown in the following cell."
   ]
  },
  {
   "cell_type": "code",
   "execution_count": null,
   "metadata": {
    "vscode": {
     "languageId": "shellscript"
    }
   },
   "outputs": [],
   "source": [
    "%%bash -s \"$MY_YB_PATH\"  \n",
    "YB_PATH=${1}\n",
    "cd $YB_PATH\n",
    "\n",
    "# Query Plan\n",
    "./bin/ycqlsh --execute \"\n",
    "  drop index if exists ks_ybu.idx_unique_product_by_id;\n",
    "\"  \n",
    "   "
   ]
  },
  {
   "cell_type": "code",
   "execution_count": null,
   "metadata": {
    "vscode": {
     "languageId": "shellscript"
    }
   },
   "outputs": [],
   "source": [
    "%%bash -s \"$MY_YB_PATH\"  \n",
    "YB_PATH=${1}\n",
    "cd $YB_PATH\n",
    "\n",
    "# Query Plan\n",
    "./bin/ycqlsh --execute \"\n",
    "  create unique index idx_unique_product_by_id \n",
    "  on ks_ybu.tbl_products_by_category(product_id)\n",
    "  include (price, description);\n",
    "\"  \n",
    "   "
   ]
  },
  {
   "cell_type": "code",
   "execution_count": null,
   "metadata": {
    "vscode": {
     "languageId": "shellscript"
    }
   },
   "outputs": [],
   "source": [
    "%%bash -s \"$MY_YB_PATH\"  \n",
    "YB_PATH=${1}\n",
    "cd $YB_PATH\n",
    "\n",
    "\n",
    "  \n",
    "./bin/ycqlsh --execute \"\n",
    " desc ks_ybu.idx_unique_product_by_id;\n",
    "\"  \n"
   ]
  },
  {
   "cell_type": "code",
   "execution_count": null,
   "metadata": {
    "vscode": {
     "languageId": "shellscript"
    }
   },
   "outputs": [],
   "source": [
    "%%bash -s \"$MY_YB_PATH\"  \n",
    "YB_PATH=${1}\n",
    "cd $YB_PATH\n",
    "\n",
    "\n",
    "# This statement will cause an error since duplicate values for the \n",
    "# product_id are not allowed, 87c7624a-4af5-4347-922d-ab43ab32476b.\n",
    "./bin/ycqlsh --execute \"\n",
    "  INSERT INTO ks_ybu.tbl_products_by_category (\n",
    "    product_name, \n",
    "    description, \n",
    "    price, \n",
    "    category,\n",
    "    product_id \n",
    "  ) VALUES (\n",
    "    'Guard dogs',\n",
    "    'Doberman Pinchers',\n",
    "    643.99,\n",
    "    'Security',\n",
    "    87c7624a-4af5-4347-922d-ab43ab32476b\n",
    "  );\n",
    "\""
   ]
  },
  {
   "cell_type": "markdown",
   "metadata": {},
   "source": [
    ">**Important:** Notice the error in the result set: `Execution Error. Duplicate value disallowed by unique index idx_unique_product_by_id`. This verifies that the unique index that was created for the `product_id` is preventing a duplicate value for this attribute. Currently the same `product_id` identitifies a backpack and cannot be used again for a different product."
   ]
  },
  {
   "cell_type": "markdown",
   "metadata": {},
   "source": [
    "#### Partial Indexes\n",
    "\n",
    "Use a range partition to reduce the amount of data that requires scanning.\n",
    "In this index, you will partition all products over $30 in the Office Supply category. "
   ]
  },
  {
   "cell_type": "code",
   "execution_count": null,
   "metadata": {
    "vscode": {
     "languageId": "shellscript"
    }
   },
   "outputs": [],
   "source": [
    "%%bash -s \"$MY_YB_PATH\"  \n",
    "YB_PATH=${1}\n",
    "cd $YB_PATH\n",
    "\n",
    "# Query Plan\n",
    "./bin/ycqlsh --execute \"\n",
    "  CREATE INDEX ON ks_ybu.tbl_products_by_category(price) \n",
    "  INCLUDE (description, product_name) \n",
    "  WHERE price > 30 and category = 'Office Supplies';\n",
    "\"\n",
    "\n",
    "./bin/ycqlsh --execute \"\n",
    "  DESC ks_ybu.tbl_products_by_category\n",
    "\"  "
   ]
  },
  {
   "cell_type": "markdown",
   "metadata": {},
   "source": [
    "### Specific Indexes\n",
    "An index can be created that specifies a particular value of an attribute. For instance, suppose that a popular item in our ecommerce site is searched for constantly. It may be beneficial to create an index that satisfies this query quickly and efficiently. In the following cell, there is an example of an index for a popular product, batteries."
   ]
  },
  {
   "cell_type": "code",
   "execution_count": null,
   "metadata": {
    "vscode": {
     "languageId": "shellscript"
    }
   },
   "outputs": [],
   "source": [
    "%%bash -s \"$MY_YB_PATH\"  \n",
    "YB_PATH=${1}\n",
    "cd $YB_PATH\n",
    "\n",
    "# Specific Index\n",
    "./bin/ycqlsh --execute \"\n",
    "  CREATE INDEX idx_batteries_desc \n",
    "  ON ks_ybu.tbl_products_by_category (description) \n",
    "  INCLUDE (product_name) \n",
    "  WHERE description='Batteries';\n",
    "\"\n",
    "#  Index Only Scan\n",
    "./bin/ycqlsh --execute \"\n",
    "  EXPLAIN SELECT \n",
    "    description, \n",
    "    product_name, \n",
    "    product_id, \n",
    "    category, \n",
    "    price \n",
    "  FROM ks_ybu.tbl_products_by_category \n",
    "  WHERE description='Batteries';\n",
    "\"  "
   ]
  },
  {
   "cell_type": "code",
   "execution_count": null,
   "metadata": {
    "vscode": {
     "languageId": "shellscript"
    }
   },
   "outputs": [],
   "source": [
    "%%bash -s \"$MY_YB_PATH\"  \n",
    "YB_PATH=${1}\n",
    "cd $YB_PATH\n",
    "\n",
    "#  Seq Scan\n",
    "./bin/ycqlsh --execute \"\n",
    "  EXPLAIN SELECT description, product_name, product_id, category, price FROM ks_ybu.tbl_products_by_category \n",
    "  WHERE description='Hotdogs';\n",
    "\"  "
   ]
  },
  {
   "cell_type": "markdown",
   "metadata": {},
   "source": [
    ">**Important:** Note that in the previous cell, an index only scan will occur only if the WHERE clause predicate returns the same expression as originally stated in the index creation statement.\n",
    "\n",
    "Run the following statement to verify that a query to a different expression will not use the index to satisfy the query."
   ]
  },
  {
   "cell_type": "code",
   "execution_count": null,
   "metadata": {
    "vscode": {
     "languageId": "shellscript"
    }
   },
   "outputs": [],
   "source": [
    "%%bash -s \"$MY_YB_PATH\"  \n",
    "YB_PATH=${1}\n",
    "cd $YB_PATH\n",
    "\n",
    "#  Seq Scan\n",
    "./bin/ycqlsh --execute \"\n",
    "  EXPLAIN SELECT description, product_name, product_id, category, price FROM ks_ybu.tbl_products_by_category \n",
    "  WHERE description=?;\n",
    "\"  "
   ]
  },
  {
   "cell_type": "markdown",
   "metadata": {
    "vscode": {
     "languageId": "shellscript"
    }
   },
   "source": [
    "#### Collections\n",
    "More complex data structures allow YCQL to store data sets that offers more flexibility in its data model capabilities. Very important when a trying to reduce the amount of tables that need to be queried. Run the following cell to add a new column to the category table whose data type is an ordered list with text elements."
   ]
  },
  {
   "cell_type": "code",
   "execution_count": null,
   "metadata": {
    "vscode": {
     "languageId": "shellscript"
    }
   },
   "outputs": [],
   "source": [
    "%%bash -s \"$MY_YB_PATH\"  \n",
    "YB_PATH=${1}\n",
    "cd $YB_PATH\n",
    "\n",
    "# Collection: Create a column with a list containing text elements\n",
    "./bin/ycqlsh --execute \"\n",
    "  ALTER TABLE ks_ybu.tbl_products_by_category \n",
    "  ADD warehouse_ids LIST<TEXT>;\n",
    "\"\n",
    "\n",
    "./bin/ycqlsh --execute \"\n",
    "  DESC ks_ybu.tbl_products_by_category\n",
    "\""
   ]
  },
  {
   "cell_type": "markdown",
   "metadata": {},
   "source": [
    "#### Collection: SET\n",
    "Run the following cell to create a new column on the category table. This new column will be a SET with text elements. "
   ]
  },
  {
   "cell_type": "code",
   "execution_count": null,
   "metadata": {
    "vscode": {
     "languageId": "shellscript"
    }
   },
   "outputs": [],
   "source": [
    "%%bash -s \"$MY_YB_PATH\"  \n",
    "YB_PATH=${1}\n",
    "cd $YB_PATH\n",
    "\n",
    "# Collection: Create a column for a set containing text elements\n",
    "./bin/ycqlsh --execute \"\n",
    "  ALTER TABLE ks_ybu.tbl_products_by_category \n",
    "  ADD tags SET<TEXT>;\n",
    "\"\n",
    "\n",
    "./bin/ycqlsh --execute \"\n",
    "  DESC ks_ybu.tbl_products_by_category\n",
    "\""
   ]
  },
  {
   "cell_type": "markdown",
   "metadata": {},
   "source": [
    "#### Frozen Collections\n",
    "Run the following cell to crate a frozen collection. In this example a list was frozen. While this value in this column can be dropped, its elements cannot be manipulated."
   ]
  },
  {
   "cell_type": "code",
   "execution_count": null,
   "metadata": {
    "vscode": {
     "languageId": "shellscript"
    }
   },
   "outputs": [],
   "source": [
    "%%bash -s \"$MY_YB_PATH\"  \n",
    "YB_PATH=${1}\n",
    "cd $YB_PATH\n",
    "\n",
    "# Frozen Collection\n",
    "./bin/ycqlsh --execute \"\n",
    "  ALTER TABLE ks_ybu.tbl_products_by_category \n",
    "  ADD store_locations FROZEN<LIST<TEXT>>;\n",
    "\"\n",
    "\n",
    "./bin/ycqlsh --execute \"\n",
    "  DESC ks_ybu.tbl_products_by_category\n",
    "\""
   ]
  },
  {
   "cell_type": "markdown",
   "metadata": {},
   "source": [
    "#### JSON\n",
    "\n",
    "JSONB is considered the best way to utilize complex data structures since in YCQL, JSONB is searchable. This is not true of the other collections in YCQL. Also note that collections can be used in JSON as well. Run the following cell and note the pattern necessary to write a JSON object to a table in YCQL."
   ]
  },
  {
   "cell_type": "code",
   "execution_count": null,
   "metadata": {
    "vscode": {
     "languageId": "shellscript"
    }
   },
   "outputs": [],
   "source": [
    "%%bash -s \"$MY_YB_PATH\"  \n",
    "YB_PATH=${1}\n",
    "cd $YB_PATH\n",
    "\n",
    "# Query Plan\n",
    "./bin/ycqlsh --execute \"\n",
    "  INSERT INTO ks_ybu.tbl_products_by_category (\n",
    "    category, \n",
    "    price, \n",
    "    product_id, \n",
    "    sku_details\n",
    "  ) VALUES (\n",
    "    'Grocery',\n",
    "    9.99,\n",
    "    6eb8d774-8b03-4457-a8e9-710339ca7165,\n",
    "    '{\n",
    "      \\\"product_id\\\": \\\"6eb8d774-8b03-4457-a8e9-710339ca7165\\\",\n",
    "      \\\"warehouse_sku\\\": \\\"8jk39d03-8b03-4457-a8e9-710339ca7165\\\"\n",
    "    }'\n",
    "  );\n",
    "\"\n",
    "\n",
    "./bin/ycqlsh --execute \"\n",
    "  SELECT * FROM ks_ybu.tbl_products_by_category;\n",
    "\""
   ]
  },
  {
   "cell_type": "markdown",
   "metadata": {},
   "source": [
    "In the preceding cell, note the syntax necessary to insert a JSON object into the table. Outside the curly brackets are single quotes, where inside the brackets there are double quotes."
   ]
  },
  {
   "cell_type": "markdown",
   "metadata": {},
   "source": [
    "#### JSONB Index\n",
    "\n",
    "JSONB is considered the best way to utilize complex data structures since in YCQL, JSONB is searchable."
   ]
  },
  {
   "cell_type": "code",
   "execution_count": null,
   "metadata": {
    "vscode": {
     "languageId": "shellscript"
    }
   },
   "outputs": [],
   "source": [
    "%%bash -s \"$MY_YB_PATH\"  \n",
    "YB_PATH=${1}\n",
    "cd $YB_PATH\n",
    "\n",
    "# Query Plan\n",
    "./bin/ycqlsh --execute \"\n",
    "  CREATE INDEX idx_sku_details_name \n",
    "  ON ks_ybu.tbl_products_by_category((sku_details->>'Name'));\n",
    "\"\n",
    "\n",
    "./bin/ycqlsh --execute \"\n",
    "  DESC  ks_ybu.tbl_products_by_category\n",
    "\"\n",
    "\n",
    "./bin/ycqlsh --execute \"\n",
    "  EXPLAIN SELECT category, price, product_id FROM ks_ybu.tbl_products_by_category \n",
    "  WHERE (sku_details->>'Name')=?;\n",
    "\""
   ]
  },
  {
   "cell_type": "markdown",
   "metadata": {},
   "source": [
    "In the preceding cell, note the syntax that is required to create an index using a JSON key. Also note the syntax used to search by the key in a JSON object."
   ]
  },
  {
   "cell_type": "markdown",
   "metadata": {},
   "source": [
    "### Time to Live\n",
    "\n",
    "YCQL offers data expiration. In the context of data modelling, removing \"old\" or deprecated data can improve database operational costs as well as storage costs."
   ]
  },
  {
   "cell_type": "code",
   "execution_count": null,
   "metadata": {
    "vscode": {
     "languageId": "shellscript"
    }
   },
   "outputs": [],
   "source": [
    "%%bash -s \"$MY_YB_PATH\"  \n",
    "YB_PATH=${1}\n",
    "cd $YB_PATH\n",
    "\n",
    "# Query Plan\n",
    "./bin/ycqlsh --execute \"\n",
    "  CREATE TABLE ks_ybu.tbl_wishlists_by_user (\n",
    "    user_id BIGINT, \n",
    "    todolist_name TEXT, \n",
    "    todolist_id UUID, \n",
    "    is_public BOOLEAN, \n",
    "    PRIMARY KEY((user_id), todolist_name)\n",
    "  ) \n",
    "  WITH CLUSTERING ORDER BY (todolist_name DESC);\n",
    "\""
   ]
  },
  {
   "cell_type": "markdown",
   "metadata": {},
   "source": [
    "In the following cell, a row is added to the table with a time-to-live of 5 seconds. Once the time has expired, notice that the row is no longer in the table. This is a TTL scoped to the data row."
   ]
  },
  {
   "cell_type": "code",
   "execution_count": null,
   "metadata": {
    "vscode": {
     "languageId": "shellscript"
    }
   },
   "outputs": [],
   "source": [
    "%%bash -s \"$MY_YB_PATH\"  \n",
    "YB_PATH=${1}\n",
    "cd $YB_PATH\n",
    "\n",
    "./bin/ycqlsh --execute \"\n",
    "  INSERT INTO ks_ybu.tbl_wishlists_by_user(\n",
    "      user_id,\n",
    "      name,  \n",
    "      wishlist_id,\n",
    "      is_public\n",
    "    ) VALUES (\n",
    "      'Mark', \n",
    "      'Grocery', \n",
    "      2a70494e-6b68-4739-b3e0-ff06aa0a2d67, \n",
    "      true\n",
    "    ) \n",
    "    USING TTL 5;\n",
    "  \"  "
   ]
  },
  {
   "cell_type": "code",
   "execution_count": null,
   "metadata": {
    "vscode": {
     "languageId": "shellscript"
    }
   },
   "outputs": [],
   "source": [
    "%%bash -s \"$MY_YB_PATH\"  \n",
    "YB_PATH=${1}\n",
    "cd $YB_PATH\n",
    "\n",
    "./bin/ycqlsh --execute \"\n",
    "  INSERT INTO ks_ybu.tbl_wishlists_by_user(\n",
    "      user_id, \n",
    "      name, \n",
    "      wishlist_id,\n",
    "      is_public\n",
    "    ) VALUES (\n",
    "      'Mark', \n",
    "      'Grocery', \n",
    "      2a70494e-6b68-4739-b3e0-ff06aa0a2d67, \n",
    "      true\n",
    "    ) \n",
    "    USING TTL 5;\n",
    "  \"  \n",
    "\n",
    "  ./bin/ycqlsh --execute \"\n",
    "    SELECT * FROM ks_ybu.tbl_wishlists_by_user;\n",
    "  \"  "
   ]
  },
  {
   "cell_type": "markdown",
   "metadata": {},
   "source": [
    "Wait five seconds before running the following cell. This will verify that the row level data expiration property run successfully."
   ]
  },
  {
   "cell_type": "code",
   "execution_count": null,
   "metadata": {
    "vscode": {
     "languageId": "shellscript"
    }
   },
   "outputs": [],
   "source": [
    "%%bash -s \"$MY_YB_PATH\"  \n",
    "YB_PATH=${1}\n",
    "cd $YB_PATH\n",
    "   \n",
    "./bin/ycqlsh --execute \"\n",
    "  SELECT * FROM ks_ybu.tbl_wishlists_by_user;\n",
    "\" "
   ]
  },
  {
   "attachments": {},
   "cell_type": "markdown",
   "metadata": {},
   "source": [
    "---\n"
   ]
  },
  {
   "cell_type": "code",
   "execution_count": null,
   "metadata": {
    "vscode": {
     "languageId": "shellscript"
    }
   },
   "outputs": [],
   "source": [
    "%%bash -s \"$MY_YB_PATH\"  \n",
    "YB_PATH=${1}\n",
    "cd $YB_PATH\n",
    "   \n",
    "./bin/ycqlsh --execute \"\n",
    " CREATE TABLE ks_ybu.music (\n",
    "  artist TEXT,\n",
    "  song TEXT,\n",
    "  album TEXT,\n",
    "  year INT,\n",
    "  rating FLOAT,\n",
    "  genre TEXT,\n",
    "  PRIMARY KEY ((artist), year, song)\n",
    ");\n",
    "\" "
   ]
  },
  {
   "attachments": {},
   "cell_type": "markdown",
   "metadata": {},
   "source": [
    "TODO: Add to exercises for ORDER BY\n",
    "Order by currently only support the ordering of columns following their declared order in the PRIMARY KEY"
   ]
  },
  {
   "cell_type": "code",
   "execution_count": null,
   "metadata": {
    "vscode": {
     "languageId": "shellscript"
    }
   },
   "outputs": [],
   "source": [
    "%%bash -s \"$MY_YB_PATH\"  \n",
    "YB_PATH=${1}\n",
    "cd $YB_PATH\n",
    "   \n",
    "./bin/ycqlsh --execute \"\n",
    "  SELECT * FROM ks_ybu.music where artist='Beattles' order by song;\n",
    "\" "
   ]
  },
  {
   "cell_type": "markdown",
   "metadata": {},
   "source": [
    "If the row is still visible, wait a few more seconds to run the preceding cell. This will verify that the row has expired as expected."
   ]
  }
 ],
 "metadata": {
  "kernelspec": {
   "display_name": "Python 3.8.9 64-bit",
   "language": "python",
   "name": "python3"
  },
  "language_info": {
   "codemirror_mode": {
    "name": "ipython",
    "version": 3
   },
   "file_extension": ".py",
   "mimetype": "text/x-python",
   "name": "python",
   "nbconvert_exporter": "python",
   "pygments_lexer": "ipython3",
   "version": "3.8.9 (default, Oct 26 2021, 07:25:54) \n[Clang 13.0.0 (clang-1300.0.29.30)]"
  },
  "orig_nbformat": 4,
  "vscode": {
   "interpreter": {
    "hash": "31f2aee4e71d21fbe5cf8b01ff0e069b9275f58929596ceb00d14d90e3e16cd6"
   }
  }
 },
 "nbformat": 4,
 "nbformat_minor": 2
}
