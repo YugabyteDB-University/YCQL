{
 "cells": [
  {
   "cell_type": "markdown",
   "metadata": {},
   "source": [
    "# YCQL Intermediate Development Lab\n",
    "\n",
    "In this lab, you will learn about how to use indexes to optimize the data model, validate data, and improve the query performance. First, you will learn how to measure the performance of queries, then you will learn how to create indexes to make the queries more efficient and performant at scale."
   ]
  },
  {
   "cell_type": "markdown",
   "metadata": {
    "deletable": false,
    "editable": false
   },
   "source": [
    "## Setup steps\n",
    "Here are the steps to setup this lab:\n",
    "- Import the notebook variables\n",
    "- Create the `db_ybu` database\n",
    "- Import the sql scripts"
   ]
  },
  {
   "cell_type": "markdown",
   "metadata": {
    "deletable": false,
    "editable": false
   },
   "source": [
    "### Import the notebook variables \n",
    "\n",
    "The following Python cell creates and stores variables that all the notebooks in this lab will use. You can view these variables in the Jupyter tab.\n",
    "\n",
    "- To run the script, select Execute Cell (Play Arrow) in the left gutter of the cell.\n",
    "- Verify the accuracy of the output values"
   ]
  },
  {
   "cell_type": "code",
   "execution_count": 1,
   "metadata": {
    "vscode": {
     "languageId": "shellscript"
    }
   },
   "outputs": [
    {
     "name": "stdout",
     "output_type": "stream",
     "text": [
      "Stored 'MY_DB_NAME' (str)\n",
      "Stored 'MY_YB_PATH' (str)\n",
      "Stored 'MY_GITPOD_WORKSPACE_URL' (NoneType)\n",
      "Stored 'MY_HOST_IPv4_01' (str)\n",
      "Stored 'MY_HOST_IPv4_02' (str)\n",
      "Stored 'MY_HOST_IPv4_03' (str)\n",
      "Stored 'MY_NOTEBOOK_DIR' (str)\n",
      "Stored 'MY_TSERVER_WEBSERVER_PORT' (str)\n",
      "Stored 'MY_NOTEBOOK_DATA_FOLDER' (str)\n"
     ]
    },
    {
     "name": "stderr",
     "output_type": "stream",
     "text": [
      "UsageError: Unknown variable 'MY_NOTEBOOK_UTILS_FOLDER'\n"
     ]
    }
   ],
   "source": [
    "%store MY_DB_NAME\n",
    "%store MY_YB_PATH\n",
    "%store MY_GITPOD_WORKSPACE_URL\n",
    "%store MY_HOST_IPv4_01\n",
    "%store MY_HOST_IPv4_02\n",
    "%store MY_HOST_IPv4_03\n",
    "%store MY_NOTEBOOK_DIR\n",
    "%store MY_TSERVER_WEBSERVER_PORT\n",
    "%store MY_NOTEBOOK_DATA_FOLDER\n",
    "%store MY_DATA_DDL_FILE\n",
    "%store MY_DATA_DML_FILE"
   ]
  },
  {
   "cell_type": "markdown",
   "metadata": {},
   "source": [
    "## Implement the Data Model\n",
    "This section will create and populate the keyspace with the tables and data that was described for the wish list data model discussed in the YCQL development module."
   ]
  },
  {
   "cell_type": "markdown",
   "metadata": {},
   "source": [
    "### Create Keyspace: db_ybu\n",
    "Run the following cell to execute the following operations.\n",
    "* Change into the Yugabyte directory that contains the ycqlsh script that will allow a connection to the YCQL shell. \n",
    "* Drop the keyspace, `db_ybu`, if it exists.\n",
    "* Create the keyspace, `db_ybu`.  \n",
    "* Connect to the `db_ybu` keyspace.\n",
    "* Describe the keyspace, `db_ybu`, to verify the keyspace was created correctly."
   ]
  },
  {
   "cell_type": "code",
   "execution_count": null,
   "metadata": {
    "vscode": {
     "languageId": "shellscript"
    }
   },
   "outputs": [],
   "source": [
    "# Import file path of Yugabyte and DB name\n",
    "%%bash -s \"$MY_YB_PATH\" \"$MY_DB_NAME\"  \n",
    "YB_PATH=${1}\n",
    "DB_NAME=${2}\n",
    "\n",
    "cd $YB_PATH\n",
    "\n",
    "# Drop keyspace\n",
    "./bin/ycqlsh --execute \"\n",
    "  DROP KEYSPACE IF EXISTS \"${DB_NAME}\";\n",
    "\"\n",
    " \n",
    "# Create keyspace\n",
    "./bin/ycqlsh --execute \"\n",
    "  CREATE KEYSPACE \"${DB_NAME}\";\n",
    "\" \n",
    "\n",
    "# Connect to keyspace\n",
    "./bin/ycqlsh --execute \"\n",
    "  USE \"${DB_NAME}\";\n",
    "\"\n",
    "\n",
    "# List keyspaces, validate keyspace creation\n",
    "./bin/ycqlsh --execute \"\n",
    "  DESCRIBE keyspaces\n",
    "\"\n",
    "\n",
    "# List keyspaces, validate keyspace creation\n",
    "./bin/ycqlsh --execute \"\n",
    "  DESCRIBE \"${DB_NAME}\"\n",
    "\""
   ]
  },
  {
   "cell_type": "markdown",
   "metadata": {},
   "source": [
    "In the preceeding cell, the YCQL shell was accessed using `ycqlsh` to create the YCQL shell to access the YCQL keyspace. Once connected YCQL shell, the DDL, DML, and shell commands can create, connect, and describe  keyspaces and tables. The `USE` keyword assigns the active keyspace. The `DESCRIBE` is used to list all the available keyspaces in the cluster as well as describe a particular keyspace to display the schema of the tables."
   ]
  },
  {
   "cell_type": "markdown",
   "metadata": {},
   "source": [
    "## Load DDL and Data from File\n",
    "Load SQL statements from a script\n",
    "This will load the sql files located in the data folder of the project's root directory."
   ]
  },
  {
   "cell_type": "code",
   "execution_count": null,
   "metadata": {
    "vscode": {
     "languageId": "shellscript"
    }
   },
   "outputs": [],
   "source": [
    "%%bash -s \"$MY_YB_PATH\" \"$MY_DB_NAME\" \"$MY_NOTEBOOK_DATA_FOLDER\" \"$MY_DATA_DDL_FILE\" \"$MY_DATA_DML_FILE\"   \n",
    "# Wishlist\n",
    "YB_PATH=${1}\n",
    "DB_NAME=${2}\n",
    "DATA_FOLDER=${3}\n",
    "DATA_DDL_FILE=${4}\n",
    "DATA_DML_FILE=${5}\n",
    "\n",
    "WISHLIST_DDL_PATH=${DATA_FOLDER}/${DATA_DDL_FILE}\n",
    "WISHLIST_DML_PATH=${DATA_FOLDER}/${DATA_DML_FILE}\n",
    "echo $WISHLIST_DDL_PATH\n",
    "echo $WISHLIST_DML_PATH\n",
    "cd $YB_PATH\n",
    "\n",
    "# DDL file\n",
    "./bin/ycqlsh -k ${DB_NAME} -f ${WISHLIST_DDL_PATH} \n",
    "sleep 1;\n",
    "\n",
    "# # DML file\n",
    "./bin/ycqlsh -k ${DB_NAME} -f ${WISHLIST_DML_PATH} \n",
    "sleep 1;\n",
    "\n",
    "# # Describe relations\n",
    "./bin/ycqlsh --execute \"\n",
    "  DESCRIBE \"${DB_NAME}\"\n",
    "\""
   ]
  },
  {
   "cell_type": "markdown",
   "metadata": {},
   "source": [
    "Validate the data was loaded properly from the SQL scripts."
   ]
  },
  {
   "cell_type": "markdown",
   "metadata": {},
   "source": [
    "### Query Plans\n",
    "\n",
    "Evaluate the different scan types that evaluate the efficiency of database operations.\n",
    "\n",
    "In the following cell, you will evaluate a sequential scan."
   ]
  },
  {
   "cell_type": "code",
   "execution_count": null,
   "metadata": {
    "vscode": {
     "languageId": "shellscript"
    }
   },
   "outputs": [],
   "source": [
    "%%bash -s \"$MY_YB_PATH\"   # Sequential Scan\n",
    "YB_PATH=${1}\n",
    "cd $YB_PATH\n",
    "\n",
    "# drop and create\n",
    "./bin/ycqlsh --execute \"EXPLAIN SELECT * FROM db_ybu.tbl_products_by_category;\"  "
   ]
  },
  {
   "cell_type": "markdown",
   "metadata": {},
   "source": [
    "In the preceding result set resolved from the previous cell, the query plan was noted as a sequential scan in the statement, `Seq Scan on db_ybu.tbl_products_by_category`. \n",
    "\n",
    "A sequential scan is stated as a query that read every row from the primary table. This was expected since the query has no filters or a where predicate."
   ]
  },
  {
   "cell_type": "code",
   "execution_count": null,
   "metadata": {
    "vscode": {
     "languageId": "shellscript"
    }
   },
   "outputs": [],
   "source": [
    "%%bash -s \"$MY_YB_PATH\"  \n",
    "YB_PATH=${1}\n",
    "cd $YB_PATH\n",
    "\n",
    "# Query Plan\n",
    "./bin/ycqlsh --execute \"EXPLAIN SELECT product_name, product_id, price, description  FROM db_ybu.tbl_products_by_category WHERE product_name='Hotdogs'\"    "
   ]
  },
  {
   "cell_type": "code",
   "execution_count": null,
   "metadata": {
    "vscode": {
     "languageId": "shellscript"
    }
   },
   "outputs": [],
   "source": [
    "%%bash -s \"$MY_YB_PATH\"   # Sequential Scan\n",
    "YB_PATH=${1}\n",
    "cd $YB_PATH\n",
    "\n",
    "# Query Plan for Aggregate function\n",
    "./bin/ycqlsh --execute \"EXPLAIN SELECT SUM(quantity) as subtotal FROM db_ybu.tbl_products_by_wishlist where wishlist_id = ?;\"  "
   ]
  },
  {
   "cell_type": "code",
   "execution_count": null,
   "metadata": {
    "vscode": {
     "languageId": "shellscript"
    }
   },
   "outputs": [],
   "source": [
    "%%bash -s \"$MY_YB_PATH\"  \n",
    "YB_PATH=${1}\n",
    "cd $YB_PATH\n",
    "\n",
    "# Query Plan for product_name\n",
    "./bin/ycqlsh --execute \"EXPLAIN SELECT * FROM db_ybu.tbl_products_by_category WHERE product_name=?;\"  \n",
    "# ./bin/ycqlsh --execute \"EXPLAIN SELECT product_name, product_name, price, description  FROM db_ybu.tbl_products_by_category WHERE product_name=?;\"  \n",
    "# ./bin/ycqlsh --execute \"DESC db_ybu.tbl_products_by_category\"  "
   ]
  },
  {
   "cell_type": "markdown",
   "metadata": {},
   "source": [
    "### Secondary Indexes \n",
    "\n",
    "In this demo, you will create an index and compare the difference between query plans."
   ]
  },
  {
   "cell_type": "code",
   "execution_count": null,
   "metadata": {
    "vscode": {
     "languageId": "shellscript"
    }
   },
   "outputs": [],
   "source": [
    "%%bash -s \"$MY_YB_PATH\"   # Sequential Scan\n",
    "YB_PATH=${1}\n",
    "cd $YB_PATH\n",
    "\n",
    "# drop and create\n",
    "./bin/ycqlsh --execute \"CREATE INDEX idx_products_by_name ON db_ybu.tbl_products_by_category (product_name) INCLUDE (price, description);\"   \n",
    "\n",
    "# ./bin/ycqlsh --execute \"DESC db_ybu.tbl_products_by_category\""
   ]
  },
  {
   "cell_type": "markdown",
   "metadata": {},
   "source": [
    "### Unique Indexes\n",
    "Enable a unique constraint on a attribute's values by creating a secondary index."
   ]
  },
  {
   "cell_type": "code",
   "execution_count": null,
   "metadata": {
    "vscode": {
     "languageId": "shellscript"
    }
   },
   "outputs": [],
   "source": [
    "%%bash -s \"$MY_YB_PATH\"  \n",
    "YB_PATH=${1}\n",
    "cd $YB_PATH\n",
    "\n",
    "# Query Plan\n",
    "./bin/ycqlsh --execute \"CREATE UNIQUE INDEX idx_unique_product_by_id \n",
    "  ON db_ybu.tbl_products_by_category(product_id)\n",
    "  INCLUDE(description);\"  \n",
    "  \n",
    "# ./bin/ycqlsh --execute \"DESC db_ybu.tbl_products_by_category\"  \n",
    "\n",
    "# ./bin/ycqlsh --execute \"EXPLAIN SELECT product_name as name, description, price, category FROM db_ybu.tbl_products_by_category WHERE price > 30 AND category = 'Office Supplies';\""
   ]
  },
  {
   "cell_type": "markdown",
   "metadata": {},
   "source": [
    "#### Partial Indexes\n",
    "\n",
    "Use a range partition to reduce the amount of data that requires scanning.\n",
    "In this index, you will partition all products over $30 in the Office Supply category. "
   ]
  },
  {
   "cell_type": "code",
   "execution_count": null,
   "metadata": {
    "vscode": {
     "languageId": "shellscript"
    }
   },
   "outputs": [],
   "source": [
    "%%bash -s \"$MY_YB_PATH\"  \n",
    "YB_PATH=${1}\n",
    "cd $YB_PATH\n",
    "\n",
    "# Query Plan\n",
    "./bin/ycqlsh --execute \"CREATE INDEX ON db_ybu.tbl_products_by_category(price) INCLUDE (description, product_name) WHERE price > 30 and category = 'Office Supplies';\"  \n",
    "# ./bin/ycqlsh --execute \"DESC db_ybu.tbl_products_by_category\"  \n",
    "# ./bin/ycqlsh --execute \"EXPLAIN SELECT product_name as name, description, price, category FROM db_ybu.tbl_products_by_category WHERE %%bash -s \"$MY_YB_PATH\"  \n",
    "YB_PATH=${1}\n",
    "cd $YB_PATH\n",
    "\n",
    "# Query Plan\n",
    "./bin/ycqlsh --execute \"CREATE INDEX ON db_ybu.tbl_products_by_category(price) INCLUDE (description, product_name) WHERE price > 30 and category = 'Office Supplies';\"  \n",
    "# ./bin/ycqlsh --execute \"DESC db_ybu.tbl_products_by_category\"  \n",
    "# ./bin/ycqlsh --execute \"EXPLAIN SELECT product_name as name, description, price, category FROM db_ybu.tbl_products_by_category WHERE price > 30 AND category = 'Office Supplies';\""
   ]
  },
  {
   "cell_type": "markdown",
   "metadata": {
    "vscode": {
     "languageId": "shellscript"
    }
   },
   "source": [
    "#### Collections\n",
    "More complex data structures allow YCQL to store data sets that offers more flexibility in its data model capabilities. Very important when a trying to reduce the amount of tables that need to be queried."
   ]
  },
  {
   "cell_type": "code",
   "execution_count": null,
   "metadata": {
    "vscode": {
     "languageId": "shellscript"
    }
   },
   "outputs": [],
   "source": [
    "%%bash -s \"$MY_YB_PATH\"  \n",
    "YB_PATH=${1}\n",
    "cd $YB_PATH\n",
    "\n",
    "# Query Plan\n",
    "./bin/ycqlsh --execute \"ALTER TABLE db_ybu.tbl_products_by_category ADD warehouse_ids LIST<TEXT>;\"\n",
    "# ./bin/ycqlsh --execute \"ALTER TABLE db_ybu.tbl_products_by_category ADD tags SET<TEXT>;\"\n",
    "# ./bin/ycqlsh --execute \"DESC db_ybu.tbl_products_by_category\"\n",
    "# ./bin/ycqlsh --execute \"ALTER TABLE db_ybu.tbl_products_by_category ADD store_locations FROZEN<LIST<TEXT>>;\"\n",
    "# ./bin/ycqlsh --execute \"DESC db_ybu.tbl_products_by_category\""
   ]
  },
  {
   "cell_type": "markdown",
   "metadata": {},
   "source": [
    "#### JSONB Index\n",
    "\n",
    "JSONB is considered the best way to utilize complex data structures since in YCQL, JSONB is searchable."
   ]
  },
  {
   "cell_type": "code",
   "execution_count": null,
   "metadata": {
    "vscode": {
     "languageId": "shellscript"
    }
   },
   "outputs": [],
   "source": [
    "%%bash -s \"$MY_YB_PATH\"  \n",
    "YB_PATH=${1}\n",
    "cd $YB_PATH\n",
    "\n",
    "# Query Plan\n",
    "./bin/ycqlsh --execute \"CREATE INDEX idx_sku_details_name ON db_ybu.tbl_products_by_category((sku_details->>'Name'));;\"\n",
    "# ./bin/ycqlsh --execute \"DESC  db_ybu.tbl_products_by_category\"\n",
    "# ./bin/ycqlsh --execute \"EXPLAIN SELECT category, price, product_id FROM db_ybu.tbl_products_by_category WHERE (sku_details->>'Name') = ?;\""
   ]
  },
  {
   "cell_type": "markdown",
   "metadata": {},
   "source": [
    "### Time to Live\n",
    "\n",
    "YCQL offers data expiration. In the context of data modelling, removing \"old\" or deprecated data can improve database operational costs as well as storage costs."
   ]
  },
  {
   "cell_type": "code",
   "execution_count": null,
   "metadata": {
    "vscode": {
     "languageId": "shellscript"
    }
   },
   "outputs": [],
   "source": [
    "%%bash -s \"$MY_YB_PATH\"  \n",
    "YB_PATH=${1}\n",
    "cd $YB_PATH\n",
    "\n",
    "# Query Plan\n",
    "./bin/ycqlsh --execute \"CREATE TABLE db_ybu.tbl_todolists_by_user (\n",
    "user_id BIGINT, todolist_name TEXT, todolist_id UUID, is_public BOOLEAN, \n",
    "PRIMARY KEY((user_id), todolist_name)) \n",
    "WITH CLUSTERING ORDER BY (todolist_name DESC);\"  \n",
    "# ./bin/ycqlsh --execute \"INSERT INTO db_ybu.tbl_todolists_by_user(user_id, todolist_name, todolist_id, is_public) VALUES (9490243, 'Grocery', 2a70494e-6b68-4739-b3e0-ff06aa0a2d67, true) USING TTL 5;\"  \n",
    "# ./bin/ycqlsh --execute \"SELECT * FROM db_ybu.tbl_todolists_by_user;\"  \n",
    "# ./bin/ycqlsh --execute \"INSERT INTO db_ybu.tbl_wishlists_by_user(user_id, wishlist_id, name, is_public) VALUES ('Mark', 'Grocery', 2a70494e-6b68-4739-b3e0-ff06aa0a2d67, true) USING TTL 5;\"  "
   ]
  },
  {
   "cell_type": "markdown",
   "metadata": {
    "deletable": false,
    "editable": false
   },
   "source": [
    "---\n",
    "# All done!\n",
    "In this lab, you completed the following:\n",
    "\n",
    "- Setup\n",
    "  - Created the `db_ybu` database with `ycqlsh`\n",
    "  - Created tables and loaded data using DDL and DML scripts"
   ]
  }
 ],
 "metadata": {
  "kernelspec": {
   "display_name": "Python 3.9.4 64-bit ('3.9.4': pyenv)",
   "language": "python",
   "name": "python3"
  },
  "language_info": {
   "codemirror_mode": {
    "name": "ipython",
    "version": 3
   },
   "file_extension": ".py",
   "mimetype": "text/x-python",
   "name": "python",
   "nbconvert_exporter": "python",
   "pygments_lexer": "ipython3",
   "version": "3.9.4"
  },
  "orig_nbformat": 4,
  "vscode": {
   "interpreter": {
    "hash": "0857ffcb80af2fb548f76c195b67e2e5b75e102946b97bbf401092901016b64a"
   }
  }
 },
 "nbformat": 4,
 "nbformat_minor": 2
}
