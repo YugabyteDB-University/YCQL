{
 "cells": [
  {
   "cell_type": "markdown",
   "metadata": {},
   "source": [
    "# YCQL Intermediate Development Lab\n",
    "\n",
    "In this lab, you will learn about how to use indexes to optimize the data model, validate data, and improve the query performance. First, you will learn how to measure the performance of queries, then you will learn how to create indexes to make the queries more efficient and performant at scale."
   ]
  },
  {
   "cell_type": "markdown",
   "metadata": {
    "deletable": false,
    "editable": false
   },
   "source": [
    "## Setup steps\n",
    "Here are the steps to setup this lab:\n",
    "- Import the notebook variables\n",
    "- Create the `db_ybu` database\n",
    "- Import the sql scripts"
   ]
  },
  {
   "cell_type": "markdown",
   "metadata": {
    "deletable": false,
    "editable": false
   },
   "source": [
    "### Import the notebook variables \n",
    "\n",
    "The following Python cell creates and stores variables that all the notebooks in this lab will use. You can view these variables in the Jupyter tab.\n",
    "\n",
    "- To run the script, select Execute Cell (Play Arrow) in the left gutter of the cell.\n",
    "- Verify the accuracy of the output values"
   ]
  },
  {
   "cell_type": "code",
   "execution_count": null,
   "metadata": {
    "vscode": {
     "languageId": "shellscript"
    }
   },
   "outputs": [
    {
     "name": "stdout",
     "output_type": "stream",
     "text": [
      "Stored 'MY_DB_NAME' (str)\n",
      "Stored 'MY_YB_PATH' (str)\n",
      "Stored 'MY_GITPOD_WORKSPACE_URL' (NoneType)\n",
      "Stored 'MY_HOST_IPv4_01' (str)\n",
      "Stored 'MY_HOST_IPv4_02' (str)\n",
      "Stored 'MY_HOST_IPv4_03' (str)\n",
      "Stored 'MY_NOTEBOOK_DIR' (str)\n",
      "Stored 'MY_TSERVER_WEBSERVER_PORT' (str)\n",
      "Stored 'MY_NOTEBOOK_DATA_FOLDER' (str)\n"
     ]
    },
    {
     "name": "stderr",
     "output_type": "stream",
     "text": [
      "UsageError: Unknown variable 'MY_NOTEBOOK_UTILS_FOLDER'\n"
     ]
    }
   ],
   "source": [
    "%store -r MY_DB_NAME\n",
    "%store -r MY_YB_PATH\n",
    "%store -r MY_GITPOD_WORKSPACE_URL\n",
    "%store -r MY_HOST_IPv4_01\n",
    "%store -r MY_HOST_IPv4_02\n",
    "%store -r MY_HOST_IPv4_03\n",
    "%store -r MY_NOTEBOOK_DIR\n",
    "%store -r MY_TSERVER_WEBSERVER_PORT\n",
    "%store -r MY_NOTEBOOK_DATA_FOLDER\n",
    "%store -r MY_DATA_DDL_FILE\n",
    "%store -r MY_DATA_DML_FILE"
   ]
  },
  {
   "cell_type": "markdown",
   "metadata": {},
   "source": [
    "## Implement the Data Model\n",
    "This section will create and populate the keyspace with the tables and data that was described for the wish list data model discussed in the YCQL development module."
   ]
  },
  {
   "cell_type": "markdown",
   "metadata": {},
   "source": [
    "### Create Keyspace: db_ybu\n",
    "Run the following cell to execute the following operations.\n",
    "* Change into the Yugabyte directory that contains the ycqlsh script that will allow a connection to the YCQL shell. \n",
    "* Drop the keyspace, `db_ybu`, if it exists.\n",
    "* Create the keyspace, `db_ybu`.  \n",
    "* Connect to the `db_ybu` keyspace.\n",
    "* Describe the keyspace, `db_ybu`, to verify the keyspace was created correctly."
   ]
  },
  {
   "cell_type": "code",
   "execution_count": null,
   "metadata": {
    "vscode": {
     "languageId": "shellscript"
    }
   },
   "outputs": [],
   "source": [
    "%%bash -s \"$MY_YB_PATH\" \"$MY_DB_NAME\"  # Import file path of Yugabyte and DB name\n",
    "YB_PATH=${1}\n",
    "DB_NAME=${2}\n",
    "\n",
    "cd $YB_PATH\n",
    "\n",
    "# Drop keyspace\n",
    "./bin/ycqlsh --execute \"\n",
    "  DROP KEYSPACE IF EXISTS \"${DB_NAME}\";\n",
    "\"\n",
    " \n",
    "# Create keyspace\n",
    "./bin/ycqlsh --execute \"\n",
    "  CREATE KEYSPACE \"${DB_NAME}\";\n",
    "\" \n",
    "\n",
    "# Connect to keyspace\n",
    "./bin/ycqlsh --execute \"\n",
    "  USE \"${DB_NAME}\";\n",
    "\"\n",
    "\n",
    "# List keyspaces, validate keyspace creation\n",
    "./bin/ycqlsh --execute \"\n",
    "  DESCRIBE keyspaces\n",
    "\"\n",
    "\n",
    "# List keyspaces, validate keyspace creation\n",
    "./bin/ycqlsh --execute \"\n",
    "  DESCRIBE \"${DB_NAME}\"\n",
    "\""
   ]
  },
  {
   "cell_type": "markdown",
   "metadata": {},
   "source": [
    "In the preceeding cell, the YCQL shell was accessed using `ycqlsh` to create the YCQL shell to access the YCQL keyspace. Once connected YCQL shell, the DDL, DML, and shell commands can create, connect, and describe  keyspaces and tables. The `USE` keyword assigns the active keyspace. The `DESCRIBE` is used to list all the available keyspaces in the cluster as well as describe a particular keyspace to display the schema of the tables."
   ]
  },
  {
   "cell_type": "markdown",
   "metadata": {},
   "source": [
    "## Load DDL and Data from File\n",
    "Load SQL statements from a script\n",
    "This will load the sql files located in the data folder of the project's root directory."
   ]
  },
  {
   "cell_type": "code",
   "execution_count": null,
   "metadata": {
    "vscode": {
     "languageId": "shellscript"
    }
   },
   "outputs": [],
   "source": [
    "%%bash -s \"$MY_YB_PATH\" \"$MY_DB_NAME\" \"$MY_NOTEBOOK_DATA_FOLDER\" \"$MY_DATA_DDL_FILE\" \"$MY_DATA_DML_FILE\"   \n",
    "# Wishlist\n",
    "YB_PATH=${1}\n",
    "DB_NAME=${2}\n",
    "DATA_FOLDER=${3}\n",
    "DATA_DDL_FILE=${4}\n",
    "DATA_DML_FILE=${5}\n",
    "\n",
    "WISHLIST_DDL_PATH=${DATA_FOLDER}/${DATA_DDL_FILE}\n",
    "WISHLIST_DML_PATH=${DATA_FOLDER}/${DATA_DML_FILE}\n",
    "echo $WISHLIST_DDL_PATH\n",
    "echo $WISHLIST_DML_PATH\n",
    "cd $YB_PATH\n",
    "\n",
    "# DDL file\n",
    "./bin/ycqlsh -k ${DB_NAME} -f ${WISHLIST_DDL_PATH} \n",
    "sleep 1;\n",
    "\n",
    "# # DML file\n",
    "./bin/ycqlsh -k ${DB_NAME} -f ${WISHLIST_DML_PATH} \n",
    "sleep 1;\n",
    "\n",
    "# # Describe relations\n",
    "./bin/ycqlsh --execute \"\n",
    "  DESCRIBE \"${DB_NAME}\"\n",
    "\""
   ]
  },
  {
   "cell_type": "markdown",
   "metadata": {},
   "source": [
    "Validate the data was loaded properly from the SQL scripts."
   ]
  },
  {
   "cell_type": "markdown",
   "metadata": {},
   "source": [
    "### Query Plans\n",
    "\n",
    "Evaluate the different scan types that evaluate the efficiency of database operations.\n",
    "\n",
    "In the following cell, you will evaluate a sequential scan."
   ]
  },
  {
   "cell_type": "code",
   "execution_count": null,
   "metadata": {
    "vscode": {
     "languageId": "shellscript"
    }
   },
   "outputs": [],
   "source": [
    "%%bash -s \"$MY_YB_PATH\"   \n",
    "YB_PATH=${1}\n",
    "cd $YB_PATH\n",
    "\n",
    "# Query plan: Sequential Scan\n",
    "./bin/ycqlsh --execute \"\n",
    "  EXPLAIN SELECT * FROM db_ybu.tbl_products_by_category;\n",
    "\"  "
   ]
  },
  {
   "cell_type": "markdown",
   "metadata": {},
   "source": [
    "A query plan helps reveal the inner workings of a query to illustrate the numbers of operations required to satisfy the query.\n",
    "\n",
    "The preceding query was determined to be a sequential scan in the statement, `Seq Scan on db_ybu.tbl_products_by_category`. \n",
    "\n",
    "A sequential scan reveals that the query required a read from every row in the primary table. This was expected since the query has no where predicate, therefore no false conditions to deny a row to render in the result set."
   ]
  },
  {
   "cell_type": "markdown",
   "metadata": {},
   "source": [
    "### Where clause predicate\n",
    "Run the following cell to see if having a conditional expression in the `WHERE` clause affects the query plan."
   ]
  },
  {
   "cell_type": "code",
   "execution_count": null,
   "metadata": {
    "vscode": {
     "languageId": "shellscript"
    }
   },
   "outputs": [],
   "source": [
    "%%bash -s \"$MY_YB_PATH\"  \n",
    "YB_PATH=${1}\n",
    "cd $YB_PATH\n",
    "\n",
    "# Query Plan\n",
    "./bin/ycqlsh --execute \"\n",
    "  EXPLAIN SELECT \n",
    "    product_name, \n",
    "    product_id, \n",
    "    price, \n",
    "    description \n",
    "  FROM db_ybu.tbl_products_by_category \n",
    "  WHERE product_name='Hotdogs';\n",
    "\"    "
   ]
  },
  {
   "cell_type": "markdown",
   "metadata": {},
   "source": [
    "#### Query plan\n",
    "In the preceding cell, the `WHERE` clause on line #13, searches for all rows that contain the product name \"Hotdogs\". The resulting query plan reveals that this query needed to scan every row in the primary table to determine which rows contained the product name \"Hotdogs\"."
   ]
  },
  {
   "cell_type": "markdown",
   "metadata": {},
   "source": [
    "### Aggregate Scan\n",
    "Run the following cell to determine the query plan for an query using an aggregate function. This query plan reveals another type of scan called a Range scan. A range scan reveals that many rows values are needed to satisfy this query."
   ]
  },
  {
   "cell_type": "code",
   "execution_count": null,
   "metadata": {
    "vscode": {
     "languageId": "shellscript"
    }
   },
   "outputs": [],
   "source": [
    "%%bash -s \"$MY_YB_PATH\" \n",
    "YB_PATH=${1}\n",
    "cd $YB_PATH\n",
    "\n",
    "# Query Plan for Aggregate function\n",
    "./bin/ycqlsh --execute \"\n",
    "  EXPLAIN SELECT SUM(quantity) as subtotal \n",
    "  FROM db_ybu.tbl_products_by_wishlist where wishlist_id=?;\n",
    "\"  "
   ]
  },
  {
   "cell_type": "markdown",
   "metadata": {},
   "source": [
    "### Secondary Indexes \n",
    "In this section, you will create an index and determine how this affects the efficiency of a query by comparing the query plans.\n",
    "\n",
    "Run the following cell to create and describe an index by describing the tbl_products_by_category table."
   ]
  },
  {
   "cell_type": "code",
   "execution_count": null,
   "metadata": {
    "vscode": {
     "languageId": "shellscript"
    }
   },
   "outputs": [],
   "source": [
    "%%bash -s \"$MY_YB_PATH\" \n",
    "YB_PATH=${1}\n",
    "cd $YB_PATH\n",
    "\n",
    "# Create a secondary index, product_name\n",
    "./bin/ycqlsh --execute \"\n",
    "  CREATE INDEX idx_products_by_name \n",
    "  ON db_ybu.tbl_products_by_category (product_name) \n",
    "  INCLUDE (description);\n",
    "\"   \n",
    "\n",
    "# Verfiy the index has been created for the tbl_products_by_category\n",
    "./bin/ycqlsh --execute \"\n",
    "  DESC db_ybu.tbl_products_by_category\n",
    "\""
   ]
  },
  {
   "cell_type": "markdown",
   "metadata": {},
   "source": [
    "#### Verify the query plan for a secondary index\n",
    "In the previous cell, a secondary index was created so that the product name can be efficiently queried on the tbl_products_by_category table. The DESC keyword is used to verify if the index was created correctly. \n",
    "\n",
    "> **Important:** The attributes in the primary key remain a part of the secondary index and can be retrieved from the index without an extra trip to the primary table, improving operational efficiency. \n",
    "\n",
    "The description attribute was added using the `INCLUDE` keyword to the secondary index to create a covering index.\n",
    "\n",
    "Run the following cell to verify if adding a secondary index for the `product_name` can make the product_name query on the `tbl_products_by_category` more efficient."
   ]
  },
  {
   "cell_type": "code",
   "execution_count": null,
   "metadata": {
    "vscode": {
     "languageId": "shellscript"
    }
   },
   "outputs": [],
   "source": [
    "%%bash -s \"$MY_YB_PATH\"   # Sequential Scan\n",
    "YB_PATH=${1}\n",
    "cd $YB_PATH\n",
    "\n",
    "# Expose the query plan for a covering index\n",
    "./bin/ycqlsh --execute \"\n",
    "  EXPLAIN SELECT product_name, category, price, description, product_id \n",
    "  FROM db_ybu.tbl_products_by_category where product_name=?;\n",
    "\"  "
   ]
  },
  {
   "cell_type": "markdown",
   "metadata": {},
   "source": [
    "#### Index Only Scan\n",
    "By running the previous cell, you were able to determine that by adding a secondary index for the condition attribute, `product_name`, the query plan has changed from a sequential scan to an index only scan. This has improved this query's performance by orders of magnitude when accounting for large scale workloads. \n",
    "\n",
    "The `INCLUDE` clause plays an essential role in making queries more efficient and indexes more useful.  In the previous cell, the `product_name` was added to the index by using the `INCLUDE` clause. Now, the secondary index contains the values of the `product_name` attribute, creating a covering index, reducing a trip to the primary table, also known as the heap in PostgreSQL.\n",
    "\n",
    "For example, if you had not added the `description` attribute in the `INCLUDE` clause, that would have made the query plan an index scan. This means that in our example, although the index was used to locate product_name, the primary table was still accessed to retrieve the data for the `description` column."
   ]
  },
  {
   "cell_type": "markdown",
   "metadata": {},
   "source": [
    "### Unique Indexes\n",
    "You can disallow a column from having duplicate values by using a unique constraint as shown in the following cell."
   ]
  },
  {
   "cell_type": "code",
   "execution_count": null,
   "metadata": {
    "vscode": {
     "languageId": "shellscript"
    }
   },
   "outputs": [],
   "source": [
    "%%bash -s \"$MY_YB_PATH\"  \n",
    "YB_PATH=${1}\n",
    "cd $YB_PATH\n",
    "\n",
    "# Query Plan\n",
    "./bin/ycqlsh --execute \"\n",
    "  CREATE UNIQUE INDEX idx_unique_product_by_id \n",
    "  ON db_ybu.tbl_products_by_category(product_id)\n",
    "  INCLUDE(description);\n",
    "\"  \n",
    "  \n",
    "./bin/ycqlsh --execute \"\n",
    "  DESC db_ybu.tbl_products_by_category\n",
    "\"  \n",
    "# This statement will cause an error since duplicate values for the \n",
    "# product_id are not allowed, 87c7624a-4af5-4347-922d-ab43ab32476b.\n",
    "./bin/ycqlsh --execute \"\n",
    "  INSERT INTO tbl_products_by_category (\n",
    "    product_name, \n",
    "    description, \n",
    "    price, \n",
    "    category,\n",
    "    product_id \n",
    "  ) VALUES (\n",
    "    'Guard dogs',\n",
    "    'Doberman Pinchers',\n",
    "    643.99,\n",
    "    'Security',\n",
    "    87c7624a-4af5-4347-922d-ab43ab32476b\n",
    "  );\n",
    "\""
   ]
  },
  {
   "cell_type": "markdown",
   "metadata": {},
   "source": [
    "#### Partial Indexes\n",
    "\n",
    "Use a range partition to reduce the amount of data that requires scanning.\n",
    "In this index, you will partition all products over $30 in the Office Supply category. "
   ]
  },
  {
   "cell_type": "code",
   "execution_count": null,
   "metadata": {
    "vscode": {
     "languageId": "shellscript"
    }
   },
   "outputs": [],
   "source": [
    "%%bash -s \"$MY_YB_PATH\"  \n",
    "YB_PATH=${1}\n",
    "cd $YB_PATH\n",
    "\n",
    "# Query Plan\n",
    "./bin/ycqlsh --execute \"\n",
    "  CREATE INDEX ON db_ybu.tbl_products_by_category(price) INCLUDE (description, product_name) WHERE price > 30 and category = 'Office Supplies';\n",
    "\"\n",
    "\n",
    "./bin/ycqlsh --execute \"\n",
    "  DESC db_ybu.tbl_products_by_category\n",
    "\"  "
   ]
  },
  {
   "cell_type": "markdown",
   "metadata": {
    "vscode": {
     "languageId": "shellscript"
    }
   },
   "source": [
    "#### Collections\n",
    "More complex data structures allow YCQL to store data sets that offers more flexibility in its data model capabilities. Very important when a trying to reduce the amount of tables that need to be queried."
   ]
  },
  {
   "cell_type": "code",
   "execution_count": null,
   "metadata": {
    "vscode": {
     "languageId": "shellscript"
    }
   },
   "outputs": [],
   "source": [
    "%%bash -s \"$MY_YB_PATH\"  \n",
    "YB_PATH=${1}\n",
    "cd $YB_PATH\n",
    "\n",
    "# Collection: Create a column with a list containing text elements\n",
    "./bin/ycqlsh --execute \"ALTER TABLE db_ybu.tbl_products_by_category ADD warehouse_ids LIST<TEXT>;\"\n",
    "./bin/ycqlsh --execute \"DESC db_ybu.tbl_products_by_category\""
   ]
  },
  {
   "cell_type": "code",
   "execution_count": null,
   "metadata": {
    "vscode": {
     "languageId": "shellscript"
    }
   },
   "outputs": [],
   "source": [
    "%%bash -s \"$MY_YB_PATH\"  \n",
    "YB_PATH=${1}\n",
    "cd $YB_PATH\n",
    "\n",
    "# Collection: Create a column for a set containing text elements\n",
    "./bin/ycqlsh --execute \"ALTER TABLE db_ybu.tbl_products_by_category ADD tags SET<TEXT>;\"\n",
    "./bin/ycqlsh --execute \"DESC db_ybu.tbl_products_by_category\""
   ]
  },
  {
   "cell_type": "code",
   "execution_count": null,
   "metadata": {
    "vscode": {
     "languageId": "shellscript"
    }
   },
   "outputs": [],
   "source": [
    "%%bash -s \"$MY_YB_PATH\"  \n",
    "YB_PATH=${1}\n",
    "cd $YB_PATH\n",
    "\n",
    "# Frozen Collection\n",
    "./bin/ycqlsh --execute \"\n",
    "  ALTER TABLE db_ybu.tbl_products_by_category ADD store_locations FROZEN<LIST<TEXT>>;\n",
    "\"\n",
    "\n",
    "./bin/ycqlsh --execute \"\n",
    "  DESC db_ybu.tbl_products_by_category\n",
    "\""
   ]
  },
  {
   "cell_type": "markdown",
   "metadata": {},
   "source": [
    "#### Frozen Collections\n",
    "In the preceding cell, note that a frozen collection cannot have its elements updated. The collection's elements are immutable. The value can be dropped, but not manipulated."
   ]
  },
  {
   "cell_type": "markdown",
   "metadata": {},
   "source": [
    "#### JSON\n",
    "\n",
    "JSONB is considered the best way to utilize complex data structures since in YCQL, JSONB is searchable. This is not true of the other collections in YCQL. Also note that collections can be used in JSON as well. Run the following cell and note the pattern necessary to write a JSON object to a table in YCQL."
   ]
  },
  {
   "cell_type": "code",
   "execution_count": null,
   "metadata": {
    "vscode": {
     "languageId": "shellscript"
    }
   },
   "outputs": [],
   "source": [
    "%%bash -s \"$MY_YB_PATH\"  \n",
    "YB_PATH=${1}\n",
    "cd $YB_PATH\n",
    "\n",
    "# Query Plan\n",
    "./bin/ycqlsh --execute \"\n",
    "  INSERT INTO db_ybu.tbl_products_by_category (\n",
    "    category, \n",
    "    price, \n",
    "    product_id, \n",
    "    sku_details\n",
    "  ) VALUES (\n",
    "    'Grocery',\n",
    "    9.99,\n",
    "    6eb8d774-8b03-4457-a8e9-710339ca7165,\n",
    "    '{\n",
    "      \"product_id\": \"6eb8d774-8b03-4457-a8e9-710339ca7165\",\n",
    "      \"warehouse_sku\": \"8jk39d03-8b03-4457-a8e9-710339ca7165\"\n",
    "    }'\n",
    "  );\n",
    "\"\n",
    "\n",
    "./bin/ycqlsh --execute \"\n",
    "  SELECT * FROM db_ybu.tbl_products_by_category;\n",
    "\""
   ]
  },
  {
   "cell_type": "markdown",
   "metadata": {},
   "source": [
    "In the preceding cell, note the syntax necessary to insert a JSON object into the table. Outside the curly brackets are single quotes, where inside the brackets there are double quotes."
   ]
  },
  {
   "cell_type": "markdown",
   "metadata": {},
   "source": [
    "#### JSONB Index\n",
    "\n",
    "JSONB is considered the best way to utilize complex data structures since in YCQL, JSONB is searchable."
   ]
  },
  {
   "cell_type": "code",
   "execution_count": null,
   "metadata": {
    "vscode": {
     "languageId": "shellscript"
    }
   },
   "outputs": [],
   "source": [
    "%%bash -s \"$MY_YB_PATH\"  \n",
    "YB_PATH=${1}\n",
    "cd $YB_PATH\n",
    "\n",
    "# Query Plan\n",
    "./bin/ycqlsh --execute \"\n",
    "  CREATE INDEX idx_sku_details_name ON db_ybu.tbl_products_by_category((sku_details->>'Name'));\n",
    "\"\n",
    "\n",
    "./bin/ycqlsh --execute \"\n",
    "  DESC  db_ybu.tbl_products_by_category\n",
    "\"\n",
    "\n",
    "./bin/ycqlsh --execute \"\n",
    "  EXPLAIN SELECT category, price, product_id FROM db_ybu.tbl_products_by_category WHERE (sku_details->>'Name')=?;\n",
    "\""
   ]
  },
  {
   "cell_type": "markdown",
   "metadata": {},
   "source": [
    "In the preceding cell, note the syntax that is required to create an index using a JSON key. Also note the syntax used to search by the key in a JSON object."
   ]
  },
  {
   "cell_type": "markdown",
   "metadata": {},
   "source": [
    "### Time to Live\n",
    "\n",
    "YCQL offers data expiration. In the context of data modelling, removing \"old\" or deprecated data can improve database operational costs as well as storage costs."
   ]
  },
  {
   "cell_type": "code",
   "execution_count": null,
   "metadata": {
    "vscode": {
     "languageId": "shellscript"
    }
   },
   "outputs": [],
   "source": [
    "%%bash -s \"$MY_YB_PATH\"  \n",
    "YB_PATH=${1}\n",
    "cd $YB_PATH\n",
    "\n",
    "# Query Plan\n",
    "./bin/ycqlsh --execute \"\n",
    "  CREATE TABLE db_ybu.tbl_todolists_by_user (\n",
    "    user_id BIGINT, \n",
    "    todolist_name TEXT, \n",
    "    todolist_id UUID, \n",
    "    is_public BOOLEAN, \n",
    "    PRIMARY KEY((user_id), todolist_name)\n",
    "  ) \n",
    "  WITH CLUSTERING ORDER BY (todolist_name DESC);\n",
    "\""
   ]
  },
  {
   "cell_type": "markdown",
   "metadata": {},
   "source": [
    "In the following cell, a row is added to the table with a time-to-live of 5 seconds. Once the time has expired, notice that the row is no longer in the table. This is a TTL scoped to the data row."
   ]
  },
  {
   "cell_type": "code",
   "execution_count": null,
   "metadata": {
    "vscode": {
     "languageId": "shellscript"
    }
   },
   "outputs": [],
   "source": [
    "%%bash -s \"$MY_YB_PATH\"  \n",
    "YB_PATH=${1}\n",
    "cd $YB_PATH\n",
    "\n",
    "./bin/ycqlsh --execute \"\n",
    "  INSERT INTO db_ybu.tbl_wishlists_by_user(\n",
    "      user_id, \n",
    "      wishlist_id, \n",
    "      name, \n",
    "      is_public\n",
    "    ) VALUES (\n",
    "      'Mark', \n",
    "      'Grocery', \n",
    "      2a70494e-6b68-4739-b3e0-ff06aa0a2d67, \n",
    "      true\n",
    "    ) \n",
    "    USING TTL 5;\n",
    "  \"  "
   ]
  },
  {
   "cell_type": "code",
   "execution_count": null,
   "metadata": {
    "vscode": {
     "languageId": "shellscript"
    }
   },
   "outputs": [],
   "source": [
    "%%bash -s \"$MY_YB_PATH\"  \n",
    "YB_PATH=${1}\n",
    "cd $YB_PATH\n",
    "   \n",
    "./bin/ycqlsh --execute \"SELECT * FROM db_ybu.tbl_todolists_by_user;\"  "
   ]
  },
  {
   "cell_type": "markdown",
   "metadata": {},
   "source": [
    "If the row is still visible, wait a few more seconds to run the preceding cell. This will verify that the row has expired as expected."
   ]
  },
  {
   "cell_type": "markdown",
   "metadata": {
    "deletable": false,
    "editable": false
   },
   "source": [
    "---\n",
    "# All done!\n",
    "In this lab, you completed the following:\n",
    "\n",
    "- Setup\n",
    "  - Created the `db_ybu` database with `ycqlsh`\n",
    "  - Created tables and loaded data using DDL and DML scripts"
   ]
  }
 ],
 "metadata": {
  "kernelspec": {
   "display_name": "Python 3.9.4 64-bit ('3.9.4': pyenv)",
   "language": "python",
   "name": "python3"
  },
  "language_info": {
   "codemirror_mode": {
    "name": "ipython",
    "version": 3
   },
   "file_extension": ".py",
   "mimetype": "text/x-python",
   "name": "python",
   "nbconvert_exporter": "python",
   "pygments_lexer": "ipython3",
   "version": "3.9.4"
  },
  "orig_nbformat": 4,
  "vscode": {
   "interpreter": {
    "hash": "0857ffcb80af2fb548f76c195b67e2e5b75e102946b97bbf401092901016b64a"
   }
  }
 },
 "nbformat": 4,
 "nbformat_minor": 2
}
