{
 "cells": [
  {
   "attachments": {},
   "cell_type": "markdown",
   "metadata": {
    "deletable": false,
    "editable": false
   },
   "source": [
    "<div style=\"width:100%; background-color: #000041\"><a target=\"_blank\\\" href=\"http://university.yugabyte.com\\\"><img src=\"assets/YBU_Logo.webp\" /></a></div><br>\n",
    "\n",
    "> **YugabyteDB YCQL Development**\n",
    ">\n",
    "> Enroll for free at [Yugabyte University](https://university.yugabyte.com/courses/yugabytedb-ycql-development).\n",
    ">\n",
    "\n",
    "\n",
    "# Language fundamentals\n",
    "This notebook showcases various Data Definition Language (DDL) and Data Manipulation Language (DML) statements for Yugabyte Cloud Query Language (YCQL).\n",
    "\n",
    "YCQL is an Apacha Cassandra compatible language. YCQL is one of two Yugabyte Query Language APIs for YugabyteDB, the world's #1, open source, distributed SQL database.\n",
    "\n",
    "In addition to learning about YCQL, a learning goal for this notebook is to also demystify how YugabyteDB stores data in its distributed document store, DocDB."
   ]
  },
  {
   "attachments": {},
   "cell_type": "markdown",
   "metadata": {
    "deletable": false,
    "editable": false
   },
   "source": [
    "## Notebook requirements\n",
    "You must first create the variables in the `01_Introduction.ipynb` notebook.\n",
    "\n",
    "### Import the notebook variables \n",
    "\n",
    "The following Python cell reads the stored variables created in the `01_Setup.ipynb` notebook. To run the script, select Execute Cell (Play Arrow) in the left gutter of the cell."
   ]
  },
  {
   "cell_type": "code",
   "execution_count": null,
   "metadata": {},
   "outputs": [],
   "source": [
    "%store -r MY_DB_NAME\n",
    "%store -r MY_YB_PATH\n",
    "%store -r MY_YB_PATH_DATA\n",
    "%store -r MY_GITPOD_WORKSPACE_URL\n",
    "%store -r MY_HOST_IPv4_01\n",
    "%store -r MY_HOST_IPv4_02\n",
    "%store -r MY_HOST_IPv4_03\n",
    "%store -r MY_NOTEBOOK_DIR\n",
    "%store -r MY_TSERVER_WEBSERVER_PORT\n",
    "%store -r MY_NOTEBOOK_DATA_FOLDER\n",
    "%store -r MY_YB_MASTER_HOST_GITPOD_URL\n",
    "%store -r MY_YB_TSERVER_HOST_GITPOD_URL\n",
    "%store -r MY_DATA_DDL_FILE\n",
    "%store -r MY_DATA_DML_FILE"
   ]
  },
  {
   "attachments": {},
   "cell_type": "markdown",
   "metadata": {},
   "source": [
    "---\n",
    "## DDL: Commands for YCQL"
   ]
  },
  {
   "attachments": {},
   "cell_type": "markdown",
   "metadata": {
    "deletable": false,
    "editable": false
   },
   "source": [
    "### Create the `ks_ybu` keyspace\n",
    "Run the following cells to connect to the YugabyteDB cluster using `ycqlsh`. Then, complete the following tasks:\n",
    "- Create the `ks_ybu` keyspace \n",
    "- Create the `tbl_employees` table\n",
    "- Describe the  `tbl_employees` table\n",
    "\n",
    "Drop `ks_ybu` if it exists. If the keyspace has a table in it, the following will throw an error:"
   ]
  },
  {
   "cell_type": "code",
   "execution_count": null,
   "metadata": {
    "vscode": {
     "languageId": "shellscript"
    }
   },
   "outputs": [],
   "source": [
    "%%bash -s \"$MY_YB_PATH\" \"$MY_DB_NAME\"   # Drop the keyspace, ks_ybu. DB_NAME=ks_ybu.\n",
    "YB_PATH=${1}\n",
    "DB_NAME=${2}\n",
    "cd $YB_PATH/bin\n",
    "\n",
    "# shell variable sustituton, DB_NAME=ks_ybu\n",
    "./ycqlsh -r -e \"\n",
    "  drop keyspace if exists $DB_NAME;\n",
    "  \""
   ]
  },
  {
   "attachments": {},
   "cell_type": "markdown",
   "metadata": {},
   "source": [
    "Create the keyspace, `ks_ybu`."
   ]
  },
  {
   "cell_type": "code",
   "execution_count": null,
   "metadata": {
    "vscode": {
     "languageId": "shellscript"
    }
   },
   "outputs": [],
   "source": [
    "%%bash -s \"$MY_YB_PATH\" \"$MY_DB_NAME\" # Create the keyspace, ks_ybu. DB_NAME=ks_ybu.\n",
    "YB_PATH=${1}\n",
    "DB_NAME=${2}\n",
    "cd $YB_PATH/bin\n",
    "\n",
    "# shell variable sustituton, DB_NAME=ks_ybu\n",
    "./ycqlsh -r -e \"\n",
    "  create keyspace if not exists $DB_NAME;\n",
    "  \""
   ]
  },
  {
   "attachments": {},
   "cell_type": "markdown",
   "metadata": {},
   "source": [
    "Confirm the keyspace creation."
   ]
  },
  {
   "cell_type": "code",
   "execution_count": null,
   "metadata": {
    "vscode": {
     "languageId": "shellscript"
    }
   },
   "outputs": [],
   "source": [
    "%%bash -s \"$MY_YB_PATH\"  \"$MY_DB_NAME\" # Create the keyspace, ks_ybu. DB_NAME=ks_ybu.\n",
    "YB_PATH=${1}\n",
    "DB_NAME=${2}\n",
    "cd $YB_PATH/bin\n",
    "\n",
    "# shell variable sustituton, DB_NAME=ks_ybu\n",
    "./ycqlsh -r -e \"\n",
    "  describe keyspace $DB_NAME;\n",
    "  \""
   ]
  },
  {
   "attachments": {},
   "cell_type": "markdown",
   "metadata": {},
   "source": [
    "### Create the `tbl_employees` table"
   ]
  },
  {
   "attachments": {},
   "cell_type": "markdown",
   "metadata": {},
   "source": [
    "If the table already exists, the command will drop the table."
   ]
  },
  {
   "cell_type": "code",
   "execution_count": null,
   "metadata": {
    "vscode": {
     "languageId": "shellscript"
    }
   },
   "outputs": [],
   "source": [
    "%%bash -s \"$MY_YB_PATH\"  \"$MY_DB_NAME\"  # Drop the table if it exists. DB_NAME=ks_ybu.\n",
    "YB_PATH=${1}\n",
    "DB_NAME=${2}  \n",
    "cd $YB_PATH/bin\n",
    "\n",
    "./ycqlsh -r -k $DB_NAME -e \"\n",
    "  drop table if exists tbl_employees;\n",
    "  \""
   ]
  },
  {
   "attachments": {},
   "cell_type": "markdown",
   "metadata": {},
   "source": [
    "Create the table, `tbl_employees`. \n",
    "\n",
    "> Note: A primary key is required for all user tables in a keyspace."
   ]
  },
  {
   "cell_type": "code",
   "execution_count": null,
   "metadata": {
    "vscode": {
     "languageId": "shellscript"
    }
   },
   "outputs": [],
   "source": [
    "%%bash -s \"$MY_YB_PATH\"  \"$MY_DB_NAME\"  # Create the table.  DB_NAME=ks_ybu.\n",
    "YB_PATH=${1}\n",
    "DB_NAME=${2}  \n",
    "cd $YB_PATH/bin\n",
    "\n",
    "./ycqlsh -r -k $DB_NAME  -e \"\n",
    "  create table if not exists tbl_employees ( \n",
    "    id int, \n",
    "    full_name text, \n",
    "    email text,\n",
    "    year int,\n",
    "    primary key (id, full_name) \n",
    "    );\n",
    "  \""
   ]
  },
  {
   "attachments": {},
   "cell_type": "markdown",
   "metadata": {},
   "source": [
    "Describe `tbl_employees`. \n",
    "\n",
    "> Question:\n",
    ">   \n",
    "> What is different about the table description and the create table statement?"
   ]
  },
  {
   "cell_type": "code",
   "execution_count": null,
   "metadata": {
    "vscode": {
     "languageId": "shellscript"
    }
   },
   "outputs": [],
   "source": [
    "%%bash -s \"$MY_YB_PATH\" \"$MY_DB_NAME\"  # Describe the table. DB_NAME=ks_ybu.\n",
    "YB_PATH=${1}\n",
    "DB_NAME=${2}  \n",
    "\n",
    "cd $YB_PATH/bin\n",
    "\n",
    "./ycqlsh -r -k $DB_NAME -e \"\n",
    "  desc tbl_employees;\n",
    "\""
   ]
  },
  {
   "attachments": {},
   "cell_type": "markdown",
   "metadata": {},
   "source": [
    "> Answer:\n",
    ">   \n",
    "> The description of the table reveals that the primary key consists of two key columns. The first key column is `id`. The second key column is `full_name`. `id` is the partition key for the table. The clustering key column is `full_name`. Ascending is the order of the clustering key column."
   ]
  },
  {
   "attachments": {},
   "cell_type": "markdown",
   "metadata": {},
   "source": [
    "---\n",
    "## DML: Write with `insert`\n",
    "\n",
    "Insert rows into the `tbl_employees` table."
   ]
  },
  {
   "cell_type": "code",
   "execution_count": null,
   "metadata": {
    "vscode": {
     "languageId": "shellscript"
    }
   },
   "outputs": [],
   "source": [
    "%%bash -s \"$MY_YB_PATH\"  \"$MY_DB_NAME\"   # Populate the employees table. DB_NAME=ks_ybu.\n",
    "YB_PATH=${1}\n",
    "DB_NAME=${2}  \n",
    "\n",
    "cd $YB_PATH/bin\n",
    "\n",
    "./ycqlsh -r -k $DB_NAME  -e \"\n",
    "  insert into tbl_employees (id, full_name, email, year) values (1, 'Bruce Wayne', 'batman@yb.com', 2020);\n",
    "  insert into tbl_employees (id, full_name, email, year) values (2, 'Dick Grayson', 'robin@yb.com', 2020);\n",
    "  insert into tbl_employees (id, full_name, email, year) values (4, 'Clark Kent', 'superman@yb.com', 2021);\n",
    "  insert into tbl_employees (id, full_name, email, year) values (5, 'Kara Zor-El' ,'supergirl@yb.com', 2023); \n",
    "  insert into tbl_employees (id, full_name, email, year) values (6, 'Natalie Reed','ladyblackhawk@yb.com',2020);\n",
    "  insert into tbl_employees (id, full_name, email, year) values (7, 'Peter Parker', 'spiderman@yb.com', 2021);\n",
    "  insert into tbl_employees (id, full_name, email, year) values (8, 'Diana Prince', 'wonderwoman@yb.com', 2021);\n",
    "  insert into tbl_employees (id, full_name, email, year) values (9, 'Harold Jordan','greenlantern@yb.com', 2022);\n",
    "  insert into tbl_employees (id, full_name, email, year) values (10, 'Carter Hal', 'hawkman@yb.com', 2022);\n",
    "  insert into tbl_employees (id, full_name, email, year) values (11, 'Michael Holt', 'mrterrific@yb.com',2022);\n",
    "\""
   ]
  },
  {
   "attachments": {},
   "cell_type": "markdown",
   "metadata": {},
   "source": [
    "Verify that the preceding inserted rows into the table."
   ]
  },
  {
   "cell_type": "code",
   "execution_count": null,
   "metadata": {
    "vscode": {
     "languageId": "shellscript"
    }
   },
   "outputs": [],
   "source": [
    "%%bash -s \"$MY_YB_PATH\"  \"$MY_DB_NAME\"   # Query the table. DB_NAME=ks_ybu.\n",
    "YB_PATH=${1}\n",
    "DB_NAME=${2}  \n",
    "\n",
    "cd $YB_PATH/bin\n",
    "\n",
    "./ycqlsh -r -k $DB_NAME  -e \"\n",
    "  select * from tbl_employees;\n",
    "\""
   ]
  },
  {
   "attachments": {},
   "cell_type": "markdown",
   "metadata": {},
   "source": [
    "> Question:\n",
    ">\n",
    ">  In terms of the result order, what's interesting about the results above? How does it differ from the insert statement order?"
   ]
  },
  {
   "attachments": {},
   "cell_type": "markdown",
   "metadata": {},
   "source": [
    "---\n",
    "## Partition key, partition key hash, and the `partition_hash()` built-in function\n",
    "For every row in a table, the distributed document store of YugabyteDB saves a partition key, partition key hash, and any clustering keys as a `DocKey`. In just a few more notebook cells, you will learn more about a `DocKey` and `DocDB`.\n",
    "\n",
    "The saved partition key hash is a hexadecimal value. The `partition_hash()` function is a special function that only works with partition hash columns. The function converts the hexadecimal value for a partition key hash into an integer value. The range of possible integer values for a partition key hash is from `0` to `65,535`.\n",
    "\n",
    "In this exercise, using the built-in function, `partition_hash()`, you will examine the partition key and partition key hash for `tbl_employees`. \n",
    "\n",
    "To begin, review the DLL for `tbl_employees`:"
   ]
  },
  {
   "cell_type": "code",
   "execution_count": null,
   "metadata": {
    "vscode": {
     "languageId": "shellscript"
    }
   },
   "outputs": [],
   "source": [
    "%%bash -s \"$MY_YB_PATH\" \"$MY_DB_NAME\"  # Describe the table. DB_NAME=ks_ybu.\n",
    "YB_PATH=${1}\n",
    "DB_NAME=${2}  \n",
    "\n",
    "cd $YB_PATH/bin\n",
    "\n",
    "./ycqlsh -r -k $DB_NAME -e \"\n",
    "  desc tbl_employees;\n",
    "\""
   ]
  },
  {
   "attachments": {},
   "cell_type": "markdown",
   "metadata": {},
   "source": [
    "The primary key for the table has two columns. The first column is the partition key column. The second column is the clustering key column. Using the  `partition_hash()` built-in function, you can view the integer value of the partition key hash."
   ]
  },
  {
   "cell_type": "code",
   "execution_count": null,
   "metadata": {
    "vscode": {
     "languageId": "shellscript"
    }
   },
   "outputs": [],
   "source": [
    "%%bash -s \"$MY_YB_PATH\" \"$MY_DB_NAME\"  # Describe the table. DB_NAME=ks_ybu.\n",
    "YB_PATH=${1}\n",
    "DB_NAME=${2}  \n",
    "\n",
    "cd $YB_PATH/bin\n",
    "\n",
    "./ycqlsh -r -k $DB_NAME -e \"\n",
    "  select partition_hash(id) as partition_hash_key, id, full_name from tbl_employees;\n",
    "\""
   ]
  },
  {
   "attachments": {},
   "cell_type": "markdown",
   "metadata": {},
   "source": [
    "> Question:\n",
    ">\n",
    "> In terms of the result order, what's interesting about the results above? How does it differ from the insert statement order?\n",
    ">\n",
    "> Answer:\n",
    ">\n",
    "> The rows are sorted by the partition key hash! \n",
    ">\n",
    "\n",
    "The `partition_hash()` function reveals, in part, how YugabyteDB stores data. As mentioned previously, for every row in a table, the distributed document store of YugabyteDB saves a partition key, partition key hash, and any clustering keys as a `DocKey`. In just a few more notebook cells, you will learn more about a `DocKey` and `DocDB`."
   ]
  },
  {
   "attachments": {},
   "cell_type": "markdown",
   "metadata": {},
   "source": [
    "---\n",
    "## DML: Upsert with `insert`\n",
    "\n",
    "An `insert` statement exhibit an upsert behavior for a row with an existing primary key. \n",
    "\n",
    "A row already exists in `tbl_employees` for the primary key of `id=2` and `full_name='Dick Grasyon'`. The following statement will update the `email` and `year` columns for the row:\n",
    "\n",
    "```\n",
    "insert into tbl_employees (id, full_name, email, year) values (2, 'Dick Grayson', 'nightwingc@yb.com', 2022);\n",
    "```\n",
    "\n",
    "To begin, run the following `select` statement:"
   ]
  },
  {
   "cell_type": "code",
   "execution_count": null,
   "metadata": {
    "vscode": {
     "languageId": "shellscript"
    }
   },
   "outputs": [],
   "source": [
    "%%bash -s \"$MY_YB_PATH\"  \"$MY_DB_NAME\"   # Query the table. DB_NAME=ks_ybu.\n",
    "YB_PATH=${1}\n",
    "DB_NAME=${2}  \n",
    "\n",
    "cd $YB_PATH/bin\n",
    "\n",
    "./ycqlsh -r -k $DB_NAME  -e \"\n",
    "  select * from tbl_employees where id = 2;\n",
    "\""
   ]
  },
  {
   "attachments": {},
   "cell_type": "markdown",
   "metadata": {},
   "source": [
    "Next, run the following `insert` statement:"
   ]
  },
  {
   "cell_type": "code",
   "execution_count": null,
   "metadata": {
    "vscode": {
     "languageId": "shellscript"
    }
   },
   "outputs": [],
   "source": [
    "%%bash -s \"$MY_YB_PATH\"  \"$MY_DB_NAME\"   # Query the table.  DB_NAME=ks_ybu.\n",
    "YB_PATH=${1}\n",
    "DB_NAME=${2}  \n",
    "\n",
    "cd $YB_PATH/bin\n",
    "\n",
    "./ycqlsh -r -k $DB_NAME  -e \"\n",
    "  insert into tbl_employees (id, full_name, email, year) values (2, 'Dick Grayson', 'nightwingc@yb.com', 2022);\n",
    "\"\n"
   ]
  },
  {
   "attachments": {},
   "cell_type": "markdown",
   "metadata": {},
   "source": [
    "To view the results of the upsert, run the previous `select` statement."
   ]
  },
  {
   "cell_type": "code",
   "execution_count": null,
   "metadata": {
    "vscode": {
     "languageId": "shellscript"
    }
   },
   "outputs": [],
   "source": [
    "%%bash -s \"$MY_YB_PATH\"  \"$MY_DB_NAME\"   # Query the table. DB_NAME=ks_ybu.\n",
    "YB_PATH=${1}\n",
    "DB_NAME=${2}  \n",
    "\n",
    "cd $YB_PATH/bin\n",
    "\n",
    "./ycqlsh -r -k $DB_NAME  -e \"\n",
    "  select * from tbl_employees where id = 2;\n",
    "\""
   ]
  },
  {
   "attachments": {},
   "cell_type": "markdown",
   "metadata": {},
   "source": [
    "---\n",
    "## Distributed Document Store (DocDB)\n",
    "For every row in a table, the distributed document store of YugabyteDB saves a partition key, partition key hash, and any clustering keys as a `DocKey`. The partition key for the table determines how the consistent hash sharding algorithm of YugabyteDB distributes rows into tablets. A tablet is a customized version of RocksDB, a persistent key-value store.\n",
    "\n",
    "A tablet in YCQL has at least one tablet leader per YB-TServer node in the cluster. The replication factor for the cluster determines the number of followers per tablet leader. \n",
    "\n",
    "Your YugabyteDB cluster in this Gitpod instance is a three node cluster. On each node there is a YB-Master services and a YB-TServer service. \n",
    "\n",
    "The cluster is also running with a replication factor of 3. This means that for each tablet leader, there is are two tablet followers.\n",
    "\n",
    "Run the following cell to confirm this configuration:"
   ]
  },
  {
   "cell_type": "code",
   "execution_count": null,
   "metadata": {
    "vscode": {
     "languageId": "shellscript"
    }
   },
   "outputs": [],
   "source": [
    "%%bash -s \"$MY_YB_PATH\"  # Status of cluster with yb-ctl.\n",
    "YB_PATH=${1}\n",
    "cd $YB_PATH/bin\n",
    "\n",
    "./yb-ctl status | grep -A 1 -B 1  \"Replication Factor\""
   ]
  },
  {
   "attachments": {},
   "cell_type": "markdown",
   "metadata": {},
   "source": [
    "Your cluster also is running with a global flag that automatically configures the number of tablets per node per table at `1`. \n",
    "\n",
    "> Note:\n",
    "> If your are running locally, this cell requires `html2text`. \n",
    "> To install for your local OS, try the following:\n",
    "> - Ubuntu: \n",
    ">   - `sudo apt-get install html2text`\n",
    "> - OS X: \n",
    ">   - `brew install html2text`\n",
    "> "
   ]
  },
  {
   "cell_type": "code",
   "execution_count": null,
   "metadata": {
    "vscode": {
     "languageId": "shellscript"
    }
   },
   "outputs": [],
   "source": [
    "%%bash -s \"$MY_HOST_IPv4_01\" \n",
    "HOST_IPv4=$( echo \"${1}\" | tr -d \" \")\n",
    "MY_URL=\"http://${HOST_IPv4}:7000/varz\"\n",
    "\n",
    "curl -s  ${MY_URL} | html2text | grep  yb_num_shards_per_tserver "
   ]
  },
  {
   "attachments": {},
   "cell_type": "markdown",
   "metadata": {},
   "source": [
    "This means that the table, `tbl_employees`, automatically has 3 tablet leaders (one for each cluster node) and 6 tablet followers (2 for each leader). "
   ]
  },
  {
   "attachments": {},
   "cell_type": "markdown",
   "metadata": {},
   "source": [
    "### DocDB, DocKey, and SubDocKey\n",
    "A tablet leader persists data to disk in two forms: as a Write Ahead Log (WAL) file and then as a Sorted Sequence Table (SST) file. The WAL file for a tablet leader replicates to the tablet followers in its tablet-peer, raft consensus group. At a configurable size, the WAL file flushes to disk and persists as a SST file. As a SST file grows, it will undergo compaction using a universal compaction strategy. By default, tablet data grows to about 100 GB in size before a tablet splits.\n",
    "\n",
    "The SST file stores row data in a particular schema for RocksDB. This schema for YugabyteDB is known as DocDB. It consists of a DocKey and document values.  A DocKey is made up of a partition key hash, a partition key value, and any cluster key values. Document values are sub-keys of the DocKey. A SubDocKey contains a column id, a hybrid-logical clock time, a write order, and the actual value. Here is an example:\n",
    "\n",
    "```\n",
    "SubDocKey(DocKey(0x0a73, [5], [\"Kara Zor-El\"]), [SystemColumnId(0); HT{ physical: 1672165185893549 }]) -> null\n",
    "SubDocKey(DocKey(0x0a73, [5], [\"Kara Zor-El\"]), [ColumnId(2); HT{ physical: 1672165185893549 w: 1 }]) -> \"supergirl@yb.com\"\n",
    "SubDocKey(DocKey(0x0a73, [5], [\"Kara Zor-El\"]), [ColumnId(3); HT{ physical: 1672165185893549 w: 2 }]) -> 2023\n",
    "```\n",
    "\n",
    "In this exercise, you will decode a SST file for a tablet leader for `tbl_employees`."
   ]
  },
  {
   "attachments": {},
   "cell_type": "markdown",
   "metadata": {},
   "source": [
    "#### Select a YB-TServer host\n",
    "Set the host variable for one of the nodes. All three nodes in the cluster are running a Tablet Server (YB-TServer). You can comment/uncomment lines 8-10 as needed."
   ]
  },
  {
   "cell_type": "code",
   "execution_count": null,
   "metadata": {
    "vscode": {
     "languageId": "shellscript"
    }
   },
   "outputs": [],
   "source": [
    "%%bash -s \"$MY_HOST_IPv4_01\" \"$MY_HOST_IPv4_02\" \"$MY_HOST_IPv4_03\" --out MY_HOST_IPv4\n",
    "HOST_IPv4_01=$( echo \"${1}\" | tr -d \" \")\n",
    "HOST_IPv4_02=$( echo \"${2}\" | tr -d \" \")\n",
    "HOST_IPv4_03=$( echo \"${3}\" | tr -d \" \")\n",
    "\n",
    "# change the hosts for different tablet leaders\n",
    "MY_HOST_IPv4=$HOST_IPv4_01\n",
    "#MY_HOST_IPv4=$HOST_IPv4_02\n",
    "#MY_HOST_IPv4=$HOST_IPv4_03\n",
    "\n",
    "echo ${MY_HOST_IPv4}"
   ]
  },
  {
   "attachments": {},
   "cell_type": "markdown",
   "metadata": {},
   "source": [
    "Store the select host variable."
   ]
  },
  {
   "cell_type": "code",
   "execution_count": null,
   "metadata": {},
   "outputs": [],
   "source": [
    "%store MY_HOST_IPv4\n",
    "print(MY_HOST_IPv4)"
   ]
  },
  {
   "attachments": {},
   "cell_type": "markdown",
   "metadata": {},
   "source": [
    "Save the table name as a variable."
   ]
  },
  {
   "cell_type": "code",
   "execution_count": null,
   "metadata": {},
   "outputs": [],
   "source": [
    "MY_OBJECT_NAME=\"tbl_employees\"\n",
    "%store MY_OBJECT_NAME\n",
    "print(MY_OBJECT_NAME)"
   ]
  },
  {
   "attachments": {},
   "cell_type": "markdown",
   "metadata": {},
   "source": [
    "Grep the Table_ID for the the table using `curl` and `jq`.\n",
    "\n",
    "> Note:\n",
    "> If your are running locally, this cell requires `jq`. \n",
    "> To install for your local OS, try the following:\n",
    "> - Ubuntu: \n",
    ">   - `sudo apt-get install jq`\n",
    "> - OS X:\n",
    ">   - `brew install jq`\n",
    "> "
   ]
  },
  {
   "cell_type": "code",
   "execution_count": null,
   "metadata": {
    "vscode": {
     "languageId": "shellscript"
    }
   },
   "outputs": [],
   "source": [
    "%%bash -s \"$MY_OBJECT_NAME\" \"$MY_HOST_IPv4\"  \"$MY_DB_NAME\"  \"$MY_TSERVER_WEBSERVER_PORT\"  --out MY_TABLE_ID\n",
    "OBJECT_NAME=$( echo \"${1}\" | tr -d \" \")\n",
    "HOST_IPv4=$( echo \"${2}\" | tr -d \" \")\n",
    "DB_NAME=$( echo \"${3}\" | tr -d \" \")\n",
    "TSERVER_WEBSERVER_PORT=$( echo \"${4}\" | tr -d \" \")\n",
    "\n",
    "\n",
    "MY_URL=\"http://${HOST_IPv4}:${TSERVER_WEBSERVER_PORT}/metrics\"\n",
    "\n",
    "MY_TABLE_ID=`curl -s --compressed ${MY_URL} | jq -r 'limit(1;  .[] | select(.attributes.namespace_name==\"'${DB_NAME}'\" and .type==\"tablet\" and .attributes.table_name==\"'${OBJECT_NAME}'\") |  .attributes.table_id) '`\n",
    "\n",
    "echo ${MY_TABLE_ID}"
   ]
  },
  {
   "attachments": {},
   "cell_type": "markdown",
   "metadata": {},
   "source": [
    "Store the table_id for the table."
   ]
  },
  {
   "cell_type": "code",
   "execution_count": null,
   "metadata": {},
   "outputs": [],
   "source": [
    "%store MY_TABLE_ID\n",
    "print(MY_TABLE_ID)"
   ]
  },
  {
   "attachments": {},
   "cell_type": "markdown",
   "metadata": {},
   "source": [
    "Get the tablet_id for the tablet leader for the select node host."
   ]
  },
  {
   "cell_type": "code",
   "execution_count": null,
   "metadata": {
    "vscode": {
     "languageId": "shellscript"
    }
   },
   "outputs": [],
   "source": [
    "%%bash -s \"$MY_OBJECT_NAME\" \"$MY_HOST_IPv4\" --out MY_TABLET_ID\n",
    "OBJECT_NAME=$( echo \"${1}\" | tr -d \" \")\n",
    "HOST_IPv4=$( echo \"${2}\" | tr -d \" \")\n",
    "\n",
    "MY_URL=\"http://${HOST_IPv4}:8200/metrics\"\n",
    "\n",
    "TABLET_ID=`curl -s --compressed ${MY_URL} | jq --raw-output ' .[] | select(.attributes.namespace_name==\"ks_ybu\" and .type==\"tablet\" and .attributes.table_name==\"'$OBJECT_NAME'\") | {tablet_id: .id, metrics: .metrics[] | select(.name == (\"is_raft_leader\") ) | select(.value == 1) } | select(.tablet_id) | {tablet_id} | .tablet_id '`\n",
    "\n",
    "echo ${TABLET_ID}"
   ]
  },
  {
   "attachments": {},
   "cell_type": "markdown",
   "metadata": {},
   "source": [
    "Store the tablet_id for the tablet leader."
   ]
  },
  {
   "cell_type": "code",
   "execution_count": null,
   "metadata": {},
   "outputs": [],
   "source": [
    "%store MY_TABLET_ID\n",
    "print(MY_TABLET_ID)"
   ]
  },
  {
   "attachments": {},
   "cell_type": "markdown",
   "metadata": {},
   "source": [
    "Flush the WAL file to a SST file for the given table_id."
   ]
  },
  {
   "cell_type": "code",
   "execution_count": null,
   "metadata": {
    "vscode": {
     "languageId": "shellscript"
    }
   },
   "outputs": [],
   "source": [
    "%%bash -s \"$MY_YB_PATH\" \"$MY_HOST_IPv4\" \"$MY_TABLE_ID\"  # Import file path of Yugabyte and DB name\n",
    "YB_PATH=$( echo \"${1}\" | tr -d \" \")\n",
    "HOST_IPv4=$( echo \"${2}\" | tr -d \" \")\n",
    "TABLE_ID=$( echo \"${3}\" | tr -d \" \")\n",
    "cd $YB_PATH/bin\n",
    "\n",
    "./yb-admin -init_master_addrs ${HOST_IPv4}:7100 flush_table_by_id ${TABLE_ID} 600"
   ]
  },
  {
   "attachments": {},
   "cell_type": "markdown",
   "metadata": {},
   "source": [
    "Dump and decode the SST file in human-readable form.\n",
    "\n",
    "> Note:\n",
    ">\n",
    "> If the following does dump the SST file, it is most likely that there are not any rows written to this tablet. To resolve this issue, you need to select a different Tablet Server host. Return back to [Select a YB-TServer host] and select a different node host."
   ]
  },
  {
   "cell_type": "code",
   "execution_count": null,
   "metadata": {
    "vscode": {
     "languageId": "shellscript"
    }
   },
   "outputs": [],
   "source": [
    "%%bash -s \"$MY_YB_PATH\" \"$MY_YB_PATH_DATA\" \"$MY_TABLE_ID\" \"$MY_TABLET_ID\" # Import file path of Yugabyte and DB name\n",
    "YB_PATH=$( echo \"${1}\" | tr -d \" \")\n",
    "YB_PATH_DATA=$( echo \"${2}\" | tr -d \" \")\n",
    "TABLE_ID=$( echo \"${3}\" | tr -d \" \")\n",
    "TABLET_ID=$( echo \"${4}\" | tr -d \" \")\n",
    "\n",
    "cd $YB_PATH/bin/\n",
    "\n",
    "TABLE_ID_PATH=${YB_PATH_DATA}/node-1/disk-1/yb-data/tserver/data/rocksdb/table-${TABLE_ID}/tablet-${TABLET_ID}\n",
    "#ls -l  ${TABLE_ID_PATH}\n",
    "\n",
    "./sst_dump --command=scan --file=${TABLE_ID_PATH} --output_format=decoded_regulardb"
   ]
  },
  {
   "attachments": {},
   "cell_type": "markdown",
   "metadata": {},
   "source": [
    "---"
   ]
  },
  {
   "attachments": {},
   "cell_type": "markdown",
   "metadata": {},
   "source": [
    "## DML: Query with `select` \n",
    "Run the following cells to observe the differences between:\n",
    "- query all rows of the table \n",
    "- query the table with a where-expression predicate that contains the primary key and a equality operator\n",
    "- query the table with a where-expression predicate that for a range for a regular column"
   ]
  },
  {
   "attachments": {},
   "cell_type": "markdown",
   "metadata": {},
   "source": [
    "Query all the rows from `tbl_employees` using a`select statement` and a wildcard."
   ]
  },
  {
   "cell_type": "code",
   "execution_count": null,
   "metadata": {
    "vscode": {
     "languageId": "shellscript"
    }
   },
   "outputs": [],
   "source": [
    "%%bash -s \"$MY_YB_PATH\"  \"$MY_DB_NAME\" # Read all columns from the employees table\n",
    "YB_PATH=${1}\n",
    "DB_NAME=${2}\n",
    "cd $YB_PATH/bin\n",
    "\n",
    "# DB_NAME=ks_ybu\n",
    "./ycqlsh -r -k $DB_NAME -e \"\n",
    "  select * from ks_ybu.tbl_employees;\n",
    "  \""
   ]
  },
  {
   "attachments": {},
   "cell_type": "markdown",
   "metadata": {},
   "source": [
    "Query the table using a where-expression predicate that contains the primary key and a equality operators."
   ]
  },
  {
   "cell_type": "code",
   "execution_count": null,
   "metadata": {
    "vscode": {
     "languageId": "shellscript"
    }
   },
   "outputs": [],
   "source": [
    "%%bash -s \"$MY_YB_PATH\"  \"$MY_DB_NAME\" # Find an employee id = 3\n",
    "YB_PATH=${1}\n",
    "DB_NAME=${2}\n",
    "cd $YB_PATH/bin\n",
    "\n",
    "# DB_NAME=ks_ybu\n",
    "./ycqlsh -r -k $DB_NAME -e \"\n",
    "  select * from tbl_employees\n",
    "  where id = 2 and full_name='Dick Grayson';\n",
    "\""
   ]
  },
  {
   "attachments": {},
   "cell_type": "markdown",
   "metadata": {},
   "source": [
    "Query the table using where-expression predicate that specifies a range for a regular column."
   ]
  },
  {
   "cell_type": "code",
   "execution_count": null,
   "metadata": {
    "vscode": {
     "languageId": "shellscript"
    }
   },
   "outputs": [],
   "source": [
    "%%bash -s \"$MY_YB_PATH\"  \"$MY_DB_NAME\" # Find an range of values using a predicate\n",
    "YB_PATH=${1}\n",
    "DB_NAME=${2}\n",
    "cd $YB_PATH/bin\n",
    "\n",
    "# DB_NAME=ks_ybu\n",
    "./ycqlsh -r -k $DB_NAME -e \"\n",
    "  select * from tbl_employees \n",
    "  where year > 2020 and year < 2023;\n",
    "\""
   ]
  },
  {
   "attachments": {},
   "cell_type": "markdown",
   "metadata": {},
   "source": [
    "---\n",
    "## DML: Modify with  `update`\n",
    "You can easily update a column value for a primary key value with an `update` statement. To begin, first confirm the row with a `select` query."
   ]
  },
  {
   "cell_type": "code",
   "execution_count": null,
   "metadata": {
    "vscode": {
     "languageId": "shellscript"
    }
   },
   "outputs": [],
   "source": [
    "%%bash -s \"$MY_YB_PATH\"  \"$MY_DB_NAME\"  # Query for id\n",
    "YB_PATH=${1}\n",
    "DB_NAME=${2}\n",
    "cd $YB_PATH/bin\n",
    "\n",
    "# DB_NAME=ks_ybu\n",
    "\n",
    "./ycqlsh -r -k $DB_NAME -e \"\n",
    "  select * from ks_ybu.tbl_employees where id = 2;\n",
    "  \""
   ]
  },
  {
   "attachments": {},
   "cell_type": "markdown",
   "metadata": {},
   "source": [
    "Execute the `update` statement."
   ]
  },
  {
   "cell_type": "code",
   "execution_count": null,
   "metadata": {
    "vscode": {
     "languageId": "shellscript"
    }
   },
   "outputs": [],
   "source": [
    "%%bash -s \"$MY_YB_PATH\"  \"$MY_DB_NAME\"  # Update a column value for a primary key\n",
    "YB_PATH=${1}\n",
    "DB_NAME=${2}\n",
    "cd $YB_PATH/bin\n",
    "\n",
    "# DB_NAME=ks_ybu\n",
    "./ycqlsh -r -k $DB_NAME -e \"\n",
    "  update tbl_employees\n",
    "   set email='robin@yb.com'\n",
    "     , year =2020\n",
    "  where id = 2\n",
    "    and full_name = 'Dick Grayson';\n",
    "  \""
   ]
  },
  {
   "attachments": {},
   "cell_type": "markdown",
   "metadata": {},
   "source": [
    "Confirm the change."
   ]
  },
  {
   "cell_type": "code",
   "execution_count": null,
   "metadata": {
    "vscode": {
     "languageId": "shellscript"
    }
   },
   "outputs": [],
   "source": [
    "%%bash -s \"$MY_YB_PATH\"  \"$MY_DB_NAME\"  # Query for id\n",
    "YB_PATH=${1}\n",
    "DB_NAME=${2}\n",
    "cd $YB_PATH/bin\n",
    "\n",
    "# DB_NAME=ks_ybu\n",
    "./ycqlsh -r -k $DB_NAME -e \"\n",
    "  select * from ks_ybu.tbl_employees where id = 2;\n",
    "  \""
   ]
  },
  {
   "attachments": {},
   "cell_type": "markdown",
   "metadata": {},
   "source": [
    "---\n",
    "## DML: Upsert with `update`\n",
    "The following `update` statement exhibits upsert behavior when there is no row to update based on the where clause predicate. As a result, the `update`  statement  will insert a new row into the table."
   ]
  },
  {
   "cell_type": "code",
   "execution_count": null,
   "metadata": {
    "vscode": {
     "languageId": "shellscript"
    }
   },
   "outputs": [],
   "source": [
    "%%bash -s \"$MY_YB_PATH\"  \"$MY_DB_NAME\"  # Upsert with update\n",
    "YB_PATH=${1}\n",
    "DB_NAME=${2}\n",
    "cd $YB_PATH/bin\n",
    "\n",
    "# DB_NAME=ks_ybu\n",
    "./ycqlsh -r -k $DB_NAME -e \"\n",
    "  update tbl_employees\n",
    "    set email='captainamerica@yb.com'\n",
    "      , year = 2022\n",
    "  where id = 12\n",
    "    and full_name = 'Steven Rogers';\n",
    "  \""
   ]
  },
  {
   "attachments": {},
   "cell_type": "markdown",
   "metadata": {},
   "source": [
    "Confirm the new row."
   ]
  },
  {
   "cell_type": "code",
   "execution_count": null,
   "metadata": {
    "vscode": {
     "languageId": "shellscript"
    }
   },
   "outputs": [],
   "source": [
    "%%bash -s \"$MY_YB_PATH\"  \"$MY_DB_NAME\"  # Query for id\n",
    "YB_PATH=${1}\n",
    "DB_NAME=${2}\n",
    "cd $YB_PATH/bin\n",
    "\n",
    "# DB_NAME=ks_ybu\n",
    "./ycqlsh -r -k $DB_NAME -e \"\n",
    "  select * from tbl_employees \n",
    "  where id = 12;\n",
    "  \""
   ]
  },
  {
   "attachments": {},
   "cell_type": "markdown",
   "metadata": {},
   "source": [
    "---\n",
    "## DML: Deletions with `delete`\n",
    "There are various actions you can take using `delete` statements such as:\n",
    "- single-row deletion\n",
    "- multi-row deletion\n",
    "- column value deletion"
   ]
  },
  {
   "attachments": {},
   "cell_type": "markdown",
   "metadata": {},
   "source": [
    "### Single-row deletion"
   ]
  },
  {
   "cell_type": "code",
   "execution_count": null,
   "metadata": {
    "vscode": {
     "languageId": "shellscript"
    }
   },
   "outputs": [],
   "source": [
    "%%bash -s \"$MY_YB_PATH\"  \"$MY_DB_NAME\"  # Delete by primary key\n",
    "YB_PATH=${1}\n",
    "DB_NAME=${2}\n",
    "cd $YB_PATH/bin\n",
    "\n",
    "# DB_NAME=ks_ybu\n",
    "./ycqlsh -r -k $DB_NAME -e \"\n",
    "  delete from tbl_employees \n",
    "  where id = 12\n",
    "    and full_name = 'Steven Rogers';\n",
    "\""
   ]
  },
  {
   "attachments": {},
   "cell_type": "markdown",
   "metadata": {},
   "source": [
    "Confirm the row deletion."
   ]
  },
  {
   "cell_type": "code",
   "execution_count": null,
   "metadata": {
    "vscode": {
     "languageId": "shellscript"
    }
   },
   "outputs": [],
   "source": [
    "%%bash -s \"$MY_YB_PATH\"  \"$MY_DB_NAME\"  # Query for id\n",
    "YB_PATH=${1}\n",
    "DB_NAME=${2}\n",
    "cd $YB_PATH/bin\n",
    "\n",
    "# DB_NAME=ks_ybu\n",
    "./ycqlsh -r -k $DB_NAME -e \"\n",
    "  select * from tbl_employees \n",
    "  where id = 12;\n",
    "  \""
   ]
  },
  {
   "attachments": {},
   "cell_type": "markdown",
   "metadata": {},
   "source": [
    "### Multi-row deletion\n",
    "You can delete multiple rows that hae the same partition key. To begin, first insert another row so that there are two rows with the same partition key value, `id=2`."
   ]
  },
  {
   "cell_type": "code",
   "execution_count": null,
   "metadata": {
    "vscode": {
     "languageId": "shellscript"
    }
   },
   "outputs": [],
   "source": [
    "%%bash -s \"$MY_YB_PATH\"  \"$MY_DB_NAME\"  # Query for id\n",
    "YB_PATH=${1}\n",
    "DB_NAME=${2}\n",
    "cd $YB_PATH/bin\n",
    "\n",
    "# DB_NAME=ks_ybu\n",
    "./ycqlsh -r -k $DB_NAME -e \"\n",
    "  insert into tbl_employees (id, full_name, email, year) values (2, 'Richard Grayson', 'nightwingc@yb.com', 2022) if not exists;\n",
    "  \""
   ]
  },
  {
   "attachments": {},
   "cell_type": "markdown",
   "metadata": {},
   "source": [
    "Next, verify that there are two rows."
   ]
  },
  {
   "cell_type": "code",
   "execution_count": null,
   "metadata": {
    "vscode": {
     "languageId": "shellscript"
    }
   },
   "outputs": [],
   "source": [
    "%%bash -s \"$MY_YB_PATH\"  \"$MY_DB_NAME\"  # Query for id\n",
    "YB_PATH=${1}\n",
    "DB_NAME=${2}\n",
    "cd $YB_PATH/bin\n",
    "\n",
    "# DB_NAME=ks_ybu\n",
    "./ycqlsh -r -k $DB_NAME -e \"\n",
    "  select * from tbl_employees \n",
    "  where id = 2;\n",
    "  \""
   ]
  },
  {
   "attachments": {},
   "cell_type": "markdown",
   "metadata": {},
   "source": [
    "Now, delete the two rows."
   ]
  },
  {
   "cell_type": "code",
   "execution_count": null,
   "metadata": {
    "vscode": {
     "languageId": "shellscript"
    }
   },
   "outputs": [],
   "source": [
    "%%bash -s \"$MY_YB_PATH\"  \"$MY_DB_NAME\"  # delete multiple rows using the partition key\n",
    "YB_PATH=${1}\n",
    "DB_NAME=${2}\n",
    "cd $YB_PATH/bin\n",
    "\n",
    "# DB_NAME=ks_ybu\n",
    "./ycqlsh -r -k $DB_NAME -e \"\n",
    "  delete from tbl_employees \n",
    "  where id = 2;\n",
    "  \""
   ]
  },
  {
   "attachments": {},
   "cell_type": "markdown",
   "metadata": {},
   "source": [
    "Verify the row deletion."
   ]
  },
  {
   "cell_type": "code",
   "execution_count": null,
   "metadata": {
    "vscode": {
     "languageId": "shellscript"
    }
   },
   "outputs": [],
   "source": [
    "%%bash -s \"$MY_YB_PATH\"  \"$MY_DB_NAME\"  # Query for id\n",
    "YB_PATH=${1}\n",
    "DB_NAME=${2}\n",
    "cd $YB_PATH/bin\n",
    "\n",
    "# DB_NAME=ks_ybu\n",
    "./ycqlsh -r -k $DB_NAME -e \"\n",
    "  select * from tbl_employees \n",
    "  where id = 2;\n",
    "  \""
   ]
  },
  {
   "attachments": {},
   "cell_type": "markdown",
   "metadata": {},
   "source": [
    "### Column value deletion\n",
    "A `delete` statement must give the entire primary key if specifying non-static columns. In following cell, `year` is a regular column."
   ]
  },
  {
   "cell_type": "code",
   "execution_count": null,
   "metadata": {
    "vscode": {
     "languageId": "shellscript"
    }
   },
   "outputs": [],
   "source": [
    "%%bash -s \"$MY_YB_PATH\"  \"$MY_DB_NAME\"  # delete a column value for a primary key\n",
    "YB_PATH=${1}\n",
    "DB_NAME=${2}\n",
    "cd $YB_PATH/bin\n",
    "\n",
    "# DB_NAME=ks_ybu\n",
    "./ycqlsh -r -k $DB_NAME -e \"\n",
    "  delete year from tbl_employees\n",
    "  where id = 11\n",
    "    and full_name = 'Michael Holt';\n",
    "  \""
   ]
  },
  {
   "attachments": {},
   "cell_type": "markdown",
   "metadata": {},
   "source": [
    "Confirm the deletion of year value from the row."
   ]
  },
  {
   "cell_type": "code",
   "execution_count": null,
   "metadata": {
    "vscode": {
     "languageId": "shellscript"
    }
   },
   "outputs": [],
   "source": [
    "%%bash -s \"$MY_YB_PATH\"  \"$MY_DB_NAME\"  # Query for id\n",
    "YB_PATH=${1}\n",
    "DB_NAME=${2}\n",
    "cd $YB_PATH/bin\n",
    "\n",
    "# DB_NAME=ks_ybu\n",
    "./ycqlsh -r -k $DB_NAME -e \"\n",
    "  select * from tbl_employees \n",
    "  where id = 11;\n",
    "  \""
   ]
  },
  {
   "attachments": {},
   "cell_type": "markdown",
   "metadata": {},
   "source": [
    "---\n",
    "# Good job! \n",
    "In this notebook, you completed the following:\n",
    "- Language fundamentals\n",
    "  - Notebook requirements\n",
    "  - Import the notebook variables\n",
    "- DDL commands for YCQL\n",
    "- DML: Write with `insert`\n",
    "- Partition key, partition key hash, and the `partition_hash() `built-in function\n",
    "- DML: Upsert with `insert`\n",
    "- Distributed Document Storore (DocDB)\n",
    "- DML: Query with `select` \n",
    "- DML: Upsert with `insert`\n",
    "- DML: Modify with 'update'\n",
    "- DML: Upsert with `update`\n",
    "- DML: Deletions with `delete`\n",
    "\n",
    "\n",
    "## Next up!\n",
    "Continue your learning by opening the next notebook, `03_Query_driven_data_model_query_plans.ipynb`. You can run the cell:"
   ]
  },
  {
   "cell_type": "code",
   "execution_count": null,
   "metadata": {
    "vscode": {
     "languageId": "shellscript"
    }
   },
   "outputs": [],
   "source": [
    "%%bash\n",
    "gp open 03_Query_driven_data_model_query_plans.ipynb"
   ]
  }
 ],
 "metadata": {
  "kernelspec": {
   "display_name": "Python 3",
   "language": "python",
   "name": "python3"
  },
  "language_info": {
   "codemirror_mode": {
    "name": "ipython",
    "version": 3
   },
   "file_extension": ".py",
   "mimetype": "text/x-python",
   "name": "python",
   "nbconvert_exporter": "python",
   "pygments_lexer": "ipython3",
   "version": "3.7.9 (v3.7.9:13c94747c7, Aug 15 2020, 01:31:08) \n[Clang 6.0 (clang-600.0.57)]"
  },
  "orig_nbformat": 4,
  "vscode": {
   "interpreter": {
    "hash": "aee8b7b246df8f9039afb4144a1f6fd8d2ca17a180786b69acc140d282b71a49"
   }
  }
 },
 "nbformat": 4,
 "nbformat_minor": 2
}
